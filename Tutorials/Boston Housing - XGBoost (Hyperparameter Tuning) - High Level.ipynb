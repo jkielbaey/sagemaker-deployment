{
 "cells": [
  {
   "cell_type": "markdown",
   "metadata": {},
   "source": [
    "# Predicting Boston Housing Prices\n",
    "\n",
    "## Using XGBoost in SageMaker (Hyperparameter Tuning)\n",
    "\n",
    "_Deep Learning Nanodegree Program | Deployment_\n",
    "\n",
    "---\n",
    "\n",
    "As an introduction to using SageMaker's High Level Python API for hyperparameter tuning, we will look again at the [Boston Housing Dataset](https://www.cs.toronto.edu/~delve/data/boston/bostonDetail.html) to predict the median value of a home in the area of Boston Mass.\n",
    "\n",
    "The documentation for the high level API can be found on the [ReadTheDocs page](http://sagemaker.readthedocs.io/en/latest/)\n",
    "\n",
    "## General Outline\n",
    "\n",
    "Typically, when using a notebook instance with SageMaker, you will proceed through the following steps. Of course, not every step will need to be done with each project. Also, there is quite a lot of room for variation in many of the steps, as you will see throughout these lessons.\n",
    "\n",
    "1. Download or otherwise retrieve the data.\n",
    "2. Process / Prepare the data.\n",
    "3. Upload the processed data to S3.\n",
    "4. Train a chosen model.\n",
    "5. Test the trained model (typically using a batch transform job).\n",
    "6. Deploy the trained model.\n",
    "7. Use the deployed model.\n",
    "\n",
    "In this notebook we will only be covering steps 1 through 5 as we are only interested in creating a tuned model and testing its performance."
   ]
  },
  {
   "cell_type": "markdown",
   "metadata": {},
   "source": [
    "## Step 0: Setting up the notebook\n",
    "\n",
    "We begin by setting up all of the necessary bits required to run our notebook. To start that means loading all of the Python modules we will need."
   ]
  },
  {
   "cell_type": "code",
   "execution_count": 1,
   "metadata": {},
   "outputs": [],
   "source": [
    "%matplotlib inline\n",
    "\n",
    "import os\n",
    "\n",
    "import numpy as np\n",
    "import pandas as pd\n",
    "\n",
    "import matplotlib.pyplot as plt\n",
    "\n",
    "from sklearn.datasets import load_boston\n",
    "import sklearn.model_selection"
   ]
  },
  {
   "cell_type": "markdown",
   "metadata": {},
   "source": [
    "In addition to the modules above, we need to import the various bits of SageMaker that we will be using. "
   ]
  },
  {
   "cell_type": "code",
   "execution_count": 2,
   "metadata": {},
   "outputs": [],
   "source": [
    "import sagemaker\n",
    "from sagemaker import get_execution_role\n",
    "from sagemaker.amazon.amazon_estimator import get_image_uri\n",
    "from sagemaker.predictor import csv_serializer\n",
    "\n",
    "# This is an object that represents the SageMaker session that we are currently operating in. This\n",
    "# object contains some useful information that we will need to access later such as our region.\n",
    "session = sagemaker.Session()\n",
    "\n",
    "# This is an object that represents the IAM role that we are currently assigned. When we construct\n",
    "# and launch the training job later we will need to tell it what IAM role it should have. Since our\n",
    "# use case is relatively simple we will simply assign the training job the role we currently have.\n",
    "role = get_execution_role()"
   ]
  },
  {
   "cell_type": "markdown",
   "metadata": {},
   "source": [
    "## Step 1: Downloading the data\n",
    "\n",
    "Fortunately, this dataset can be retrieved using sklearn and so this step is relatively straightforward."
   ]
  },
  {
   "cell_type": "code",
   "execution_count": 3,
   "metadata": {},
   "outputs": [],
   "source": [
    "boston = load_boston()"
   ]
  },
  {
   "cell_type": "markdown",
   "metadata": {},
   "source": [
    "## Step 2: Preparing and splitting the data\n",
    "\n",
    "Given that this is clean tabular data, we don't need to do any processing. However, we do need to split the rows in the dataset up into train, test and validation sets."
   ]
  },
  {
   "cell_type": "code",
   "execution_count": 4,
   "metadata": {},
   "outputs": [],
   "source": [
    "# First we package up the input data and the target variable (the median value) as pandas dataframes. This\n",
    "# will make saving the data to a file a little easier later on.\n",
    "\n",
    "X_bos_pd = pd.DataFrame(boston.data, columns=boston.feature_names)\n",
    "Y_bos_pd = pd.DataFrame(boston.target)\n",
    "\n",
    "# We split the dataset into 2/3 training and 1/3 testing sets.\n",
    "X_train, X_test, Y_train, Y_test = sklearn.model_selection.train_test_split(X_bos_pd, Y_bos_pd, test_size=0.33)\n",
    "\n",
    "# Then we split the training set further into 2/3 training and 1/3 validation sets.\n",
    "X_train, X_val, Y_train, Y_val = sklearn.model_selection.train_test_split(X_train, Y_train, test_size=0.33)"
   ]
  },
  {
   "cell_type": "markdown",
   "metadata": {},
   "source": [
    "## Step 3: Uploading the data files to S3\n",
    "\n",
    "When a training job is constructed using SageMaker, a container is executed which performs the training operation. This container is given access to data that is stored in S3. This means that we need to upload the data we want to use for training to S3. In addition, when we perform a batch transform job, SageMaker expects the input data to be stored on S3. We can use the SageMaker API to do this and hide some of the details.\n",
    "\n",
    "### Save the data locally\n",
    "\n",
    "First we need to create the test, train and validation csv files which we will then upload to S3."
   ]
  },
  {
   "cell_type": "code",
   "execution_count": 5,
   "metadata": {},
   "outputs": [],
   "source": [
    "# This is our local data directory. We need to make sure that it exists.\n",
    "data_dir = '../data/boston'\n",
    "if not os.path.exists(data_dir):\n",
    "    os.makedirs(data_dir)"
   ]
  },
  {
   "cell_type": "code",
   "execution_count": 6,
   "metadata": {},
   "outputs": [],
   "source": [
    "# We use pandas to save our test, train and validation data to csv files. Note that we make sure not to include header\n",
    "# information or an index as this is required by the built in algorithms provided by Amazon. Also, for the train and\n",
    "# validation data, it is assumed that the first entry in each row is the target variable.\n",
    "\n",
    "X_test.to_csv(os.path.join(data_dir, 'test.csv'), header=False, index=False)\n",
    "\n",
    "pd.concat([Y_val, X_val], axis=1).to_csv(os.path.join(data_dir, 'validation.csv'), header=False, index=False)\n",
    "pd.concat([Y_train, X_train], axis=1).to_csv(os.path.join(data_dir, 'train.csv'), header=False, index=False)"
   ]
  },
  {
   "cell_type": "markdown",
   "metadata": {},
   "source": [
    "### Upload to S3\n",
    "\n",
    "Since we are currently running inside of a SageMaker session, we can use the object which represents this session to upload our data to the 'default' S3 bucket. Note that it is good practice to provide a custom prefix (essentially an S3 folder) to make sure that you don't accidentally interfere with data uploaded from some other notebook or project."
   ]
  },
  {
   "cell_type": "code",
   "execution_count": 7,
   "metadata": {},
   "outputs": [],
   "source": [
    "prefix = 'boston-xgboost-tuning-HL'\n",
    "\n",
    "test_location = session.upload_data(os.path.join(data_dir, 'test.csv'), key_prefix=prefix)\n",
    "val_location = session.upload_data(os.path.join(data_dir, 'validation.csv'), key_prefix=prefix)\n",
    "train_location = session.upload_data(os.path.join(data_dir, 'train.csv'), key_prefix=prefix)"
   ]
  },
  {
   "cell_type": "markdown",
   "metadata": {},
   "source": [
    "## Step 4: Train the XGBoost model\n",
    "\n",
    "Now that we have the training and validation data uploaded to S3, we can construct our XGBoost model and train it. Unlike in the previous notebooks, instead of training a single model, we will use SageMaker's hyperparameter tuning functionality to train multiple models and use the one that performs the best on the validation set.\n",
    "\n",
    "To begin with, as in the previous approaches, we will need to construct an estimator object."
   ]
  },
  {
   "cell_type": "code",
   "execution_count": 9,
   "metadata": {},
   "outputs": [],
   "source": [
    "# As stated above, we use this utility method to construct the image name for the training container.\n",
    "container = get_image_uri(session.boto_region_name, 'xgboost', '0.90-1')\n",
    "\n",
    "# Now that we know which container to use, we can construct the estimator object.\n",
    "xgb = sagemaker.estimator.Estimator(container, # The name of the training container\n",
    "                                    role,      # The IAM role to use (our current role in this case)\n",
    "                                    train_instance_count=1, # The number of instances to use for training\n",
    "                                    train_instance_type='ml.m4.xlarge', # The type of instance ot use for training\n",
    "                                    output_path='s3://{}/{}/output'.format(session.default_bucket(), prefix),\n",
    "                                                                        # Where to save the output (the model artifacts)\n",
    "                                    sagemaker_session=session) # The current SageMaker session"
   ]
  },
  {
   "cell_type": "markdown",
   "metadata": {},
   "source": [
    "Before beginning the hyperparameter tuning, we should make sure to set any model specific hyperparameters that we wish to have default values. There are quite a few that can be set when using the XGBoost algorithm, below are just a few of them. If you would like to change the hyperparameters below or modify additional ones you can find additional information on the [XGBoost hyperparameter page](https://docs.aws.amazon.com/sagemaker/latest/dg/xgboost_hyperparameters.html)"
   ]
  },
  {
   "cell_type": "code",
   "execution_count": 10,
   "metadata": {},
   "outputs": [],
   "source": [
    "xgb.set_hyperparameters(max_depth=5,\n",
    "                        eta=0.2,\n",
    "                        gamma=4,\n",
    "                        min_child_weight=6,\n",
    "                        subsample=0.8,\n",
    "                        objective='reg:linear',\n",
    "                        early_stopping_rounds=10,\n",
    "                        num_round=200)"
   ]
  },
  {
   "cell_type": "markdown",
   "metadata": {},
   "source": [
    "Now that we have our estimator object completely set up, it is time to create the hyperparameter tuner. To do this we need to construct a new object which contains each of the parameters we want SageMaker to tune. In this case, we wish to find the best values for the `max_depth`, `eta`, `min_child_weight`, `subsample`, and `gamma` parameters. Note that for each parameter that we want SageMaker to tune we need to specify both the *type* of the parameter and the *range* of values that parameter may take on.\n",
    "\n",
    "In addition, we specify the *number* of models to construct (`max_jobs`) and the number of those that can be trained in parallel (`max_parallel_jobs`). In the cell below we have chosen to train `20` models, of which we ask that SageMaker train `3` at a time in parallel. Note that this results in a total of `20` training jobs being executed which can take some time, in this case almost a half hour. With more complicated models this can take even longer so be aware!"
   ]
  },
  {
   "cell_type": "code",
   "execution_count": 22,
   "metadata": {},
   "outputs": [],
   "source": [
    "from sagemaker.tuner import IntegerParameter, ContinuousParameter, HyperparameterTuner\n",
    "\n",
    "xgb_hyperparameter_tuner = HyperparameterTuner(estimator = xgb, # The estimator object to use as the basis for the training jobs.\n",
    "                                               objective_metric_name = 'validation:rmse', # The metric used to compare trained models.\n",
    "                                               objective_type = 'Minimize', # Whether we wish to minimize or maximize the metric.\n",
    "                                               max_jobs = 30, # The total number of models to train\n",
    "                                               max_parallel_jobs = 10, # The number of models to train in parallel\n",
    "                                               hyperparameter_ranges = {\n",
    "                                                    'max_depth': IntegerParameter(3, 12),\n",
    "                                                    'eta'      : ContinuousParameter(0.05, 0.5),\n",
    "                                                    'min_child_weight': IntegerParameter(2, 8),\n",
    "                                                    'subsample': ContinuousParameter(0.5, 0.9),\n",
    "                                                    'gamma': ContinuousParameter(0, 10),\n",
    "                                               })"
   ]
  },
  {
   "cell_type": "markdown",
   "metadata": {},
   "source": [
    "Now that we have our hyperparameter tuner object completely set up, it is time to train it. To do this we make sure that SageMaker knows our input data is in csv format and then execute the `fit` method."
   ]
  },
  {
   "cell_type": "code",
   "execution_count": 23,
   "metadata": {},
   "outputs": [],
   "source": [
    "# This is a wrapper around the location of our train and validation data, to make sure that SageMaker\n",
    "# knows our data is in csv format.\n",
    "s3_input_train = sagemaker.s3_input(s3_data=train_location, content_type='csv')\n",
    "s3_input_validation = sagemaker.s3_input(s3_data=val_location, content_type='csv')\n",
    "\n",
    "xgb_hyperparameter_tuner.fit({'train': s3_input_train, 'validation': s3_input_validation})"
   ]
  },
  {
   "cell_type": "markdown",
   "metadata": {},
   "source": [
    "As in many of the examples we have seen so far, the `fit()` method takes care of setting up and fitting a number of different models, each with different hyperparameters. If we wish to wait for this process to finish, we can call the `wait()` method."
   ]
  },
  {
   "cell_type": "code",
   "execution_count": 24,
   "metadata": {},
   "outputs": [
    {
     "name": "stdout",
     "output_type": "stream",
     "text": [
      "...................................................................................................................................................!\n"
     ]
    }
   ],
   "source": [
    "xgb_hyperparameter_tuner.wait()"
   ]
  },
  {
   "cell_type": "markdown",
   "metadata": {},
   "source": [
    "Once the hyperamater tuner has finished, we can retrieve information about the best performing model. "
   ]
  },
  {
   "cell_type": "code",
   "execution_count": 25,
   "metadata": {},
   "outputs": [
    {
     "data": {
      "text/plain": [
       "'sagemaker-xgboost-200518-1759-030-56394f59'"
      ]
     },
     "execution_count": 25,
     "metadata": {},
     "output_type": "execute_result"
    }
   ],
   "source": [
    "xgb_hyperparameter_tuner.best_training_job()"
   ]
  },
  {
   "cell_type": "markdown",
   "metadata": {},
   "source": [
    "In addition, since we'd like to set up a batch transform job to test the best model, we can construct a new estimator object from the results of the best training job. The `xgb_attached` object below can now be used as though we constructed an estimator with the best performing hyperparameters and then fit it to our training data."
   ]
  },
  {
   "cell_type": "code",
   "execution_count": 26,
   "metadata": {},
   "outputs": [
    {
     "name": "stdout",
     "output_type": "stream",
     "text": [
      "2020-05-18 18:12:03 Starting - Preparing the instances for training\n",
      "2020-05-18 18:12:03 Downloading - Downloading input data\n",
      "2020-05-18 18:12:03 Training - Training image download completed. Training in progress.\n",
      "2020-05-18 18:12:03 Uploading - Uploading generated training model\n",
      "2020-05-18 18:12:03 Completed - Training job completed\u001b[34mINFO:sagemaker-containers:Imported framework sagemaker_xgboost_container.training\u001b[0m\n",
      "\u001b[34mINFO:sagemaker-containers:Failed to parse hyperparameter _tuning_objective_metric value validation:rmse to Json.\u001b[0m\n",
      "\u001b[34mReturning the value itself\u001b[0m\n",
      "\u001b[34mINFO:sagemaker-containers:Failed to parse hyperparameter objective value reg:linear to Json.\u001b[0m\n",
      "\u001b[34mReturning the value itself\u001b[0m\n",
      "\u001b[34mINFO:sagemaker-containers:No GPUs detected (normal if no gpus installed)\u001b[0m\n",
      "\u001b[34mINFO:sagemaker_xgboost_container.training:Running XGBoost Sagemaker in algorithm mode\u001b[0m\n",
      "\u001b[34mINFO:root:Determined delimiter of CSV input is ','\u001b[0m\n",
      "\u001b[34mINFO:root:Determined delimiter of CSV input is ','\u001b[0m\n",
      "\u001b[34mINFO:root:Determined delimiter of CSV input is ','\u001b[0m\n",
      "\u001b[34m[18:11:52] 227x13 matrix with 2951 entries loaded from /opt/ml/input/data/train?format=csv&label_column=0&delimiter=,\u001b[0m\n",
      "\u001b[34mINFO:root:Determined delimiter of CSV input is ','\u001b[0m\n",
      "\u001b[34m[18:11:52] 112x13 matrix with 1456 entries loaded from /opt/ml/input/data/validation?format=csv&label_column=0&delimiter=,\u001b[0m\n",
      "\u001b[34mINFO:root:Single node training.\u001b[0m\n",
      "\u001b[34mINFO:root:Setting up HPO optimized metric to be : rmse\u001b[0m\n",
      "\u001b[34mINFO:root:Train matrix has 227 rows\u001b[0m\n",
      "\u001b[34mINFO:root:Validation matrix has 112 rows\u001b[0m\n",
      "\u001b[34m[18:11:52] WARNING: /workspace/src/objective/regression_obj.cu:152: reg:linear is now deprecated in favor of reg:squarederror.\u001b[0m\n",
      "\u001b[34m[0]#011train-rmse:24.2841#011validation-rmse:22.2455\u001b[0m\n",
      "\u001b[34m[1]#011train-rmse:23.1493#011validation-rmse:21.2101\u001b[0m\n",
      "\u001b[34m[2]#011train-rmse:22.0636#011validation-rmse:20.192\u001b[0m\n",
      "\u001b[34m[3]#011train-rmse:21.0531#011validation-rmse:19.2488\u001b[0m\n",
      "\u001b[34m[4]#011train-rmse:20.0903#011validation-rmse:18.3745\u001b[0m\n",
      "\u001b[34m[5]#011train-rmse:19.1756#011validation-rmse:17.5328\u001b[0m\n",
      "\u001b[34m[6]#011train-rmse:18.3127#011validation-rmse:16.7405\u001b[0m\n",
      "\u001b[34m[7]#011train-rmse:17.4764#011validation-rmse:15.9749\u001b[0m\n",
      "\u001b[34m[8]#011train-rmse:16.6961#011validation-rmse:15.2626\u001b[0m\n",
      "\u001b[34m[9]#011train-rmse:15.954#011validation-rmse:14.5647\u001b[0m\n",
      "\u001b[34m[10]#011train-rmse:15.2494#011validation-rmse:13.9038\u001b[0m\n",
      "\u001b[34m[11]#011train-rmse:14.5717#011validation-rmse:13.2713\u001b[0m\n",
      "\u001b[34m[12]#011train-rmse:13.9302#011validation-rmse:12.682\u001b[0m\n",
      "\u001b[34m[13]#011train-rmse:13.3256#011validation-rmse:12.0876\u001b[0m\n",
      "\u001b[34m[14]#011train-rmse:12.7419#011validation-rmse:11.5503\u001b[0m\n",
      "\u001b[34m[15]#011train-rmse:12.1936#011validation-rmse:11.0436\u001b[0m\n",
      "\u001b[34m[16]#011train-rmse:11.6724#011validation-rmse:10.5775\u001b[0m\n",
      "\u001b[34m[17]#011train-rmse:11.1802#011validation-rmse:10.139\u001b[0m\n",
      "\u001b[34m[18]#011train-rmse:10.7178#011validation-rmse:9.71516\u001b[0m\n",
      "\u001b[34m[19]#011train-rmse:10.2704#011validation-rmse:9.32042\u001b[0m\n",
      "\u001b[34m[20]#011train-rmse:9.83395#011validation-rmse:8.90943\u001b[0m\n",
      "\u001b[34m[21]#011train-rmse:9.42944#011validation-rmse:8.53461\u001b[0m\n",
      "\u001b[34m[22]#011train-rmse:9.04004#011validation-rmse:8.17848\u001b[0m\n",
      "\u001b[34m[23]#011train-rmse:8.65884#011validation-rmse:7.82463\u001b[0m\n",
      "\u001b[34m[24]#011train-rmse:8.30068#011validation-rmse:7.51874\u001b[0m\n",
      "\u001b[34m[25]#011train-rmse:7.97338#011validation-rmse:7.23507\u001b[0m\n",
      "\u001b[34m[26]#011train-rmse:7.65193#011validation-rmse:6.94236\u001b[0m\n",
      "\u001b[34m[27]#011train-rmse:7.35365#011validation-rmse:6.68621\u001b[0m\n",
      "\u001b[34m[28]#011train-rmse:7.07869#011validation-rmse:6.4398\u001b[0m\n",
      "\u001b[34m[29]#011train-rmse:6.81624#011validation-rmse:6.20334\u001b[0m\n",
      "\u001b[34m[30]#011train-rmse:6.55397#011validation-rmse:5.97234\u001b[0m\n",
      "\u001b[34m[31]#011train-rmse:6.30761#011validation-rmse:5.76016\u001b[0m\n",
      "\u001b[34m[32]#011train-rmse:6.0684#011validation-rmse:5.57031\u001b[0m\n",
      "\u001b[34m[33]#011train-rmse:5.85579#011validation-rmse:5.39052\u001b[0m\n",
      "\u001b[34m[34]#011train-rmse:5.65497#011validation-rmse:5.23182\u001b[0m\n",
      "\u001b[34m[35]#011train-rmse:5.4492#011validation-rmse:5.05053\u001b[0m\n",
      "\u001b[34m[36]#011train-rmse:5.25075#011validation-rmse:4.8719\u001b[0m\n",
      "\u001b[34m[37]#011train-rmse:5.06594#011validation-rmse:4.70709\u001b[0m\n",
      "\u001b[34m[38]#011train-rmse:4.89313#011validation-rmse:4.57205\u001b[0m\n",
      "\u001b[34m[39]#011train-rmse:4.74254#011validation-rmse:4.42394\u001b[0m\n",
      "\u001b[34m[40]#011train-rmse:4.58947#011validation-rmse:4.30091\u001b[0m\n",
      "\u001b[34m[41]#011train-rmse:4.44952#011validation-rmse:4.18016\u001b[0m\n",
      "\u001b[34m[42]#011train-rmse:4.32224#011validation-rmse:4.07688\u001b[0m\n",
      "\u001b[34m[43]#011train-rmse:4.19077#011validation-rmse:3.98778\u001b[0m\n",
      "\u001b[34m[44]#011train-rmse:4.06405#011validation-rmse:3.90129\u001b[0m\n",
      "\u001b[34m[45]#011train-rmse:3.9384#011validation-rmse:3.79654\u001b[0m\n",
      "\u001b[34m[46]#011train-rmse:3.82072#011validation-rmse:3.68892\u001b[0m\n",
      "\u001b[34m[47]#011train-rmse:3.70298#011validation-rmse:3.59068\u001b[0m\n",
      "\u001b[34m[48]#011train-rmse:3.60375#011validation-rmse:3.54173\u001b[0m\n",
      "\u001b[34m[49]#011train-rmse:3.50978#011validation-rmse:3.47226\u001b[0m\n",
      "\u001b[34m[50]#011train-rmse:3.41918#011validation-rmse:3.403\u001b[0m\n",
      "\u001b[34m[51]#011train-rmse:3.32922#011validation-rmse:3.33098\u001b[0m\n",
      "\u001b[34m[52]#011train-rmse:3.25087#011validation-rmse:3.27198\u001b[0m\n",
      "\u001b[34m[53]#011train-rmse:3.18356#011validation-rmse:3.21703\u001b[0m\n",
      "\u001b[34m[54]#011train-rmse:3.10655#011validation-rmse:3.16095\u001b[0m\n",
      "\u001b[34m[55]#011train-rmse:3.03704#011validation-rmse:3.11364\u001b[0m\n",
      "\u001b[34m[56]#011train-rmse:2.97025#011validation-rmse:3.07427\u001b[0m\n",
      "\u001b[34m[57]#011train-rmse:2.90213#011validation-rmse:3.0392\u001b[0m\n",
      "\u001b[34m[58]#011train-rmse:2.84413#011validation-rmse:3.00467\u001b[0m\n",
      "\u001b[34m[59]#011train-rmse:2.78318#011validation-rmse:2.96567\u001b[0m\n",
      "\u001b[34m[60]#011train-rmse:2.72685#011validation-rmse:2.92952\u001b[0m\n",
      "\u001b[34m[61]#011train-rmse:2.6716#011validation-rmse:2.89777\u001b[0m\n",
      "\u001b[34m[62]#011train-rmse:2.62395#011validation-rmse:2.8659\u001b[0m\n",
      "\u001b[34m[63]#011train-rmse:2.57419#011validation-rmse:2.84366\u001b[0m\n",
      "\u001b[34m[64]#011train-rmse:2.53064#011validation-rmse:2.8247\u001b[0m\n",
      "\u001b[34m[65]#011train-rmse:2.48156#011validation-rmse:2.80305\u001b[0m\n",
      "\u001b[34m[66]#011train-rmse:2.44149#011validation-rmse:2.77927\u001b[0m\n",
      "\u001b[34m[67]#011train-rmse:2.40113#011validation-rmse:2.76425\u001b[0m\n",
      "\u001b[34m[68]#011train-rmse:2.36652#011validation-rmse:2.74165\u001b[0m\n",
      "\u001b[34m[69]#011train-rmse:2.33925#011validation-rmse:2.71775\u001b[0m\n",
      "\u001b[34m[70]#011train-rmse:2.30697#011validation-rmse:2.70598\u001b[0m\n",
      "\u001b[34m[71]#011train-rmse:2.27197#011validation-rmse:2.68884\u001b[0m\n",
      "\u001b[34m[72]#011train-rmse:2.23876#011validation-rmse:2.68563\u001b[0m\n",
      "\u001b[34m[73]#011train-rmse:2.21293#011validation-rmse:2.68895\u001b[0m\n",
      "\u001b[34m[74]#011train-rmse:2.18106#011validation-rmse:2.6771\u001b[0m\n",
      "\u001b[34m[75]#011train-rmse:2.15975#011validation-rmse:2.67061\u001b[0m\n",
      "\u001b[34m[76]#011train-rmse:2.13665#011validation-rmse:2.66945\u001b[0m\n",
      "\u001b[34m[77]#011train-rmse:2.10664#011validation-rmse:2.64854\u001b[0m\n",
      "\u001b[34m[78]#011train-rmse:2.07683#011validation-rmse:2.63937\u001b[0m\n",
      "\u001b[34m[79]#011train-rmse:2.05213#011validation-rmse:2.63746\u001b[0m\n",
      "\u001b[34m[80]#011train-rmse:2.02066#011validation-rmse:2.61718\u001b[0m\n",
      "\u001b[34m[81]#011train-rmse:1.99948#011validation-rmse:2.61593\u001b[0m\n",
      "\u001b[34m[82]#011train-rmse:1.97163#011validation-rmse:2.60695\u001b[0m\n",
      "\u001b[34m[83]#011train-rmse:1.95252#011validation-rmse:2.59918\u001b[0m\n",
      "\u001b[34m[84]#011train-rmse:1.93389#011validation-rmse:2.57763\u001b[0m\n",
      "\u001b[34m[85]#011train-rmse:1.91835#011validation-rmse:2.5796\u001b[0m\n",
      "\u001b[34m[86]#011train-rmse:1.90244#011validation-rmse:2.58062\u001b[0m\n",
      "\u001b[34m[87]#011train-rmse:1.87619#011validation-rmse:2.57211\u001b[0m\n",
      "\u001b[34m[88]#011train-rmse:1.85773#011validation-rmse:2.5644\u001b[0m\n",
      "\u001b[34m[89]#011train-rmse:1.84586#011validation-rmse:2.56442\u001b[0m\n",
      "\u001b[34m[90]#011train-rmse:1.8268#011validation-rmse:2.56503\u001b[0m\n",
      "\u001b[34m[91]#011train-rmse:1.81288#011validation-rmse:2.56524\u001b[0m\n",
      "\u001b[34m[92]#011train-rmse:1.78778#011validation-rmse:2.56759\u001b[0m\n",
      "\u001b[34m[93]#011train-rmse:1.77482#011validation-rmse:2.56966\u001b[0m\n",
      "\u001b[34m[94]#011train-rmse:1.75998#011validation-rmse:2.55914\u001b[0m\n",
      "\u001b[34m[95]#011train-rmse:1.73444#011validation-rmse:2.54188\u001b[0m\n",
      "\u001b[34m[96]#011train-rmse:1.72255#011validation-rmse:2.54235\u001b[0m\n",
      "\u001b[34m[97]#011train-rmse:1.7076#011validation-rmse:2.54342\u001b[0m\n",
      "\u001b[34m[98]#011train-rmse:1.69845#011validation-rmse:2.54629\u001b[0m\n",
      "\u001b[34m[99]#011train-rmse:1.68175#011validation-rmse:2.54368\u001b[0m\n",
      "\u001b[34m[100]#011train-rmse:1.6616#011validation-rmse:2.53914\u001b[0m\n",
      "\u001b[34m[101]#011train-rmse:1.65566#011validation-rmse:2.54042\u001b[0m\n",
      "\u001b[34m[102]#011train-rmse:1.63916#011validation-rmse:2.53689\u001b[0m\n",
      "\u001b[34m[103]#011train-rmse:1.63447#011validation-rmse:2.54131\u001b[0m\n",
      "\u001b[34m[104]#011train-rmse:1.62222#011validation-rmse:2.53707\u001b[0m\n",
      "\u001b[34m[105]#011train-rmse:1.61698#011validation-rmse:2.53923\u001b[0m\n",
      "\u001b[34m[106]#011train-rmse:1.60476#011validation-rmse:2.53859\u001b[0m\n",
      "\u001b[34m[107]#011train-rmse:1.60237#011validation-rmse:2.54275\u001b[0m\n",
      "\u001b[34m[108]#011train-rmse:1.6008#011validation-rmse:2.54574\u001b[0m\n",
      "\u001b[34m[109]#011train-rmse:1.59238#011validation-rmse:2.54493\u001b[0m\n",
      "\u001b[34m[110]#011train-rmse:1.57953#011validation-rmse:2.5403\u001b[0m\n",
      "\u001b[34m[111]#011train-rmse:1.5677#011validation-rmse:2.5459\u001b[0m\n",
      "\u001b[34m[112]#011train-rmse:1.55942#011validation-rmse:2.55041\u001b[0m\n",
      "Training seconds: 64\n",
      "Billable seconds: 64\n"
     ]
    }
   ],
   "source": [
    "xgb_attached = sagemaker.estimator.Estimator.attach(xgb_hyperparameter_tuner.best_training_job())"
   ]
  },
  {
   "cell_type": "markdown",
   "metadata": {},
   "source": [
    "## Step 5: Test the model\n",
    "\n",
    "Now that we have our best performing model, we can test it. To do this we will use the batch transform functionality. To start with, we need to build a transformer object from our fit model."
   ]
  },
  {
   "cell_type": "code",
   "execution_count": 27,
   "metadata": {},
   "outputs": [],
   "source": [
    "xgb_transformer = xgb_attached.transformer(instance_count = 1, instance_type = 'ml.m4.xlarge')"
   ]
  },
  {
   "cell_type": "markdown",
   "metadata": {},
   "source": [
    "Next we ask SageMaker to begin a batch transform job using our trained model and applying it to the test data we previous stored in S3. We need to make sure to provide SageMaker with the type of data that we are providing to our model, in our case `text/csv`, so that it knows how to serialize our data. In addition, we need to make sure to let SageMaker know how to split our data up into chunks if the entire data set happens to be too large to send to our model all at once.\n",
    "\n",
    "Note that when we ask SageMaker to do this it will execute the batch transform job in the background. Since we need to wait for the results of this job before we can continue, we use the `wait()` method. An added benefit of this is that we get some output from our batch transform job which lets us know if anything went wrong."
   ]
  },
  {
   "cell_type": "code",
   "execution_count": 28,
   "metadata": {},
   "outputs": [],
   "source": [
    "xgb_transformer.transform(test_location, content_type='text/csv', split_type='Line')"
   ]
  },
  {
   "cell_type": "code",
   "execution_count": 29,
   "metadata": {},
   "outputs": [
    {
     "name": "stdout",
     "output_type": "stream",
     "text": [
      "......................\u001b[34m[2020-05-18 18:21:36 +0000] [15] [INFO] Starting gunicorn 19.10.0\u001b[0m\n",
      "\u001b[34m[2020-05-18 18:21:36 +0000] [15] [INFO] Listening at: unix:/tmp/gunicorn.sock (15)\u001b[0m\n",
      "\u001b[34m[2020-05-18 18:21:36 +0000] [15] [INFO] Using worker: gevent\u001b[0m\n",
      "\u001b[34m[2020-05-18 18:21:36 +0000] [22] [INFO] Booting worker with pid: 22\u001b[0m\n",
      "\u001b[34m[2020-05-18 18:21:36 +0000] [26] [INFO] Booting worker with pid: 26\u001b[0m\n",
      "\u001b[34m[2020-05-18 18:21:36 +0000] [27] [INFO] Booting worker with pid: 27\u001b[0m\n",
      "\u001b[34m[2020-05-18 18:21:36 +0000] [28] [INFO] Booting worker with pid: 28\u001b[0m\n",
      "\u001b[34m[2020-05-18:18:21:43:INFO] No GPUs detected (normal if no gpus installed)\u001b[0m\n",
      "\u001b[34m169.254.255.130 - - [18/May/2020:18:21:43 +0000] \"GET /ping HTTP/1.1\" 200 0 \"-\" \"Go-http-client/1.1\"\u001b[0m\n",
      "\u001b[34m169.254.255.130 - - [18/May/2020:18:21:43 +0000] \"GET /execution-parameters HTTP/1.1\" 200 84 \"-\" \"Go-http-client/1.1\"\u001b[0m\n",
      "\u001b[34m[2020-05-18:18:21:43:INFO] No GPUs detected (normal if no gpus installed)\u001b[0m\n",
      "\u001b[34m[2020-05-18:18:21:43:INFO] Determined delimiter of CSV input is ','\u001b[0m\n",
      "\u001b[34m[18:21:43] WARNING: /workspace/src/objective/regression_obj.cu:152: reg:linear is now deprecated in favor of reg:squarederror.\u001b[0m\n",
      "\u001b[34m169.254.255.130 - - [18/May/2020:18:21:43 +0000] \"POST /invocations HTTP/1.1\" 200 3109 \"-\" \"Go-http-client/1.1\"\u001b[0m\n",
      "\u001b[35m[2020-05-18:18:21:43:INFO] No GPUs detected (normal if no gpus installed)\u001b[0m\n",
      "\u001b[35m169.254.255.130 - - [18/May/2020:18:21:43 +0000] \"GET /ping HTTP/1.1\" 200 0 \"-\" \"Go-http-client/1.1\"\u001b[0m\n",
      "\u001b[35m169.254.255.130 - - [18/May/2020:18:21:43 +0000] \"GET /execution-parameters HTTP/1.1\" 200 84 \"-\" \"Go-http-client/1.1\"\u001b[0m\n",
      "\u001b[35m[2020-05-18:18:21:43:INFO] No GPUs detected (normal if no gpus installed)\u001b[0m\n",
      "\u001b[35m[2020-05-18:18:21:43:INFO] Determined delimiter of CSV input is ','\u001b[0m\n",
      "\u001b[35m[18:21:43] WARNING: /workspace/src/objective/regression_obj.cu:152: reg:linear is now deprecated in favor of reg:squarederror.\u001b[0m\n",
      "\u001b[35m169.254.255.130 - - [18/May/2020:18:21:43 +0000] \"POST /invocations HTTP/1.1\" 200 3109 \"-\" \"Go-http-client/1.1\"\u001b[0m\n",
      "\u001b[32m2020-05-18T18:21:43.730:[sagemaker logs]: MaxConcurrentTransforms=4, MaxPayloadInMB=6, BatchStrategy=MULTI_RECORD\u001b[0m\n",
      "\n"
     ]
    }
   ],
   "source": [
    "xgb_transformer.wait()"
   ]
  },
  {
   "cell_type": "markdown",
   "metadata": {},
   "source": [
    "Now that the batch transform job has finished, the resulting output is stored on S3. Since we wish to analyze the output inside of our notebook we can use a bit of notebook magic to copy the output file from its S3 location and save it locally."
   ]
  },
  {
   "cell_type": "code",
   "execution_count": 30,
   "metadata": {},
   "outputs": [
    {
     "name": "stdout",
     "output_type": "stream",
     "text": [
      "Completed 3.0 KiB/3.0 KiB (34.8 KiB/s) with 1 file(s) remaining\r",
      "download: s3://sagemaker-eu-west-1-019518462631/sagemaker-xgboost-200518-1759-030-56394-2020-05-18-18-18-04-914/test.csv.out to ../data/boston/test.csv.out\r\n"
     ]
    }
   ],
   "source": [
    "!aws s3 cp --recursive $xgb_transformer.output_path $data_dir"
   ]
  },
  {
   "cell_type": "markdown",
   "metadata": {},
   "source": [
    "To see how well our model works we can create a simple scatter plot between the predicted and actual values. If the model was completely accurate the resulting scatter plot would look like the line $x=y$. As we can see, our model seems to have done okay but there is room for improvement."
   ]
  },
  {
   "cell_type": "code",
   "execution_count": 31,
   "metadata": {},
   "outputs": [],
   "source": [
    "Y_pred = pd.read_csv(os.path.join(data_dir, 'test.csv.out'), header=None)"
   ]
  },
  {
   "cell_type": "code",
   "execution_count": 32,
   "metadata": {},
   "outputs": [
    {
     "data": {
      "text/plain": [
       "Text(0.5, 1.0, 'Median Price vs Predicted Price')"
      ]
     },
     "execution_count": 32,
     "metadata": {},
     "output_type": "execute_result"
    },
    {
     "data": {
      "image/png": "[encoded data removed]",
      "text/plain": [
       "<Figure size 432x288 with 1 Axes>"
      ]
     },
     "metadata": {},
     "output_type": "display_data"
    }
   ],
   "source": [
    "plt.scatter(Y_test, Y_pred)\n",
    "plt.xlabel(\"Median Price\")\n",
    "plt.ylabel(\"Predicted Price\")\n",
    "plt.title(\"Median Price vs Predicted Price\")"
   ]
  },
  {
   "cell_type": "markdown",
   "metadata": {},
   "source": [
    "## Optional: Clean up\n",
    "\n",
    "The default notebook instance on SageMaker doesn't have a lot of excess disk space available. As you continue to complete and execute notebooks you will eventually fill up this disk space, leading to errors which can be difficult to diagnose. Once you are completely finished using a notebook it is a good idea to remove the files that you created along the way. Of course, you can do this from the terminal or from the notebook hub if you would like. The cell below contains some commands to clean up the created files from within the notebook."
   ]
  },
  {
   "cell_type": "code",
   "execution_count": null,
   "metadata": {},
   "outputs": [],
   "source": [
    "# First we will remove all of the files contained in the data_dir directory\n",
    "!rm $data_dir/*\n",
    "\n",
    "# And then we delete the directory itself\n",
    "!rmdir $data_dir"
   ]
  },
  {
   "cell_type": "code",
   "execution_count": null,
   "metadata": {},
   "outputs": [],
   "source": []
  }
 ],
 "metadata": {
  "kernelspec": {
   "display_name": "conda_pytorch_p36",
   "language": "python",
   "name": "conda_pytorch_p36"
  },
  "language_info": {
   "codemirror_mode": {
    "name": "ipython",
    "version": 3
   },
   "file_extension": ".py",
   "mimetype": "text/x-python",
   "name": "python",
   "nbconvert_exporter": "python",
   "pygments_lexer": "ipython3",
   "version": "3.6.5"
  }
 },
 "nbformat": 4,
 "nbformat_minor": 2
}
