{
 "cells": [
  {
   "cell_type": "markdown",
   "metadata": {},
   "source": [
    "# Sentiment Analysis Web App\n",
    "\n",
    "_Deep Learning Nanodegree Program | Deployment_\n",
    "\n",
    "---\n",
    "\n",
    "In this notebook we will use Amazon's SageMaker service to construct a random tree model to predict the sentiment of a movie review. In addition, we will deploy this model to an endpoint and construct a very simple web app which will interact with our model's deployed endpoint.\n",
    "\n",
    "## General Outline\n",
    "\n",
    "Typically, when using a notebook instance with SageMaker, you will proceed through the following steps. Of course, not every step will need to be done with each project. Also, there is quite a lot of room for variation in many of the steps, as you will see throughout these lessons.\n",
    "\n",
    "1. Download or otherwise retrieve the data.\n",
    "2. Process / Prepare the data.\n",
    "3. Upload the processed data to S3.\n",
    "4. Train a chosen model.\n",
    "5. Test the trained model (typically using a batch transform job).\n",
    "6. Deploy the trained model.\n",
    "7. Use the deployed model.\n",
    "\n",
    "In this notebook we will progress through each of the steps above. We will also see that the final step, using the deployed model, can be quite challenging."
   ]
  },
  {
   "cell_type": "markdown",
   "metadata": {},
   "source": [
    "## Step 1: Downloading the data\n",
    "\n",
    "The dataset we are going to use is very popular among researchers in Natural Language Processing, usually referred to as the [IMDb dataset](http://ai.stanford.edu/~amaas/data/sentiment/). It consists of movie reviews from the website [imdb.com](http://www.imdb.com/), each labeled as either '**pos**itive', if the reviewer enjoyed the film, or '**neg**ative' otherwise.\n",
    "\n",
    "> Maas, Andrew L., et al. [Learning Word Vectors for Sentiment Analysis](http://ai.stanford.edu/~amaas/data/sentiment/). In _Proceedings of the 49th Annual Meeting of the Association for Computational Linguistics: Human Language Technologies_. Association for Computational Linguistics, 2011.\n",
    "\n",
    "We begin by using some Jupyter Notebook magic to download and extract the dataset."
   ]
  },
  {
   "cell_type": "code",
   "execution_count": 1,
   "metadata": {},
   "outputs": [
    {
     "name": "stdout",
     "output_type": "stream",
     "text": [
      "mkdir: cannot create directory ‘../data’: File exists\n",
      "--2020-05-18 15:28:03--  http://ai.stanford.edu/~amaas/data/sentiment/aclImdb_v1.tar.gz\n",
      "Resolving ai.stanford.edu (ai.stanford.edu)... 171.64.68.10\n",
      "Connecting to ai.stanford.edu (ai.stanford.edu)|171.64.68.10|:80... connected.\n",
      "HTTP request sent, awaiting response... 200 OK\n",
      "Length: 84125825 (80M) [application/x-gzip]\n",
      "Saving to: ‘../data/aclImdb_v1.tar.gz’\n",
      "\n",
      "../data/aclImdb_v1. 100%[===================>]  80.23M  10.7MB/s    in 11s     \n",
      "\n",
      "2020-05-18 15:28:14 (7.59 MB/s) - ‘../data/aclImdb_v1.tar.gz’ saved [84125825/84125825]\n",
      "\n"
     ]
    }
   ],
   "source": [
    "%mkdir ../data\n",
    "!wget -O ../data/aclImdb_v1.tar.gz http://ai.stanford.edu/~amaas/data/sentiment/aclImdb_v1.tar.gz\n",
    "!tar -zxf ../data/aclImdb_v1.tar.gz -C ../data"
   ]
  },
  {
   "cell_type": "markdown",
   "metadata": {},
   "source": [
    "## Step 2: Preparing and Processing the data\n",
    "\n",
    "The data we have downloaded is split into various files, each of which contains a single review. It will be much easier going forward if we combine these individual files into two large files, one for training and one for testing."
   ]
  },
  {
   "cell_type": "code",
   "execution_count": 1,
   "metadata": {},
   "outputs": [],
   "source": [
    "import os\n",
    "import glob\n",
    "\n",
    "def read_imdb_data(data_dir='../data/aclImdb'):\n",
    "    data = {}\n",
    "    labels = {}\n",
    "    \n",
    "    for data_type in ['train', 'test']:\n",
    "        data[data_type] = {}\n",
    "        labels[data_type] = {}\n",
    "        \n",
    "        for sentiment in ['pos', 'neg']:\n",
    "            data[data_type][sentiment] = []\n",
    "            labels[data_type][sentiment] = []\n",
    "            \n",
    "            path = os.path.join(data_dir, data_type, sentiment, '*.txt')\n",
    "            files = glob.glob(path)\n",
    "            \n",
    "            for f in files:\n",
    "                with open(f) as review:\n",
    "                    data[data_type][sentiment].append(review.read())\n",
    "                    # Here we represent a positive review by '1' and a negative review by '0'\n",
    "                    labels[data_type][sentiment].append(1 if sentiment == 'pos' else 0)\n",
    "                    \n",
    "            assert len(data[data_type][sentiment]) == len(labels[data_type][sentiment]), \\\n",
    "                    \"{}/{} data size does not match labels size\".format(data_type, sentiment)\n",
    "                \n",
    "    return data, labels"
   ]
  },
  {
   "cell_type": "code",
   "execution_count": 2,
   "metadata": {},
   "outputs": [
    {
     "name": "stdout",
     "output_type": "stream",
     "text": [
      "IMDB reviews: train = 12500 pos / 12500 neg, test = 12500 pos / 12500 neg\n"
     ]
    }
   ],
   "source": [
    "data, labels = read_imdb_data()\n",
    "print(\"IMDB reviews: train = {} pos / {} neg, test = {} pos / {} neg\".format(\n",
    "            len(data['train']['pos']), len(data['train']['neg']),\n",
    "            len(data['test']['pos']), len(data['test']['neg'])))"
   ]
  },
  {
   "cell_type": "code",
   "execution_count": 3,
   "metadata": {},
   "outputs": [],
   "source": [
    "from sklearn.utils import shuffle\n",
    "\n",
    "def prepare_imdb_data(data, labels):\n",
    "    \"\"\"Prepare training and test sets from IMDb movie reviews.\"\"\"\n",
    "    \n",
    "    #Combine positive and negative reviews and labels\n",
    "    data_train = data['train']['pos'] + data['train']['neg']\n",
    "    data_test = data['test']['pos'] + data['test']['neg']\n",
    "    labels_train = labels['train']['pos'] + labels['train']['neg']\n",
    "    labels_test = labels['test']['pos'] + labels['test']['neg']\n",
    "    \n",
    "    #Shuffle reviews and corresponding labels within training and test sets\n",
    "    data_train, labels_train = shuffle(data_train, labels_train)\n",
    "    data_test, labels_test = shuffle(data_test, labels_test)\n",
    "    \n",
    "    # Return a unified training data, test data, training labels, test labets\n",
    "    return data_train, data_test, labels_train, labels_test"
   ]
  },
  {
   "cell_type": "code",
   "execution_count": 4,
   "metadata": {},
   "outputs": [
    {
     "name": "stdout",
     "output_type": "stream",
     "text": [
      "IMDb reviews (combined): train = 25000, test = 25000\n"
     ]
    }
   ],
   "source": [
    "train_X, test_X, train_y, test_y = prepare_imdb_data(data, labels)\n",
    "print(\"IMDb reviews (combined): train = {}, test = {}\".format(len(train_X), len(test_X)))"
   ]
  },
  {
   "cell_type": "code",
   "execution_count": 5,
   "metadata": {},
   "outputs": [
    {
     "data": {
      "text/plain": [
       "\"This is an excellent film for female body-builder & female action fans! I think that Sue Price did a great job in this film series (Nemesis 2,3,4) and proved to be a great fighter. She has a very striking appearance and a will of iron to resist the powerful Nebula (Nemesis 2). Though not a film of great value and Sue Price's acting skills not the best to have met in my life, the movie itself was something awesome, a priceless gem for fans of female body-builder action! Well, some parts of Nemesis 2 have been copied by other famous sci-fi films, such as Terminator or Predator, but that's not the point. The point is that A.Puyn casted in that film a very talented body-builder who put all of her energy and body talent to show us the best she can do. I really enjoyed that film and watched with the same enthusiasm Nemesis 3 (a rather boring sequel) and Nemesis 4 (a much more interesting sequel than 3). What a pity it hasn't shown yet on DVD :-(\""
      ]
     },
     "execution_count": 5,
     "metadata": {},
     "output_type": "execute_result"
    }
   ],
   "source": [
    "train_X[100]"
   ]
  },
  {
   "cell_type": "markdown",
   "metadata": {},
   "source": [
    "## Processing the data\n",
    "\n",
    "Now that we have our training and testing datasets merged and ready to use, we need to start processing the raw data into something that will be useable by our machine learning algorithm. To begin with, we remove any html formatting and any non-alpha numeric characters that may appear in the reviews. We will do this in a very simplistic way using Python's regular expression module. We will discuss the reason for this rather simplistic pre-processing later on."
   ]
  },
  {
   "cell_type": "code",
   "execution_count": 6,
   "metadata": {},
   "outputs": [],
   "source": [
    "import re\n",
    "\n",
    "REPLACE_NO_SPACE = re.compile(\"(\\.)|(\\;)|(\\:)|(\\!)|(\\')|(\\?)|(\\,)|(\\\")|(\\()|(\\))|(\\[)|(\\])\")\n",
    "REPLACE_WITH_SPACE = re.compile(\"(<br\\s*/><br\\s*/>)|(\\-)|(\\/)\")\n",
    "\n",
    "def review_to_words(review):\n",
    "    words = REPLACE_NO_SPACE.sub(\"\", review.lower())\n",
    "    words = REPLACE_WITH_SPACE.sub(\" \", words)\n",
    "    return words"
   ]
  },
  {
   "cell_type": "code",
   "execution_count": 7,
   "metadata": {},
   "outputs": [
    {
     "data": {
      "text/plain": [
       "'this is an excellent film for female body builder & female action fans i think that sue price did a great job in this film series nemesis 234 and proved to be a great fighter she has a very striking appearance and a will of iron to resist the powerful nebula nemesis 2 though not a film of great value and sue prices acting skills not the best to have met in my life the movie itself was something awesome a priceless gem for fans of female body builder action well some parts of nemesis 2 have been copied by other famous sci fi films such as terminator or predator but thats not the point the point is that apuyn casted in that film a very talented body builder who put all of her energy and body talent to show us the best she can do i really enjoyed that film and watched with the same enthusiasm nemesis 3 a rather boring sequel and nemesis 4 a much more interesting sequel than 3 what a pity it hasnt shown yet on dvd  '"
      ]
     },
     "execution_count": 7,
     "metadata": {},
     "output_type": "execute_result"
    }
   ],
   "source": [
    "review_to_words(train_X[100])"
   ]
  },
  {
   "cell_type": "code",
   "execution_count": 8,
   "metadata": {},
   "outputs": [],
   "source": [
    "import pickle\n",
    "\n",
    "cache_dir = os.path.join(\"../cache\", \"sentiment_web_app\")  # where to store cache files\n",
    "os.makedirs(cache_dir, exist_ok=True)  # ensure cache directory exists\n",
    "\n",
    "def preprocess_data(data_train, data_test, labels_train, labels_test,\n",
    "                    cache_dir=cache_dir, cache_file=\"preprocessed_data.pkl\"):\n",
    "    \"\"\"Convert each review to words; read from cache if available.\"\"\"\n",
    "\n",
    "    # If cache_file is not None, try to read from it first\n",
    "    cache_data = None\n",
    "    if cache_file is not None:\n",
    "        try:\n",
    "            with open(os.path.join(cache_dir, cache_file), \"rb\") as f:\n",
    "                cache_data = pickle.load(f)\n",
    "            print(\"Read preprocessed data from cache file:\", cache_file)\n",
    "        except:\n",
    "            pass  # unable to read from cache, but that's okay\n",
    "    \n",
    "    # If cache is missing, then do the heavy lifting\n",
    "    if cache_data is None:\n",
    "        # Preprocess training and test data to obtain words for each review\n",
    "        #words_train = list(map(review_to_words, data_train))\n",
    "        #words_test = list(map(review_to_words, data_test))\n",
    "        words_train = [review_to_words(review) for review in data_train]\n",
    "        words_test = [review_to_words(review) for review in data_test]\n",
    "        \n",
    "        # Write to cache file for future runs\n",
    "        if cache_file is not None:\n",
    "            cache_data = dict(words_train=words_train, words_test=words_test,\n",
    "                              labels_train=labels_train, labels_test=labels_test)\n",
    "            with open(os.path.join(cache_dir, cache_file), \"wb\") as f:\n",
    "                pickle.dump(cache_data, f)\n",
    "            print(\"Wrote preprocessed data to cache file:\", cache_file)\n",
    "    else:\n",
    "        # Unpack data loaded from cache file\n",
    "        words_train, words_test, labels_train, labels_test = (cache_data['words_train'],\n",
    "                cache_data['words_test'], cache_data['labels_train'], cache_data['labels_test'])\n",
    "    \n",
    "    return words_train, words_test, labels_train, labels_test"
   ]
  },
  {
   "cell_type": "code",
   "execution_count": 9,
   "metadata": {},
   "outputs": [
    {
     "name": "stdout",
     "output_type": "stream",
     "text": [
      "Read preprocessed data from cache file: preprocessed_data.pkl\n"
     ]
    }
   ],
   "source": [
    "# Preprocess data\n",
    "train_X, test_X, train_y, test_y = preprocess_data(train_X, test_X, train_y, test_y)"
   ]
  },
  {
   "cell_type": "markdown",
   "metadata": {},
   "source": [
    "### Extract Bag-of-Words features\n",
    "\n",
    "For the model we will be implementing, rather than using the reviews directly, we are going to transform each review into a Bag-of-Words feature representation. Keep in mind that 'in the wild' we will only have access to the training set so our transformer can only use the training set to construct a representation."
   ]
  },
  {
   "cell_type": "code",
   "execution_count": 10,
   "metadata": {},
   "outputs": [],
   "source": [
    "import numpy as np\n",
    "from sklearn.feature_extraction.text import CountVectorizer\n",
    "from sklearn.externals import joblib\n",
    "# joblib is an enhanced version of pickle that is more efficient for storing NumPy arrays\n",
    "\n",
    "def extract_BoW_features(words_train, words_test, vocabulary_size=5000,\n",
    "                         cache_dir=cache_dir, cache_file=\"bow_features.pkl\"):\n",
    "    \"\"\"Extract Bag-of-Words for a given set of documents, already preprocessed into words.\"\"\"\n",
    "    \n",
    "    # If cache_file is not None, try to read from it first\n",
    "    cache_data = None\n",
    "    if cache_file is not None:\n",
    "        try:\n",
    "            with open(os.path.join(cache_dir, cache_file), \"rb\") as f:\n",
    "                cache_data = joblib.load(f)\n",
    "            print(\"Read features from cache file:\", cache_file)\n",
    "        except:\n",
    "            pass  # unable to read from cache, but that's okay\n",
    "    \n",
    "    # If cache is missing, then do the heavy lifting\n",
    "    if cache_data is None:\n",
    "        # Fit a vectorizer to training documents and use it to transform them\n",
    "        # NOTE: Training documents have already been preprocessed and tokenized into words;\n",
    "        #       pass in dummy functions to skip those steps, e.g. preprocessor=lambda x: x\n",
    "        vectorizer = CountVectorizer(max_features=vocabulary_size)\n",
    "        features_train = vectorizer.fit_transform(words_train).toarray()\n",
    "\n",
    "        # Apply the same vectorizer to transform the test documents (ignore unknown words)\n",
    "        features_test = vectorizer.transform(words_test).toarray()\n",
    "        \n",
    "        # NOTE: Remember to convert the features using .toarray() for a compact representation\n",
    "        \n",
    "        # Write to cache file for future runs (store vocabulary as well)\n",
    "        if cache_file is not None:\n",
    "            vocabulary = vectorizer.vocabulary_\n",
    "            cache_data = dict(features_train=features_train, features_test=features_test,\n",
    "                             vocabulary=vocabulary)\n",
    "            with open(os.path.join(cache_dir, cache_file), \"wb\") as f:\n",
    "                joblib.dump(cache_data, f)\n",
    "            print(\"Wrote features to cache file:\", cache_file)\n",
    "    else:\n",
    "        # Unpack data loaded from cache file\n",
    "        features_train, features_test, vocabulary = (cache_data['features_train'],\n",
    "                cache_data['features_test'], cache_data['vocabulary'])\n",
    "    \n",
    "    # Return both the extracted features as well as the vocabulary\n",
    "    return features_train, features_test, vocabulary"
   ]
  },
  {
   "cell_type": "code",
   "execution_count": 11,
   "metadata": {},
   "outputs": [
    {
     "name": "stdout",
     "output_type": "stream",
     "text": [
      "Read features from cache file: bow_features.pkl\n"
     ]
    }
   ],
   "source": [
    "# Extract Bag of Words features for both training and test datasets\n",
    "train_X, test_X, vocabulary = extract_BoW_features(train_X, test_X)"
   ]
  },
  {
   "cell_type": "code",
   "execution_count": 12,
   "metadata": {},
   "outputs": [
    {
     "data": {
      "text/plain": [
       "5000"
      ]
     },
     "execution_count": 12,
     "metadata": {},
     "output_type": "execute_result"
    }
   ],
   "source": [
    "len(train_X[100])"
   ]
  },
  {
   "cell_type": "code",
   "execution_count": 18,
   "metadata": {},
   "outputs": [
    {
     "data": {
      "text/plain": [
       "dict_keys(['was', 'enough', 'to', 'meet', 'george', 'pal', 'and', 'still', 'have', 'my', 'poster', 'by', 'him', 'at', 'shortly', 'after', 'the', 'release', 'asked', 'why', 'he', 'chose', 'do', 'film', 'camp', 'before', 'could', 'answer', 'two', 'studio', 'me', 'on', 'how', 'knew', 'best', 'no', 'one', 'will', 'take', 'such', 'seriously', 'had', 'been', 'reading', 'for', 'couple', 'of', 'years', 'thanks', 'friend', '1970s', 'recall', 'his', 'band', 'in', 'that', 'with', 'higher', 'hopes', 'than', 'what', 'we', 'got', 'high', 'adventure', 'would', 'ever', 'be', 'done', 'so', 'doing', 'only', 'way', 'several', 'other', 'fans', 'jumped', 'side', 'listening', 'as', 'end', 'little', 'event', 'came', 'up', 'us', 'wishing', 'more', 'better', 'star', 'wars', 'put', 'lie', 'year', 'death', 'spielberg', 'lucas', 'proved', 'doc', 'savage', 'easily', 'next', 'major', 'movie', 'it', 'hadnt', 'tear', 'out', 'memory', 'or', 'history', 'worth', '10', 'rating', 'nothing', 'mindless', 'popcorn', 'but', 'destroying', 'like', 'less', 'an', 'killing', 'baby', 'can', 'come', 'screen', 'survive', 'inevitable', 'ill', 'jones', 'all', 'glory', 'should', 'expect', 'from', 'first', 'american', 'superhero', 'yes', 'there', 'second', 'script', 'evil', 'its', 'lot', 'serious', 'footage', 'shot', 'mostly', 'shots', 'very', 'actors', 'ron', 'over', 'wall', 'something', 'built', 'wearing', 'button', 'down', 'white', 'shirt', 'tie', 'words', 'summer', 'if', 'anyone', 'knows', 'who', 'were', 'accompanied', 'san', 'idiots', 'head', 'call', 'them', 'they', 'are', 'time', 'fu', 'pants', 'carrying', 'interested', 'see', 'this', 'when', 'theaters', 'however', 'wasnt', 'able', 'get', 'around', 'finally', 'hit', 'picked', 'not', 'knowing', 'exactly', 'dvd', 'player', 'evening', 'murder', 'play', 'followed', 'engaging', 'flicks', 'ive', 'seen', 'last', 'some', 'spoilers', 'is', 'story', 'murders', 'which', 'led', 'parts', 'la', 'straight', 'biggest', 'porn', 'start', '70s', 'john', 'holmes', 'hooked', 'beginning', 'feel', 'held', 'until', 'bloody', 'surprised', 'find', 'focused', 'actual', 'events', 'investigation', 'aside', 'few', 'blood', 'walls', 'showing', 'towards', 'show', 'great', 'acting', 'even', 'beautiful', 'thats', 'joy', 'watch', 'just', 'her', 'looks', 'mind', 'you', 'personally', 'felt', 'aspect', 'mentioned', 'lack', 'shown', 'dark', 'atmosphere', 'couldnt', 'completely', 'brutal', 'sleeping', 'furthermore', 'sound', 'effects', 'said', 'being', 'beating', 'lead', 'theres', 'much', 'needs', 'real', 'problem', 'carrie', 'brief', 'portrayal', 'overly', 'religious', 'figure', 'think', 'bit', 'too', 'cliche', 'maybe', 'person', 'actually', 'part', 'sold', 'reason', 'fisher', 'seemed', 'overall', 'excellent', 'once', 'weird', 'witty', 'wonderful', 'depiction', 'family', 'life', 'writer', 'andrew', 'has', 'written', 'funny', 'occasionally', 'frightening', 'dont', 'fooled', 'childrens', 'tune', 'characters', 'times', 'quite', 'chilling', 'whats', 'good', 'about', 'simplistic', 'sitcom', 'where', 'every', 'character', 'comic', 'device', 'case', 'instead', 'fully', 'individuals', 'full', 'human', 'emotions', 'moments', 'bill', 'supposedly', 'haunted', 'curse', 'ben', 'bizarre', 'village', 'examples', 'taking', 'surreal', 'turn', 'help', 'add', 'depth', 'course', 'also', 'incredibly', 'make', 'smile', 'shame', 'video', 'stopped', 'comical', 'gold', 'your', 'hope', 'hold', 'episodes', 'typical', 'trash', '80s', 'flick', 'considered', 'highlights', 'lloyd', 'notorious', 'production', 'alongside', 'released', 'earlier', 'far', 'superior', 'ask', 'demented', 'splatter', 'nevertheless', 'well', 'sure', 'leave', 'brain', 'door', 'place', 'town', 'claims', 'capital', 'world', 'certainly', 'arent', 'lying', 'safety', 'local', 'nuclear', 'power', 'plant', 'say', 'least', 'homer', 'simpson', 'never', 'waste', 'through', 'nearby', 'school', 'victim', 'stereotypical', 'starts', 'green', 'stuff', 'body', 'believed', 'accident', 'because', 'house', 'oh', 'humanity', 'affect', 'schools', 'thing', 'really', 'smoking', 'party', 'produce', 'monster', 'basement', 'teenage', 'class', 'em', 'bottom', 'horror', 'making', 'dialogs', 'dumb', 'hurt', 'ears', 'give', 'whole', 'new', 'meaning', 'word', 'enjoy', 'watching', 'faces', 'melting', 'away', 'getting', 'half', 'definitely', 'must', 'unlike', 'aforementioned', 'suffers', 'dull', 'significant', 'happens', 'example', 'warren', 'try', 'wrong', 'their', 'crude', 'humor', 'isnt', 'effective', 'performances', 'amateurish', 'youre', 'know', 'political', 'war', 'noticed', 'garbage', 'horrible', 'sense', 'terribly', 'many', 'ways', 'easier', 'believing', 'president', 'united', 'states', 'flying', 'jet', 'fighter', 'shooting', 'aliens', 'note', 'things', 'right', 'jaw', 'dropped', 'saw', '25', 'seemingly', 'pointless', 'plot', 'questionable', 'cinematography', 'box', 'did', 'check', 'these', 'exist', '2004', 'research', 'five', 'am', 'iraq', 'veteran', 'spent', 'day', 'realize', 'compare', 'saving', 'private', 'ryan', 'ludicrous', 'throw', 'red', 'dawn', 'those', 'might', 'accurate', 'past', 'unbelievable', 'historical', 'then', 'ok', 'keep', 'hearing', 'oscar', 'own', 'review', 'go', 'ahead', 'writing', 'director', 'minutes', 'back', 'love', 'korean', 'films', 'ability', 'quiet', 'capture', 'tend', 'movies', 'alone', 'directors', 'comes', 'closest', 'feelings', 'another', 'awesome', 'called', 'charming', 'girl', 'title', 'summary', 'supposed', 'perspective', 'praise', 'non', 'christian', 'lee', 'captured', 'almost', 'modern', 'church', 'regardless', 'always', 'waiting', 'truly', 'portrays', 'darker', 'speak', 'language', 'different', 'want', 'share', 'faith', 'though', 'having', 'motives', 'disney', 'special', 'need', 'people', 'lust', 'fall', 'christians', 'believe', 'available', 'seek', 'everyday', 'horrors', 'totally', 'honest', 'woman', 'found', 'god', 'bitter', 'loses', 'she', 'doesnt', 'exists', 'refuses', 'accept', 'live', 'idea', 'loving', 'decent', 'morality', 'madness', 'asks', 'questions', 'does', 'allow', 'terrible', 'happen', 'open', 'interpretation', 'leaves', 'future', 'our', 'main', 'brings', 'secret', 'sunshine', 'circle', 'tried', 'any', 'set', 'lies', 'worked', 'excited', 'animated', 'source', 'ruined', 'reel', 'animation', 'awful', 'hoping', 'understand', 'going', 'emotion', 'pity', 'creators', 'wasting', 'short', 'twice', 'taken', 'hire', 'im', 'everyone', 'showcase', 'sorry', 'guys', 'telling', 'makes', 'eric', 'paint', 'dry', 'seems', 'may', 'gave', 'vague', 'cinema', 'already', 'named', '2007', 'reality', 'century', 'france', 'extreme', 'valley', 'whilst', 'wooden', 'involves', 'often', 'cast', 'happened', 'passing', 'effect', 'cant', 'utter', 'laughed', 'hard', 'during', 'face', 'hilarious', 'reminded', 'pretty', 'boy', 'jack', 'black', 'role', 'gives', 'performance', 'entire', 'went', 'into', 'expecting', 'perhaps', 'thoroughly', 'pleased', 'recommend', 'enjoys', 'comedy', 'identify', 'putting', 'relatives', 'anyway', 'subtle', 'bits', 'caught', 'off', 'guard', 'laughing', 'long', 'rest', 'audience', 'namely', 'scene', 'involving', 'lighting', 'christmas', 'tree', 'laugh', 'generally', 'young', 'concerned', 'frank', 'romance', 'shes', 'playing', 'low', 'self', 'puts', 'entirely', 'tracy', 'direct', 'odd', 'played', 'room', 'front', 'depression', 'yet', 'romantic', 'regular', 'guy', 'todays', 'standards', 'edge', 'appealing', 'supporting', 'work', 'screenplay', 'heroes', 'liked', 'true', 'close', 'sort', 'slap', 'tell', 'wise', 'satisfying', 'conclusion', 'embarrassed', 'missed', 'mother', 'vote', 'given', 'here', 'english', 'independent', 'filmed', 'care', 'quality', 'drew', 'purely', 'brutally', 'utterly', 'anne', 'daniel', 'craig', 'stunning', 'score', 'storyline', 'epic', 'brilliantly', 'mundane', 'lives', 'big', 'issues', 'subtlety', 'painting', 'highly', 'controversial', 'probably', 'explains', 'awards', 'won', 'despite', 'simply', 'favorite', 'involved', 'project', 'ashamed', 'result', 'efforts', 'list', 'premise', 'look', 'student', 'yeah', 'interesting', 'albeit', 'juvenile', 'didnt', 'seem', 'saying', 'thumbs', 'most', 'field', 'patients', 'successful', 'witnesses', 'wife', 'pool', 'man', 'days', 'attack', 'dogs', 'ends', 'plans', 'plenty', 'mouth', 'tongue', 'cutting', 'beauty', 'queen', 'ties', 'teeth', 'dentist', 'absolutely', 'kind', 'deep', 'detail', 'entertaining', 'fast', 'paced', 'laughably', 'gory', 'above', 'average', 'partly', 'spoiled', 'predictable', 'line', 'music', 'chosen', 'fit', 'action', 'period', 'piece', 'tragedy', 'company', 'moving', 'chris', 'cooper', 'turns', 'daddy', 'original', 'both', 'chaplin', 'miss', 'nice', 'job', 'russian', 'accent', 'shy', 'men', 'women', 'fantastic', 'sympathetic', 'forgot', 'gorgeous', 'imagine', 'falls', 'unexpected', 'suspense', 'although', 'hoped', 'happy', 'ending', 'surprise', 'pays', 'points', 'concept', 'now', 'drags', 'editing', 'hear', 'credits', 'rushed', 'market', 'places', 'worst', 'technical', 'audio', 'level', 'dialog', 'distracting', 'either', 'careful', 'recording', 'background', 'noise', 'gotten', 'someone', 'martial', 'arts', 'scenes', 'hitting', 'together', 'battle', 'especially', 'combat', 'needed', 'flat', 'same', 'writes', 'stars', 'experience', 'effort', 'please', 'stop', 'stiller', 'write', 'studios', 'hell', 'laughs', 'funeral', 'tries', 'dog', 'crap', 'christopher', 'walken', 'greatest', 'generation', 'unfunny', 'proves', 'overrated', 'wonder', 'badly', 'dollar', 'handful', 'weeks', 'warn', 'friends', 'id', 'thought', 'plan', 'golden', 'child', 'hollywood', 'quit', 'allowing', 'hes', 'actor', 'bringing', 'others', 'following', 'negative', 'scores', 'allowed', 'while', 'board', 'says', 'zero', 'wish', 'stayed', 'bar', 'frankly', 'boring', 'guess', 'itself', 'pretentious', 'camera', 'techniques', 'intent', 'causing', 'suddenly', 'died', 'cared', 'emotional', 'walking', 'children', 'made', '100', 'nowadays', 'cultural', 'anymore', 'cheap', 'eighties', 'sell', 'medium', 'fascinating', 'upper', 'picture', 'cameos', 'gene', 'simmons', 'success', 'small', 'roles', 'singer', 'singing', 'monsters', 'nightmares', 'night', 'recommended', 'intellectual', 'lovers', 'begins', 'crew', 'documentary', 'spoiler', 'message', 'contrary', 'looking', 'existence', 'middle', 'web', 'false', 'interest', 'elsewhere', 'bergman', 'filmmaker', 'order', 'spiritual', 'poverty', 'subject', 'viewer', 'incident', 'pathetic', 'value', 'spend', 'hours', 'aka', 'leads', 'dance', 'lots', 'naked', 'thrown', 'ireland', 'gothic', 'island', 'castle', 'weekend', 'missing', 'heads', 'due', 'running', 'scary', 'rooms', 'lit', 'dubbing', 'worse', 'usual', 'serves', 'excuse', 'nudity', 'directed', 'rented', 'curious', 'yellow', 'store', 'surrounded', 'heard', 'enter', 'country', 'therefore', 'fan', 'myself', 'centered', 'swedish', 'drama', 'lena', 'wants', 'learn', 'everything', 'particular', 'focus', 'certain', 'vietnam', 'race', 'between', 'asking', 'ordinary', 'opinions', 'politics', 'sex', 'teacher', 'married', 'kills', '40', 'ago', 'porno', 'shocking', 'arguably', 'old', 'ford', 'filmmakers', 'fact', 'artistic', 'purposes', 'rather', 'shock', 'money', 'america', 'wanting', 'study', 'meat', 'intended', 'centers', 'coming', 'guilt', 'style', 'model', 'plane', 'car', 'crash', 'impressive', 'storytelling', 'flashback', 'sequences', 'plays', 'truth', 'dialogue', 'game', 'narrative', 'structure', 'become', 'rough', 'left', 'individual', 'dad', 'louis', 'mom', 'rachel', 'move', 'unaware', '90', 'seconds', 'neighbor', 'across', 'fred', 'shows', 'pet', 'further', 'ground', 'bring', 'dead', 'nasty', 'mood', 'definite', 'novel', 'stephen', 'king', 'developed', 'situations', 'development', 'gore', 'violence', 'animals', 'killed', 'semi', 'pops', 'sick', 'brought', 'attacks', 'including', 'hang', 'works', 'gruesome', 'goes', 'dreadful', 'father', 'handsome', 'buff', 'blank', 'kids', 'annoying', 'single', 'saves', 'total', 'large', 'logic', 'stupid', 'huge', 'office', 'sequel', 'theatre', 'disturbed', 'kept', 'ramones', 'sing', 'song', 'wanna', 'buried', 'beyond', 'belief', 'california', 'workers', 'mill', 'closing', 'bad', 'behavior', 'streets', 'fed', 'arnold', 'michael', 'vincent', 'brother', 'acts', 'balance', 'bunch', 'clean', 'houses', 'etc', 'takes', 'catch', 'showdown', 'older', 'blue', 'fighting', 'thinks', 'cannot', 'accused', 'girlfriend', 'victoria', 'principal', 'himself', 'beaten', 'home', 'talks', 'daughter', 'uncle', 'threatening', 'fathers', 'smiling', 'chemistry', 'each', 'peters', 'appearance', 'attention', 'remember', 'jay', 'turned', 'budget', 'adam', 'sandler', 'obviously', 'mission', 'prove', 'couldve', 'point', 'shake', 'trademark', 'movements', 'nicholson', 'convincing', 'tension', 'captivating', 'likely', 'somewhat', 'constantly', 'read', 'writers', 'flawed', 'mild', 'criticism', 'resolution', 'positive', 'comment', 'atrocious', 'believable', 'cable', 'access', 'ridiculous', 'stolen', 'shark', 'anything', 'gets', 'near', 'cheesy', 'fun', 'sounds', 'delivered', 'top', 'soundtrack', 'bothered', 'record', 'italian', 'industry', 'final', 'nail', 'shop', 'corner', 'addition', 'talents', 'james', 'stewart', 'margaret', 'filled', 'terrific', 'morgan', 'felix', 'theyre', 'type', 'sadly', 'longer', 'makers', 'youve', 'mail', 'claim', 'remake', 'comedies', '1940s', 'youll', 'repeat', 'viewings', 'delivers', 'awkward', 'anywhere', 'attempts', 'later', 'arm', 'reaching', 'pulling', 'beer', 'lines', 'nowhere', 'former', 'actress', 'cell', 'phone', 'perfect', 'saturday', 'invisible', 'carefully', 'handled', 'age', '20', 'fresh', 'mad', 'scientist', 'early', '50s', 'amazing', 'alas', 'soon', 'underground', 'lab', 'means', 'tv', 'becoming', 'classics', 'under', 'eager', 'obvious', 'key', 'issue', 'energy', 'hollow', 'clichés', 'sappy', 'whatsoever', 'impressed', 'producers', 'sometimes', 'blows', 'natural', 'response', 'gone', 'swear', 'thank', 'convinced', 'worthy', 'struck', 'awe', 'realized', 'stunts', 'watched', 'spy', 'version', 'bought', 'disappointed', 'nick', 'marry', 'jim', 'fairly', 'contained', 'entertainment', 'again', 'similar', 'sean', 'imdb', 'possibility', 'series', 'based', 'cash', 'since', 'reminds', 'name', 'matthew', 'soap', 'opera', 'approach', 'raw', 'mean', 'site', 'whether', 'philosophy', 'talking', 'aged', 'cool', 'otherwise', 'viewing', 'strange', 'comparison', 'thinking', 'sunday', 'afternoon', 'streisand', 'vehicle', 'lady', 'wouldnt', 'appear', 'meanwhile', 'else', 'moment', 'multiple', 'angles', 'lame', 'insight', 'guest', 'paul', 'sleazy', 'hed', 'pokemon', 'massive', 'sorts', 'reviews', 'track', 'aspects', 'kevin', 'william', 'wasted', 'expected', 'stilted', 'minute', 'sequence', 'paris', 'choreographed', 'kelly', 'combination', 'color', 'eye', 'broken', 'inspired', 'master', 'artists', 'opening', 'de', 'street', 'fair', 'van', 'spectacular', 'wears', 'famous', 'finale', 'exciting', 'winning', 'musical', 'screenwriter', 'alan', 'fashioned', 'surprisingly', 'sophisticated', 'slight', 'jerry', 'wwii', 'trying', 'living', 'manner', 'dancing', 'irritating', 'personality', 'involvement', 'roberts', 'art', 'sexual', 'date', 'professional', 'concert', 'classic', 'songs', 'performed', 'stay', 'along', 'river', 'lights', 'leslie', 'beautifully', 'leading', 'falling', 'tap', 'montage', 'map', 'description', 'designed', 'ellen', 'showed', 'considerable', 'skills', 'described', 'multi', 'vision', 'dances', 'superbly', 'throughout', 'charm', 'talent', 'manipulative', 'manages', 'likable', 'fate', 'performing', 'elegant', 'build', 'lose', 'mgm', 'magic', 'worthwhile', '2000', 'contains', 'print', 'terms', 'extras', 'poor', 'substance', 'ideas', 'provide', 'lacked', 'drive', 'science', 'scientists', 'appeared', 'matter', 'helped', 'explained', 'humble', 'hasnt', 'covered', 'culture', 'barely', 'touched', '14', 'underrated', 'humour', 'un', 'matched', 'brilliant', 'mix', 'criminals', 'general', 'public', 'let', 'spoil', 'gem', 'stand', 'eddie', 'fail', 'wide', 'range', 'realise', 'anybody', 'likes', 'trailers', 'sky', 'david', 'realistic', 'intimate', 'third', 'chance', 'guessing', 'tied', 'leaving', 'mixture', 'sadness', 'empathy', 'pay', 'chances', 'drawn', 'wont', 'eyes', 'usually', 'cinemas', 'change', 'simple', 'shallow', 'tale', 'claimed', 'rock', 'express', 'personal', 'attitude', 'desire', 'frustration', 'crucial', 'convey', 'profound', 'inappropriate', 'intense', 'focuses', 'ultimate', 'mere', 'son', 'fine', 'attempt', 'working', 'information', 'perfectly', 'killers', 'goofy', 'ninja', 'mistake', 'enjoyable', 'largely', 'presence', 'chuck', 'starring', 'shines', 'suppose', 'tough', 'copy', 'wisdom', 'laughable', 'without', 'sign', 'mental', 'dennis', 'brooklyn', 'colonel', 'tends', 'shine', 'regarding', 'die', 'folks', 'trick', 'except', 'blowing', 'theme', 'dirty', 'harry', 'revenge', 'served', 'cold', 'sandra', 'normally', 'deadly', 'scale', 'gang', 'raped', 'younger', 'sister', 'jennifer', 'block', 'sees', 'follows', 'lets', 'pick', 'shoots', 'ya', 'gotta', 'plus', 'artist', 'anger', 'watches', 'process', 'crime', 'creepy', 'bucks', 'visits', 'rape', 'took', 'bullets', 'heroine', 'inside', 'vivid', 'closer', 'subsequent', 'violent', 'criminal', 'suffering', 'pull', 'coffee', 'step', 'punk', 'kid', 'female', 'staring', 'clint', '30', 'murderous', 'mafia', 'boss', 'fatal', 'wedding', 'mark', 'hotel', 'godfather', 'ii', 'don', 'dying', 'troubles', 'horribly', 'gun', 'uninspired', 'tired', 'burn', 'bay', 'heart', 'send', 'caliber', 'known', 'headed', 'hero', 'cops', 'lazy', 'equally', 'meets', 'agree', 'subjects', 'law', 'guilty', 'hot', 'bull', 'whos', 'boyfriend', 'shell', 'eventually', 'police', 'chief', 'eastwood', 'co', 'pat', 'hanging', 'judge', 'strangely', 'odds', 'detective', 'related', 'adult', 'driven', 'jerk', 'drives', 'vegas', 'prevent', 'timing', 'arrested', 'sent', 'psycho', 'desperate', 'chase', 'ensues', 'blues', 'consistently', 'ranks', 'lacks', 'direction', 'buddy', 'mystery', 'ride', 'talented', 'dedicated', 'performers', 'mess', 'prior', 'themselves', 'mr', 'mid', '1960s', 'cult', 'hearts', 'powerful', 'host', 'dating', 'performer', 'countless', 'spots', 'agreed', 'nonsense', 'proper', 'thin', 'unconvincing', 'airplane', 'ones', 're', 'steven', 'seagal', 'core', 'settings', 'faithful', 'era', 'exposure', 'stops', 'empty', 'tom', 'hanks', 'bruce', 'willis', 'content', 'wrapped', 'bomb', 'german', 'dutch', 'naturally', 'somewhere', 'provoking', 'themes', 'deals', 'cynical', 'nature', 'television', 'productions', 'hey', 'learning', 'four', 'seasons', 'pseudo', 'included', 'quickly', 'bother', 'explanation', 'purchased', 'presented', 'johnny', 'sings', 'blonde', 'jesus', 'jewish', 'hair', 'presentation', 'important', 'loved', 'clichéd', 'types', 'tons', 'figured', 'willing', 'chick', 'kinda', 'liking', 'sitting', 'forward', 'topless', 'mirror', 'decide', 'climax', 'dude', 'importantly', 'annie', 'flashbacks', 'happening', 'latter', 'according', '15', 'wait', 'nancy', 'names', 'connection', 'doctor', 'notice', 'wow', 'extra', 'features', 'edition', 'return', 'hopefully', 'havent', 'seeing', 'thus', 'rid', 'angry', 'somehow', 'save', 'fell', 'use', 'clear', 'absolute', 'merit', 'whoever', 'kiss', 'spider', 'julia', 'prisoner', 'latin', 'fictional', 'specifically', 'drops', 'broadway', 'richard', 'appropriate', 'tense', 'situation', 'moon', 'lost', 'starred', 'jonathan', 'winters', 'davis', 'jr', 'itll', 'ladies', 'kill', 'three', 'ten', 'create', 'against', 'impossible', 'feeling', 'sinister', 'feminist', 'term', 'existed', 'locked', 'society', 'sit', 'results', 'pre', 'credit', 'muslim', 'soldier', 'alive', 'hate', 'waves', 'huh', 'forces', 'join', 'involve', 'consider', 'indeed', 'ingredients', 'trashy', 'exploitation', 'basic', 'winds', 'spends', 'forgotten', 'becomes', 'strong', 'spirited', 'slightly', 'outside', 'group', 'fear', 'dear', 'sends', 'treats', 'lover', 'prepared', 'shocked', 'reputation', 'earth', 'featuring', 'familiar', 'rated', 'male', 'holy', 'spirit', 'afraid', 'arrive', 'ha', 'lord', 'sight', 'occurred', 'italy', 'today', 'remembered', 'wives', 'walker', 'thrilling', 'pacing', 'painfully', 'slow', 'hour', 'thrills', 'boredom', 'argument', 'plain', 'devoid', 'stiff', 'social', 'sad', 'blame', 'guns', 'liners', 'donald', 'sutherland', 'comedic', 'act', 'thomas', 'ian', 'max', 'agent', 'diane', 'fbi', 'fight', 'argue', 'photography', 'toilet', 'unusual', 'okay', 'nightmare', 'sticks', 'freddy', 'instantly', 'lisa', 'hand', 'dream', 'demons', 'dean', 'holding', 'knife', 'baseball', 'bat', 'suitable', 'belongs', '1980s', 'walked', 'speaking', 'award', 'strongly', 'regret', 'forgettable', 'air', 'properly', 'wanted', 'satire', 'weak', 'told', 'hat', 'guide', 'fellow', 'ultimately', 'hands', 'zombies', 'whatever', 'struggle', 'deal', 'risk', 'losing', 'offer', 'pie', 'cute', 'billy', 'steal', 'possibly', 'dickens', 'surely', 'scott', 'incredible', 'scrooge', 'delivery', 'edward', 'ghost', 'present', 'current', 'patrick', 'morning', 'realizes', 'convince', 'versus', 'nearly', 'tiny', 'tim', 'carol', 'sweet', 'scenery', 'holiday', 'listed', 'reads', 'cuba', 'shoot', 'blow', 'relationship', 'motivations', 'andy', 'foul', 'basically', 'meant', 'hip', 'hop', 'fails', 'miserably', 'feels', 'acted', 'aimed', 'pan', 'overacting', 'butt', 'territory', 'southern', 'desert', 'element', 'companion', 'aunt', 'speaks', 'french', 'university', 'mountain', 'education', 'context', 'segment', 'pure', 'honestly', 'number', 'twenty', 'bored', '16', 'buying', 'avoid', 'dire', 'australian', 'streep', 'suspicious', 'media', 'lynch', 'mob', 'womans', 'evidence', 'question', 'justice', 'system', 'ought', '12', 'liberal', 'beings', 'cry', 'likewise', 'melodramatic', 'religion', 'doubt', 'depressing', 'freedom', 'initial', 'reaction', 'started', 'state', 'superb', '1950s', 'catholic', 'attend', 'jumps', 'daughters', 'decided', 'theyll', 'priest', 'cards', 'table', 'irish', 'scottish', 'weapon', 'used', 'moral', 'upon', 'masterpiece', 'shouldnt', 'reviewers', 'propaganda', 'exact', 'details', 'portrayed', 'herself', 'rural', 'changes', 'believes', 'consequences', 'warning', 'keeping', 'pieces', 'member', 'devils', 'cinematic', 'essential', 'masses', 'looked', 'slasher', 'genre', 'free', 'demand', 'dr', 'dracula', 'ad', '1972', 'captain', 'vampire', 'hunter', 'behind', 'heres', 'thoughts', 'opens', 'april', 'elaborate', 'promising', 'shower', 'giving', 'coach', 'parties', 'burning', 'cut', 'reunion', 'burned', 'midnight', 'break', 'food', 'drink', 'trouble', 'sir', 'page', 'book', 'shirley', 'decides', 'bath', 'acid', 'drugs', 'marty', 'mask', 'awake', 'till', 'apparently', 'bodies', 'rent', 'buy', 'mention', 'joe', 'susan', 'spin', 'career', 'brad', 'pitt', 'finish', 'talk', 'screams', 'killer', 'fights', 'awfully', 'breaking', 'walk', 'memories', 'buck', 'unless', 'drunk', 'appeal', 'relatively', 'defined', 'preview', 'disappointing', 'downright', 'twisted', 'cup', 'tea', 'saga', 'viewers', 'pictures', 'condition', 'light', 'meaningful', 'roger', 'moore', 'british', 'opposite', 'cousin', 'sexy', 'unseen', 'locations', 'uk', 'european', 'silly', 'surprising', 'counter', 'repetitive', 'confusing', 'guessed', 'flop', 'recognize', 'yourself', 'favor', 'directing', 'clever', 'dynamic', 'quirky', 'warrior', 'pushed', 'bus', 'americans', 'beat', 'japanese', 'championship', 'match', 'ted', 'offered', 'slave', 'loss', 'tag', 'team', 'settle', 'differences', 'matches', 'vs', 'brothers', 'titles', 'manager', 'throat', 'win', 'cost', 'foot', 'difference', 'maker', 'ring', 'throwing', 'steel', 'steps', 'count', 'partner', 'hart', 'clown', 'receive', 'lifetime', 'destroyed', 'decision', 'finished', 'harvey', 'continued', 'latest', 'giant', 'six', 'control', 'drop', 'attacked', 'continues', 'emotionally', 'whereas', 'grand', 'pace', 'complexity', 'rising', 'tone', 'demands', 'fortunately', 'mass', 'greater', 'constructed', 'flow', 'witness', 'adventures', 'excitement', 'presents', 'keeps', 'theatrical', 'holds', 'building', 'wild', 'sides', 'respect', 'common', 'climactic', 'slaughter', 'hitler', 'eyed', 'racial', 'nazis', 'view', 'nazi', 'silent', 'sword', 'poetic', 'kicks', 'dies', 'somebody', 'rush', 'absurd', 'rings', 'blatant', 'references', 'neo', 'movement', 'harsh', 'remains', 'heavy', 'protagonists', 'limits', 'stealing', 'pair', 'shoes', 'virtually', 'useless', 'marriage', 'husband', 'kitchen', 'limited', 'restaurant', 'gas', 'station', 'owner', 'tells', 'touches', 'helping', 'fix', 'wins', 'water', 'immediately', 'passionate', 'affair', 'train', 'afford', 'paid', 'represents', 'traveling', 'finding', 'month', 'passed', 'resist', 'agrees', 'eat', 'briefly', 'adding', 'turner', 'psychological', 'outcome', 'statement', 'minor', 'amount', 'hardly', 'quick', 'dancer', 'met', 'unrealistic', 'frame', 'robot', '1990', 'gordon', 'gary', 'marie', 'johnson', 'extremely', 'freak', 'sci', 'fi', 'stress', 'duke', 'blown', 'battles', 'robots', 'alexander', 'motion', 'nations', 'unfortunately', 'embarrassment', 'enjoyment', 'franco', 'corny', 'torture', 'cause', 'nostalgia', 'attached', 'kicking', 'achieve', 'credible', 'fashion', 'youd', 'damn', 'expensive', 'suspend', 'disbelief', 'empire', 'heck', 'sets', 'granted', 'crappy', 'hide', 'boom', 'realizing', 'hello', 'naive', 'nostalgic', 'suggest', 'grown', 'conspiracy', 'offering', 'possible', 'nor', 'goodness', 'racist', 'lesson', 'compelling', 'whose', 'lifestyle', 'fame', 'daily', 'center', 'peoples', 'seeking', 'casting', 'among', 'lovely', 'reporter', 'brave', 'particularly', 'horrendous', 'abuse', 'prefer', 'ignore', 'crimes', 'disappointment', 'easy', 'relate', 'solid', 'editor', 'lovable', 'pearl', 'admit', 'provides', 'relief', 'proceedings', 'exaggerated', 'rich', 'clue', 'reasons', 'explain', 'jail', 'breaks', 'rival', 'escape', 'visit', 'kidnapped', 'execution', 'idiotic', 'opinion', 'unnecessary', 'universal', 'joke', 'everybody', 'nobody', 'goldberg', 'poorly', 'stinks', 'prime', 'firstly', 'lacking', 'besides', 'remarkably', 'using', 'stock', 'flaw', 'confused', 'signs', 'impression', 'universe', 'farm', 'land', 'wholly', 'books', 'late', 'cop', 'appears', 'sun', 'round', 'fields', 'window', 'months', 'amusing', 'japan', 'complicated', 'form', 'humans', 'classical', 'creature', 'creatures', 'gods', 'ugly', 'eating', 'demon', 'trained', 'warriors', 'spot', 'defeat', 'festival', 'dressed', 'run', 'majority', 'essence', 'fortune', 'revealing', 'arrival', 'requires', 'revealed', 'split', 'ego', 'wishes', 'fancy', 'needless', 'became', 'mistaken', 'adaptation', 'essentially', 'compelled', 'painted', 'practically', 'breath', 'samurai', 'balls', 'conventional', 'marvelous', 'excessive', 'unique', 'recorded', 'follow', 'sexually', 'abusive', 'amanda', 'ward', 'secretly', 'renting', 'within', 'innocent', 'finds', 'attempted', 'richards', 'whom', 'loves', 'cares', 'martin', 'opportunity', 'journey', 'primarily', 'hollywoods', 'primary', 'conflict', 'commercial', 'clip', 'explore', 'genres', 'code', 'grace', 'trap', 'nonetheless', 'necessarily', 'favourite', 'orson', 'welles', 'alfred', 'hitchcock', 'serve', 'western', 'powell', 'definition', 'include', 'douglas', 'born', 'produced', 'stanley', 'kubrick', 'various', 'section', 'colour', 'inevitably', 'computer', 'generated', 'handed', 'clips', 'francis', 'chapter', 'cat', 'elements', 'documentaries', 'outstanding', 'discovered', 'buffs', 'broad', 'scope', 'restored', 'barry', 'display', 'allows', 'interviews', 'necessary', '40s', 'grew', 'achieved', 'contain', 'mature', 'spanish', 'improved', 'stones', 'friendship', 'shall', 'space', 'smaller', 'larger', 'feature', 'parallel', 'angela', 'path', 'search', 'prince', 'tragic', 'leo', 'aids', 'virus', 'parents', 'account', 'news', 'spite', 'portraying', 'loosely', 'pretending', 'students', 'growing', 'factor', 'city', 'inner', 'wealthy', 'mansion', 'property', 'raise', 'college', 'forget', 'cinematographer', 'canadian', 'ex', 'army', 'none', 'stories', 'complete', 'assumed', 'skip', 'episode', 'danger', 'traditional', 'repeated', 'solo', 'transformation', 'occurs', 'cheek', 'voice', 'splendid', 'gerard', 'notably', 'moves', 'weakest', 'narration', 'memorable', 'pleasure', 'judy', 'previous', 'funniest', 'rendition', 'lol', 'hole', 'lily', 'frequently', 'justify', 'nonsensical', 'established', 'equal', 'quote', 'philip', 'dick', 'trade', 'september', 'fire', 'rescue', 'deeply', 'disturbing', 'kung', 'moved', 'slowly', 'mediocre', 'infamous', 'nights', 'inferior', 'wannabe', 'mike', 'myers', 'task', 'club', 'steve', 'lemmon', 'failure', 'teen', 'remotely', 'bugs', 'cartoon', 'sidekick', 'destroy', 'mars', 'picks', 'rabbit', 'ray', 'planning', 'amazingly', 'product', 'forced', 'fly', 'enjoyed', 'compared', 'changed', 'visible', 'teenagers', 'lousy', 'politically', 'correct', 'influenced', 'boys', 'taste', 'appreciate', 'disneys', 'jungle', 'indian', 'grasp', 'threw', 'cases', 'rob', 'humorous', 'jokes', 'females', 'solely', 'slightest', 'redemption', 'below', 'glad', 'purchase', 'rental', 'road', 'haunting', 'aware', 'meeting', 'unfolds', 'psychotic', 'gangsters', 'gangster', 'sam', 'flaws', 'caused', 'sullivan', 'sentimental', 'revolves', 'twelve', 'flawless', 'legend', 'torn', 'wonders', 'bond', 'sports', 'rules', 'girls', 'ice', 'disgusting', 'gross', 'players', 'faster', 'difficult', 'transition', 'benefit', 'begin', 'passes', 'runs', 'south', 'hunt', 'starting', 'dinosaurs', 'wrestling', 'contest', 'groups', 'scooby', 'doo', 'failed', 'robin', 'williams', 'football', 'kurt', 'russell', 'satisfied', 'ages', 'added', 'youth', 'clark', 'con', 'jean', 'accidentally', 'loyal', 'womens', 'prison', 'discovers', 'pregnant', 'howard', 'rogers', 'stereotype', 'wood', 'tracks', 'titled', '3000', 'post', 'wacky', 'occasional', 'comments', 'hated', 'expectations', 'creative', 'provided', 'crazy', 'leader', 'oddly', 'pg', 'disappoint', 'draw', 'length', 'forty', 'chases', '17', 'lessons', 'scared', 'amazed', 'assigned', 'secretary', 'deaf', 'develop', 'fitting', 'stereotypes', 'environment', 'refreshing', 'touching', 'screaming', 'peter', 'fonda', 'attraction', 'cardboard', 'scientific', 'props', 'assistant', 'rate', 'virginia', 'obsessed', 'medical', 'creating', 'soul', 'bright', 'represented', '1980', 'dramatic', 'suspenseful', 'tales', 'anthony', 'mainly', 'wondering', 'basis', 'london', 'gratuitous', 'influence', 'lived', 'yelling', 'support', 'relies', 'hospital', 'committed', 'commit', 'familys', 'fault', 'le', 'lonely', 'bird', 'cage', 'cars', 'jobs', 'seeks', 'dignity', 'celluloid', 'copies', 'finest', 'worthless', 'bone', 'intentionally', 'horrifying', 'failing', 'painful', 'sadistic', 'trust', 'gay', 'nyc', 'broadcast', 'anti', 'represent', 'sheer', 'appalling', 'unsettling', 'actions', 'desperation', 'werent', 'cgi', 'technology', '1983', 'wit', 'imagination', 'executed', 'innovative', 'combine', 'levels', 'spoken', 'maggie', 'smith', 'turkey', 'sixties', 'waitress', 'england', 'tricks', 'germans', 'unforgettable', 'understandable', 'health', 'improve', 'messed', 'entry', 'merely', '13', 'li', 'listen', 'feed', 'reviewer', 'matters', 'assume', 'scream', 'admittedly', 'zombie', 'cannibal', 'typically', 'graphic', 'tedious', 'mistress', 'iron', 'murderer', 'interaction', 'neither', 'luckily', 'rule', 'exception', 'understated', 'material', 'coherent', 'parent', 'status', 'christ', 'implausible', 'frustrated', 'ideal', 'unable', 'mentally', 'newly', 'thriller', 'clearly', 'beliefs', 'values', 'attempting', 'portray', 'cameo', 'appearances', 'apart', 'soldiers', 'insane', 'misses', 'bullet', 'understanding', 'germany', 'millions', 'members', 'ignored', 'pile', 'ie', 'cringe', 'mary', 'grim', 'alien', 'villains', 'recently', 'remarks', '45', 'upset', 'deserves', 'convoluted', 'hundred', 'unbelievably', 'tour', 'possessed', 'dreams', 'shape', 'worker', 'steals', 'serial', 'murdered', 'managed', 'husbands', 'security', 'australia', 'knock', 'shorts', 'incoherent', 'comedian', 'stage', 'riding', 'truck', 'chooses', 'selfish', 'population', 'advice', 'miscast', 'westerns', 'brains', 'speed', 'strength', 'bob', 'suffered', 'heavily', 'suicide', 'racism', 'jackson', 'created', 'flynn', 'jane', 'spike', 'calls', 'cats', 'draws', 'peace', 'million', 'cartoons', 'beats', 'vampires', 'conceived', 'touch', 'twist', 'cary', 'interview', 'imaginative', 'paulie', 'delight', 'bridge', 'cruel', 'animal', 'training', 'affected', 'flies', 'received', 'highlight', 'accents', 'cross', 'whenever', 'corporate', 'bank', 'random', 'connected', 'receives', 'annoyed', 'lower', 'drag', 'persons', 'jason', 'grant', 'carpenter', 'tarzan', 'ignorant', 'pulled', 'dated', 'treasure', 'nose', 'nurse', 'eaten', 'trail', 'sheriff', 'hideous', 'happily', 'tradition', 'invasion', 'usa', 'texas', 'force', 'strike', 'imagined', 'kick', 'responsible', 'super', 'covers', 'loud', 'returns', 'intelligence', 'batman', 'forever', 'wayne', 'sub', 'featured', 'catchy', 'considering', 'warner', 'literally', 'dozens', 'teens', 'concerns', 'captures', 'dinner', 'melodrama', 'fabulous', 'treatment', 'york', 'picking', 'sexuality', 'drug', 'directly', 'helps', 'stupidity', 'campbell', 'cover', 'extended', 'fascinated', 'popular', 'seventies', 'engaged', 'magical', 'aired', 'channel', 'warm', 'childhood', 'ratings', 'week', 'fox', 'abc', 'choose', 'saved', 'potential', 'debut', 'describe', 'promised', 'deliver', 'online', 'descent', 'sucks', 'synopsis', 'woods', 'warned', 'hysterical', 'worry', 'blond', 'gag', 'choice', 'tears', 'remarkable', 'reveals', 'trip', 'mysterious', 'europe', 'miles', 'winner', 'adds', 'offers', 'generous', 'gentle', 'turning', 'struggles', 'honor', 'method', 'dimensional', 'charles', 'fourth', 'sudden', 'impact', 'francisco', 'thugs', 'dig', 'par', 'angle', 'noir', 'images', 'striking', 'builds', 'dialogues', 'wonderfully', 'dinosaur', 'punch', 'quest', 'hidden', 'intensity', 'menacing', 'albert', 'lucky', 'stomach', 'erotic', 'physically', 'costume', 'fake', 'facial', 'pointed', 'caine', 'perfection', 'hopeless', 'china', 'sellers', 'cook', 'ship', 'witnessed', 'ghosts', 'replaced', 'chair', 'doomed', 'frankenstein', 'makeup', 'filming', 'vhs', 'program', 'sounded', 'freeman', 'justin', 'journalist', 'corrupt', 'assault', 'trial', 'suspect', 'investigate', 'wallace', 'sea', 'feet', 'robert', 'escaped', 'santa', 'larry', 'hiding', 'corpse', 'closet', 'cheating', 'routine', 'safe', 'distance', 'setting', 'souls', 'jazz', 'visual', 'sucked', 'colorful', 'hills', 'vaguely', 'degree', 'carried', 'landscape', 'design', 'franchise', 'cliché', 'military', 'bore', 'successfully', 'genuinely', 'cameron', 'generic', 'illogical', 'decisions', 'deaths', 'chased', 'scenario', 'genuine', 'originality', 'producing', 'tame', 'bargain', 'bin', 'stays', 'stole', 'undoubtedly', 'powers', 'explosions', 'everywhere', 'performs', 'twilight', 'zone', 'initially', 'reasonable', 'standard', 'widow', 'civil', 'blew', 'wave', 'strictly', 'charismatic', 'soft', 'sympathy', 'rose', 'britain', 'staff', 'hamilton', 'selling', 'double', 'urge', 'internet', 'matt', 'overwhelming', 'uneven', 'encounter', 'dangerous', 'doll', 'arthur', 'glenn', 'vulnerable', 'wet', 'photographed', 'marketing', 'suits', 'hearted', 'useful', 'divorce', 'curiosity', 'providing', 'babe', 'intelligent', 'pulls', 'threat', 'service', 'theory', 'toward', 'knowledge', 'secrets', 'hall', 'faults', 'visually', 'imagery', 'delightful', 'musicals', 'problems', 'causes', 'villain', 'roy', 'mountains', 'werewolf', 'associated', 'fury', 'wolf', 'characterization', 'string', 'troubled', 'driver', 'connect', 'travel', 'gonna', 'lawyer', 'travels', 'business', 'sounding', 'reference', 'birth', 'reveal', 'corruption', 'machine', 'gritty', 'attractive', 'resulting', 'cowboy', 'required', 'reflection', 'fish', 'flesh', 'india', 'pain', 'rarely', 'bollywood', 'depicted', 'indians', 'stranger', 'fiction', 'central', 'dealt', 'presumably', 'emma', 'mildly', 'nomination', 'baker', 'ended', 'graphics', 'surface', 'hunting', '1930s', 'obsession', 'citizen', 'jimmy', 'devoted', 'achievement', 'pleasant', 'recent', 'network', 'rolled', 'theater', 'overdone', 'instance', '2001', 'dancers', 'breasts', 'wicked', 'appreciated', 'heroic', 'nervous', 'holes', 'dislike', 'uwe', 'boll', 'lately', 'absence', 'suit', 'seed', 'bigger', 'armed', 'advantage', 'nuts', 'solve', 'hits', 'victims', 'row', 'fay', '30s', 'formulaic', 'von', 'focusing', 'museum', 'kissing', 'dragged', '1933', 'international', 'introduction', 'riveting', 'comparing', 'factory', 'object', 'beach', 'dalton', 'twists', 'academy', 'terrorists', 'weapons', 'murphy', 'neck', 'collection', 'taylor', 'rare', 'hatred', 'expert', 'species', 'reduced', 'alcoholic', 'reminiscent', 'bleak', 'brooks', 'throws', 'sport', 'effectively', 'protagonist', 'jealous', 'precious', 'theyve', 'endless', 'winter', 'cave', 'position', 'vast', 'practice', 'whale', 'hunters', 'legendary', 'lincoln', 'mentions', 'concern', 'west', 'uses', 'calling', 'bride', 'crush', 'prostitute', 'eastern', 'area', 'troops', 'activities', 'alert', 'numerous', 'dealing', 'notch', 'alright', 'physical', 'gags', 'placed', 'fat', 'ourselves', 'sum', 'thirty', 'redeeming', 'mrs', 'target', '18', 'relative', 'views', 'spring', 'gift', 'homage', '2003', 'visuals', 'weight', '20th', 'taught', 'lengthy', 'silence', 'consistent', 'minimal', 'plight', 'scheme', 'pop', 'ease', 'includes', 'ups', 'edited', 'trailer', 'frequent', 'succeeds', 'americas', 'versions', 'genius', 'craft', 'stands', 'legs', 'confusion', 'satan', 'eva', 'lake', 'incompetent', 'artificial', 'critics', 'victor', 'fill', '60', 'dawson', 'actresses', 'cake', 'sacrifice', 'conversations', 'models', 'danny', 'seat', 'community', 'dress', 'bush', 'unpleasant', 'elizabeth', 'unwatchable', 'separate', 'watchable', 'uninteresting', 'diamond', 'psychic', 'continue', 'blade', 'welcome', 'rotten', 'brian', 'giallo', 'complex', 'overcome', 'logical', 'allen', 'enjoying', 'wrote', 'pig', 'angels', 'tooth', 'fairy', 'skill', 'darkness', 'manage', 'technically', 'hammer', 'fantasy', '75', 'convincingly', 'remind', 'catherine', 'hardy', 'defend', 'mickey', 'highest', 'dozen', 'ticket', 'planet', 'stretched', 'linda', 'favorites', 'gray', 'newspaper', 'killings', 'estate', 'foster', 'surrounding', 'phony', 'doctors', 'deserved', 'lugosi', 'qualities', 'contrived', 'audiences', 'experiences', 'sincere', 'entertain', '1968', 'massacre', 'dollars', 'personalities', 'distinct', 'arrives', 'symbolism', 'intriguing', 'explicit', 'ironic', 'carradine', 'da', 'revolutionary', 'games', 'mouse', 'scripts', 'confidence', 'bedroom', 'borrowed', 'dust', 'notable', 'link', 'spain', 'metal', 'costumes', 'contrast', 'determined', 'officer', 'chicago', 'classes', 'importance', 'strangers', 'bed', 'worried', 'ancient', 'kings', 'errors', 'began', '90s', 'breathtaking', 'landscapes', 'conflicts', 'recognized', 'expression', 'ralph', 'agents', 'transfer', 'recognition', 'snow', 'carries', 'miracle', 'unit', 'matrix', 'abilities', 'clothes', 'escapes', 'rocky', 'noted', 'teenager', 'bite', 'helicopter', 'credibility', 'sake', 'gripping', 'leg', 'lesser', 'packed', 'technique', 'bakshi', 'worlds', 'edgar', '2005', 'shelf', 'fears', 'pleasantly', 'princess', 'continuity', 'ah', 'superman', 'inept', 'oil', 'jeff', 'paranoia', 'intentions', 'challenge', 'ready', 'carrey', 'yesterday', 'hates', 'unhappy', 'via', 'toys', '2nd', 'blah', 'overlook', 'choices', 'aint', 'bang', 'crisis', 'basketball', 'angel', 'elderly', 'seven', 'photographer', 'photos', 'catching', 'directs', 'responsibility', 'oscars', 'tall', 'roll', 'hill', 'bottle', 'bet', 'caring', 'library', 'discovery', 'ran', 'mexican', 'vacation', 'forms', 'understood', 'harder', 'rat', 'projects', 'cities', 'countryside', 'antics', 'grow', 'despair', 'elvis', 'native', 'raised', 'joan', 'lyrics', 'embarrassing', 'succeed', 'greatly', 'complaint', 'sat', 'serving', 'fool', 'ass', 'worn', 'cruise', 'ships', 'miserable', 'arrogant', 'mixed', 'chaos', 'unbearable', 'costs', 'remaining', 'tad', 'blockbuster', 'bo', 'elephant', 'standing', 'african', 'smart', 'wouldve', 'rubber', 'rip', 'monkeys', 'jumping', 'blind', 'purpose', 'bathroom', 'staying', 'friday', 'season', 'mini', 'rise', 'unreal', 'orders', 'viewed', 'fired', 'numbers', 'ps', 'grade', 'neil', 'simon', 'sentence', 'resemblance', 'plots', 'vengeance', 'wear', '3rd', 'disjointed', 'stretch', 'conservative', 'bible', 'measure', 'scare', 'novels', 'pro', 'regard', 'push', 'carry', 'weve', 'damage', 'thousands', 'claire', 'randomly', 'airport', 'screening', 'learned', 'mtv', 'load', 'choreography', '35', 'cg', 'producer', 'enemy', 'grows', 'spoke', 'stick', 'reynolds', 'magazine', 'ann', 'unlikely', 'raising', 'nominated', 'marks', 'letting', 'blend', 'nicely', 'tonight', 'danes', 'teach', 'challenging', 'suggested', 'inspiring', 'bland', 'per', 'lane', 'backdrop', 'dubbed', '2002', 'amateur', 'clumsy', 'conversation', 'nation', 'kidding', 'offensive', 'skin', 'tight', 'horrid', 'broke', 'text', '1973', 'folk', 'jaws', 'holly', 'carter', 'previously', 'succeeded', 'guts', 'letter', 'kudos', 'witch', 'mans', 'cia', 'laid', 'irony', 'virgin', 'opposed', 'bear', 'similarly', 'competition', 'menace', 'detailed', 'hippie', 'chicks', 'commercials', 'kate', 'sneak', 'innocence', 'discussion', 'apartment', 'construction', 'perform', 'shelley', 'polanski', 'switch', 'vice', 'magnificent', 'trilogy', 'nine', 'thankfully', 'hence', 'extent', 'bobby', 'department', 'league', 'category', 'intrigue', 'families', '70', 'bettie', 'sarah', 'celebrity', 'displayed', 'pages', 'icon', 'luck', '1999', 'bare', 'forgive', 'rain', 'concerning', 'smoke', 'dorothy', 'fetched', 'exceptionally', 'wind', 'authentic', 'wondered', 'trees', 'enters', 'sharp', 'terror', 'crafted', 'spooky', 'barbara', 'georges', 'sits', 'halloween', 'mario', '60s', 'bud', 'floor', 'smooth', 'piano', 'quotes', 'ed', 'walter', 'ms', 'formula', 'sons', 'relationships', 'survivors', 'noble', 'spread', 'popularity', 'heaven', 'dan', 'thick', 'channels', 'chinese', 'pass', '80', 'tribute', 'government', 'translation', 'contemporary', 'lips', 'foreign', 'gain', 'fest', 'introduce', 'countries', 'waited', 'washington', 'historically', 'removed', 'asleep', 'border', 'executive', 'cd', 'greedy', 'tony', 'shut', 'lawrence', 'busy', 'spending', 'desperately', 'ken', 'sisters', 'deserve', 'oliver', 'reed', 'campy', 'unintentionally', 'originally', 'searching', 'dvds', 'flash', 'capable', 'parker', 'stone', 'eg', 'incomprehensible', 'commentary', 'trite', 'rubbish', 'fulci', 'intention', 'staged', 'disagree', 'poignant', 'pushing', 'polished', 'grandfather', 'bears', 'normal', 'revelation', 'creator', 'blake', 'perry', 'circumstances', 'attorney', 'calm', 'storm', 'isolated', 'tremendous', 'wilson', 'depicts', 'wound', 'introduces', 'entertained', 'destiny', 'mate', 'unknown', 'remain', 'mainstream', 'pitch', 'combined', 'birthday', 'driving', 'base', 'thousand', 'comfortable', 'advise', 'facing', 'charlie', 'cleverly', 'anderson', 'rocks', 'overlooked', 'rap', '1996', 'julie', 'discover', 'bonus', 'changing', 'attitudes', 'contact', 'fx', 'kenneth', 'waters', 'obnoxious', 'elvira', 'nelson', 'atmospheric', 'price', 'cheese', 'critic', 'grey', 'image', 'alice', 'suggests', 'hong', 'kong', 'instant', 'respected', 'hank', 'anime', 'alternate', 'endings', 'tomatoes', 'enthusiasm', 'joey', 'happiness', 'warmth', 'derek', 'harris', 'mistakes', 'hood', 'heat', 'mine', 'fever', 'trio', 'jump', 'psychiatrist', 'segments', 'loose', 'portion', 'scares', 'widmark', 'brady', 'variety', 'alex', 'opened', 'kingdom', 'adults', 'warming', 'glover', 'joseph', 'al', 'canada', 'pilot', 'insult', 'backgrounds', 'apparent', 'minds', 'crowd', 'existent', 'everyones', 'fare', 'generations', 'report', 'website', '50', 'disc', 'radio', 'fifteen', 'encounters', 'survival', 'stuck', 'subplot', 'heston', 'wore', 'burton', 'apes', 'hints', 'ape', 'dave', 'surprises', 'doors', 'couples', 'plastic', 'ruin', 'identity', 'experienced', 'hardcore', 'wrap', 'shed', 'stan', 'laurel', 'contract', 'parody', 'specific', 'introduced', 'horse', 'keaton', 'north', 'funnier', 'legal', 'onto', 'minded', 'planned', 'crying', 'grave', 'hbo', 'react', 'priceless', 'laughter', 'tape', 'michelle', 'twins', 'rolling', 'punishment', 'lasted', 'eccentric', 'jessica', 'burt', 'slapstick', 'kay', 'drinking', 'superficial', 'curtis', 'manhattan', 'cole', 'bold', 'modesty', 'nude', 'disaster', 'commented', 'horses', 'spoof', 'ultra', 'instinct', 'figures', 'boxing', 'test', 'stale', 'author', 'prize', 'literature', 'east', 'reach', 'theyd', 'sleep', 'retarded', 'wandering', 'tunes', 'rocket', 'alike', 'treated', 'videos', 'decade', 'thrill', 'exercise', 'hint', 'underlying', 'global', 'plague', 'valuable', 'panic', 'location', 'stinker', 'beneath', 'park', 'chain', 'brand', 'reasonably', 'senseless', 'advance', 'enterprise', 'finger', 'surfing', 'rights', 'reached', 'miller', 'adorable', 'judging', 'loads', 'desired', 'sidney', 'motivation', 'reflect', 'reaches', 'crack', 'proud', 'illegal', 'leonard', '1990s', 'secondly', 'stylish', 'tommy', 'cabin', 'spirits', 'remote', 'abandoned', 'distant', 'neighbors', 'supernatural', 'constant', 'grab', 'dropping', 'junk', 'duo', 'catches', 'careers', 'et', 'treat', 'revolution', 'forth', 'lay', 'relations', '11', 'retired', 'wealth', 'describes', 'childish', 'buddies', 'mothers', 'woody', 'strikes', '1st', 'resources', 'financial', 'spell', 'paper', 'notes', 'resident', 'henry', 'pack', 'forest', 'bag', 'defense', 'walks', 'karen', 'swim', 'kirk', 'inventive', 'exceptional', 'singers', 'hyde', 'subtitles', 'adams', 'devil', 'deeper', 'creation', 'destruction', 'cried', 'wounded', 'amongst', 'accepted', 'shadow', 'damon', 'glass', 'businessman', 'talked', 'mitchell', 'stated', 'helen', 'olivier', 'endearing', 'khan', 'gandhi', 'adapted', 'messages', 'minimum', 'wing', 'depressed', 'mummy', 'candy', 'sinatra', 'petty', 'thief', 'hal', 'merits', 'cusack', 'simplicity', 'jeremy', 'integrity', 'directorial', 'maria', 'disappeared', 'forbidden', 'installment', 'elm', 'eerie', 'tiger', 'irrelevant', 'command', 'dreary', 'repeatedly', '13th', 'urban', 'communist', 'educational', 'voices', 'gender', 'displays', 'eve', 'voiced', 'kane', 'slick', 'timothy', 'stronger', 'ripped', 'speech', 'cuts', 'ruins', 'explaining', 'mentioning', 'critical', 'inspector', 'doom', 'increasingly', 'suspects', 'thru', 'deliberately', 'ritter', 'outrageous', 'wed', 'donna', 'anyways', 'mysteries', 'struggling', 'bbc', 'screens', 'fits', 'stooges', 'styles', 'unfortunate', 'machines', 'lively', 'creep', 'kennedy', 'inane', 'swimming', 'trapped', 'acceptable', 'occasion', 'floating', 'checking', 'march', 'eight', 'earned', 'arms', 'hoffman', 'halfway', 'national', 'complain', 'stunt', 'laura', 'andrews', 'answers', 'root', 'outer', 'landing', 'endure', 'jesse', 'brenda', 'learns', 'sequels', 'iii', 'bumbling', 'resort', 'rank', 'hype', 'der', 'sloppy', 'friendly', 'press', 'arrived', 'ambitious', 'dramas', 'gradually', 'drivel', 'extraordinary', 'inspiration', 'navy', 'ball', 'goal', 'kicked', 'wished', 'consists', 'satisfy', 'downhill', 'progresses', 'size', 'paying', 'household', 'rochester', 'duty', 'potentially', 'severe', 'accomplished', 'passion', 'eyre', 'gifted', 'abysmal', 'ginger', 'pot', 'emphasis', 'unpredictable', 'pit', 'faced', 'glorious', 'moody', 'handle', 'teaching', 'paltrow', 'masterful', 'horrific', 'terrifying', 'afterwards', 'florida', 'stood', 'jamie', 'experiment', 'dressing', 'cox', 'jackie', 'chan', 'lewis', 'burns', 'chorus', 'surviving', 'promises', 'attracted', 'timeless', 'triumph', 'trek', 'shining', 'adequate', 'pink', 'currently', 'hook', 'returning', 'sin', 'homeless', 'inducing', 'todd', 'laws', 'beast', 'proof', 'lumet', 'garbo', 'silver', '24', '1984', 'authority', 'closely', 'composed', 'drawing', 'blair', 'creates', 'brown', 'avoided', 'narrator', 'loser', 'imitation', 'court', 'dragon', 'meaningless', 'nicholas', 'ham', 'jeffrey', 'charisma', 'tender', 'futuristic', 'digital', 'snl', 'outfit', 'relevant', 'user', 'twin', 'atlantis', 'buildings', 'impress', 'shakespeare', 'roman', 'clues', 'explored', 'poetry', 'progress', 'protect', 'areas', 'pulp', 'doubts', 'los', 'jon', 'topic', 'ironically', 'che', 'del', 'hired', 'competent', 'beatty', 'lion', 'proceeds', 'disappear', 'alcohol', 'orange', 'chasing', 'uncomfortable', 'fond', 'mst3k', 'reactions', 'mexico', 'mel', 'pretend', 'terrorist', 'heights', 'unoriginal', 'omen', 'st', 'hilariously', 'moronic', 'unintentional', 'suited', 'idiot', 'robbins', 'obscure', 'widely', 'royal', 'facts', 'brosnan', 'molly', 'philosophical', 'pride', 'clothing', 'spare', 'luke', 'realism', 'masters', 'bands', 'signed', 'album', 'bound', 'akshay', 'belong', 'kapoor', 'stanwyck', 'robinson', 'rex', 'purple', 'intrigued', 'lesbian', 'boot', 'robbery', 'cheated', 'cinderella', 'ocean', 'indie', 'emily', 'blunt', 'amy', 'deceased', 'opportunities', 'solution', 'vicious', 'lone', '2006', 'drunken', 'rick', 'closed', 'persona', 'comics', 'similarities', 'ethan', 'junior', 'charge', 'amounts', 'lowest', 'depicting', 'evident', 'decades', 'kim', 'hundreds', 'chest', 'matthau', 'soviet', 'union', 'advertising', 'boat', 'fallen', 'hudson', 'card', 'phantom', 'taxi', 'wizard', 'rangers', 'toy', 'greed', 'brazil', 'bell', 'titanic', 'promise', 'lees', 'sensitive', 'someones', 'directions', 'suffer', 'cube', 'ned', 'pamela', 'sue', 'kinds', 'brando', 'mighty', 'explosion', 'monkey', 'insulting', 'methods', 'terry', 'disease', 'ridden', 'creativity', 'shadows', 'beloved', 'wreck', 'delivering', 'plausible', 'strip', 'equivalent', 'behave', 'soccer', 'louise', 'mayor', 'wendy', 'designs', 'cliff', 'expressed', 'square', 'stevens', 'wake', 'sid', 'stellar', 'suck', 'exposed', 'dare', 'appreciation', 'richardson', 'joined', 'resembles', 'rats', 'notion', 'discuss', 'davies', 'snake', 'denzel', '3d', 'appearing', 'banned', 'voight', 'honesty', 'hung', 'monk', 'grandmother', 'teachers', 'aging', 'ridiculously', 'ruthless', 'loaded', 'garden', 'admire', 'portrait', 'travesty', 'mile', 'patient', 'branagh', 'subplots', 'offended', 'lou', 'immensely', 'cure', 'neat', 'godzilla', 'altogether', 'bourne', 'aid', 'amitabh', 'gabriel', 'june', 'colors', 'chess', 'brilliance', 'mann', 'photo', 'improvement', 'ashley', 'betty', 'angeles', 'develops', 'tiresome', 'exotic', 'maintain', 'analysis', 'homosexual', 'blacks', 'hamlet', 'misery', 'guarantee', 'wes', 'edie', 'ear', 'temple', 'norman', 'prisoners', 'farce', 'birds', 'engage', 'courage', 'hugh', 'poem', 'letters', 'domestic', 'ensemble', 'bacall', 'craven', 'enormous', 'dolph', 'neighborhood', 'professor', 'carl', 'exploration', 'pursuit', 'daring', 'format', 'operation', 'berlin', 'asian', 'rage', 'suffice', 'possibilities', 'dub', 'bette', 'distribution', 'sole', 'survivor', 'raymond', 'advanced', 'gadget', 'glimpse', 'sink', 'ruth', 'prequel', 'grinch', 'diana', 'hopper', 'flight', 'capturing', 'equipment', 'official', 'niro', 'montana', 'mechanical', 'columbo', 'occur', 'butler', 'ballet', 'anna', 'expressions', 'illness', 'prom', 'developing', 'civilization', 'charlotte', 'relation', 'sally', 'bela', 'testament', 'oz', 'wells', 'ho', 'masterpieces', 'gundam', 'astaire', 'crocodile', 'enemies', 'tortured', 'ruby', 'africa', 'officers', 'cameras', 'dolls', 'hurts', 'falk', 'thrillers', 'lucy', 'earl', 'scarecrow', 'rebel', 'madonna', 'macy', 'blob', 'returned', 'greek', 'roots', 'mall', 'witches', 'jenny', 'losers', 'survived', 'pacino', 'iran', 'abraham', 'jake', 'scripted', 'thoughtful', 'experiments', 'morris', 'cagney', 'karloff', 'stargate', 'miike', 'rambo', 'domino', 'mildred'])"
      ]
     },
     "execution_count": 18,
     "metadata": {},
     "output_type": "execute_result"
    }
   ],
   "source": [
    "vocabulary.keys()"
   ]
  },
  {
   "cell_type": "markdown",
   "metadata": {},
   "source": [
    "## Step 3: Upload data to S3\n",
    "\n",
    "Now that we have created the feature representation of our training (and testing) data, it is time to start setting up and using the XGBoost classifier provided by SageMaker.\n",
    "\n",
    "### Writing the datasets\n",
    "\n",
    "The XGBoost classifier that we will be using requires the dataset to be written to a file and stored using Amazon S3. To do this, we will start by splitting the training dataset into two parts, the data we will train the model with and a validation set. Then, we will write those datasets to a file locally and then upload the files to S3. In addition, we will write the test set to a file and upload that file to S3. This is so that we can use SageMakers Batch Transform functionality to test our model once we've fit it."
   ]
  },
  {
   "cell_type": "code",
   "execution_count": 19,
   "metadata": {},
   "outputs": [],
   "source": [
    "import pandas as pd\n",
    "\n",
    "# Earlier we shuffled the training dataset so to make things simple we can just assign\n",
    "# the first 10 000 reviews to the validation set and use the remaining reviews for training.\n",
    "val_X = pd.DataFrame(train_X[:10000])\n",
    "train_X = pd.DataFrame(train_X[10000:])\n",
    "\n",
    "val_y = pd.DataFrame(train_y[:10000])\n",
    "train_y = pd.DataFrame(train_y[10000:])"
   ]
  },
  {
   "cell_type": "markdown",
   "metadata": {},
   "source": [
    "The documentation for the XGBoost algorithm in SageMaker requires that the training and validation datasets should contain no headers or index and that the label should occur first for each sample.\n",
    "\n",
    "For more information about this and other algorithms, the SageMaker developer documentation can be found on __[Amazon's website.](https://docs.aws.amazon.com/sagemaker/latest/dg/)__"
   ]
  },
  {
   "cell_type": "code",
   "execution_count": 20,
   "metadata": {},
   "outputs": [],
   "source": [
    "# First we make sure that the local directory in which we'd like to store the training and validation csv files exists.\n",
    "data_dir = '../data/sentiment_web_app'\n",
    "if not os.path.exists(data_dir):\n",
    "    os.makedirs(data_dir)"
   ]
  },
  {
   "cell_type": "code",
   "execution_count": 21,
   "metadata": {},
   "outputs": [],
   "source": [
    "pd.DataFrame(test_X).to_csv(os.path.join(data_dir, 'test.csv'), header=False, index=False)\n",
    "\n",
    "pd.concat([val_y, val_X], axis=1).to_csv(os.path.join(data_dir, 'validation.csv'), header=False, index=False)\n",
    "pd.concat([train_y, train_X], axis=1).to_csv(os.path.join(data_dir, 'train.csv'), header=False, index=False)"
   ]
  },
  {
   "cell_type": "code",
   "execution_count": 22,
   "metadata": {},
   "outputs": [],
   "source": [
    "# To save a bit of memory we can set text_X, train_X, val_X, train_y and val_y to None.\n",
    "\n",
    "test_X = train_X = val_X = train_y = val_y = None"
   ]
  },
  {
   "cell_type": "markdown",
   "metadata": {},
   "source": [
    "### Uploading Training / Validation files to S3\n",
    "\n",
    "Amazon's S3 service allows us to store files that can be accessed by both the built-in training models such as the XGBoost model we will be using as well as custom models such as the one we will see a little later.\n",
    "\n",
    "For this and most other tasks we will be doing using SageMaker, there are two methods we could use. The first is to use the low level functionality of SageMaker which requires knowing each of the objects involved in the SageMaker environment. The second is to use the high level functionality in which certain choices have been made on the user's behalf. The low level approach benefits from allowing the user a great deal of flexibility while the high level approach makes development much quicker. For our purposes we will opt to use the high level approach although using the low-level approach is certainly an option.\n",
    "\n",
    "Recall the method `upload_data()` which is a member of the object representing our current SageMaker session. What this method does is upload the data to the default bucket (which is created if it does not exist) into the path described by the key_prefix variable. To see this for yourself, once you have uploaded the data files, go to the S3 console and look to see where the files have been uploaded.\n",
    "\n",
    "For additional resources, see the __[SageMaker API documentation](http://sagemaker.readthedocs.io/en/latest/)__ and in addition the __[SageMaker Developer Guide.](https://docs.aws.amazon.com/sagemaker/latest/dg/)__"
   ]
  },
  {
   "cell_type": "code",
   "execution_count": 23,
   "metadata": {},
   "outputs": [],
   "source": [
    "import sagemaker\n",
    "\n",
    "session = sagemaker.Session() # Store the current SageMaker session\n",
    "\n",
    "# S3 prefix (which folder will we use)\n",
    "prefix = 'sentiment-web-app'\n",
    "\n",
    "test_location = session.upload_data(os.path.join(data_dir, 'test.csv'), key_prefix=prefix)\n",
    "val_location = session.upload_data(os.path.join(data_dir, 'validation.csv'), key_prefix=prefix)\n",
    "train_location = session.upload_data(os.path.join(data_dir, 'train.csv'), key_prefix=prefix)"
   ]
  },
  {
   "cell_type": "markdown",
   "metadata": {},
   "source": [
    "## Step 4: Creating the XGBoost model\n",
    "\n",
    "Now that the data has been uploaded it is time to create the XGBoost model. To begin with, we need to do some setup. At this point it is worth discussing what a model is in SageMaker. It is easiest to think of a model of comprising three different objects in the SageMaker ecosystem, which interact with one another.\n",
    "\n",
    "- Model Artifacts\n",
    "- Training Code (Container)\n",
    "- Inference Code (Container)\n",
    "\n",
    "The Model Artifacts are what you might think of as the actual model itself. For example, if you were building a neural network, the model artifacts would be the weights of the various layers. In our case, for an XGBoost model, the artifacts are the actual trees that are created during training.\n",
    "\n",
    "The other two objects, the training code and the inference code are then used to manipulate the training artifacts. More precisely, the training code uses the training data that is provided and creates the model artifacts, while the inference code uses the model artifacts to make predictions on new data.\n",
    "\n",
    "The way that SageMaker runs the training and inference code is by making use of Docker containers. For now, think of a container as being a way of packaging code up so that dependencies aren't an issue."
   ]
  },
  {
   "cell_type": "code",
   "execution_count": 24,
   "metadata": {},
   "outputs": [],
   "source": [
    "from sagemaker import get_execution_role\n",
    "\n",
    "# Our current execution role is required when creating the model as the training\n",
    "# and inference code will need to access the model artifacts.\n",
    "role = get_execution_role()"
   ]
  },
  {
   "cell_type": "code",
   "execution_count": 26,
   "metadata": {},
   "outputs": [],
   "source": [
    "# We need to retrieve the location of the container which is provided by Amazon for using XGBoost.\n",
    "# As a matter of convenience, the training and inference code both use the same container.\n",
    "from sagemaker.amazon.amazon_estimator import get_image_uri\n",
    "\n",
    "container = get_image_uri(session.boto_region_name, 'xgboost', '0.90-1')"
   ]
  },
  {
   "cell_type": "code",
   "execution_count": 27,
   "metadata": {},
   "outputs": [],
   "source": [
    "# First we create a SageMaker estimator object for our model.\n",
    "xgb = sagemaker.estimator.Estimator(container, # The location of the container we wish to use\n",
    "                                    role,                                    # What is our current IAM Role\n",
    "                                    train_instance_count=1,                  # How many compute instances\n",
    "                                    train_instance_type='ml.m4.xlarge',      # What kind of compute instances\n",
    "                                    output_path='s3://{}/{}/output'.format(session.default_bucket(), prefix),\n",
    "                                    sagemaker_session=session)\n",
    "\n",
    "# And then set the algorithm specific parameters.\n",
    "xgb.set_hyperparameters(max_depth=5,\n",
    "                        eta=0.2,\n",
    "                        gamma=4,\n",
    "                        min_child_weight=6,\n",
    "                        subsample=0.8,\n",
    "                        silent=0,\n",
    "                        objective='binary:logistic',\n",
    "                        early_stopping_rounds=10,\n",
    "                        num_round=500)"
   ]
  },
  {
   "cell_type": "markdown",
   "metadata": {},
   "source": [
    "### Fit the XGBoost model\n",
    "\n",
    "Now that our model has been set up we simply need to attach the training and validation datasets and then ask SageMaker to set up the computation."
   ]
  },
  {
   "cell_type": "code",
   "execution_count": 28,
   "metadata": {},
   "outputs": [],
   "source": [
    "s3_input_train = sagemaker.s3_input(s3_data=train_location, content_type='csv')\n",
    "s3_input_validation = sagemaker.s3_input(s3_data=val_location, content_type='csv')"
   ]
  },
  {
   "cell_type": "code",
   "execution_count": 29,
   "metadata": {},
   "outputs": [
    {
     "name": "stdout",
     "output_type": "stream",
     "text": [
      "2020-05-18 15:41:16 Starting - Starting the training job...\n",
      "2020-05-18 15:41:17 Starting - Launching requested ML instances...\n",
      "2020-05-18 15:42:16 Starting - Preparing the instances for training......\n",
      "2020-05-18 15:43:08 Downloading - Downloading input data...\n",
      "2020-05-18 15:43:28 Training - Downloading the training image...\n",
      "2020-05-18 15:43:59 Training - Training image download completed. Training in progress.\u001b[34mINFO:sagemaker-containers:Imported framework sagemaker_xgboost_container.training\u001b[0m\n",
      "\u001b[34mINFO:sagemaker-containers:Failed to parse hyperparameter objective value binary:logistic to Json.\u001b[0m\n",
      "\u001b[34mReturning the value itself\u001b[0m\n",
      "\u001b[34mINFO:sagemaker-containers:No GPUs detected (normal if no gpus installed)\u001b[0m\n",
      "\u001b[34mINFO:sagemaker_xgboost_container.training:Running XGBoost Sagemaker in algorithm mode\u001b[0m\n",
      "\u001b[34mINFO:root:Determined delimiter of CSV input is ','\u001b[0m\n",
      "\u001b[34mINFO:root:Determined delimiter of CSV input is ','\u001b[0m\n",
      "\u001b[34mINFO:root:Determined delimiter of CSV input is ','\u001b[0m\n",
      "\u001b[34m[15:44:03] 15000x5000 matrix with 75000000 entries loaded from /opt/ml/input/data/train?format=csv&label_column=0&delimiter=,\u001b[0m\n",
      "\u001b[34mINFO:root:Determined delimiter of CSV input is ','\u001b[0m\n",
      "\u001b[34m[15:44:04] 10000x5000 matrix with 50000000 entries loaded from /opt/ml/input/data/validation?format=csv&label_column=0&delimiter=,\u001b[0m\n",
      "\u001b[34mINFO:root:Single node training.\u001b[0m\n",
      "\u001b[34mINFO:root:Train matrix has 15000 rows\u001b[0m\n",
      "\u001b[34mINFO:root:Validation matrix has 10000 rows\u001b[0m\n",
      "\u001b[34m[0]#011train-error:0.3062#011validation-error:0.3107\u001b[0m\n",
      "\u001b[34m[1]#011train-error:0.2912#011validation-error:0.3012\u001b[0m\n",
      "\u001b[34m[2]#011train-error:0.2792#011validation-error:0.2891\u001b[0m\n",
      "\u001b[34m[3]#011train-error:0.263133#011validation-error:0.2755\u001b[0m\n",
      "\u001b[34m[4]#011train-error:0.256067#011validation-error:0.2746\u001b[0m\n",
      "\u001b[34m[5]#011train-error:0.251267#011validation-error:0.268\u001b[0m\n",
      "\u001b[34m[6]#011train-error:0.2466#011validation-error:0.2638\u001b[0m\n",
      "\u001b[34m[7]#011train-error:0.2396#011validation-error:0.2559\u001b[0m\n",
      "\u001b[34m[8]#011train-error:0.230667#011validation-error:0.2496\u001b[0m\n",
      "\u001b[34m[9]#011train-error:0.2284#011validation-error:0.2462\u001b[0m\n",
      "\u001b[34m[10]#011train-error:0.2256#011validation-error:0.2426\u001b[0m\n",
      "\u001b[34m[11]#011train-error:0.219133#011validation-error:0.2373\u001b[0m\n",
      "\u001b[34m[12]#011train-error:0.215133#011validation-error:0.2379\u001b[0m\n",
      "\u001b[34m[13]#011train-error:0.209667#011validation-error:0.2337\u001b[0m\n",
      "\u001b[34m[14]#011train-error:0.207133#011validation-error:0.2316\u001b[0m\n",
      "\u001b[34m[15]#011train-error:0.2042#011validation-error:0.2286\u001b[0m\n",
      "\u001b[34m[16]#011train-error:0.198733#011validation-error:0.2254\u001b[0m\n",
      "\u001b[34m[17]#011train-error:0.195867#011validation-error:0.2213\u001b[0m\n",
      "\u001b[34m[18]#011train-error:0.192733#011validation-error:0.2185\u001b[0m\n",
      "\u001b[34m[19]#011train-error:0.187533#011validation-error:0.2142\u001b[0m\n",
      "\u001b[34m[20]#011train-error:0.185067#011validation-error:0.2125\u001b[0m\n",
      "\u001b[34m[21]#011train-error:0.183533#011validation-error:0.2115\u001b[0m\n",
      "\u001b[34m[22]#011train-error:0.180667#011validation-error:0.2098\u001b[0m\n",
      "\u001b[34m[23]#011train-error:0.179267#011validation-error:0.2083\u001b[0m\n",
      "\u001b[34m[24]#011train-error:0.177267#011validation-error:0.2078\u001b[0m\n",
      "\u001b[34m[25]#011train-error:0.174733#011validation-error:0.2067\u001b[0m\n",
      "\u001b[34m[26]#011train-error:0.172133#011validation-error:0.2036\u001b[0m\n",
      "\u001b[34m[27]#011train-error:0.17#011validation-error:0.2015\u001b[0m\n",
      "\u001b[34m[28]#011train-error:0.166933#011validation-error:0.2013\u001b[0m\n",
      "\u001b[34m[29]#011train-error:0.165267#011validation-error:0.2004\u001b[0m\n",
      "\u001b[34m[30]#011train-error:0.1652#011validation-error:0.2002\u001b[0m\n",
      "\u001b[34m[31]#011train-error:0.1624#011validation-error:0.1994\u001b[0m\n",
      "\u001b[34m[32]#011train-error:0.160733#011validation-error:0.1955\u001b[0m\n",
      "\u001b[34m[33]#011train-error:0.161533#011validation-error:0.1961\u001b[0m\n",
      "\u001b[34m[34]#011train-error:0.161#011validation-error:0.1955\u001b[0m\n",
      "\u001b[34m[35]#011train-error:0.159733#011validation-error:0.1947\u001b[0m\n",
      "\u001b[34m[36]#011train-error:0.1576#011validation-error:0.193\u001b[0m\n",
      "\u001b[34m[37]#011train-error:0.153933#011validation-error:0.1924\u001b[0m\n",
      "\u001b[34m[38]#011train-error:0.152733#011validation-error:0.1914\u001b[0m\n",
      "\u001b[34m[39]#011train-error:0.151667#011validation-error:0.1927\u001b[0m\n",
      "\u001b[34m[40]#011train-error:0.150467#011validation-error:0.1893\u001b[0m\n",
      "\u001b[34m[41]#011train-error:0.150533#011validation-error:0.1895\u001b[0m\n",
      "\u001b[34m[42]#011train-error:0.149267#011validation-error:0.1881\u001b[0m\n",
      "\u001b[34m[43]#011train-error:0.146733#011validation-error:0.1867\u001b[0m\n",
      "\u001b[34m[44]#011train-error:0.144333#011validation-error:0.1865\u001b[0m\n",
      "\u001b[34m[45]#011train-error:0.142733#011validation-error:0.1858\u001b[0m\n",
      "\u001b[34m[46]#011train-error:0.142533#011validation-error:0.186\u001b[0m\n",
      "\u001b[34m[47]#011train-error:0.140867#011validation-error:0.1839\u001b[0m\n",
      "\u001b[34m[48]#011train-error:0.139267#011validation-error:0.1826\u001b[0m\n",
      "\u001b[34m[49]#011train-error:0.139467#011validation-error:0.1823\u001b[0m\n",
      "\u001b[34m[50]#011train-error:0.138533#011validation-error:0.1816\u001b[0m\n",
      "\u001b[34m[51]#011train-error:0.139467#011validation-error:0.181\u001b[0m\n",
      "\u001b[34m[52]#011train-error:0.137933#011validation-error:0.1793\u001b[0m\n",
      "\u001b[34m[53]#011train-error:0.1364#011validation-error:0.1793\u001b[0m\n",
      "\u001b[34m[54]#011train-error:0.136667#011validation-error:0.1789\u001b[0m\n",
      "\u001b[34m[55]#011train-error:0.1348#011validation-error:0.1785\u001b[0m\n",
      "\u001b[34m[56]#011train-error:0.1336#011validation-error:0.1763\u001b[0m\n",
      "\u001b[34m[57]#011train-error:0.132867#011validation-error:0.175\u001b[0m\n",
      "\u001b[34m[58]#011train-error:0.132667#011validation-error:0.1755\u001b[0m\n",
      "\u001b[34m[59]#011train-error:0.132267#011validation-error:0.1745\u001b[0m\n",
      "\u001b[34m[60]#011train-error:0.131067#011validation-error:0.1747\u001b[0m\n",
      "\u001b[34m[61]#011train-error:0.130067#011validation-error:0.1747\u001b[0m\n",
      "\u001b[34m[62]#011train-error:0.1278#011validation-error:0.1728\u001b[0m\n",
      "\u001b[34m[63]#011train-error:0.126933#011validation-error:0.1712\u001b[0m\n",
      "\u001b[34m[64]#011train-error:0.124667#011validation-error:0.1719\u001b[0m\n",
      "\u001b[34m[65]#011train-error:0.123867#011validation-error:0.1717\u001b[0m\n",
      "\u001b[34m[66]#011train-error:0.123#011validation-error:0.1713\u001b[0m\n",
      "\u001b[34m[67]#011train-error:0.121933#011validation-error:0.1704\u001b[0m\n",
      "\u001b[34m[68]#011train-error:0.121267#011validation-error:0.1699\u001b[0m\n",
      "\u001b[34m[69]#011train-error:0.121#011validation-error:0.1694\u001b[0m\n",
      "\u001b[34m[70]#011train-error:0.119867#011validation-error:0.1686\u001b[0m\n",
      "\u001b[34m[71]#011train-error:0.1192#011validation-error:0.1675\u001b[0m\n",
      "\u001b[34m[72]#011train-error:0.118267#011validation-error:0.1669\u001b[0m\n",
      "\u001b[34m[73]#011train-error:0.118533#011validation-error:0.1664\u001b[0m\n",
      "\u001b[34m[74]#011train-error:0.117933#011validation-error:0.1658\u001b[0m\n",
      "\u001b[34m[75]#011train-error:0.117667#011validation-error:0.1659\u001b[0m\n",
      "\u001b[34m[76]#011train-error:0.116933#011validation-error:0.1658\u001b[0m\n",
      "\u001b[34m[77]#011train-error:0.116133#011validation-error:0.1653\u001b[0m\n",
      "\u001b[34m[78]#011train-error:0.115#011validation-error:0.1641\u001b[0m\n",
      "\u001b[34m[79]#011train-error:0.114667#011validation-error:0.1643\u001b[0m\n",
      "\u001b[34m[80]#011train-error:0.114133#011validation-error:0.164\u001b[0m\n",
      "\u001b[34m[81]#011train-error:0.113267#011validation-error:0.164\u001b[0m\n",
      "\u001b[34m[82]#011train-error:0.112533#011validation-error:0.1626\u001b[0m\n",
      "\u001b[34m[83]#011train-error:0.111333#011validation-error:0.1633\u001b[0m\n",
      "\u001b[34m[84]#011train-error:0.111067#011validation-error:0.1638\u001b[0m\n",
      "\u001b[34m[85]#011train-error:0.111267#011validation-error:0.1647\u001b[0m\n",
      "\u001b[34m[86]#011train-error:0.109667#011validation-error:0.1628\u001b[0m\n",
      "\u001b[34m[87]#011train-error:0.1096#011validation-error:0.1609\u001b[0m\n",
      "\u001b[34m[88]#011train-error:0.108533#011validation-error:0.1603\u001b[0m\n",
      "\u001b[34m[89]#011train-error:0.1082#011validation-error:0.1593\u001b[0m\n",
      "\u001b[34m[90]#011train-error:0.108#011validation-error:0.1599\u001b[0m\n",
      "\u001b[34m[91]#011train-error:0.107133#011validation-error:0.161\u001b[0m\n",
      "\u001b[34m[92]#011train-error:0.1066#011validation-error:0.1606\u001b[0m\n",
      "\u001b[34m[93]#011train-error:0.106533#011validation-error:0.1601\u001b[0m\n",
      "\u001b[34m[94]#011train-error:0.105733#011validation-error:0.161\u001b[0m\n",
      "\u001b[34m[95]#011train-error:0.105733#011validation-error:0.1603\u001b[0m\n",
      "\u001b[34m[96]#011train-error:0.105133#011validation-error:0.1599\u001b[0m\n",
      "\u001b[34m[97]#011train-error:0.104133#011validation-error:0.1597\u001b[0m\n",
      "\u001b[34m[98]#011train-error:0.104533#011validation-error:0.1589\u001b[0m\n",
      "\u001b[34m[99]#011train-error:0.1046#011validation-error:0.1585\u001b[0m\n",
      "\u001b[34m[100]#011train-error:0.104533#011validation-error:0.1579\u001b[0m\n",
      "\u001b[34m[101]#011train-error:0.103667#011validation-error:0.1577\u001b[0m\n",
      "\u001b[34m[102]#011train-error:0.1022#011validation-error:0.1565\u001b[0m\n",
      "\u001b[34m[103]#011train-error:0.1014#011validation-error:0.1569\u001b[0m\n",
      "\u001b[34m[104]#011train-error:0.100067#011validation-error:0.1558\u001b[0m\n",
      "\u001b[34m[105]#011train-error:0.099667#011validation-error:0.155\u001b[0m\n"
     ]
    },
    {
     "name": "stdout",
     "output_type": "stream",
     "text": [
      "\u001b[34m[106]#011train-error:0.0994#011validation-error:0.1546\u001b[0m\n",
      "\u001b[34m[107]#011train-error:0.0988#011validation-error:0.1541\u001b[0m\n",
      "\u001b[34m[108]#011train-error:0.0984#011validation-error:0.1541\u001b[0m\n",
      "\u001b[34m[109]#011train-error:0.099267#011validation-error:0.1547\u001b[0m\n",
      "\u001b[34m[110]#011train-error:0.099133#011validation-error:0.1543\u001b[0m\n",
      "\u001b[34m[111]#011train-error:0.0984#011validation-error:0.1544\u001b[0m\n",
      "\u001b[34m[112]#011train-error:0.098933#011validation-error:0.1547\u001b[0m\n",
      "\u001b[34m[113]#011train-error:0.0984#011validation-error:0.1546\u001b[0m\n",
      "\u001b[34m[114]#011train-error:0.0978#011validation-error:0.1541\u001b[0m\n",
      "\u001b[34m[115]#011train-error:0.098#011validation-error:0.1537\u001b[0m\n",
      "\u001b[34m[116]#011train-error:0.097867#011validation-error:0.1533\u001b[0m\n",
      "\u001b[34m[117]#011train-error:0.0974#011validation-error:0.1533\u001b[0m\n",
      "\u001b[34m[118]#011train-error:0.097133#011validation-error:0.1519\u001b[0m\n",
      "\u001b[34m[119]#011train-error:0.097267#011validation-error:0.152\u001b[0m\n",
      "\u001b[34m[120]#011train-error:0.096#011validation-error:0.1517\u001b[0m\n",
      "\u001b[34m[121]#011train-error:0.0954#011validation-error:0.152\u001b[0m\n",
      "\u001b[34m[122]#011train-error:0.094867#011validation-error:0.1518\u001b[0m\n",
      "\u001b[34m[123]#011train-error:0.0948#011validation-error:0.1517\u001b[0m\n",
      "\u001b[34m[124]#011train-error:0.094067#011validation-error:0.1511\u001b[0m\n",
      "\u001b[34m[125]#011train-error:0.0928#011validation-error:0.1507\u001b[0m\n",
      "\u001b[34m[126]#011train-error:0.092867#011validation-error:0.1507\u001b[0m\n",
      "\u001b[34m[127]#011train-error:0.0926#011validation-error:0.1502\u001b[0m\n",
      "\u001b[34m[128]#011train-error:0.092333#011validation-error:0.1503\u001b[0m\n",
      "\u001b[34m[129]#011train-error:0.092067#011validation-error:0.1502\u001b[0m\n",
      "\u001b[34m[130]#011train-error:0.091667#011validation-error:0.1491\u001b[0m\n",
      "\u001b[34m[131]#011train-error:0.091133#011validation-error:0.1488\u001b[0m\n",
      "\u001b[34m[132]#011train-error:0.091067#011validation-error:0.1488\u001b[0m\n",
      "\u001b[34m[133]#011train-error:0.09#011validation-error:0.148\u001b[0m\n",
      "\u001b[34m[134]#011train-error:0.089733#011validation-error:0.1488\u001b[0m\n",
      "\u001b[34m[135]#011train-error:0.0898#011validation-error:0.1483\u001b[0m\n",
      "\u001b[34m[136]#011train-error:0.089533#011validation-error:0.1481\u001b[0m\n",
      "\u001b[34m[137]#011train-error:0.089#011validation-error:0.1469\u001b[0m\n",
      "\u001b[34m[138]#011train-error:0.0894#011validation-error:0.1465\u001b[0m\n",
      "\u001b[34m[139]#011train-error:0.0886#011validation-error:0.1465\u001b[0m\n",
      "\u001b[34m[140]#011train-error:0.088467#011validation-error:0.1471\u001b[0m\n",
      "\u001b[34m[141]#011train-error:0.088267#011validation-error:0.1475\u001b[0m\n",
      "\u001b[34m[142]#011train-error:0.0878#011validation-error:0.1461\u001b[0m\n",
      "\u001b[34m[143]#011train-error:0.087933#011validation-error:0.1457\u001b[0m\n",
      "\u001b[34m[144]#011train-error:0.087533#011validation-error:0.1458\u001b[0m\n",
      "\u001b[34m[145]#011train-error:0.087133#011validation-error:0.1455\u001b[0m\n",
      "\u001b[34m[146]#011train-error:0.086533#011validation-error:0.1452\u001b[0m\n",
      "\u001b[34m[147]#011train-error:0.086133#011validation-error:0.144\u001b[0m\n",
      "\u001b[34m[148]#011train-error:0.085267#011validation-error:0.1444\u001b[0m\n",
      "\u001b[34m[149]#011train-error:0.0846#011validation-error:0.144\u001b[0m\n",
      "\u001b[34m[150]#011train-error:0.084467#011validation-error:0.1443\u001b[0m\n",
      "\u001b[34m[151]#011train-error:0.084067#011validation-error:0.144\u001b[0m\n",
      "\u001b[34m[152]#011train-error:0.083467#011validation-error:0.1443\u001b[0m\n",
      "\u001b[34m[153]#011train-error:0.0836#011validation-error:0.1436\u001b[0m\n",
      "\u001b[34m[154]#011train-error:0.0832#011validation-error:0.1436\u001b[0m\n",
      "\u001b[34m[155]#011train-error:0.0826#011validation-error:0.1435\u001b[0m\n",
      "\u001b[34m[156]#011train-error:0.082#011validation-error:0.1433\u001b[0m\n",
      "\u001b[34m[157]#011train-error:0.082267#011validation-error:0.1441\u001b[0m\n",
      "\u001b[34m[158]#011train-error:0.082267#011validation-error:0.1431\u001b[0m\n",
      "\u001b[34m[159]#011train-error:0.081467#011validation-error:0.1427\u001b[0m\n",
      "\u001b[34m[160]#011train-error:0.081133#011validation-error:0.1414\u001b[0m\n",
      "\u001b[34m[161]#011train-error:0.080467#011validation-error:0.1419\u001b[0m\n",
      "\u001b[34m[162]#011train-error:0.0802#011validation-error:0.1418\u001b[0m\n",
      "\u001b[34m[163]#011train-error:0.080267#011validation-error:0.1419\u001b[0m\n",
      "\u001b[34m[164]#011train-error:0.079267#011validation-error:0.1427\u001b[0m\n",
      "\u001b[34m[165]#011train-error:0.0792#011validation-error:0.1418\u001b[0m\n",
      "\u001b[34m[166]#011train-error:0.079467#011validation-error:0.1423\u001b[0m\n",
      "\u001b[34m[167]#011train-error:0.079467#011validation-error:0.1414\u001b[0m\n",
      "\u001b[34m[168]#011train-error:0.079467#011validation-error:0.1416\u001b[0m\n",
      "\u001b[34m[169]#011train-error:0.078533#011validation-error:0.142\u001b[0m\n",
      "\u001b[34m[170]#011train-error:0.0784#011validation-error:0.142\u001b[0m\n",
      "\n",
      "2020-05-18 15:47:27 Uploading - Uploading generated training model\n",
      "2020-05-18 15:47:27 Completed - Training job completed\n",
      "Training seconds: 259\n",
      "Billable seconds: 259\n"
     ]
    }
   ],
   "source": [
    "xgb.fit({'train': s3_input_train, 'validation': s3_input_validation})"
   ]
  },
  {
   "cell_type": "markdown",
   "metadata": {},
   "source": [
    "## Step 5: Testing the model\n",
    "\n",
    "Now that we've fit our XGBoost model, it's time to see how well it performs. To do this we will use SageMakers Batch Transform functionality. Batch Transform is a convenient way to perform inference on a large dataset in a way that is not realtime. That is, we don't necessarily need to use our model's results immediately and instead we can perform inference on a large number of samples. An example of this in industry might be performing an end of month report. This method of inference can also be useful to us as it means that we can perform inference on our entire test set. \n",
    "\n",
    "To perform a Batch Transformation we need to first create a transformer objects from our trained estimator object."
   ]
  },
  {
   "cell_type": "code",
   "execution_count": 30,
   "metadata": {},
   "outputs": [],
   "source": [
    "xgb_transformer = xgb.transformer(instance_count = 1, instance_type = 'ml.m4.xlarge')"
   ]
  },
  {
   "cell_type": "markdown",
   "metadata": {},
   "source": [
    "Next we actually perform the transform job. When doing so we need to make sure to specify the type of data we are sending so that it is serialized correctly in the background. In our case we are providing our model with csv data so we specify `text/csv`. Also, if the test data that we have provided is too large to process all at once then we need to specify how the data file should be split up. Since each line is a single entry in our data set we tell SageMaker that it can split the input on each line."
   ]
  },
  {
   "cell_type": "code",
   "execution_count": 31,
   "metadata": {},
   "outputs": [],
   "source": [
    "xgb_transformer.transform(test_location, content_type='text/csv', split_type='Line')"
   ]
  },
  {
   "cell_type": "markdown",
   "metadata": {},
   "source": [
    "Currently the transform job is running but it is doing so in the background. Since we wish to wait until the transform job is done and we would like a bit of feedback we can run the `wait()` method."
   ]
  },
  {
   "cell_type": "code",
   "execution_count": 32,
   "metadata": {},
   "outputs": [
    {
     "name": "stdout",
     "output_type": "stream",
     "text": [
      ".....................\u001b[34m[2020-05-18 15:51:14 +0000] [17] [INFO] Starting gunicorn 19.10.0\u001b[0m\n",
      "\u001b[34m[2020-05-18 15:51:14 +0000] [17] [INFO] Listening at: unix:/tmp/gunicorn.sock (17)\u001b[0m\n",
      "\u001b[34m[2020-05-18 15:51:14 +0000] [17] [INFO] Using worker: gevent\u001b[0m\n",
      "\u001b[34m[2020-05-18 15:51:14 +0000] [24] [INFO] Booting worker with pid: 24\u001b[0m\n",
      "\u001b[34m[2020-05-18 15:51:15 +0000] [25] [INFO] Booting worker with pid: 25\u001b[0m\n",
      "\u001b[34m[2020-05-18 15:51:15 +0000] [29] [INFO] Booting worker with pid: 29\u001b[0m\n",
      "\u001b[34m[2020-05-18 15:51:15 +0000] [30] [INFO] Booting worker with pid: 30\u001b[0m\n",
      "\u001b[34m[2020-05-18:15:51:36:INFO] No GPUs detected (normal if no gpus installed)\u001b[0m\n",
      "\u001b[34m169.254.255.130 - - [18/May/2020:15:51:36 +0000] \"GET /ping HTTP/1.1\" 200 0 \"-\" \"Go-http-client/1.1\"\u001b[0m\n",
      "\u001b[34m169.254.255.130 - - [18/May/2020:15:51:36 +0000] \"GET /execution-parameters HTTP/1.1\" 200 84 \"-\" \"Go-http-client/1.1\"\u001b[0m\n",
      "\u001b[35m[2020-05-18:15:51:36:INFO] No GPUs detected (normal if no gpus installed)\u001b[0m\n",
      "\u001b[35m169.254.255.130 - - [18/May/2020:15:51:36 +0000] \"GET /ping HTTP/1.1\" 200 0 \"-\" \"Go-http-client/1.1\"\u001b[0m\n",
      "\u001b[35m169.254.255.130 - - [18/May/2020:15:51:36 +0000] \"GET /execution-parameters HTTP/1.1\" 200 84 \"-\" \"Go-http-client/1.1\"\u001b[0m\n",
      "\u001b[32m2020-05-18T15:51:36.604:[sagemaker logs]: MaxConcurrentTransforms=4, MaxPayloadInMB=6, BatchStrategy=MULTI_RECORD\u001b[0m\n",
      "\u001b[34m[2020-05-18:15:51:39:INFO] No GPUs detected (normal if no gpus installed)\u001b[0m\n",
      "\u001b[34m[2020-05-18:15:51:39:INFO] Determined delimiter of CSV input is ','\u001b[0m\n",
      "\u001b[34m[2020-05-18:15:51:39:INFO] Determined delimiter of CSV input is ','\u001b[0m\n",
      "\u001b[34m[2020-05-18:15:51:39:INFO] No GPUs detected (normal if no gpus installed)\u001b[0m\n",
      "\u001b[35m[2020-05-18:15:51:39:INFO] No GPUs detected (normal if no gpus installed)\u001b[0m\n",
      "\u001b[35m[2020-05-18:15:51:39:INFO] Determined delimiter of CSV input is ','\u001b[0m\n",
      "\u001b[35m[2020-05-18:15:51:39:INFO] Determined delimiter of CSV input is ','\u001b[0m\n",
      "\u001b[35m[2020-05-18:15:51:39:INFO] No GPUs detected (normal if no gpus installed)\u001b[0m\n",
      "\u001b[34m[2020-05-18:15:51:39:INFO] No GPUs detected (normal if no gpus installed)\u001b[0m\n",
      "\u001b[34m[2020-05-18:15:51:39:INFO] Determined delimiter of CSV input is ','\u001b[0m\n",
      "\u001b[34m[2020-05-18:15:51:40:INFO] Determined delimiter of CSV input is ','\u001b[0m\n",
      "\u001b[35m[2020-05-18:15:51:39:INFO] No GPUs detected (normal if no gpus installed)\u001b[0m\n",
      "\u001b[35m[2020-05-18:15:51:39:INFO] Determined delimiter of CSV input is ','\u001b[0m\n",
      "\u001b[35m[2020-05-18:15:51:40:INFO] Determined delimiter of CSV input is ','\u001b[0m\n",
      "\u001b[34m169.254.255.130 - - [18/May/2020:15:51:43 +0000] \"POST /invocations HTTP/1.1\" 200 12196 \"-\" \"Go-http-client/1.1\"\u001b[0m\n",
      "\u001b[34m[2020-05-18:15:51:43:INFO] Determined delimiter of CSV input is ','\u001b[0m\n",
      "\u001b[34m[2020-05-18:15:51:43:INFO] Determined delimiter of CSV input is ','\u001b[0m\n",
      "\u001b[34m[2020-05-18:15:51:43:INFO] Determined delimiter of CSV input is ','\u001b[0m\n",
      "\u001b[34m[2020-05-18:15:51:43:INFO] Determined delimiter of CSV input is ','\u001b[0m\n",
      "\u001b[35m169.254.255.130 - - [18/May/2020:15:51:43 +0000] \"POST /invocations HTTP/1.1\" 200 12196 \"-\" \"Go-http-client/1.1\"\u001b[0m\n",
      "\u001b[35m[2020-05-18:15:51:43:INFO] Determined delimiter of CSV input is ','\u001b[0m\n",
      "\u001b[35m[2020-05-18:15:51:43:INFO] Determined delimiter of CSV input is ','\u001b[0m\n",
      "\u001b[35m[2020-05-18:15:51:43:INFO] Determined delimiter of CSV input is ','\u001b[0m\n",
      "\u001b[35m[2020-05-18:15:51:43:INFO] Determined delimiter of CSV input is ','\u001b[0m\n",
      "\u001b[34m169.254.255.130 - - [18/May/2020:15:51:47 +0000] \"POST /invocations HTTP/1.1\" 200 12207 \"-\" \"Go-http-client/1.1\"\u001b[0m\n",
      "\u001b[34m169.254.255.130 - - [18/May/2020:15:51:47 +0000] \"POST /invocations HTTP/1.1\" 200 12232 \"-\" \"Go-http-client/1.1\"\u001b[0m\n",
      "\u001b[35m169.254.255.130 - - [18/May/2020:15:51:47 +0000] \"POST /invocations HTTP/1.1\" 200 12207 \"-\" \"Go-http-client/1.1\"\u001b[0m\n",
      "\u001b[35m169.254.255.130 - - [18/May/2020:15:51:47 +0000] \"POST /invocations HTTP/1.1\" 200 12232 \"-\" \"Go-http-client/1.1\"\u001b[0m\n",
      "\u001b[34m169.254.255.130 - - [18/May/2020:15:51:47 +0000] \"POST /invocations HTTP/1.1\" 200 12220 \"-\" \"Go-http-client/1.1\"\u001b[0m\n",
      "\u001b[34m[2020-05-18:15:51:47:INFO] Determined delimiter of CSV input is ','\u001b[0m\n",
      "\u001b[34m169.254.255.130 - - [18/May/2020:15:51:47 +0000] \"POST /invocations HTTP/1.1\" 200 12192 \"-\" \"Go-http-client/1.1\"\u001b[0m\n",
      "\u001b[34m[2020-05-18:15:51:47:INFO] Determined delimiter of CSV input is ','\u001b[0m\n",
      "\u001b[34m[2020-05-18:15:51:47:INFO] Determined delimiter of CSV input is ','\u001b[0m\n",
      "\u001b[34m[2020-05-18:15:51:47:INFO] Determined delimiter of CSV input is ','\u001b[0m\n",
      "\u001b[35m169.254.255.130 - - [18/May/2020:15:51:47 +0000] \"POST /invocations HTTP/1.1\" 200 12220 \"-\" \"Go-http-client/1.1\"\u001b[0m\n",
      "\u001b[35m[2020-05-18:15:51:47:INFO] Determined delimiter of CSV input is ','\u001b[0m\n",
      "\u001b[35m169.254.255.130 - - [18/May/2020:15:51:47 +0000] \"POST /invocations HTTP/1.1\" 200 12192 \"-\" \"Go-http-client/1.1\"\u001b[0m\n",
      "\u001b[35m[2020-05-18:15:51:47:INFO] Determined delimiter of CSV input is ','\u001b[0m\n",
      "\u001b[35m[2020-05-18:15:51:47:INFO] Determined delimiter of CSV input is ','\u001b[0m\n",
      "\u001b[35m[2020-05-18:15:51:47:INFO] Determined delimiter of CSV input is ','\u001b[0m\n",
      "\u001b[34m169.254.255.130 - - [18/May/2020:15:51:50 +0000] \"POST /invocations HTTP/1.1\" 200 12193 \"-\" \"Go-http-client/1.1\"\u001b[0m\n",
      "\u001b[34m169.254.255.130 - - [18/May/2020:15:51:50 +0000] \"POST /invocations HTTP/1.1\" 200 12180 \"-\" \"Go-http-client/1.1\"\u001b[0m\n",
      "\u001b[34m[2020-05-18:15:51:50:INFO] Determined delimiter of CSV input is ','\u001b[0m\n",
      "\u001b[34m169.254.255.130 - - [18/May/2020:15:51:50 +0000] \"POST /invocations HTTP/1.1\" 200 12194 \"-\" \"Go-http-client/1.1\"\u001b[0m\n",
      "\u001b[34m169.254.255.130 - - [18/May/2020:15:51:50 +0000] \"POST /invocations HTTP/1.1\" 200 12212 \"-\" \"Go-http-client/1.1\"\u001b[0m\n",
      "\u001b[34m[2020-05-18:15:51:50:INFO] Determined delimiter of CSV input is ','\u001b[0m\n",
      "\u001b[34m[2020-05-18:15:51:50:INFO] Determined delimiter of CSV input is ','\u001b[0m\n",
      "\u001b[35m169.254.255.130 - - [18/May/2020:15:51:50 +0000] \"POST /invocations HTTP/1.1\" 200 12193 \"-\" \"Go-http-client/1.1\"\u001b[0m\n",
      "\u001b[35m169.254.255.130 - - [18/May/2020:15:51:50 +0000] \"POST /invocations HTTP/1.1\" 200 12180 \"-\" \"Go-http-client/1.1\"\u001b[0m\n",
      "\u001b[35m[2020-05-18:15:51:50:INFO] Determined delimiter of CSV input is ','\u001b[0m\n",
      "\u001b[35m169.254.255.130 - - [18/May/2020:15:51:50 +0000] \"POST /invocations HTTP/1.1\" 200 12194 \"-\" \"Go-http-client/1.1\"\u001b[0m\n",
      "\u001b[35m169.254.255.130 - - [18/May/2020:15:51:50 +0000] \"POST /invocations HTTP/1.1\" 200 12212 \"-\" \"Go-http-client/1.1\"\u001b[0m\n",
      "\u001b[35m[2020-05-18:15:51:50:INFO] Determined delimiter of CSV input is ','\u001b[0m\n",
      "\u001b[35m[2020-05-18:15:51:50:INFO] Determined delimiter of CSV input is ','\u001b[0m\n",
      "\u001b[34m[2020-05-18:15:51:51:INFO] Determined delimiter of CSV input is ','\u001b[0m\n",
      "\u001b[35m[2020-05-18:15:51:51:INFO] Determined delimiter of CSV input is ','\u001b[0m\n",
      "\u001b[34m169.254.255.130 - - [18/May/2020:15:51:54 +0000] \"POST /invocations HTTP/1.1\" 200 12205 \"-\" \"Go-http-client/1.1\"\u001b[0m\n",
      "\u001b[34m169.254.255.130 - - [18/May/2020:15:51:54 +0000] \"POST /invocations HTTP/1.1\" 200 12217 \"-\" \"Go-http-client/1.1\"\u001b[0m\n",
      "\u001b[34m169.254.255.130 - - [18/May/2020:15:51:54 +0000] \"POST /invocations HTTP/1.1\" 200 12198 \"-\" \"Go-http-client/1.1\"\u001b[0m\n",
      "\u001b[34m[2020-05-18:15:51:54:INFO] Determined delimiter of CSV input is ','\u001b[0m\n",
      "\u001b[34m169.254.255.130 - - [18/May/2020:15:51:54 +0000] \"POST /invocations HTTP/1.1\" 200 12189 \"-\" \"Go-http-client/1.1\"\u001b[0m\n",
      "\u001b[34m[2020-05-18:15:51:54:INFO] Determined delimiter of CSV input is ','\u001b[0m\n",
      "\u001b[34m[2020-05-18:15:51:54:INFO] Determined delimiter of CSV input is ','\u001b[0m\n",
      "\u001b[34m[2020-05-18:15:51:54:INFO] Determined delimiter of CSV input is ','\u001b[0m\n",
      "\u001b[35m169.254.255.130 - - [18/May/2020:15:51:54 +0000] \"POST /invocations HTTP/1.1\" 200 12205 \"-\" \"Go-http-client/1.1\"\u001b[0m\n",
      "\u001b[35m169.254.255.130 - - [18/May/2020:15:51:54 +0000] \"POST /invocations HTTP/1.1\" 200 12217 \"-\" \"Go-http-client/1.1\"\u001b[0m\n",
      "\u001b[35m169.254.255.130 - - [18/May/2020:15:51:54 +0000] \"POST /invocations HTTP/1.1\" 200 12198 \"-\" \"Go-http-client/1.1\"\u001b[0m\n",
      "\u001b[35m[2020-05-18:15:51:54:INFO] Determined delimiter of CSV input is ','\u001b[0m\n",
      "\u001b[35m169.254.255.130 - - [18/May/2020:15:51:54 +0000] \"POST /invocations HTTP/1.1\" 200 12189 \"-\" \"Go-http-client/1.1\"\u001b[0m\n",
      "\u001b[35m[2020-05-18:15:51:54:INFO] Determined delimiter of CSV input is ','\u001b[0m\n",
      "\u001b[35m[2020-05-18:15:51:54:INFO] Determined delimiter of CSV input is ','\u001b[0m\n",
      "\u001b[35m[2020-05-18:15:51:54:INFO] Determined delimiter of CSV input is ','\u001b[0m\n",
      "\u001b[34m169.254.255.130 - - [18/May/2020:15:52:01 +0000] \"POST /invocations HTTP/1.1\" 200 12182 \"-\" \"Go-http-client/1.1\"\u001b[0m\n",
      "\u001b[34m169.254.255.130 - - [18/May/2020:15:52:01 +0000] \"POST /invocations HTTP/1.1\" 200 12178 \"-\" \"Go-http-client/1.1\"\u001b[0m\n",
      "\u001b[34m169.254.255.130 - - [18/May/2020:15:52:01 +0000] \"POST /invocations HTTP/1.1\" 200 12179 \"-\" \"Go-http-client/1.1\"\u001b[0m\n",
      "\u001b[34m[2020-05-18:15:52:01:INFO] Determined delimiter of CSV input is ','\u001b[0m\n",
      "\u001b[34m[2020-05-18:15:52:01:INFO] Determined delimiter of CSV input is ','\u001b[0m\n",
      "\u001b[34m169.254.255.130 - - [18/May/2020:15:52:01 +0000] \"POST /invocations HTTP/1.1\" 200 12222 \"-\" \"Go-http-client/1.1\"\u001b[0m\n",
      "\u001b[34m[2020-05-18:15:52:01:INFO] Determined delimiter of CSV input is ','\u001b[0m\n",
      "\u001b[34m[2020-05-18:15:52:01:INFO] Determined delimiter of CSV input is ','\u001b[0m\n",
      "\u001b[35m169.254.255.130 - - [18/May/2020:15:52:01 +0000] \"POST /invocations HTTP/1.1\" 200 12182 \"-\" \"Go-http-client/1.1\"\u001b[0m\n",
      "\u001b[35m169.254.255.130 - - [18/May/2020:15:52:01 +0000] \"POST /invocations HTTP/1.1\" 200 12178 \"-\" \"Go-http-client/1.1\"\u001b[0m\n",
      "\u001b[35m169.254.255.130 - - [18/May/2020:15:52:01 +0000] \"POST /invocations HTTP/1.1\" 200 12179 \"-\" \"Go-http-client/1.1\"\u001b[0m\n",
      "\u001b[35m[2020-05-18:15:52:01:INFO] Determined delimiter of CSV input is ','\u001b[0m\n",
      "\u001b[35m[2020-05-18:15:52:01:INFO] Determined delimiter of CSV input is ','\u001b[0m\n",
      "\u001b[35m169.254.255.130 - - [18/May/2020:15:52:01 +0000] \"POST /invocations HTTP/1.1\" 200 12222 \"-\" \"Go-http-client/1.1\"\u001b[0m\n",
      "\u001b[35m[2020-05-18:15:52:01:INFO] Determined delimiter of CSV input is ','\u001b[0m\n",
      "\u001b[35m[2020-05-18:15:52:01:INFO] Determined delimiter of CSV input is ','\u001b[0m\n"
     ]
    },
    {
     "name": "stdout",
     "output_type": "stream",
     "text": [
      "\u001b[34m169.254.255.130 - - [18/May/2020:15:52:08 +0000] \"POST /invocations HTTP/1.1\" 200 12180 \"-\" \"Go-http-client/1.1\"\u001b[0m\n",
      "\u001b[34m169.254.255.130 - - [18/May/2020:15:52:08 +0000] \"POST /invocations HTTP/1.1\" 200 12200 \"-\" \"Go-http-client/1.1\"\u001b[0m\n",
      "\u001b[34m169.254.255.130 - - [18/May/2020:15:52:08 +0000] \"POST /invocations HTTP/1.1\" 200 12190 \"-\" \"Go-http-client/1.1\"\u001b[0m\n",
      "\u001b[34m[2020-05-18:15:52:08:INFO] Determined delimiter of CSV input is ','\u001b[0m\n",
      "\u001b[34m[2020-05-18:15:52:08:INFO] Determined delimiter of CSV input is ','\u001b[0m\n",
      "\u001b[34m169.254.255.130 - - [18/May/2020:15:52:08 +0000] \"POST /invocations HTTP/1.1\" 200 12188 \"-\" \"Go-http-client/1.1\"\u001b[0m\n",
      "\u001b[34m[2020-05-18:15:52:08:INFO] Determined delimiter of CSV input is ','\u001b[0m\n",
      "\u001b[34m[2020-05-18:15:52:09:INFO] Determined delimiter of CSV input is ','\u001b[0m\n",
      "\u001b[35m169.254.255.130 - - [18/May/2020:15:52:08 +0000] \"POST /invocations HTTP/1.1\" 200 12180 \"-\" \"Go-http-client/1.1\"\u001b[0m\n",
      "\u001b[35m169.254.255.130 - - [18/May/2020:15:52:08 +0000] \"POST /invocations HTTP/1.1\" 200 12200 \"-\" \"Go-http-client/1.1\"\u001b[0m\n",
      "\u001b[35m169.254.255.130 - - [18/May/2020:15:52:08 +0000] \"POST /invocations HTTP/1.1\" 200 12190 \"-\" \"Go-http-client/1.1\"\u001b[0m\n",
      "\u001b[35m[2020-05-18:15:52:08:INFO] Determined delimiter of CSV input is ','\u001b[0m\n",
      "\u001b[35m[2020-05-18:15:52:08:INFO] Determined delimiter of CSV input is ','\u001b[0m\n",
      "\u001b[35m169.254.255.130 - - [18/May/2020:15:52:08 +0000] \"POST /invocations HTTP/1.1\" 200 12188 \"-\" \"Go-http-client/1.1\"\u001b[0m\n",
      "\u001b[35m[2020-05-18:15:52:08:INFO] Determined delimiter of CSV input is ','\u001b[0m\n",
      "\u001b[35m[2020-05-18:15:52:09:INFO] Determined delimiter of CSV input is ','\u001b[0m\n",
      "\u001b[34m169.254.255.130 - - [18/May/2020:15:52:12 +0000] \"POST /invocations HTTP/1.1\" 200 12200 \"-\" \"Go-http-client/1.1\"\u001b[0m\n",
      "\u001b[35m169.254.255.130 - - [18/May/2020:15:52:12 +0000] \"POST /invocations HTTP/1.1\" 200 12200 \"-\" \"Go-http-client/1.1\"\u001b[0m\n",
      "\u001b[34m169.254.255.130 - - [18/May/2020:15:52:12 +0000] \"POST /invocations HTTP/1.1\" 200 12221 \"-\" \"Go-http-client/1.1\"\u001b[0m\n",
      "\u001b[34m169.254.255.130 - - [18/May/2020:15:52:12 +0000] \"POST /invocations HTTP/1.1\" 200 12196 \"-\" \"Go-http-client/1.1\"\u001b[0m\n",
      "\u001b[34m[2020-05-18:15:52:12:INFO] Determined delimiter of CSV input is ','\u001b[0m\n",
      "\u001b[34m[2020-05-18:15:52:12:INFO] Determined delimiter of CSV input is ','\u001b[0m\n",
      "\u001b[34m169.254.255.130 - - [18/May/2020:15:52:12 +0000] \"POST /invocations HTTP/1.1\" 200 12200 \"-\" \"Go-http-client/1.1\"\u001b[0m\n",
      "\u001b[34m[2020-05-18:15:52:12:INFO] Determined delimiter of CSV input is ','\u001b[0m\n",
      "\u001b[34m[2020-05-18:15:52:12:INFO] Determined delimiter of CSV input is ','\u001b[0m\n",
      "\u001b[35m169.254.255.130 - - [18/May/2020:15:52:12 +0000] \"POST /invocations HTTP/1.1\" 200 12221 \"-\" \"Go-http-client/1.1\"\u001b[0m\n",
      "\u001b[35m169.254.255.130 - - [18/May/2020:15:52:12 +0000] \"POST /invocations HTTP/1.1\" 200 12196 \"-\" \"Go-http-client/1.1\"\u001b[0m\n",
      "\u001b[35m[2020-05-18:15:52:12:INFO] Determined delimiter of CSV input is ','\u001b[0m\n",
      "\u001b[35m[2020-05-18:15:52:12:INFO] Determined delimiter of CSV input is ','\u001b[0m\n",
      "\u001b[35m169.254.255.130 - - [18/May/2020:15:52:12 +0000] \"POST /invocations HTTP/1.1\" 200 12200 \"-\" \"Go-http-client/1.1\"\u001b[0m\n",
      "\u001b[35m[2020-05-18:15:52:12:INFO] Determined delimiter of CSV input is ','\u001b[0m\n",
      "\u001b[35m[2020-05-18:15:52:12:INFO] Determined delimiter of CSV input is ','\u001b[0m\n",
      "\u001b[34m169.254.255.130 - - [18/May/2020:15:52:15 +0000] \"POST /invocations HTTP/1.1\" 200 9101 \"-\" \"Go-http-client/1.1\"\u001b[0m\n",
      "\u001b[35m169.254.255.130 - - [18/May/2020:15:52:15 +0000] \"POST /invocations HTTP/1.1\" 200 9101 \"-\" \"Go-http-client/1.1\"\u001b[0m\n",
      "\u001b[34m169.254.255.130 - - [18/May/2020:15:52:15 +0000] \"POST /invocations HTTP/1.1\" 200 12181 \"-\" \"Go-http-client/1.1\"\u001b[0m\n",
      "\u001b[34m169.254.255.130 - - [18/May/2020:15:52:15 +0000] \"POST /invocations HTTP/1.1\" 200 12186 \"-\" \"Go-http-client/1.1\"\u001b[0m\n",
      "\u001b[34m169.254.255.130 - - [18/May/2020:15:52:15 +0000] \"POST /invocations HTTP/1.1\" 200 12236 \"-\" \"Go-http-client/1.1\"\u001b[0m\n",
      "\u001b[35m169.254.255.130 - - [18/May/2020:15:52:15 +0000] \"POST /invocations HTTP/1.1\" 200 12181 \"-\" \"Go-http-client/1.1\"\u001b[0m\n",
      "\u001b[35m169.254.255.130 - - [18/May/2020:15:52:15 +0000] \"POST /invocations HTTP/1.1\" 200 12186 \"-\" \"Go-http-client/1.1\"\u001b[0m\n",
      "\u001b[35m169.254.255.130 - - [18/May/2020:15:52:15 +0000] \"POST /invocations HTTP/1.1\" 200 12236 \"-\" \"Go-http-client/1.1\"\u001b[0m\n",
      "\n"
     ]
    }
   ],
   "source": [
    "xgb_transformer.wait()"
   ]
  },
  {
   "cell_type": "markdown",
   "metadata": {},
   "source": [
    "Now the transform job has executed and the result, the estimated sentiment of each review, has been saved on S3. Since we would rather work on this file locally we can perform a bit of notebook magic to copy the file to the `data_dir`."
   ]
  },
  {
   "cell_type": "code",
   "execution_count": 33,
   "metadata": {},
   "outputs": [
    {
     "name": "stdout",
     "output_type": "stream",
     "text": [
      "Completed 256.0 KiB/473.5 KiB (2.9 MiB/s) with 1 file(s) remaining\r",
      "Completed 473.5 KiB/473.5 KiB (5.2 MiB/s) with 1 file(s) remaining\r",
      "download: s3://sagemaker-eu-west-1-019518462631/sagemaker-xgboost-2020-05-18-15-48-00-227/test.csv.out to ../data/sentiment_web_app/test.csv.out\r\n"
     ]
    }
   ],
   "source": [
    "!aws s3 cp --recursive $xgb_transformer.output_path $data_dir"
   ]
  },
  {
   "cell_type": "markdown",
   "metadata": {},
   "source": [
    "The last step is now to read in the output from our model, convert the output to something a little more usable, in this case we want the sentiment to be either `1` (positive) or `0` (negative), and then compare to the ground truth labels."
   ]
  },
  {
   "cell_type": "code",
   "execution_count": 34,
   "metadata": {},
   "outputs": [],
   "source": [
    "predictions = pd.read_csv(os.path.join(data_dir, 'test.csv.out'), header=None)\n",
    "predictions = [round(num) for num in predictions.squeeze().values]"
   ]
  },
  {
   "cell_type": "code",
   "execution_count": 35,
   "metadata": {},
   "outputs": [
    {
     "data": {
      "text/plain": [
       "0.85908"
      ]
     },
     "execution_count": 35,
     "metadata": {},
     "output_type": "execute_result"
    }
   ],
   "source": [
    "from sklearn.metrics import accuracy_score\n",
    "accuracy_score(test_y, predictions)"
   ]
  },
  {
   "cell_type": "markdown",
   "metadata": {},
   "source": [
    "## Step 6: Deploying the model\n",
    "\n",
    "Once we construct and fit our model, SageMaker stores the resulting model artifacts and we can use those to deploy an endpoint (inference code). To see this, look in the SageMaker console and you should see that a model has been created along with a link to the S3 location where the model artifacts have been stored.\n",
    "\n",
    "Deploying an endpoint is a lot like training the model with a few important differences. The first is that a deployed model doesn't change the model artifacts, so as you send it various testing instances the model won't change. Another difference is that since we aren't performing a fixed computation, as we were in the training step or while performing a batch transform, the compute instance that gets started stays running until we tell it to stop. This is important to note as if we forget and leave it running we will be charged the entire time.\n",
    "\n",
    "In other words **If you are no longer using a deployed endpoint, shut it down!**"
   ]
  },
  {
   "cell_type": "code",
   "execution_count": 36,
   "metadata": {},
   "outputs": [
    {
     "name": "stderr",
     "output_type": "stream",
     "text": [
      "WARNING:sagemaker:Using already existing model: sagemaker-xgboost-2020-05-18-15-41-15-955\n"
     ]
    },
    {
     "name": "stdout",
     "output_type": "stream",
     "text": [
      "---------------!"
     ]
    }
   ],
   "source": [
    "xgb_predictor = xgb.deploy(initial_instance_count = 1, instance_type = 'ml.m4.xlarge')"
   ]
  },
  {
   "cell_type": "markdown",
   "metadata": {},
   "source": [
    "### Testing the model (again)\n",
    "\n",
    "Now that we have deployed our endpoint, we can send the testing data to it and get back the inference results. We already did this earlier using the batch transform functionality of SageMaker, however, we will test our model again using the newly deployed endpoint so that we can make sure that it works properly and to get a bit of a feel for how the endpoint works.\n",
    "\n",
    "When using the created endpoint it is important to know that we are limited in the amount of information we can send in each call so we need to break the testing data up into chunks and then send each chunk. Also, we need to serialize our data before we send it to the endpoint to ensure that our data is transmitted properly. Fortunately, SageMaker can do the serialization part for us provided we tell it the format of our data."
   ]
  },
  {
   "cell_type": "code",
   "execution_count": 37,
   "metadata": {},
   "outputs": [],
   "source": [
    "from sagemaker.predictor import csv_serializer\n",
    "\n",
    "# We need to tell the endpoint what format the data we are sending is in so that SageMaker can perform the serialization.\n",
    "xgb_predictor.content_type = 'text/csv'\n",
    "xgb_predictor.serializer = csv_serializer"
   ]
  },
  {
   "cell_type": "code",
   "execution_count": 38,
   "metadata": {},
   "outputs": [],
   "source": [
    "# We split the data into chunks and send each chunk seperately, accumulating the results.\n",
    "\n",
    "def predict(data, rows=512):\n",
    "    split_array = np.array_split(data, int(data.shape[0] / float(rows) + 1))\n",
    "    predictions = ''\n",
    "    for array in split_array:\n",
    "        predictions = ','.join([predictions, xgb_predictor.predict(array).decode('utf-8')])\n",
    "    \n",
    "    return np.fromstring(predictions[1:], sep=',')"
   ]
  },
  {
   "cell_type": "code",
   "execution_count": 39,
   "metadata": {},
   "outputs": [],
   "source": [
    "test_X = pd.read_csv(os.path.join(data_dir, 'test.csv'), header=None).values\n",
    "\n",
    "predictions = predict(test_X)\n",
    "predictions = [round(num) for num in predictions]"
   ]
  },
  {
   "cell_type": "markdown",
   "metadata": {},
   "source": [
    "Lastly, we check to see what the accuracy of our model is."
   ]
  },
  {
   "cell_type": "code",
   "execution_count": 40,
   "metadata": {},
   "outputs": [
    {
     "data": {
      "text/plain": [
       "0.85908"
      ]
     },
     "execution_count": 40,
     "metadata": {},
     "output_type": "execute_result"
    }
   ],
   "source": [
    "from sklearn.metrics import accuracy_score\n",
    "accuracy_score(test_y, predictions)"
   ]
  },
  {
   "cell_type": "markdown",
   "metadata": {},
   "source": [
    "And the results here should agree with the model testing that we did earlier using the batch transform job.\n",
    "\n",
    "### Cleaning up\n",
    "\n",
    "Now that we've determined that deploying our model works as expected, we are going to shut it down. Remember that the longer the endpoint is left running, the greater the cost and since we have a bit more work to do before we are able to use our endpoint with our simple web app, we should shut everything down."
   ]
  },
  {
   "cell_type": "code",
   "execution_count": 41,
   "metadata": {},
   "outputs": [],
   "source": [
    "xgb_predictor.delete_endpoint()"
   ]
  },
  {
   "cell_type": "markdown",
   "metadata": {},
   "source": [
    "## Step 7: Putting our model to work\n",
    "\n",
    "As we've mentioned a few times now, our goal is to have our model deployed and then access it using a very simple web app. The intent is for this web app to take some user submitted data (a review), send it off to our endpoint (the model) and then display the result.\n",
    "\n",
    "However, there is a small catch. Currently the only way we can access the endpoint to send it data is using the SageMaker API. We can, if we wish, expose the actual URL that our model's endpoint is receiving data from, however, if we just send it data ourselves we will not get anything in return. This is because the endpoint created by SageMaker requires the entity accessing it have the correct permissions. So, we would need to somehow authenticate our web app with AWS.\n",
    "\n",
    "Having a website that authenticates to AWS seems a bit beyond the scope of this lesson so we will opt for an alternative approach. Namely, we will create a new endpoint which does not require authentication and which acts as a proxy for the SageMaker endpoint.\n",
    "\n",
    "As an additional constraint, we will try to avoid doing any data processing in the web app itself. Remember that when we constructed and tested our model we started with a movie review, then we simplified it by removing any html formatting and punctuation, then we constructed a bag of words embedding and the resulting vector is what we sent to our model. All of this needs to be done to our user input as well.\n",
    "\n",
    "Fortunately we can do all of this data processing in the backend, using Amazon's Lambda service.\n",
    "\n",
    "<img src=\"Web App Diagram.svg\">\n",
    "\n",
    "The diagram above gives an overview of how the various services will work together. On the far right is the model which we trained above and which will be deployed using SageMaker. On the far left is our web app that collects a user's movie review, sends it off and expects a positive or negative sentiment in return.\n",
    "\n",
    "In the middle is where some of the magic happens. We will construct a Lambda function, which you can think of as a straightforward Python function that can be executed whenever a specified event occurs. This Python function will do the data processing we need to perform on a user submitted review. In addition, we will give this function permission to send and recieve data from a SageMaker endpoint.\n",
    "\n",
    "Lastly, the method we will use to execute the Lambda function is a new endpoint that we will create using API Gateway. This endpoint will be a url that listens for data to be sent to it. Once it gets some data it will pass that data on to the Lambda function and then return whatever the Lambda function returns. Essentially it will act as an interface that lets our web app communicate with the Lambda function.\n",
    "\n",
    "### Processing a single review\n",
    "\n",
    "For now, suppose we are given a movie review by our user in the form of a string, like so:"
   ]
  },
  {
   "cell_type": "code",
   "execution_count": 42,
   "metadata": {},
   "outputs": [],
   "source": [
    "test_review = \"Nothing but a disgusting materialistic pageant of glistening abed remote control greed zombies, totally devoid of any heart or heat. A romantic comedy that has zero romantic chemestry and zero laughs!\""
   ]
  },
  {
   "cell_type": "markdown",
   "metadata": {},
   "source": [
    "How do we go from this string to the bag of words feature vector that is expected by our model?\n",
    "\n",
    "If we recall at the beginning of this notebook, the first step is to remove any unnecessary characters using the `review_to_words` method. Remember that we intentionally did this in a very simplistic way. This is because we are going to have to copy this method to our (eventual) Lambda function (we will go into more detail later) and this means it needs to be rather simplistic."
   ]
  },
  {
   "cell_type": "code",
   "execution_count": 43,
   "metadata": {},
   "outputs": [
    {
     "name": "stdout",
     "output_type": "stream",
     "text": [
      "nothing but a disgusting materialistic pageant of glistening abed remote control greed zombies totally devoid of any heart or heat a romantic comedy that has zero romantic chemestry and zero laughs\n"
     ]
    }
   ],
   "source": [
    "test_words = review_to_words(test_review)\n",
    "print(test_words)"
   ]
  },
  {
   "cell_type": "markdown",
   "metadata": {},
   "source": [
    "Next, we need to construct a bag of words embedding of the `test_words` string. To do this, remember that a bag of words embedding uses a `vocabulary` consisting of the most frequently appearing words in a set of documents. Then, for each word in the vocabulary we record the number of times that word appears in `test_words`. We constructed the `vocabulary` earlier using the training set for our problem so encoding `test_words` is relatively straightforward."
   ]
  },
  {
   "cell_type": "code",
   "execution_count": 44,
   "metadata": {},
   "outputs": [],
   "source": [
    "def bow_encoding(words, vocabulary):\n",
    "    bow = [0] * len(vocabulary) # Start by setting the count for each word in the vocabulary to zero.\n",
    "    for word in words.split():  # For each word in the string\n",
    "        if word in vocabulary:  # If the word is one that occurs in the vocabulary, increase its count.\n",
    "            bow[vocabulary[word]] += 1\n",
    "    return bow"
   ]
  },
  {
   "cell_type": "code",
   "execution_count": 45,
   "metadata": {},
   "outputs": [
    {
     "name": "stdout",
     "output_type": "stream",
     "text": [
      "[0, 0, 0, 0, 0, 0, 0, 0, 0, 0, 0, 0, 0, 0, 0, 0, 0, 0, 0, 0, 0, 0, 0, 0, 0, 0, 0, 0, 0, 0, 0, 0, 0, 0, 0, 0, 0, 0, 0, 0, 0, 0, 0, 0, 0, 0, 0, 0, 0, 0, 0, 0, 0, 0, 0, 0, 0, 0, 0, 0, 0, 0, 0, 0, 0, 0, 0, 0, 0, 0, 0, 0, 0, 0, 0, 0, 0, 0, 0, 0, 0, 0, 0, 0, 0, 0, 0, 0, 0, 0, 0, 0, 0, 0, 0, 0, 0, 0, 0, 0, 0, 0, 0, 0, 0, 0, 0, 0, 0, 0, 0, 0, 0, 0, 0, 0, 0, 0, 0, 0, 0, 0, 0, 0, 0, 0, 0, 0, 0, 0, 0, 0, 0, 0, 0, 0, 0, 0, 0, 0, 0, 0, 0, 0, 0, 0, 0, 0, 0, 0, 0, 0, 0, 0, 0, 0, 0, 0, 0, 0, 0, 0, 0, 0, 0, 0, 0, 0, 0, 0, 0, 0, 0, 0, 0, 0, 0, 0, 0, 0, 0, 0, 0, 0, 0, 0, 0, 0, 0, 0, 0, 0, 0, 0, 0, 0, 0, 0, 0, 0, 0, 0, 0, 0, 0, 0, 0, 0, 0, 0, 0, 0, 0, 0, 0, 0, 0, 0, 0, 0, 0, 0, 0, 0, 0, 0, 1, 0, 0, 0, 0, 0, 0, 0, 0, 0, 0, 0, 0, 0, 0, 0, 0, 0, 0, 0, 0, 0, 0, 0, 0, 0, 0, 0, 0, 0, 1, 0, 0, 0, 0, 0, 0, 0, 0, 0, 0, 0, 0, 0, 0, 0, 0, 0, 0, 0, 0, 0, 0, 0, 0, 0, 0, 0, 0, 0, 0, 0, 0, 0, 0, 0, 0, 0, 0, 0, 0, 0, 0, 0, 0, 0, 0, 0, 0, 0, 0, 0, 0, 0, 0, 0, 0, 0, 0, 0, 0, 0, 0, 0, 0, 0, 0, 0, 0, 0, 0, 0, 0, 0, 0, 0, 0, 0, 0, 0, 0, 0, 0, 0, 0, 0, 0, 0, 0, 0, 0, 0, 0, 0, 0, 0, 0, 0, 0, 0, 0, 0, 0, 0, 0, 0, 0, 0, 0, 0, 0, 0, 0, 0, 0, 0, 0, 0, 0, 0, 0, 0, 0, 0, 0, 0, 0, 0, 0, 0, 0, 0, 0, 0, 0, 0, 0, 0, 0, 0, 0, 0, 0, 0, 0, 0, 0, 0, 0, 0, 0, 0, 0, 0, 0, 0, 0, 0, 0, 0, 0, 0, 0, 0, 0, 0, 0, 0, 0, 0, 0, 0, 0, 0, 0, 0, 0, 0, 0, 0, 0, 0, 0, 0, 0, 0, 0, 0, 0, 0, 0, 0, 0, 0, 0, 0, 0, 0, 0, 0, 0, 0, 0, 0, 0, 0, 0, 0, 0, 0, 0, 0, 0, 0, 0, 0, 0, 0, 0, 0, 0, 0, 0, 0, 0, 0, 0, 0, 0, 0, 0, 0, 0, 0, 0, 0, 0, 0, 0, 0, 0, 0, 0, 0, 0, 0, 0, 0, 0, 0, 0, 0, 0, 0, 0, 0, 0, 0, 0, 0, 0, 0, 0, 0, 0, 0, 0, 0, 0, 0, 0, 0, 0, 0, 0, 0, 0, 0, 0, 0, 0, 0, 0, 0, 0, 0, 0, 0, 0, 0, 0, 0, 0, 0, 0, 0, 0, 0, 0, 0, 0, 0, 0, 0, 0, 0, 0, 0, 0, 0, 0, 0, 0, 0, 0, 0, 0, 0, 0, 0, 0, 0, 0, 0, 0, 0, 0, 0, 0, 0, 0, 0, 0, 0, 0, 0, 0, 0, 0, 0, 0, 0, 0, 0, 0, 0, 0, 0, 0, 0, 0, 0, 0, 0, 0, 0, 0, 0, 0, 0, 0, 0, 0, 0, 0, 0, 0, 0, 0, 0, 0, 0, 0, 0, 0, 0, 0, 0, 0, 0, 1, 0, 0, 0, 0, 0, 0, 0, 0, 0, 0, 0, 0, 0, 0, 0, 0, 0, 0, 0, 0, 0, 0, 0, 0, 0, 0, 0, 0, 0, 0, 0, 0, 0, 0, 0, 0, 0, 0, 0, 0, 0, 0, 0, 0, 0, 0, 0, 0, 0, 0, 0, 0, 0, 0, 0, 0, 0, 0, 0, 0, 0, 0, 0, 0, 0, 0, 0, 0, 0, 0, 0, 0, 0, 0, 0, 0, 0, 0, 0, 0, 0, 0, 0, 0, 0, 0, 0, 0, 0, 0, 0, 0, 0, 0, 0, 0, 0, 0, 0, 0, 0, 0, 0, 0, 0, 0, 0, 0, 0, 0, 0, 0, 0, 0, 0, 0, 0, 0, 0, 0, 0, 0, 0, 0, 0, 0, 0, 0, 0, 0, 0, 0, 0, 0, 0, 0, 0, 0, 0, 0, 0, 0, 0, 0, 0, 0, 0, 0, 0, 0, 0, 0, 0, 0, 0, 0, 0, 0, 0, 0, 0, 0, 0, 0, 0, 0, 0, 0, 0, 0, 0, 0, 0, 0, 0, 0, 0, 0, 0, 0, 0, 0, 0, 0, 0, 0, 0, 0, 0, 0, 0, 0, 0, 0, 0, 0, 0, 0, 0, 0, 0, 0, 0, 0, 0, 0, 0, 0, 0, 0, 0, 0, 0, 0, 0, 0, 0, 0, 0, 0, 0, 0, 0, 0, 0, 0, 0, 0, 0, 0, 0, 0, 0, 0, 0, 0, 0, 0, 0, 0, 0, 0, 0, 0, 0, 0, 0, 0, 0, 0, 0, 0, 0, 1, 0, 0, 0, 0, 0, 0, 0, 0, 0, 0, 0, 0, 0, 0, 0, 0, 0, 0, 0, 0, 0, 0, 0, 0, 0, 0, 0, 0, 0, 0, 0, 0, 0, 0, 0, 0, 0, 0, 0, 0, 0, 0, 0, 0, 0, 0, 0, 0, 0, 0, 0, 0, 0, 0, 0, 0, 0, 0, 0, 0, 0, 0, 0, 0, 0, 0, 0, 0, 0, 0, 0, 0, 0, 0, 0, 0, 0, 0, 0, 0, 0, 0, 0, 0, 0, 0, 1, 0, 0, 0, 0, 0, 0, 0, 0, 0, 0, 0, 0, 0, 0, 0, 0, 0, 0, 0, 0, 0, 0, 0, 0, 0, 0, 0, 0, 0, 0, 0, 0, 0, 0, 0, 0, 0, 0, 0, 0, 0, 0, 0, 0, 0, 0, 0, 0, 0, 0, 0, 0, 0, 0, 0, 0, 0, 0, 0, 0, 0, 0, 0, 0, 0, 0, 0, 0, 0, 0, 0, 0, 0, 0, 0, 0, 0, 0, 0, 0, 0, 0, 0, 0, 0, 0, 0, 0, 0, 0, 0, 0, 0, 0, 0, 0, 0, 0, 0, 0, 0, 0, 0, 0, 0, 0, 0, 0, 0, 0, 0, 0, 0, 0, 0, 0, 0, 0, 0, 0, 0, 0, 0, 0, 0, 0, 0, 0, 0, 0, 0, 0, 0, 0, 0, 0, 0, 0, 0, 0, 0, 0, 0, 0, 0, 0, 0, 0, 0, 0, 0, 0, 0, 0, 0, 0, 0, 0, 0, 0, 0, 0, 0, 0, 0, 0, 0, 0, 0, 0, 0, 0, 0, 0, 0, 0, 0, 0, 0, 0, 0, 0, 0, 0, 0, 0, 0, 0, 0, 0, 0, 0, 0, 0, 0, 0, 0, 0, 0, 0, 0, 0, 0, 0, 0, 0, 0, 0, 0, 0, 0, 0, 0, 0, 0, 0, 0, 0, 0, 0, 0, 0, 0, 0, 0, 0, 0, 0, 0, 0, 0, 0, 0, 0, 0, 0, 0, 0, 0, 0, 0, 0, 0, 0, 0, 0, 0, 0, 0, 0, 0, 0, 1, 0, 0, 0, 0, 0, 0, 0, 0, 0, 0, 0, 0, 0, 0, 0, 0, 0, 0, 0, 0, 0, 0, 0, 0, 0, 0, 0, 0, 0, 0, 0, 0, 0, 0, 0, 0, 0, 0, 0, 0, 0, 0, 0, 0, 0, 0, 0, 0, 0, 0, 0, 0, 0, 0, 0, 1, 0, 0, 0, 0, 0, 0, 0, 0, 0, 0, 0, 0, 0, 0, 0, 0, 0, 0, 0, 0, 0, 0, 0, 0, 0, 0, 0, 0, 0, 0, 0, 0, 0, 0, 0, 0, 0, 0, 0, 0, 0, 0, 0, 0, 0, 0, 0, 0, 0, 0, 0, 0, 0, 0, 0, 0, 0, 0, 0, 0, 0, 0, 0, 0, 0, 0, 0, 0, 0, 0, 0, 0, 0, 0, 0, 0, 0, 0, 0, 0, 0, 0, 0, 0, 0, 0, 0, 0, 0, 0, 0, 0, 0, 0, 0, 0, 0, 0, 0, 0, 0, 0, 0, 0, 0, 0, 0, 0, 0, 0, 0, 0, 0, 0, 0, 0, 0, 0, 0, 0, 0, 0, 0, 0, 0, 0, 0, 0, 0, 0, 0, 0, 0, 0, 0, 0, 0, 0, 0, 0, 0, 0, 0, 0, 0, 0, 0, 0, 0, 0, 0, 0, 0, 0, 0, 0, 0, 0, 0, 0, 0, 0, 0, 0, 0, 0, 0, 0, 0, 0, 0, 0, 0, 0, 0, 0, 0, 0, 0, 0, 0, 0, 0, 0, 0, 0, 0, 0, 0, 0, 0, 0, 0, 0, 0, 0, 0, 0, 0, 0, 0, 0, 0, 0, 0, 0, 0, 0, 0, 0, 0, 0, 0, 0, 0, 0, 0, 0, 0, 0, 0, 0, 0, 0, 0, 0, 0, 0, 0, 0, 0, 0, 0, 0, 0, 0, 0, 0, 0, 0, 0, 0, 0, 0, 0, 0, 0, 0, 0, 0, 0, 0, 0, 0, 0, 0, 0, 0, 0, 0, 0, 0, 0, 0, 0, 0, 0, 0, 0, 0, 0, 0, 0, 0, 0, 0, 0, 0, 0, 0, 0, 0, 0, 0, 0, 0, 0, 0, 0, 0, 0, 0, 0, 0, 0, 0, 0, 0, 0, 0, 0, 0, 0, 0, 0, 0, 0, 0, 0, 0, 0, 0, 0, 0, 0, 0, 0, 0, 0, 0, 0, 0, 0, 0, 0, 0, 0, 0, 0, 0, 0, 0, 0, 0, 0, 0, 0, 0, 0, 0, 0, 0, 0, 0, 0, 0, 0, 0, 0, 0, 0, 0, 0, 0, 0, 0, 0, 0, 0, 0, 0, 0, 0, 0, 0, 0, 0, 0, 0, 0, 0, 0, 0, 0, 0, 0, 0, 0, 0, 0, 0, 0, 0, 0, 0, 0, 0, 0, 0, 0, 0, 0, 0, 0, 0, 0, 0, 0, 0, 0, 0, 0, 0, 0, 0, 0, 0, 0, 0, 0, 0, 0, 0, 0, 0, 0, 0, 0, 0, 0, 0, 0, 0, 0, 0, 0, 0, 0, 0, 0, 0, 0, 0, 0, 0, 0, 0, 0, 0, 0, 0, 0, 0, 0, 0, 0, 0, 0, 0, 0, 0, 0, 0, 0, 0, 0, 0, 0, 0, 0, 0, 0, 0, 0, 0, 0, 0, 0, 0, 0, 0, 0, 0, 0, 0, 0, 0, 0, 0, 0, 0, 0, 0, 0, 0, 0, 0, 0, 0, 0, 0, 0, 0, 0, 0, 0, 0, 0, 0, 0, 0, 0, 0, 0, 0, 0, 0, 0, 0, 0, 0, 0, 0, 0, 0, 0, 0, 0, 0, 0, 0, 0, 0, 0, 0, 0, 0, 0, 0, 0, 0, 0, 0, 0, 0, 0, 0, 0, 0, 0, 0, 0, 0, 0, 0, 0, 0, 0, 0, 0, 0, 0, 0, 0, 0, 0, 0, 0, 0, 0, 0, 0, 0, 0, 0, 0, 0, 0, 0, 0, 0, 0, 0, 0, 0, 0, 0, 0, 0, 0, 0, 0, 0, 0, 0, 0, 0, 0, 0, 0, 0, 0, 0, 0, 0, 0, 0, 0, 0, 0, 0, 0, 0, 0, 0, 0, 0, 0, 0, 0, 0, 0, 0, 0, 0, 0, 0, 0, 0, 0, 0, 0, 0, 0, 0, 0, 0, 0, 0, 0, 0, 0, 0, 0, 0, 0, 0, 0, 0, 0, 0, 0, 0, 0, 0, 0, 0, 0, 0, 0, 0, 0, 0, 0, 0, 0, 0, 0, 0, 0, 0, 0, 0, 0, 0, 0, 0, 0, 0, 0, 0, 0, 0, 0, 0, 0, 0, 0, 0, 0, 0, 1, 0, 0, 0, 0, 0, 0, 0, 0, 0, 0, 0, 0, 0, 0, 0, 0, 0, 0, 0, 0, 0, 0, 0, 0, 0, 0, 0, 0, 0, 0, 0, 0, 0, 0, 0, 0, 0, 0, 0, 0, 0, 0, 0, 0, 0, 0, 0, 0, 0, 0, 0, 0, 0, 0, 0, 0, 0, 0, 0, 0, 0, 0, 0, 0, 0, 0, 0, 0, 0, 0, 0, 0, 0, 0, 1, 0, 0, 0, 0, 0, 0, 0, 0, 0, 0, 0, 0, 0, 0, 0, 0, 0, 0, 0, 0, 1, 0, 0, 1, 0, 0, 0, 0, 0, 0, 0, 0, 0, 0, 0, 0, 0, 0, 0, 0, 0, 0, 0, 0, 0, 0, 0, 0, 0, 0, 0, 0, 0, 0, 0, 0, 0, 0, 0, 0, 0, 0, 0, 0, 0, 0, 0, 0, 0, 0, 0, 0, 0, 0, 0, 0, 0, 0, 0, 0, 0, 0, 0, 0, 0, 0, 0, 0, 0, 0, 0, 0, 0, 0, 0, 0, 0, 0, 0, 0, 0, 0, 0, 0, 0, 0, 0, 0, 0, 0, 0, 0, 0, 0, 0, 0, 0, 0, 0, 0, 0, 0, 0, 0, 0, 0, 0, 0, 0, 0, 0, 0, 0, 0, 0, 0, 0, 0, 0, 0, 0, 0, 0, 0, 0, 0, 0, 0, 0, 0, 0, 0, 0, 0, 0, 0, 0, 0, 0, 0, 0, 0, 0, 0, 0, 0, 0, 0, 0, 0, 0, 0, 0, 0, 0, 0, 0, 0, 0, 0, 0, 0, 0, 0, 0, 0, 0, 0, 0, 0, 0, 0, 0, 0, 0, 0, 0, 0, 0, 0, 0, 0, 0, 0, 0, 0, 0, 0, 0, 0, 0, 0, 0, 0, 0, 0, 0, 0, 0, 0, 0, 0, 0, 0, 0, 0, 0, 0, 0, 0, 0, 0, 0, 0, 0, 0, 0, 0, 0, 0, 0, 0, 0, 0, 0, 0, 0, 0, 0, 0, 0, 0, 0, 0, 0, 0, 0, 0, 0, 0, 0, 0, 0, 0, 0, 0, 0, 0, 0, 0, 0, 0, 0, 0, 0, 0, 0, 0, 0, 0, 0, 0, 0, 0, 0, 0, 0, 0, 0, 0, 0, 0, 0, 0, 0, 0, 0, 0, 0, 0, 0, 0, 0, 0, 0, 0, 0, 0, 0, 0, 0, 0, 0, 0, 0, 0, 0, 0, 0, 0, 0, 0, 0, 0, 0, 0, 0, 0, 0, 0, 0, 0, 0, 0, 0, 0, 0, 0, 0, 0, 0, 0, 0, 0, 0, 0, 0, 0, 0, 0, 0, 0, 0, 0, 0, 0, 0, 0, 0, 0, 0, 0, 0, 0, 0, 0, 0, 0, 0, 0, 0, 0, 0, 0, 0, 0, 0, 0, 0, 0, 0, 0, 0, 0, 0, 0, 0, 0, 0, 0, 0, 0, 0, 0, 0, 0, 0, 0, 0, 0, 0, 0, 0, 0, 0, 0, 0, 0, 0, 0, 0, 0, 0, 0, 0, 0, 0, 0, 0, 0, 0, 0, 0, 0, 0, 0, 0, 0, 0, 0, 0, 0, 0, 0, 0, 0, 0, 0, 0, 0, 0, 0, 0, 0, 0, 0, 0, 0, 0, 0, 0, 0, 0, 0, 0, 0, 0, 0, 0, 0, 0, 0, 0, 0, 0, 0, 0, 0, 0, 0, 0, 0, 0, 0, 0, 0, 0, 0, 0, 0, 0, 0, 0, 0, 0, 0, 0, 0, 0, 0, 1, 0, 0, 0, 0, 0, 0, 0, 0, 0, 0, 0, 0, 0, 0, 0, 0, 0, 0, 0, 0, 0, 0, 0, 0, 0, 0, 0, 0, 0, 0, 0, 0, 0, 0, 0, 0, 0, 0, 0, 0, 0, 0, 0, 0, 0, 0, 0, 0, 0, 0, 0, 0, 0, 0, 0, 0, 0, 0, 0, 0, 0, 0, 0, 0, 0, 0, 0, 0, 0, 0, 0, 0, 0, 0, 0, 0, 0, 0, 0, 0, 0, 0, 0, 0, 0, 0, 0, 0, 0, 0, 0, 0, 0, 0, 0, 0, 0, 0, 0, 0, 0, 0, 0, 0, 0, 0, 0, 0, 0, 0, 0, 0, 0, 0, 0, 0, 0, 0, 0, 0, 0, 0, 0, 0, 0, 0, 0, 0, 0, 0, 0, 0, 0, 0, 0, 0, 0, 0, 0, 0, 0, 0, 0, 0, 0, 0, 0, 0, 0, 0, 0, 0, 0, 0, 0, 0, 0, 0, 0, 0, 0, 0, 0, 0, 0, 0, 0, 0, 0, 0, 0, 0, 0, 0, 0, 0, 0, 0, 0, 0, 0, 0, 0, 0, 0, 0, 0, 0, 0, 0, 0, 0, 0, 0, 0, 0, 0, 0, 0, 0, 0, 0, 0, 0, 0, 0, 0, 0, 0, 0, 0, 0, 0, 0, 0, 0, 0, 0, 0, 0, 0, 0, 0, 0, 0, 0, 0, 0, 0, 0, 0, 0, 0, 0, 0, 0, 0, 0, 0, 0, 0, 0, 0, 0, 0, 0, 0, 0, 0, 0, 0, 0, 0, 0, 0, 0, 0, 0, 0, 0, 0, 0, 0, 0, 0, 0, 0, 0, 0, 0, 0, 0, 0, 0, 0, 0, 0, 0, 0, 0, 0, 0, 0, 0, 0, 0, 0, 0, 0, 0, 0, 0, 0, 0, 0, 0, 0, 0, 0, 0, 0, 0, 0, 0, 0, 0, 0, 0, 0, 0, 0, 0, 0, 0, 0, 0, 0, 0, 0, 0, 0, 0, 0, 0, 0, 0, 0, 0, 0, 0, 0, 0, 0, 0, 0, 0, 0, 0, 0, 0, 0, 0, 0, 0, 0, 0, 0, 0, 0, 0, 0, 0, 0, 0, 0, 0, 0, 0, 0, 0, 0, 0, 0, 0, 0, 0, 0, 0, 0, 0, 0, 0, 0, 0, 0, 0, 0, 0, 0, 0, 0, 0, 0, 0, 0, 0, 0, 0, 0, 0, 0, 0, 0, 0, 0, 0, 0, 0, 0, 0, 0, 0, 0, 0, 0, 0, 0, 0, 0, 0, 0, 0, 0, 0, 0, 0, 0, 0, 0, 0, 0, 0, 0, 0, 0, 0, 0, 0, 0, 0, 0, 0, 0, 0, 0, 0, 0, 0, 0, 0, 0, 0, 0, 0, 0, 0, 0, 0, 0, 0, 0, 0, 0, 0, 0, 0, 0, 0, 0, 0, 0, 0, 0, 0, 0, 0, 0, 0, 0, 0, 0, 0, 0, 0, 0, 0, 0, 0, 0, 0, 0, 0, 0, 0, 0, 0, 0, 0, 0, 0, 0, 0, 0, 0, 0, 0, 0, 0, 0, 0, 0, 0, 0, 0, 0, 0, 0, 0, 0, 0, 0, 0, 1, 0, 0, 0, 0, 0, 0, 0, 0, 0, 0, 0, 0, 0, 0, 0, 0, 0, 0, 0, 0, 0, 0, 0, 0, 0, 0, 0, 0, 0, 0, 0, 0, 0, 0, 0, 2, 0, 0, 0, 0, 0, 0, 0, 0, 0, 0, 0, 0, 0, 0, 0, 0, 0, 0, 0, 0, 0, 0, 0, 0, 0, 0, 0, 0, 0, 0, 0, 0, 0, 0, 0, 0, 0, 0, 0, 0, 1, 0, 0, 0, 0, 0, 0, 0, 0, 0, 0, 0, 0, 0, 0, 0, 0, 0, 0, 0, 0, 0, 0, 0, 0, 0, 0, 0, 0, 0, 0, 0, 0, 0, 0, 0, 0, 0, 0, 0, 0, 0, 0, 0, 0, 0, 0, 0, 0, 0, 0, 0, 0, 0, 0, 0, 0, 0, 0, 0, 0, 0, 0, 0, 0, 0, 0, 0, 0, 0, 0, 0, 0, 0, 0, 0, 0, 0, 0, 0, 0, 0, 0, 0, 0, 0, 0, 0, 0, 0, 0, 0, 0, 0, 0, 0, 0, 0, 0, 0, 0, 0, 0, 0, 0, 0, 0, 0, 0, 0, 0, 0, 0, 0, 0, 0, 0, 0, 0, 0, 0, 0, 0, 0, 0, 0, 0, 0, 0, 0, 0, 0, 0, 0, 0, 0, 0, 0, 0, 0, 0, 0, 0, 0, 0, 0, 0, 0, 0, 0, 0, 0, 0, 0, 0, 0, 0, 0, 0, 0, 0, 0, 0, 0, 0, 0, 0, 0, 0, 0, 0, 0, 0, 0, 0, 0, 0, 0, 0, 0, 0, 0, 0, 0, 0, 0, 0, 0, 0, 0, 0, 0, 0, 0, 0, 0, 0, 0, 0, 0, 0, 0, 0, 0, 0, 0, 0, 0, 0, 0, 0, 0, 0, 0, 0, 0, 0, 0, 0, 0, 0, 0, 0, 0, 0, 0, 0, 0, 0, 0, 0, 0, 0, 0, 0, 0, 0, 0, 0, 0, 0, 0, 0, 0, 0, 0, 0, 0, 0, 0, 0, 0, 0, 0, 0, 0, 0, 0, 0, 0, 0, 0, 0, 0, 0, 0, 0, 0, 0, 0, 0, 0, 0, 0, 0, 0, 0, 0, 0, 0, 0, 0, 0, 0, 0, 0, 0, 0, 0, 0, 0, 0, 0, 0, 0, 0, 0, 0, 0, 0, 0, 0, 0, 0, 0, 0, 0, 0, 0, 0, 0, 0, 0, 0, 0, 0, 0, 0, 0, 0, 0, 0, 0, 0, 0, 0, 0, 0, 0, 0, 0, 0, 0, 0, 0, 0, 0, 0, 0, 0, 0, 0, 0, 0, 0, 0, 0, 0, 0, 0, 0, 0, 0, 0, 0, 0, 0, 0, 0, 0, 0, 0, 0, 0, 0, 0, 0, 0, 0, 0, 0, 0, 0, 0, 0, 0, 0, 0, 0, 0, 0, 0, 0, 0, 0, 0, 0, 0, 0, 0, 0, 0, 0, 0, 0, 0, 0, 0, 0, 0, 0, 0, 0, 0, 0, 0, 0, 0, 0, 0, 0, 0, 0, 0, 0, 0, 0, 0, 0, 0, 0, 0, 0, 0, 0, 0, 0, 0, 0, 0, 0, 0, 0, 0, 0, 0, 0, 0, 0, 0, 0, 0, 0, 0, 0, 0, 0, 0, 0, 0, 0, 0, 0, 0, 0, 0, 0, 0, 0, 0, 0, 0, 0, 0, 0, 0, 0, 0, 0, 0, 0, 0, 0, 0, 0, 0, 0, 0, 0, 0, 0, 0, 0, 0, 0, 0, 0, 0, 0, 0, 0, 0, 0, 0, 0, 0, 0, 0, 1, 0, 0, 0, 0, 0, 0, 0, 0, 0, 0, 0, 0, 0, 0, 0, 0, 0, 0, 0, 0, 0, 0, 0, 0, 0, 0, 0, 0, 0, 0, 0, 0, 0, 0, 0, 0, 0, 0, 0, 0, 0, 0, 0, 0, 0, 0, 0, 0, 0, 0, 0, 0, 0, 0, 0, 0, 0, 0, 0, 0, 0, 0, 0, 0, 0, 0, 0, 0, 0, 0, 0, 0, 0, 0, 0, 0, 0, 0, 0, 0, 0, 0, 0, 0, 0, 0, 0, 0, 0, 0, 0, 0, 0, 0, 0, 0, 0, 0, 0, 0, 0, 0, 0, 0, 0, 0, 0, 0, 0, 0, 2, 0, 0, 0, 0, 0, 0, 0, 0, 0, 0, 0, 0, 0, 0, 0, 0, 0, 0, 0, 0, 0, 0, 0, 0, 0, 0, 0, 0, 0, 0, 0, 0, 0, 0, 0, 0, 0, 0, 0, 0, 0, 0, 0, 0, 0, 0, 0, 0, 0, 0, 0, 0, 0, 0, 0, 0, 0, 0, 0, 0, 0, 0, 0, 0, 0, 0, 0, 0, 0, 0, 0, 0, 0, 0, 0, 0, 0, 0, 0, 0, 0, 0, 0, 0, 0, 0, 0, 0, 0, 0, 0, 0, 0, 0, 0, 0, 0, 0, 0, 0, 0, 0, 0, 0, 0, 0, 0, 0, 0, 0, 0, 0, 0, 0, 0, 0, 0, 0, 0, 0, 0, 0, 0, 0, 0, 0, 0, 0, 0, 0, 0, 0, 0, 0, 0, 0, 0, 0, 0, 0, 0, 0, 0, 0, 0, 0, 0, 0, 0, 0, 0, 0, 0, 0, 0, 0, 0, 0, 0, 0, 0, 0, 0, 0, 0, 0, 0, 0, 0, 0, 0, 0, 0, 0, 0, 0, 0, 0, 0, 0, 0, 0, 0, 0, 0, 0, 0, 0, 0, 0, 0, 0, 0, 0, 0, 0, 0, 0, 0, 0, 0, 0, 0, 0, 0, 0, 0, 0, 0, 0, 0, 0, 0, 0, 0, 0, 0, 0, 0, 0, 0, 0, 0, 0, 0, 0, 0, 0, 0, 0, 0, 0, 0, 0, 0, 0, 0, 0, 0, 0, 0, 0, 0, 0, 0, 0, 0, 0, 0, 0, 0, 0, 0, 0, 0, 0, 0, 0, 0, 0, 0, 0, 0, 0, 0, 0, 0, 0, 0, 0, 0, 0, 0, 0, 0, 0, 0, 0, 0, 0, 0, 0, 0, 0, 0, 0, 0, 0, 0, 0, 0, 0, 0, 0, 0, 0, 0, 0, 0, 0, 0, 0, 0, 0, 0, 0, 0, 0, 0, 0, 0, 0, 0, 0, 0, 0, 0, 0, 0, 0, 0, 0, 0, 0, 0, 0, 0, 0, 0, 0, 0, 0, 0, 0, 0, 0, 0, 0, 0, 0, 0, 0, 0, 0, 0, 0, 0, 0, 0, 0, 0, 0, 0, 0, 0, 0, 0, 0, 0, 0, 0, 0, 0, 0, 0, 0, 0, 0, 0, 0, 0, 0, 0, 0, 0, 0, 0, 0, 0, 0, 0, 0, 0, 0, 0, 0, 0, 0, 0, 0, 0, 0, 0, 0, 0, 0, 0, 0, 0, 0, 0, 0, 0, 0, 0, 0, 0, 0, 0, 0, 0, 0, 0, 0, 0, 0, 0, 0, 0, 0, 0, 0, 0, 0, 0, 0, 0, 0, 0, 0, 0, 0, 0, 0, 0, 0, 0, 0, 0, 0, 0, 0, 0, 0, 0, 0, 0, 0, 0, 0, 0, 0, 0, 0, 0, 0, 0, 0, 0, 0, 0, 0, 0, 0, 0, 0, 0, 0, 0, 0, 0, 0, 0, 0, 0, 0, 0, 0, 0, 0, 0, 0, 0, 0, 0, 0, 0, 0, 0, 0, 0, 0, 0, 0, 0, 0, 0, 0, 0, 0, 0, 0, 0, 0, 0, 0, 0, 0, 0, 0, 0, 0, 0, 0, 0, 0, 0, 0, 0, 0, 0, 0, 0, 0, 0, 0, 0, 0, 0, 0, 0, 0, 0, 0, 0, 0, 0, 0, 0, 0, 0, 0, 0, 0, 0, 0, 0, 0, 0, 0, 0, 0, 0, 0, 0, 0, 0, 0, 0, 0, 0, 0, 0, 0, 0, 0, 0, 0, 0, 0, 0, 0, 0, 0, 0, 0, 0, 0, 0, 0, 0, 0, 0, 0, 0, 0, 0, 0, 0, 0, 0, 0, 0, 0, 0, 0, 0, 0, 0, 0, 0, 0, 0, 0, 0, 0, 0, 0, 0, 0, 0, 0, 0, 0, 0, 0, 0, 0, 0, 0, 0, 0, 0, 0, 0, 0, 0, 0, 0, 0, 0, 0, 0, 0, 0, 0, 0, 0, 0, 0, 0, 0, 0, 0, 0, 0, 0, 0, 0, 0, 0, 0, 0, 0, 0, 0, 0, 0, 0, 0, 0, 0, 0, 0, 0, 0, 0, 0, 0, 0, 0, 0, 0, 0, 0, 0, 0, 0, 0, 0, 0, 0, 0, 0, 0, 0, 0, 0, 0, 0, 1, 0, 0, 0, 0, 0, 0, 0, 0, 0, 0, 0, 0, 0, 0, 0, 0, 0, 0, 0, 0, 0, 0, 0, 0, 0, 0, 0, 0, 0, 0, 0, 0, 0, 0, 0, 0, 0, 0, 0, 0, 0, 0, 0, 0, 0, 0, 0, 0, 0, 0, 0, 0, 0, 0, 0, 0, 0, 0, 0, 0, 0, 0, 0, 0, 0, 0, 0, 0, 0, 0, 0, 0, 0, 0, 0, 0, 0, 0, 0, 0, 0, 0, 0, 0, 0, 0, 0, 0, 0, 0, 0, 0, 0, 0, 0, 0, 0, 0, 0, 0, 0, 0, 0, 0, 0, 0, 0, 1, 0, 0, 0, 0, 0, 0, 0, 0, 0, 0, 0, 0, 0, 0, 0, 0, 0, 0, 0, 0, 0, 0, 0, 0, 0, 0, 0, 0, 0, 0, 0, 0, 0, 0, 0, 0, 0, 0, 0, 0, 0, 0, 0, 0, 0, 0, 0, 0, 0, 0, 0, 0, 0, 0, 0, 0, 0, 0, 0, 0, 0, 0, 0, 0, 0, 0, 0, 0, 0, 0, 0, 0, 0, 0, 0, 0, 0, 0, 0, 0, 0, 0, 0, 0, 0, 0, 0, 0, 0, 0, 0, 0, 0, 0, 0, 0, 0, 0, 0, 0, 0, 0, 0, 0, 0, 0, 0, 0, 0, 0, 0, 0, 0, 0, 0, 0, 0, 0, 0, 0, 0, 0, 0, 0, 0, 0, 0, 0, 0, 0, 0, 0, 0, 0, 0, 0, 0, 0, 0, 0, 0, 0, 0, 0, 0, 0, 0, 0, 0, 0, 0, 0, 0, 0, 0, 0, 0, 0, 0, 0, 0, 0, 0, 0, 0, 0, 0, 0, 0, 0, 0, 0, 0, 0, 0, 0, 0, 0, 0, 0, 0, 0, 0, 0, 0, 0, 0, 0, 0, 0, 0, 0, 0, 0, 0, 0, 0, 0, 0, 0, 0, 0, 0, 0, 0, 0, 0, 0, 0, 0, 0, 0, 0, 0, 0, 0, 0, 0, 0, 0, 0, 0, 0, 0, 0, 0, 0, 0, 0, 0, 0, 0, 0, 0, 0, 0, 0, 0, 0, 0, 0, 0, 0, 0, 0, 0, 0, 0, 0, 0, 0, 0, 0, 0, 0, 0, 0, 0, 0, 0, 0, 0, 0, 0, 0, 0, 0, 0, 0, 0, 0, 0, 0, 0, 0, 0, 0, 0, 0, 0, 0, 0, 0, 0, 0, 0, 0, 0, 0, 0, 0, 0, 0, 0, 0, 0, 0, 0, 0, 0, 0, 0, 0, 0, 0, 0, 0, 0, 0, 0, 0, 0, 0, 0, 0, 0, 0, 0, 0, 0, 0, 0, 0, 0, 0, 0, 0, 0, 0, 0, 0, 0, 0, 0, 0, 0, 0, 0, 0, 0, 0, 0, 0, 0, 0, 0, 0, 0, 0, 0, 0, 0, 0, 0, 0, 0, 0, 0, 0, 0, 0, 0, 0, 0, 0, 0, 0, 0, 0, 0, 0, 0, 0, 0, 0, 0, 0, 0, 0, 0, 0, 0, 0, 0, 0, 0, 0, 0, 0, 0, 0, 0, 0, 0, 0, 0, 0, 0, 0, 0, 0, 0, 0, 0, 0, 0, 0, 0, 0, 0, 0, 0, 0, 0, 0, 0, 0, 0, 0, 0, 0, 0, 0, 0, 0, 0, 0, 0, 0, 0, 0, 0, 0, 0, 0, 0, 0, 0, 0, 0, 0, 0, 0, 0, 0, 0, 0, 0, 0, 0, 0, 0, 0, 0, 0, 0, 0, 0, 0, 0, 0, 0, 0, 2, 0, 1, 0]\n"
     ]
    }
   ],
   "source": [
    "test_bow = bow_encoding(test_words, vocabulary)\n",
    "print(test_bow)"
   ]
  },
  {
   "cell_type": "code",
   "execution_count": 46,
   "metadata": {},
   "outputs": [
    {
     "data": {
      "text/plain": [
       "5000"
      ]
     },
     "execution_count": 46,
     "metadata": {},
     "output_type": "execute_result"
    }
   ],
   "source": [
    "len(test_bow)"
   ]
  },
  {
   "cell_type": "markdown",
   "metadata": {},
   "source": [
    "So now we know how to construct a bag of words encoding of a user provided review, how to we send it to our endpoint? First, we need to start the endpoint back up."
   ]
  },
  {
   "cell_type": "code",
   "execution_count": 47,
   "metadata": {},
   "outputs": [
    {
     "name": "stderr",
     "output_type": "stream",
     "text": [
      "WARNING:sagemaker:Using already existing model: sagemaker-xgboost-2020-05-18-15-41-15-955\n"
     ]
    },
    {
     "name": "stdout",
     "output_type": "stream",
     "text": [
      "---------------!"
     ]
    }
   ],
   "source": [
    "xgb_predictor = xgb.deploy(initial_instance_count = 1, instance_type = 'ml.m4.xlarge')"
   ]
  },
  {
   "cell_type": "markdown",
   "metadata": {},
   "source": [
    "At this point we could just do the same thing that we did earlier when we tested our deployed model and send `test_bow` to our endpoint using the `xgb_predictor` object. However, when we eventually construct our Lambda function we won't have access to this object, so how do we call a SageMaker endpoint?\n",
    "\n",
    "It turns out that Python functions that are used in Lambda have access to another Amazon library called `boto3`. This library provides an API for working with Amazon services, including SageMaker. To start with, we need to get a handle to the SageMaker runtime."
   ]
  },
  {
   "cell_type": "code",
   "execution_count": 48,
   "metadata": {},
   "outputs": [],
   "source": [
    "import boto3\n",
    "\n",
    "runtime = boto3.Session().client('sagemaker-runtime')"
   ]
  },
  {
   "cell_type": "markdown",
   "metadata": {},
   "source": [
    "And now that we have access to the SageMaker runtime, we can ask it to make use of (invoke) an endpoint that has already been created. However, we need to provide SageMaker with the name of the deployed endpoint. To find this out we can print it out using the `xgb_predictor` object."
   ]
  },
  {
   "cell_type": "code",
   "execution_count": 49,
   "metadata": {},
   "outputs": [
    {
     "data": {
      "text/plain": [
       "'sagemaker-xgboost-2020-05-18-15-41-15-955'"
      ]
     },
     "execution_count": 49,
     "metadata": {},
     "output_type": "execute_result"
    }
   ],
   "source": [
    "xgb_predictor.endpoint"
   ]
  },
  {
   "cell_type": "markdown",
   "metadata": {},
   "source": [
    "Using the SageMaker runtime and the name of our endpoint, we can invoke the endpoint and send it the `test_bow` data."
   ]
  },
  {
   "cell_type": "code",
   "execution_count": 50,
   "metadata": {},
   "outputs": [
    {
     "ename": "ParamValidationError",
     "evalue": "Parameter validation failed:\nInvalid type for parameter Body, value: [0, 0, 0, 0, 0, 0, 0, 0, 0, 0, 0, 0, 0, 0, 0, 0, 0, 0, 0, 0, 0, 0, 0, 0, 0, 0, 0, 0, 0, 0, 0, 0, 0, 0, 0, 0, 0, 0, 0, 0, 0, 0, 0, 0, 0, 0, 0, 0, 0, 0, 0, 0, 0, 0, 0, 0, 0, 0, 0, 0, 0, 0, 0, 0, 0, 0, 0, 0, 0, 0, 0, 0, 0, 0, 0, 0, 0, 0, 0, 0, 0, 0, 0, 0, 0, 0, 0, 0, 0, 0, 0, 0, 0, 0, 0, 0, 0, 0, 0, 0, 0, 0, 0, 0, 0, 0, 0, 0, 0, 0, 0, 0, 0, 0, 0, 0, 0, 0, 0, 0, 0, 0, 0, 0, 0, 0, 0, 0, 0, 0, 0, 0, 0, 0, 0, 0, 0, 0, 0, 0, 0, 0, 0, 0, 0, 0, 0, 0, 0, 0, 0, 0, 0, 0, 0, 0, 0, 0, 0, 0, 0, 0, 0, 0, 0, 0, 0, 0, 0, 0, 0, 0, 0, 0, 0, 0, 0, 0, 0, 0, 0, 0, 0, 0, 0, 0, 0, 0, 0, 0, 0, 0, 0, 0, 0, 0, 0, 0, 0, 0, 0, 0, 0, 0, 0, 0, 0, 0, 0, 0, 0, 0, 0, 0, 0, 0, 0, 0, 0, 0, 0, 0, 0, 0, 0, 0, 1, 0, 0, 0, 0, 0, 0, 0, 0, 0, 0, 0, 0, 0, 0, 0, 0, 0, 0, 0, 0, 0, 0, 0, 0, 0, 0, 0, 0, 0, 1, 0, 0, 0, 0, 0, 0, 0, 0, 0, 0, 0, 0, 0, 0, 0, 0, 0, 0, 0, 0, 0, 0, 0, 0, 0, 0, 0, 0, 0, 0, 0, 0, 0, 0, 0, 0, 0, 0, 0, 0, 0, 0, 0, 0, 0, 0, 0, 0, 0, 0, 0, 0, 0, 0, 0, 0, 0, 0, 0, 0, 0, 0, 0, 0, 0, 0, 0, 0, 0, 0, 0, 0, 0, 0, 0, 0, 0, 0, 0, 0, 0, 0, 0, 0, 0, 0, 0, 0, 0, 0, 0, 0, 0, 0, 0, 0, 0, 0, 0, 0, 0, 0, 0, 0, 0, 0, 0, 0, 0, 0, 0, 0, 0, 0, 0, 0, 0, 0, 0, 0, 0, 0, 0, 0, 0, 0, 0, 0, 0, 0, 0, 0, 0, 0, 0, 0, 0, 0, 0, 0, 0, 0, 0, 0, 0, 0, 0, 0, 0, 0, 0, 0, 0, 0, 0, 0, 0, 0, 0, 0, 0, 0, 0, 0, 0, 0, 0, 0, 0, 0, 0, 0, 0, 0, 0, 0, 0, 0, 0, 0, 0, 0, 0, 0, 0, 0, 0, 0, 0, 0, 0, 0, 0, 0, 0, 0, 0, 0, 0, 0, 0, 0, 0, 0, 0, 0, 0, 0, 0, 0, 0, 0, 0, 0, 0, 0, 0, 0, 0, 0, 0, 0, 0, 0, 0, 0, 0, 0, 0, 0, 0, 0, 0, 0, 0, 0, 0, 0, 0, 0, 0, 0, 0, 0, 0, 0, 0, 0, 0, 0, 0, 0, 0, 0, 0, 0, 0, 0, 0, 0, 0, 0, 0, 0, 0, 0, 0, 0, 0, 0, 0, 0, 0, 0, 0, 0, 0, 0, 0, 0, 0, 0, 0, 0, 0, 0, 0, 0, 0, 0, 0, 0, 0, 0, 0, 0, 0, 0, 0, 0, 0, 0, 0, 0, 0, 0, 0, 0, 0, 0, 0, 0, 0, 0, 0, 0, 0, 0, 0, 0, 0, 0, 0, 0, 0, 0, 0, 0, 0, 0, 0, 0, 0, 0, 0, 0, 0, 0, 0, 0, 0, 0, 0, 0, 0, 0, 0, 0, 0, 0, 0, 0, 0, 0, 0, 0, 0, 0, 0, 0, 0, 0, 0, 0, 0, 0, 0, 0, 0, 0, 0, 0, 0, 0, 0, 0, 0, 0, 0, 1, 0, 0, 0, 0, 0, 0, 0, 0, 0, 0, 0, 0, 0, 0, 0, 0, 0, 0, 0, 0, 0, 0, 0, 0, 0, 0, 0, 0, 0, 0, 0, 0, 0, 0, 0, 0, 0, 0, 0, 0, 0, 0, 0, 0, 0, 0, 0, 0, 0, 0, 0, 0, 0, 0, 0, 0, 0, 0, 0, 0, 0, 0, 0, 0, 0, 0, 0, 0, 0, 0, 0, 0, 0, 0, 0, 0, 0, 0, 0, 0, 0, 0, 0, 0, 0, 0, 0, 0, 0, 0, 0, 0, 0, 0, 0, 0, 0, 0, 0, 0, 0, 0, 0, 0, 0, 0, 0, 0, 0, 0, 0, 0, 0, 0, 0, 0, 0, 0, 0, 0, 0, 0, 0, 0, 0, 0, 0, 0, 0, 0, 0, 0, 0, 0, 0, 0, 0, 0, 0, 0, 0, 0, 0, 0, 0, 0, 0, 0, 0, 0, 0, 0, 0, 0, 0, 0, 0, 0, 0, 0, 0, 0, 0, 0, 0, 0, 0, 0, 0, 0, 0, 0, 0, 0, 0, 0, 0, 0, 0, 0, 0, 0, 0, 0, 0, 0, 0, 0, 0, 0, 0, 0, 0, 0, 0, 0, 0, 0, 0, 0, 0, 0, 0, 0, 0, 0, 0, 0, 0, 0, 0, 0, 0, 0, 0, 0, 0, 0, 0, 0, 0, 0, 0, 0, 0, 0, 0, 0, 0, 0, 0, 0, 0, 0, 0, 0, 0, 0, 0, 0, 0, 0, 0, 0, 0, 0, 0, 0, 0, 0, 0, 0, 0, 1, 0, 0, 0, 0, 0, 0, 0, 0, 0, 0, 0, 0, 0, 0, 0, 0, 0, 0, 0, 0, 0, 0, 0, 0, 0, 0, 0, 0, 0, 0, 0, 0, 0, 0, 0, 0, 0, 0, 0, 0, 0, 0, 0, 0, 0, 0, 0, 0, 0, 0, 0, 0, 0, 0, 0, 0, 0, 0, 0, 0, 0, 0, 0, 0, 0, 0, 0, 0, 0, 0, 0, 0, 0, 0, 0, 0, 0, 0, 0, 0, 0, 0, 0, 0, 0, 0, 1, 0, 0, 0, 0, 0, 0, 0, 0, 0, 0, 0, 0, 0, 0, 0, 0, 0, 0, 0, 0, 0, 0, 0, 0, 0, 0, 0, 0, 0, 0, 0, 0, 0, 0, 0, 0, 0, 0, 0, 0, 0, 0, 0, 0, 0, 0, 0, 0, 0, 0, 0, 0, 0, 0, 0, 0, 0, 0, 0, 0, 0, 0, 0, 0, 0, 0, 0, 0, 0, 0, 0, 0, 0, 0, 0, 0, 0, 0, 0, 0, 0, 0, 0, 0, 0, 0, 0, 0, 0, 0, 0, 0, 0, 0, 0, 0, 0, 0, 0, 0, 0, 0, 0, 0, 0, 0, 0, 0, 0, 0, 0, 0, 0, 0, 0, 0, 0, 0, 0, 0, 0, 0, 0, 0, 0, 0, 0, 0, 0, 0, 0, 0, 0, 0, 0, 0, 0, 0, 0, 0, 0, 0, 0, 0, 0, 0, 0, 0, 0, 0, 0, 0, 0, 0, 0, 0, 0, 0, 0, 0, 0, 0, 0, 0, 0, 0, 0, 0, 0, 0, 0, 0, 0, 0, 0, 0, 0, 0, 0, 0, 0, 0, 0, 0, 0, 0, 0, 0, 0, 0, 0, 0, 0, 0, 0, 0, 0, 0, 0, 0, 0, 0, 0, 0, 0, 0, 0, 0, 0, 0, 0, 0, 0, 0, 0, 0, 0, 0, 0, 0, 0, 0, 0, 0, 0, 0, 0, 0, 0, 0, 0, 0, 0, 0, 0, 0, 0, 0, 0, 0, 0, 0, 0, 0, 0, 0, 0, 0, 0, 0, 0, 0, 1, 0, 0, 0, 0, 0, 0, 0, 0, 0, 0, 0, 0, 0, 0, 0, 0, 0, 0, 0, 0, 0, 0, 0, 0, 0, 0, 0, 0, 0, 0, 0, 0, 0, 0, 0, 0, 0, 0, 0, 0, 0, 0, 0, 0, 0, 0, 0, 0, 0, 0, 0, 0, 0, 0, 0, 1, 0, 0, 0, 0, 0, 0, 0, 0, 0, 0, 0, 0, 0, 0, 0, 0, 0, 0, 0, 0, 0, 0, 0, 0, 0, 0, 0, 0, 0, 0, 0, 0, 0, 0, 0, 0, 0, 0, 0, 0, 0, 0, 0, 0, 0, 0, 0, 0, 0, 0, 0, 0, 0, 0, 0, 0, 0, 0, 0, 0, 0, 0, 0, 0, 0, 0, 0, 0, 0, 0, 0, 0, 0, 0, 0, 0, 0, 0, 0, 0, 0, 0, 0, 0, 0, 0, 0, 0, 0, 0, 0, 0, 0, 0, 0, 0, 0, 0, 0, 0, 0, 0, 0, 0, 0, 0, 0, 0, 0, 0, 0, 0, 0, 0, 0, 0, 0, 0, 0, 0, 0, 0, 0, 0, 0, 0, 0, 0, 0, 0, 0, 0, 0, 0, 0, 0, 0, 0, 0, 0, 0, 0, 0, 0, 0, 0, 0, 0, 0, 0, 0, 0, 0, 0, 0, 0, 0, 0, 0, 0, 0, 0, 0, 0, 0, 0, 0, 0, 0, 0, 0, 0, 0, 0, 0, 0, 0, 0, 0, 0, 0, 0, 0, 0, 0, 0, 0, 0, 0, 0, 0, 0, 0, 0, 0, 0, 0, 0, 0, 0, 0, 0, 0, 0, 0, 0, 0, 0, 0, 0, 0, 0, 0, 0, 0, 0, 0, 0, 0, 0, 0, 0, 0, 0, 0, 0, 0, 0, 0, 0, 0, 0, 0, 0, 0, 0, 0, 0, 0, 0, 0, 0, 0, 0, 0, 0, 0, 0, 0, 0, 0, 0, 0, 0, 0, 0, 0, 0, 0, 0, 0, 0, 0, 0, 0, 0, 0, 0, 0, 0, 0, 0, 0, 0, 0, 0, 0, 0, 0, 0, 0, 0, 0, 0, 0, 0, 0, 0, 0, 0, 0, 0, 0, 0, 0, 0, 0, 0, 0, 0, 0, 0, 0, 0, 0, 0, 0, 0, 0, 0, 0, 0, 0, 0, 0, 0, 0, 0, 0, 0, 0, 0, 0, 0, 0, 0, 0, 0, 0, 0, 0, 0, 0, 0, 0, 0, 0, 0, 0, 0, 0, 0, 0, 0, 0, 0, 0, 0, 0, 0, 0, 0, 0, 0, 0, 0, 0, 0, 0, 0, 0, 0, 0, 0, 0, 0, 0, 0, 0, 0, 0, 0, 0, 0, 0, 0, 0, 0, 0, 0, 0, 0, 0, 0, 0, 0, 0, 0, 0, 0, 0, 0, 0, 0, 0, 0, 0, 0, 0, 0, 0, 0, 0, 0, 0, 0, 0, 0, 0, 0, 0, 0, 0, 0, 0, 0, 0, 0, 0, 0, 0, 0, 0, 0, 0, 0, 0, 0, 0, 0, 0, 0, 0, 0, 0, 0, 0, 0, 0, 0, 0, 0, 0, 0, 0, 0, 0, 0, 0, 0, 0, 0, 0, 0, 0, 0, 0, 0, 0, 0, 0, 0, 0, 0, 0, 0, 0, 0, 0, 0, 0, 0, 0, 0, 0, 0, 0, 0, 0, 0, 0, 0, 0, 0, 0, 0, 0, 0, 0, 0, 0, 0, 0, 0, 0, 0, 0, 0, 0, 0, 0, 0, 0, 0, 0, 0, 0, 0, 0, 0, 0, 0, 0, 0, 0, 0, 0, 0, 0, 0, 0, 0, 0, 0, 0, 0, 0, 0, 0, 0, 0, 0, 0, 0, 0, 0, 0, 0, 0, 0, 0, 0, 0, 0, 0, 0, 0, 0, 0, 0, 0, 0, 0, 0, 0, 0, 0, 0, 0, 0, 0, 0, 0, 0, 0, 0, 0, 0, 0, 0, 0, 0, 0, 0, 0, 0, 0, 0, 0, 0, 0, 0, 0, 0, 0, 0, 0, 0, 0, 0, 0, 0, 0, 0, 0, 0, 0, 0, 0, 0, 0, 0, 0, 0, 0, 0, 0, 0, 0, 0, 0, 0, 0, 0, 0, 0, 0, 0, 0, 0, 0, 0, 0, 0, 0, 0, 0, 0, 0, 0, 0, 0, 0, 0, 0, 0, 0, 0, 0, 0, 0, 0, 0, 0, 0, 0, 0, 0, 0, 0, 0, 0, 0, 0, 0, 0, 0, 0, 0, 0, 0, 0, 0, 0, 0, 0, 0, 0, 0, 0, 0, 0, 0, 0, 0, 0, 0, 0, 0, 0, 0, 1, 0, 0, 0, 0, 0, 0, 0, 0, 0, 0, 0, 0, 0, 0, 0, 0, 0, 0, 0, 0, 0, 0, 0, 0, 0, 0, 0, 0, 0, 0, 0, 0, 0, 0, 0, 0, 0, 0, 0, 0, 0, 0, 0, 0, 0, 0, 0, 0, 0, 0, 0, 0, 0, 0, 0, 0, 0, 0, 0, 0, 0, 0, 0, 0, 0, 0, 0, 0, 0, 0, 0, 0, 0, 0, 1, 0, 0, 0, 0, 0, 0, 0, 0, 0, 0, 0, 0, 0, 0, 0, 0, 0, 0, 0, 0, 1, 0, 0, 1, 0, 0, 0, 0, 0, 0, 0, 0, 0, 0, 0, 0, 0, 0, 0, 0, 0, 0, 0, 0, 0, 0, 0, 0, 0, 0, 0, 0, 0, 0, 0, 0, 0, 0, 0, 0, 0, 0, 0, 0, 0, 0, 0, 0, 0, 0, 0, 0, 0, 0, 0, 0, 0, 0, 0, 0, 0, 0, 0, 0, 0, 0, 0, 0, 0, 0, 0, 0, 0, 0, 0, 0, 0, 0, 0, 0, 0, 0, 0, 0, 0, 0, 0, 0, 0, 0, 0, 0, 0, 0, 0, 0, 0, 0, 0, 0, 0, 0, 0, 0, 0, 0, 0, 0, 0, 0, 0, 0, 0, 0, 0, 0, 0, 0, 0, 0, 0, 0, 0, 0, 0, 0, 0, 0, 0, 0, 0, 0, 0, 0, 0, 0, 0, 0, 0, 0, 0, 0, 0, 0, 0, 0, 0, 0, 0, 0, 0, 0, 0, 0, 0, 0, 0, 0, 0, 0, 0, 0, 0, 0, 0, 0, 0, 0, 0, 0, 0, 0, 0, 0, 0, 0, 0, 0, 0, 0, 0, 0, 0, 0, 0, 0, 0, 0, 0, 0, 0, 0, 0, 0, 0, 0, 0, 0, 0, 0, 0, 0, 0, 0, 0, 0, 0, 0, 0, 0, 0, 0, 0, 0, 0, 0, 0, 0, 0, 0, 0, 0, 0, 0, 0, 0, 0, 0, 0, 0, 0, 0, 0, 0, 0, 0, 0, 0, 0, 0, 0, 0, 0, 0, 0, 0, 0, 0, 0, 0, 0, 0, 0, 0, 0, 0, 0, 0, 0, 0, 0, 0, 0, 0, 0, 0, 0, 0, 0, 0, 0, 0, 0, 0, 0, 0, 0, 0, 0, 0, 0, 0, 0, 0, 0, 0, 0, 0, 0, 0, 0, 0, 0, 0, 0, 0, 0, 0, 0, 0, 0, 0, 0, 0, 0, 0, 0, 0, 0, 0, 0, 0, 0, 0, 0, 0, 0, 0, 0, 0, 0, 0, 0, 0, 0, 0, 0, 0, 0, 0, 0, 0, 0, 0, 0, 0, 0, 0, 0, 0, 0, 0, 0, 0, 0, 0, 0, 0, 0, 0, 0, 0, 0, 0, 0, 0, 0, 0, 0, 0, 0, 0, 0, 0, 0, 0, 0, 0, 0, 0, 0, 0, 0, 0, 0, 0, 0, 0, 0, 0, 0, 0, 0, 0, 0, 0, 0, 0, 0, 0, 0, 0, 0, 0, 0, 0, 0, 0, 0, 0, 0, 0, 0, 0, 0, 0, 0, 0, 0, 0, 0, 0, 0, 0, 0, 0, 0, 0, 0, 0, 0, 0, 0, 0, 0, 0, 0, 0, 0, 0, 0, 0, 0, 0, 0, 0, 0, 0, 0, 0, 0, 0, 0, 0, 0, 0, 0, 0, 0, 0, 0, 0, 0, 0, 0, 0, 0, 0, 0, 0, 0, 0, 0, 0, 0, 0, 0, 0, 0, 0, 1, 0, 0, 0, 0, 0, 0, 0, 0, 0, 0, 0, 0, 0, 0, 0, 0, 0, 0, 0, 0, 0, 0, 0, 0, 0, 0, 0, 0, 0, 0, 0, 0, 0, 0, 0, 0, 0, 0, 0, 0, 0, 0, 0, 0, 0, 0, 0, 0, 0, 0, 0, 0, 0, 0, 0, 0, 0, 0, 0, 0, 0, 0, 0, 0, 0, 0, 0, 0, 0, 0, 0, 0, 0, 0, 0, 0, 0, 0, 0, 0, 0, 0, 0, 0, 0, 0, 0, 0, 0, 0, 0, 0, 0, 0, 0, 0, 0, 0, 0, 0, 0, 0, 0, 0, 0, 0, 0, 0, 0, 0, 0, 0, 0, 0, 0, 0, 0, 0, 0, 0, 0, 0, 0, 0, 0, 0, 0, 0, 0, 0, 0, 0, 0, 0, 0, 0, 0, 0, 0, 0, 0, 0, 0, 0, 0, 0, 0, 0, 0, 0, 0, 0, 0, 0, 0, 0, 0, 0, 0, 0, 0, 0, 0, 0, 0, 0, 0, 0, 0, 0, 0, 0, 0, 0, 0, 0, 0, 0, 0, 0, 0, 0, 0, 0, 0, 0, 0, 0, 0, 0, 0, 0, 0, 0, 0, 0, 0, 0, 0, 0, 0, 0, 0, 0, 0, 0, 0, 0, 0, 0, 0, 0, 0, 0, 0, 0, 0, 0, 0, 0, 0, 0, 0, 0, 0, 0, 0, 0, 0, 0, 0, 0, 0, 0, 0, 0, 0, 0, 0, 0, 0, 0, 0, 0, 0, 0, 0, 0, 0, 0, 0, 0, 0, 0, 0, 0, 0, 0, 0, 0, 0, 0, 0, 0, 0, 0, 0, 0, 0, 0, 0, 0, 0, 0, 0, 0, 0, 0, 0, 0, 0, 0, 0, 0, 0, 0, 0, 0, 0, 0, 0, 0, 0, 0, 0, 0, 0, 0, 0, 0, 0, 0, 0, 0, 0, 0, 0, 0, 0, 0, 0, 0, 0, 0, 0, 0, 0, 0, 0, 0, 0, 0, 0, 0, 0, 0, 0, 0, 0, 0, 0, 0, 0, 0, 0, 0, 0, 0, 0, 0, 0, 0, 0, 0, 0, 0, 0, 0, 0, 0, 0, 0, 0, 0, 0, 0, 0, 0, 0, 0, 0, 0, 0, 0, 0, 0, 0, 0, 0, 0, 0, 0, 0, 0, 0, 0, 0, 0, 0, 0, 0, 0, 0, 0, 0, 0, 0, 0, 0, 0, 0, 0, 0, 0, 0, 0, 0, 0, 0, 0, 0, 0, 0, 0, 0, 0, 0, 0, 0, 0, 0, 0, 0, 0, 0, 0, 0, 0, 0, 0, 0, 0, 0, 0, 0, 0, 0, 0, 0, 0, 0, 0, 0, 0, 0, 0, 0, 0, 0, 0, 0, 0, 0, 0, 0, 0, 0, 0, 0, 0, 0, 0, 0, 0, 0, 0, 0, 0, 0, 0, 0, 0, 0, 0, 0, 0, 0, 0, 0, 0, 0, 0, 0, 0, 0, 0, 0, 0, 0, 0, 0, 0, 0, 0, 0, 0, 0, 0, 0, 0, 0, 0, 0, 0, 0, 0, 0, 0, 0, 0, 0, 0, 0, 0, 0, 0, 0, 0, 0, 0, 0, 0, 1, 0, 0, 0, 0, 0, 0, 0, 0, 0, 0, 0, 0, 0, 0, 0, 0, 0, 0, 0, 0, 0, 0, 0, 0, 0, 0, 0, 0, 0, 0, 0, 0, 0, 0, 0, 2, 0, 0, 0, 0, 0, 0, 0, 0, 0, 0, 0, 0, 0, 0, 0, 0, 0, 0, 0, 0, 0, 0, 0, 0, 0, 0, 0, 0, 0, 0, 0, 0, 0, 0, 0, 0, 0, 0, 0, 0, 1, 0, 0, 0, 0, 0, 0, 0, 0, 0, 0, 0, 0, 0, 0, 0, 0, 0, 0, 0, 0, 0, 0, 0, 0, 0, 0, 0, 0, 0, 0, 0, 0, 0, 0, 0, 0, 0, 0, 0, 0, 0, 0, 0, 0, 0, 0, 0, 0, 0, 0, 0, 0, 0, 0, 0, 0, 0, 0, 0, 0, 0, 0, 0, 0, 0, 0, 0, 0, 0, 0, 0, 0, 0, 0, 0, 0, 0, 0, 0, 0, 0, 0, 0, 0, 0, 0, 0, 0, 0, 0, 0, 0, 0, 0, 0, 0, 0, 0, 0, 0, 0, 0, 0, 0, 0, 0, 0, 0, 0, 0, 0, 0, 0, 0, 0, 0, 0, 0, 0, 0, 0, 0, 0, 0, 0, 0, 0, 0, 0, 0, 0, 0, 0, 0, 0, 0, 0, 0, 0, 0, 0, 0, 0, 0, 0, 0, 0, 0, 0, 0, 0, 0, 0, 0, 0, 0, 0, 0, 0, 0, 0, 0, 0, 0, 0, 0, 0, 0, 0, 0, 0, 0, 0, 0, 0, 0, 0, 0, 0, 0, 0, 0, 0, 0, 0, 0, 0, 0, 0, 0, 0, 0, 0, 0, 0, 0, 0, 0, 0, 0, 0, 0, 0, 0, 0, 0, 0, 0, 0, 0, 0, 0, 0, 0, 0, 0, 0, 0, 0, 0, 0, 0, 0, 0, 0, 0, 0, 0, 0, 0, 0, 0, 0, 0, 0, 0, 0, 0, 0, 0, 0, 0, 0, 0, 0, 0, 0, 0, 0, 0, 0, 0, 0, 0, 0, 0, 0, 0, 0, 0, 0, 0, 0, 0, 0, 0, 0, 0, 0, 0, 0, 0, 0, 0, 0, 0, 0, 0, 0, 0, 0, 0, 0, 0, 0, 0, 0, 0, 0, 0, 0, 0, 0, 0, 0, 0, 0, 0, 0, 0, 0, 0, 0, 0, 0, 0, 0, 0, 0, 0, 0, 0, 0, 0, 0, 0, 0, 0, 0, 0, 0, 0, 0, 0, 0, 0, 0, 0, 0, 0, 0, 0, 0, 0, 0, 0, 0, 0, 0, 0, 0, 0, 0, 0, 0, 0, 0, 0, 0, 0, 0, 0, 0, 0, 0, 0, 0, 0, 0, 0, 0, 0, 0, 0, 0, 0, 0, 0, 0, 0, 0, 0, 0, 0, 0, 0, 0, 0, 0, 0, 0, 0, 0, 0, 0, 0, 0, 0, 0, 0, 0, 0, 0, 0, 0, 0, 0, 0, 0, 0, 0, 0, 0, 0, 0, 0, 0, 0, 0, 0, 0, 0, 0, 0, 0, 0, 0, 0, 0, 0, 0, 0, 0, 0, 0, 0, 0, 0, 0, 0, 0, 0, 0, 0, 0, 0, 0, 0, 0, 0, 0, 0, 0, 0, 0, 0, 0, 0, 0, 0, 0, 0, 0, 0, 0, 0, 0, 0, 0, 0, 0, 0, 0, 0, 0, 0, 0, 0, 0, 0, 0, 0, 0, 0, 0, 0, 0, 0, 0, 0, 0, 0, 0, 0, 0, 0, 0, 0, 0, 0, 0, 0, 0, 0, 0, 0, 0, 1, 0, 0, 0, 0, 0, 0, 0, 0, 0, 0, 0, 0, 0, 0, 0, 0, 0, 0, 0, 0, 0, 0, 0, 0, 0, 0, 0, 0, 0, 0, 0, 0, 0, 0, 0, 0, 0, 0, 0, 0, 0, 0, 0, 0, 0, 0, 0, 0, 0, 0, 0, 0, 0, 0, 0, 0, 0, 0, 0, 0, 0, 0, 0, 0, 0, 0, 0, 0, 0, 0, 0, 0, 0, 0, 0, 0, 0, 0, 0, 0, 0, 0, 0, 0, 0, 0, 0, 0, 0, 0, 0, 0, 0, 0, 0, 0, 0, 0, 0, 0, 0, 0, 0, 0, 0, 0, 0, 0, 0, 0, 2, 0, 0, 0, 0, 0, 0, 0, 0, 0, 0, 0, 0, 0, 0, 0, 0, 0, 0, 0, 0, 0, 0, 0, 0, 0, 0, 0, 0, 0, 0, 0, 0, 0, 0, 0, 0, 0, 0, 0, 0, 0, 0, 0, 0, 0, 0, 0, 0, 0, 0, 0, 0, 0, 0, 0, 0, 0, 0, 0, 0, 0, 0, 0, 0, 0, 0, 0, 0, 0, 0, 0, 0, 0, 0, 0, 0, 0, 0, 0, 0, 0, 0, 0, 0, 0, 0, 0, 0, 0, 0, 0, 0, 0, 0, 0, 0, 0, 0, 0, 0, 0, 0, 0, 0, 0, 0, 0, 0, 0, 0, 0, 0, 0, 0, 0, 0, 0, 0, 0, 0, 0, 0, 0, 0, 0, 0, 0, 0, 0, 0, 0, 0, 0, 0, 0, 0, 0, 0, 0, 0, 0, 0, 0, 0, 0, 0, 0, 0, 0, 0, 0, 0, 0, 0, 0, 0, 0, 0, 0, 0, 0, 0, 0, 0, 0, 0, 0, 0, 0, 0, 0, 0, 0, 0, 0, 0, 0, 0, 0, 0, 0, 0, 0, 0, 0, 0, 0, 0, 0, 0, 0, 0, 0, 0, 0, 0, 0, 0, 0, 0, 0, 0, 0, 0, 0, 0, 0, 0, 0, 0, 0, 0, 0, 0, 0, 0, 0, 0, 0, 0, 0, 0, 0, 0, 0, 0, 0, 0, 0, 0, 0, 0, 0, 0, 0, 0, 0, 0, 0, 0, 0, 0, 0, 0, 0, 0, 0, 0, 0, 0, 0, 0, 0, 0, 0, 0, 0, 0, 0, 0, 0, 0, 0, 0, 0, 0, 0, 0, 0, 0, 0, 0, 0, 0, 0, 0, 0, 0, 0, 0, 0, 0, 0, 0, 0, 0, 0, 0, 0, 0, 0, 0, 0, 0, 0, 0, 0, 0, 0, 0, 0, 0, 0, 0, 0, 0, 0, 0, 0, 0, 0, 0, 0, 0, 0, 0, 0, 0, 0, 0, 0, 0, 0, 0, 0, 0, 0, 0, 0, 0, 0, 0, 0, 0, 0, 0, 0, 0, 0, 0, 0, 0, 0, 0, 0, 0, 0, 0, 0, 0, 0, 0, 0, 0, 0, 0, 0, 0, 0, 0, 0, 0, 0, 0, 0, 0, 0, 0, 0, 0, 0, 0, 0, 0, 0, 0, 0, 0, 0, 0, 0, 0, 0, 0, 0, 0, 0, 0, 0, 0, 0, 0, 0, 0, 0, 0, 0, 0, 0, 0, 0, 0, 0, 0, 0, 0, 0, 0, 0, 0, 0, 0, 0, 0, 0, 0, 0, 0, 0, 0, 0, 0, 0, 0, 0, 0, 0, 0, 0, 0, 0, 0, 0, 0, 0, 0, 0, 0, 0, 0, 0, 0, 0, 0, 0, 0, 0, 0, 0, 0, 0, 0, 0, 0, 0, 0, 0, 0, 0, 0, 0, 0, 0, 0, 0, 0, 0, 0, 0, 0, 0, 0, 0, 0, 0, 0, 0, 0, 0, 0, 0, 0, 0, 0, 0, 0, 0, 0, 0, 0, 0, 0, 0, 0, 0, 0, 0, 0, 0, 0, 0, 0, 0, 0, 0, 0, 0, 0, 0, 0, 0, 0, 0, 0, 0, 0, 0, 0, 0, 0, 0, 0, 0, 0, 0, 0, 0, 0, 0, 0, 0, 0, 0, 0, 0, 0, 0, 0, 0, 0, 0, 0, 0, 0, 0, 0, 0, 0, 0, 0, 0, 0, 0, 0, 0, 0, 0, 0, 0, 0, 0, 0, 0, 0, 0, 0, 0, 0, 0, 0, 0, 0, 0, 0, 0, 0, 0, 0, 0, 0, 0, 0, 0, 0, 0, 0, 0, 0, 0, 0, 0, 0, 0, 0, 0, 0, 0, 0, 0, 0, 0, 0, 0, 0, 0, 0, 0, 0, 0, 0, 0, 0, 0, 0, 0, 0, 0, 0, 0, 0, 0, 0, 0, 0, 0, 0, 0, 0, 0, 0, 0, 0, 0, 0, 0, 0, 0, 0, 0, 0, 0, 0, 0, 0, 0, 0, 0, 0, 0, 0, 0, 0, 0, 0, 0, 0, 0, 0, 0, 0, 0, 0, 0, 0, 0, 0, 0, 0, 0, 0, 0, 0, 0, 0, 0, 0, 0, 0, 0, 0, 0, 0, 0, 0, 0, 0, 0, 0, 0, 0, 1, 0, 0, 0, 0, 0, 0, 0, 0, 0, 0, 0, 0, 0, 0, 0, 0, 0, 0, 0, 0, 0, 0, 0, 0, 0, 0, 0, 0, 0, 0, 0, 0, 0, 0, 0, 0, 0, 0, 0, 0, 0, 0, 0, 0, 0, 0, 0, 0, 0, 0, 0, 0, 0, 0, 0, 0, 0, 0, 0, 0, 0, 0, 0, 0, 0, 0, 0, 0, 0, 0, 0, 0, 0, 0, 0, 0, 0, 0, 0, 0, 0, 0, 0, 0, 0, 0, 0, 0, 0, 0, 0, 0, 0, 0, 0, 0, 0, 0, 0, 0, 0, 0, 0, 0, 0, 0, 0, 1, 0, 0, 0, 0, 0, 0, 0, 0, 0, 0, 0, 0, 0, 0, 0, 0, 0, 0, 0, 0, 0, 0, 0, 0, 0, 0, 0, 0, 0, 0, 0, 0, 0, 0, 0, 0, 0, 0, 0, 0, 0, 0, 0, 0, 0, 0, 0, 0, 0, 0, 0, 0, 0, 0, 0, 0, 0, 0, 0, 0, 0, 0, 0, 0, 0, 0, 0, 0, 0, 0, 0, 0, 0, 0, 0, 0, 0, 0, 0, 0, 0, 0, 0, 0, 0, 0, 0, 0, 0, 0, 0, 0, 0, 0, 0, 0, 0, 0, 0, 0, 0, 0, 0, 0, 0, 0, 0, 0, 0, 0, 0, 0, 0, 0, 0, 0, 0, 0, 0, 0, 0, 0, 0, 0, 0, 0, 0, 0, 0, 0, 0, 0, 0, 0, 0, 0, 0, 0, 0, 0, 0, 0, 0, 0, 0, 0, 0, 0, 0, 0, 0, 0, 0, 0, 0, 0, 0, 0, 0, 0, 0, 0, 0, 0, 0, 0, 0, 0, 0, 0, 0, 0, 0, 0, 0, 0, 0, 0, 0, 0, 0, 0, 0, 0, 0, 0, 0, 0, 0, 0, 0, 0, 0, 0, 0, 0, 0, 0, 0, 0, 0, 0, 0, 0, 0, 0, 0, 0, 0, 0, 0, 0, 0, 0, 0, 0, 0, 0, 0, 0, 0, 0, 0, 0, 0, 0, 0, 0, 0, 0, 0, 0, 0, 0, 0, 0, 0, 0, 0, 0, 0, 0, 0, 0, 0, 0, 0, 0, 0, 0, 0, 0, 0, 0, 0, 0, 0, 0, 0, 0, 0, 0, 0, 0, 0, 0, 0, 0, 0, 0, 0, 0, 0, 0, 0, 0, 0, 0, 0, 0, 0, 0, 0, 0, 0, 0, 0, 0, 0, 0, 0, 0, 0, 0, 0, 0, 0, 0, 0, 0, 0, 0, 0, 0, 0, 0, 0, 0, 0, 0, 0, 0, 0, 0, 0, 0, 0, 0, 0, 0, 0, 0, 0, 0, 0, 0, 0, 0, 0, 0, 0, 0, 0, 0, 0, 0, 0, 0, 0, 0, 0, 0, 0, 0, 0, 0, 0, 0, 0, 0, 0, 0, 0, 0, 0, 0, 0, 0, 0, 0, 0, 0, 0, 0, 0, 0, 0, 0, 0, 0, 0, 0, 0, 0, 0, 0, 0, 0, 0, 0, 0, 0, 0, 0, 0, 0, 0, 0, 0, 0, 0, 0, 0, 0, 0, 0, 0, 0, 0, 0, 0, 0, 0, 0, 0, 0, 0, 0, 0, 0, 0, 0, 0, 0, 0, 0, 0, 0, 0, 0, 0, 0, 0, 0, 0, 0, 0, 0, 0, 0, 0, 0, 0, 0, 0, 0, 0, 0, 0, 0, 0, 0, 0, 0, 0, 0, 0, 0, 0, 0, 0, 0, 0, 0, 0, 0, 0, 0, 0, 0, 0, 0, 0, 2, 0, 1, 0], type: <class 'list'>, valid types: <class 'bytes'>, <class 'bytearray'>, file-like object",
     "output_type": "error",
     "traceback": [
      "\u001b[0;31m---------------------------------------------------------------------------\u001b[0m",
      "\u001b[0;31mParamValidationError\u001b[0m                      Traceback (most recent call last)",
      "\u001b[0;32m<ipython-input-50-c9ab54ae3a48>\u001b[0m in \u001b[0;36m<module>\u001b[0;34m()\u001b[0m\n\u001b[1;32m      1\u001b[0m response = runtime.invoke_endpoint(EndpointName = xgb_predictor.endpoint, # The name of the endpoint we created\n\u001b[1;32m      2\u001b[0m                                        \u001b[0mContentType\u001b[0m \u001b[0;34m=\u001b[0m \u001b[0;34m'text/csv'\u001b[0m\u001b[0;34m,\u001b[0m                     \u001b[0;31m# The data format that is expected\u001b[0m\u001b[0;34m\u001b[0m\u001b[0m\n\u001b[0;32m----> 3\u001b[0;31m                                        Body = test_bow)\n\u001b[0m",
      "\u001b[0;32m~/anaconda3/envs/python3/lib/python3.6/site-packages/botocore/client.py\u001b[0m in \u001b[0;36m_api_call\u001b[0;34m(self, *args, **kwargs)\u001b[0m\n\u001b[1;32m    314\u001b[0m                     \"%s() only accepts keyword arguments.\" % py_operation_name)\n\u001b[1;32m    315\u001b[0m             \u001b[0;31m# The \"self\" in this scope is referring to the BaseClient.\u001b[0m\u001b[0;34m\u001b[0m\u001b[0;34m\u001b[0m\u001b[0m\n\u001b[0;32m--> 316\u001b[0;31m             \u001b[0;32mreturn\u001b[0m \u001b[0mself\u001b[0m\u001b[0;34m.\u001b[0m\u001b[0m_make_api_call\u001b[0m\u001b[0;34m(\u001b[0m\u001b[0moperation_name\u001b[0m\u001b[0;34m,\u001b[0m \u001b[0mkwargs\u001b[0m\u001b[0;34m)\u001b[0m\u001b[0;34m\u001b[0m\u001b[0m\n\u001b[0m\u001b[1;32m    317\u001b[0m \u001b[0;34m\u001b[0m\u001b[0m\n\u001b[1;32m    318\u001b[0m         \u001b[0m_api_call\u001b[0m\u001b[0;34m.\u001b[0m\u001b[0m__name__\u001b[0m \u001b[0;34m=\u001b[0m \u001b[0mstr\u001b[0m\u001b[0;34m(\u001b[0m\u001b[0mpy_operation_name\u001b[0m\u001b[0;34m)\u001b[0m\u001b[0;34m\u001b[0m\u001b[0m\n",
      "\u001b[0;32m~/anaconda3/envs/python3/lib/python3.6/site-packages/botocore/client.py\u001b[0m in \u001b[0;36m_make_api_call\u001b[0;34m(self, operation_name, api_params)\u001b[0m\n\u001b[1;32m    597\u001b[0m         }\n\u001b[1;32m    598\u001b[0m         request_dict = self._convert_to_request_dict(\n\u001b[0;32m--> 599\u001b[0;31m             api_params, operation_model, context=request_context)\n\u001b[0m\u001b[1;32m    600\u001b[0m \u001b[0;34m\u001b[0m\u001b[0m\n\u001b[1;32m    601\u001b[0m         \u001b[0mservice_id\u001b[0m \u001b[0;34m=\u001b[0m \u001b[0mself\u001b[0m\u001b[0;34m.\u001b[0m\u001b[0m_service_model\u001b[0m\u001b[0;34m.\u001b[0m\u001b[0mservice_id\u001b[0m\u001b[0;34m.\u001b[0m\u001b[0mhyphenize\u001b[0m\u001b[0;34m(\u001b[0m\u001b[0;34m)\u001b[0m\u001b[0;34m\u001b[0m\u001b[0m\n",
      "\u001b[0;32m~/anaconda3/envs/python3/lib/python3.6/site-packages/botocore/client.py\u001b[0m in \u001b[0;36m_convert_to_request_dict\u001b[0;34m(self, api_params, operation_model, context)\u001b[0m\n\u001b[1;32m    645\u001b[0m             api_params, operation_model, context)\n\u001b[1;32m    646\u001b[0m         request_dict = self._serializer.serialize_to_request(\n\u001b[0;32m--> 647\u001b[0;31m             api_params, operation_model)\n\u001b[0m\u001b[1;32m    648\u001b[0m         \u001b[0;32mif\u001b[0m \u001b[0;32mnot\u001b[0m \u001b[0mself\u001b[0m\u001b[0;34m.\u001b[0m\u001b[0m_client_config\u001b[0m\u001b[0;34m.\u001b[0m\u001b[0minject_host_prefix\u001b[0m\u001b[0;34m:\u001b[0m\u001b[0;34m\u001b[0m\u001b[0m\n\u001b[1;32m    649\u001b[0m             \u001b[0mrequest_dict\u001b[0m\u001b[0;34m.\u001b[0m\u001b[0mpop\u001b[0m\u001b[0;34m(\u001b[0m\u001b[0;34m'host_prefix'\u001b[0m\u001b[0;34m,\u001b[0m \u001b[0;32mNone\u001b[0m\u001b[0;34m)\u001b[0m\u001b[0;34m\u001b[0m\u001b[0m\n",
      "\u001b[0;32m~/anaconda3/envs/python3/lib/python3.6/site-packages/botocore/validate.py\u001b[0m in \u001b[0;36mserialize_to_request\u001b[0;34m(self, parameters, operation_model)\u001b[0m\n\u001b[1;32m    295\u001b[0m                                                     operation_model.input_shape)\n\u001b[1;32m    296\u001b[0m             \u001b[0;32mif\u001b[0m \u001b[0mreport\u001b[0m\u001b[0;34m.\u001b[0m\u001b[0mhas_errors\u001b[0m\u001b[0;34m(\u001b[0m\u001b[0;34m)\u001b[0m\u001b[0;34m:\u001b[0m\u001b[0;34m\u001b[0m\u001b[0m\n\u001b[0;32m--> 297\u001b[0;31m                 \u001b[0;32mraise\u001b[0m \u001b[0mParamValidationError\u001b[0m\u001b[0;34m(\u001b[0m\u001b[0mreport\u001b[0m\u001b[0;34m=\u001b[0m\u001b[0mreport\u001b[0m\u001b[0;34m.\u001b[0m\u001b[0mgenerate_report\u001b[0m\u001b[0;34m(\u001b[0m\u001b[0;34m)\u001b[0m\u001b[0;34m)\u001b[0m\u001b[0;34m\u001b[0m\u001b[0m\n\u001b[0m\u001b[1;32m    298\u001b[0m         return self._serializer.serialize_to_request(parameters,\n\u001b[1;32m    299\u001b[0m                                                      operation_model)\n",
      "\u001b[0;31mParamValidationError\u001b[0m: Parameter validation failed:\nInvalid type for parameter Body, value: [0, 0, 0, 0, 0, 0, 0, 0, 0, 0, 0, 0, 0, 0, 0, 0, 0, 0, 0, 0, 0, 0, 0, 0, 0, 0, 0, 0, 0, 0, 0, 0, 0, 0, 0, 0, 0, 0, 0, 0, 0, 0, 0, 0, 0, 0, 0, 0, 0, 0, 0, 0, 0, 0, 0, 0, 0, 0, 0, 0, 0, 0, 0, 0, 0, 0, 0, 0, 0, 0, 0, 0, 0, 0, 0, 0, 0, 0, 0, 0, 0, 0, 0, 0, 0, 0, 0, 0, 0, 0, 0, 0, 0, 0, 0, 0, 0, 0, 0, 0, 0, 0, 0, 0, 0, 0, 0, 0, 0, 0, 0, 0, 0, 0, 0, 0, 0, 0, 0, 0, 0, 0, 0, 0, 0, 0, 0, 0, 0, 0, 0, 0, 0, 0, 0, 0, 0, 0, 0, 0, 0, 0, 0, 0, 0, 0, 0, 0, 0, 0, 0, 0, 0, 0, 0, 0, 0, 0, 0, 0, 0, 0, 0, 0, 0, 0, 0, 0, 0, 0, 0, 0, 0, 0, 0, 0, 0, 0, 0, 0, 0, 0, 0, 0, 0, 0, 0, 0, 0, 0, 0, 0, 0, 0, 0, 0, 0, 0, 0, 0, 0, 0, 0, 0, 0, 0, 0, 0, 0, 0, 0, 0, 0, 0, 0, 0, 0, 0, 0, 0, 0, 0, 0, 0, 0, 0, 1, 0, 0, 0, 0, 0, 0, 0, 0, 0, 0, 0, 0, 0, 0, 0, 0, 0, 0, 0, 0, 0, 0, 0, 0, 0, 0, 0, 0, 0, 1, 0, 0, 0, 0, 0, 0, 0, 0, 0, 0, 0, 0, 0, 0, 0, 0, 0, 0, 0, 0, 0, 0, 0, 0, 0, 0, 0, 0, 0, 0, 0, 0, 0, 0, 0, 0, 0, 0, 0, 0, 0, 0, 0, 0, 0, 0, 0, 0, 0, 0, 0, 0, 0, 0, 0, 0, 0, 0, 0, 0, 0, 0, 0, 0, 0, 0, 0, 0, 0, 0, 0, 0, 0, 0, 0, 0, 0, 0, 0, 0, 0, 0, 0, 0, 0, 0, 0, 0, 0, 0, 0, 0, 0, 0, 0, 0, 0, 0, 0, 0, 0, 0, 0, 0, 0, 0, 0, 0, 0, 0, 0, 0, 0, 0, 0, 0, 0, 0, 0, 0, 0, 0, 0, 0, 0, 0, 0, 0, 0, 0, 0, 0, 0, 0, 0, 0, 0, 0, 0, 0, 0, 0, 0, 0, 0, 0, 0, 0, 0, 0, 0, 0, 0, 0, 0, 0, 0, 0, 0, 0, 0, 0, 0, 0, 0, 0, 0, 0, 0, 0, 0, 0, 0, 0, 0, 0, 0, 0, 0, 0, 0, 0, 0, 0, 0, 0, 0, 0, 0, 0, 0, 0, 0, 0, 0, 0, 0, 0, 0, 0, 0, 0, 0, 0, 0, 0, 0, 0, 0, 0, 0, 0, 0, 0, 0, 0, 0, 0, 0, 0, 0, 0, 0, 0, 0, 0, 0, 0, 0, 0, 0, 0, 0, 0, 0, 0, 0, 0, 0, 0, 0, 0, 0, 0, 0, 0, 0, 0, 0, 0, 0, 0, 0, 0, 0, 0, 0, 0, 0, 0, 0, 0, 0, 0, 0, 0, 0, 0, 0, 0, 0, 0, 0, 0, 0, 0, 0, 0, 0, 0, 0, 0, 0, 0, 0, 0, 0, 0, 0, 0, 0, 0, 0, 0, 0, 0, 0, 0, 0, 0, 0, 0, 0, 0, 0, 0, 0, 0, 0, 0, 0, 0, 0, 0, 0, 0, 0, 0, 0, 0, 0, 0, 0, 0, 0, 0, 0, 0, 0, 0, 0, 0, 0, 0, 0, 0, 0, 0, 0, 0, 0, 0, 0, 0, 0, 0, 0, 0, 0, 0, 0, 0, 0, 0, 0, 0, 0, 0, 0, 0, 0, 0, 0, 0, 0, 0, 0, 0, 0, 0, 0, 0, 0, 0, 0, 0, 0, 0, 0, 1, 0, 0, 0, 0, 0, 0, 0, 0, 0, 0, 0, 0, 0, 0, 0, 0, 0, 0, 0, 0, 0, 0, 0, 0, 0, 0, 0, 0, 0, 0, 0, 0, 0, 0, 0, 0, 0, 0, 0, 0, 0, 0, 0, 0, 0, 0, 0, 0, 0, 0, 0, 0, 0, 0, 0, 0, 0, 0, 0, 0, 0, 0, 0, 0, 0, 0, 0, 0, 0, 0, 0, 0, 0, 0, 0, 0, 0, 0, 0, 0, 0, 0, 0, 0, 0, 0, 0, 0, 0, 0, 0, 0, 0, 0, 0, 0, 0, 0, 0, 0, 0, 0, 0, 0, 0, 0, 0, 0, 0, 0, 0, 0, 0, 0, 0, 0, 0, 0, 0, 0, 0, 0, 0, 0, 0, 0, 0, 0, 0, 0, 0, 0, 0, 0, 0, 0, 0, 0, 0, 0, 0, 0, 0, 0, 0, 0, 0, 0, 0, 0, 0, 0, 0, 0, 0, 0, 0, 0, 0, 0, 0, 0, 0, 0, 0, 0, 0, 0, 0, 0, 0, 0, 0, 0, 0, 0, 0, 0, 0, 0, 0, 0, 0, 0, 0, 0, 0, 0, 0, 0, 0, 0, 0, 0, 0, 0, 0, 0, 0, 0, 0, 0, 0, 0, 0, 0, 0, 0, 0, 0, 0, 0, 0, 0, 0, 0, 0, 0, 0, 0, 0, 0, 0, 0, 0, 0, 0, 0, 0, 0, 0, 0, 0, 0, 0, 0, 0, 0, 0, 0, 0, 0, 0, 0, 0, 0, 0, 0, 0, 0, 0, 0, 0, 1, 0, 0, 0, 0, 0, 0, 0, 0, 0, 0, 0, 0, 0, 0, 0, 0, 0, 0, 0, 0, 0, 0, 0, 0, 0, 0, 0, 0, 0, 0, 0, 0, 0, 0, 0, 0, 0, 0, 0, 0, 0, 0, 0, 0, 0, 0, 0, 0, 0, 0, 0, 0, 0, 0, 0, 0, 0, 0, 0, 0, 0, 0, 0, 0, 0, 0, 0, 0, 0, 0, 0, 0, 0, 0, 0, 0, 0, 0, 0, 0, 0, 0, 0, 0, 0, 0, 1, 0, 0, 0, 0, 0, 0, 0, 0, 0, 0, 0, 0, 0, 0, 0, 0, 0, 0, 0, 0, 0, 0, 0, 0, 0, 0, 0, 0, 0, 0, 0, 0, 0, 0, 0, 0, 0, 0, 0, 0, 0, 0, 0, 0, 0, 0, 0, 0, 0, 0, 0, 0, 0, 0, 0, 0, 0, 0, 0, 0, 0, 0, 0, 0, 0, 0, 0, 0, 0, 0, 0, 0, 0, 0, 0, 0, 0, 0, 0, 0, 0, 0, 0, 0, 0, 0, 0, 0, 0, 0, 0, 0, 0, 0, 0, 0, 0, 0, 0, 0, 0, 0, 0, 0, 0, 0, 0, 0, 0, 0, 0, 0, 0, 0, 0, 0, 0, 0, 0, 0, 0, 0, 0, 0, 0, 0, 0, 0, 0, 0, 0, 0, 0, 0, 0, 0, 0, 0, 0, 0, 0, 0, 0, 0, 0, 0, 0, 0, 0, 0, 0, 0, 0, 0, 0, 0, 0, 0, 0, 0, 0, 0, 0, 0, 0, 0, 0, 0, 0, 0, 0, 0, 0, 0, 0, 0, 0, 0, 0, 0, 0, 0, 0, 0, 0, 0, 0, 0, 0, 0, 0, 0, 0, 0, 0, 0, 0, 0, 0, 0, 0, 0, 0, 0, 0, 0, 0, 0, 0, 0, 0, 0, 0, 0, 0, 0, 0, 0, 0, 0, 0, 0, 0, 0, 0, 0, 0, 0, 0, 0, 0, 0, 0, 0, 0, 0, 0, 0, 0, 0, 0, 0, 0, 0, 0, 0, 0, 0, 0, 0, 0, 0, 1, 0, 0, 0, 0, 0, 0, 0, 0, 0, 0, 0, 0, 0, 0, 0, 0, 0, 0, 0, 0, 0, 0, 0, 0, 0, 0, 0, 0, 0, 0, 0, 0, 0, 0, 0, 0, 0, 0, 0, 0, 0, 0, 0, 0, 0, 0, 0, 0, 0, 0, 0, 0, 0, 0, 0, 1, 0, 0, 0, 0, 0, 0, 0, 0, 0, 0, 0, 0, 0, 0, 0, 0, 0, 0, 0, 0, 0, 0, 0, 0, 0, 0, 0, 0, 0, 0, 0, 0, 0, 0, 0, 0, 0, 0, 0, 0, 0, 0, 0, 0, 0, 0, 0, 0, 0, 0, 0, 0, 0, 0, 0, 0, 0, 0, 0, 0, 0, 0, 0, 0, 0, 0, 0, 0, 0, 0, 0, 0, 0, 0, 0, 0, 0, 0, 0, 0, 0, 0, 0, 0, 0, 0, 0, 0, 0, 0, 0, 0, 0, 0, 0, 0, 0, 0, 0, 0, 0, 0, 0, 0, 0, 0, 0, 0, 0, 0, 0, 0, 0, 0, 0, 0, 0, 0, 0, 0, 0, 0, 0, 0, 0, 0, 0, 0, 0, 0, 0, 0, 0, 0, 0, 0, 0, 0, 0, 0, 0, 0, 0, 0, 0, 0, 0, 0, 0, 0, 0, 0, 0, 0, 0, 0, 0, 0, 0, 0, 0, 0, 0, 0, 0, 0, 0, 0, 0, 0, 0, 0, 0, 0, 0, 0, 0, 0, 0, 0, 0, 0, 0, 0, 0, 0, 0, 0, 0, 0, 0, 0, 0, 0, 0, 0, 0, 0, 0, 0, 0, 0, 0, 0, 0, 0, 0, 0, 0, 0, 0, 0, 0, 0, 0, 0, 0, 0, 0, 0, 0, 0, 0, 0, 0, 0, 0, 0, 0, 0, 0, 0, 0, 0, 0, 0, 0, 0, 0, 0, 0, 0, 0, 0, 0, 0, 0, 0, 0, 0, 0, 0, 0, 0, 0, 0, 0, 0, 0, 0, 0, 0, 0, 0, 0, 0, 0, 0, 0, 0, 0, 0, 0, 0, 0, 0, 0, 0, 0, 0, 0, 0, 0, 0, 0, 0, 0, 0, 0, 0, 0, 0, 0, 0, 0, 0, 0, 0, 0, 0, 0, 0, 0, 0, 0, 0, 0, 0, 0, 0, 0, 0, 0, 0, 0, 0, 0, 0, 0, 0, 0, 0, 0, 0, 0, 0, 0, 0, 0, 0, 0, 0, 0, 0, 0, 0, 0, 0, 0, 0, 0, 0, 0, 0, 0, 0, 0, 0, 0, 0, 0, 0, 0, 0, 0, 0, 0, 0, 0, 0, 0, 0, 0, 0, 0, 0, 0, 0, 0, 0, 0, 0, 0, 0, 0, 0, 0, 0, 0, 0, 0, 0, 0, 0, 0, 0, 0, 0, 0, 0, 0, 0, 0, 0, 0, 0, 0, 0, 0, 0, 0, 0, 0, 0, 0, 0, 0, 0, 0, 0, 0, 0, 0, 0, 0, 0, 0, 0, 0, 0, 0, 0, 0, 0, 0, 0, 0, 0, 0, 0, 0, 0, 0, 0, 0, 0, 0, 0, 0, 0, 0, 0, 0, 0, 0, 0, 0, 0, 0, 0, 0, 0, 0, 0, 0, 0, 0, 0, 0, 0, 0, 0, 0, 0, 0, 0, 0, 0, 0, 0, 0, 0, 0, 0, 0, 0, 0, 0, 0, 0, 0, 0, 0, 0, 0, 0, 0, 0, 0, 0, 0, 0, 0, 0, 0, 0, 0, 0, 0, 0, 0, 0, 0, 0, 0, 0, 0, 0, 0, 0, 0, 0, 0, 0, 0, 0, 0, 0, 0, 0, 0, 0, 0, 0, 0, 0, 0, 0, 0, 0, 0, 0, 0, 0, 0, 0, 0, 0, 0, 0, 0, 0, 0, 0, 0, 0, 0, 0, 0, 0, 0, 0, 0, 0, 0, 0, 0, 0, 0, 0, 0, 0, 0, 0, 0, 0, 0, 0, 0, 0, 0, 0, 0, 0, 0, 0, 0, 0, 0, 0, 0, 0, 0, 0, 0, 0, 0, 0, 0, 0, 0, 0, 0, 0, 0, 0, 0, 0, 0, 0, 0, 0, 0, 0, 0, 0, 0, 0, 0, 0, 0, 0, 0, 0, 0, 0, 0, 0, 0, 0, 0, 0, 0, 0, 0, 0, 0, 0, 0, 0, 0, 0, 0, 0, 0, 0, 0, 0, 0, 0, 0, 0, 0, 0, 0, 0, 0, 0, 0, 0, 0, 0, 0, 0, 0, 0, 0, 0, 0, 0, 0, 0, 0, 0, 0, 0, 0, 0, 0, 0, 0, 0, 0, 0, 0, 0, 0, 0, 0, 0, 0, 1, 0, 0, 0, 0, 0, 0, 0, 0, 0, 0, 0, 0, 0, 0, 0, 0, 0, 0, 0, 0, 0, 0, 0, 0, 0, 0, 0, 0, 0, 0, 0, 0, 0, 0, 0, 0, 0, 0, 0, 0, 0, 0, 0, 0, 0, 0, 0, 0, 0, 0, 0, 0, 0, 0, 0, 0, 0, 0, 0, 0, 0, 0, 0, 0, 0, 0, 0, 0, 0, 0, 0, 0, 0, 0, 1, 0, 0, 0, 0, 0, 0, 0, 0, 0, 0, 0, 0, 0, 0, 0, 0, 0, 0, 0, 0, 1, 0, 0, 1, 0, 0, 0, 0, 0, 0, 0, 0, 0, 0, 0, 0, 0, 0, 0, 0, 0, 0, 0, 0, 0, 0, 0, 0, 0, 0, 0, 0, 0, 0, 0, 0, 0, 0, 0, 0, 0, 0, 0, 0, 0, 0, 0, 0, 0, 0, 0, 0, 0, 0, 0, 0, 0, 0, 0, 0, 0, 0, 0, 0, 0, 0, 0, 0, 0, 0, 0, 0, 0, 0, 0, 0, 0, 0, 0, 0, 0, 0, 0, 0, 0, 0, 0, 0, 0, 0, 0, 0, 0, 0, 0, 0, 0, 0, 0, 0, 0, 0, 0, 0, 0, 0, 0, 0, 0, 0, 0, 0, 0, 0, 0, 0, 0, 0, 0, 0, 0, 0, 0, 0, 0, 0, 0, 0, 0, 0, 0, 0, 0, 0, 0, 0, 0, 0, 0, 0, 0, 0, 0, 0, 0, 0, 0, 0, 0, 0, 0, 0, 0, 0, 0, 0, 0, 0, 0, 0, 0, 0, 0, 0, 0, 0, 0, 0, 0, 0, 0, 0, 0, 0, 0, 0, 0, 0, 0, 0, 0, 0, 0, 0, 0, 0, 0, 0, 0, 0, 0, 0, 0, 0, 0, 0, 0, 0, 0, 0, 0, 0, 0, 0, 0, 0, 0, 0, 0, 0, 0, 0, 0, 0, 0, 0, 0, 0, 0, 0, 0, 0, 0, 0, 0, 0, 0, 0, 0, 0, 0, 0, 0, 0, 0, 0, 0, 0, 0, 0, 0, 0, 0, 0, 0, 0, 0, 0, 0, 0, 0, 0, 0, 0, 0, 0, 0, 0, 0, 0, 0, 0, 0, 0, 0, 0, 0, 0, 0, 0, 0, 0, 0, 0, 0, 0, 0, 0, 0, 0, 0, 0, 0, 0, 0, 0, 0, 0, 0, 0, 0, 0, 0, 0, 0, 0, 0, 0, 0, 0, 0, 0, 0, 0, 0, 0, 0, 0, 0, 0, 0, 0, 0, 0, 0, 0, 0, 0, 0, 0, 0, 0, 0, 0, 0, 0, 0, 0, 0, 0, 0, 0, 0, 0, 0, 0, 0, 0, 0, 0, 0, 0, 0, 0, 0, 0, 0, 0, 0, 0, 0, 0, 0, 0, 0, 0, 0, 0, 0, 0, 0, 0, 0, 0, 0, 0, 0, 0, 0, 0, 0, 0, 0, 0, 0, 0, 0, 0, 0, 0, 0, 0, 0, 0, 0, 0, 0, 0, 0, 0, 0, 0, 0, 0, 0, 0, 0, 0, 0, 0, 0, 0, 0, 0, 0, 0, 0, 0, 0, 0, 0, 0, 0, 0, 0, 0, 0, 0, 0, 0, 0, 0, 0, 0, 0, 0, 0, 0, 0, 0, 0, 0, 0, 0, 0, 0, 0, 0, 0, 0, 0, 0, 0, 0, 0, 0, 0, 0, 0, 0, 0, 0, 0, 0, 0, 0, 0, 0, 0, 0, 0, 0, 0, 0, 0, 0, 0, 0, 0, 0, 1, 0, 0, 0, 0, 0, 0, 0, 0, 0, 0, 0, 0, 0, 0, 0, 0, 0, 0, 0, 0, 0, 0, 0, 0, 0, 0, 0, 0, 0, 0, 0, 0, 0, 0, 0, 0, 0, 0, 0, 0, 0, 0, 0, 0, 0, 0, 0, 0, 0, 0, 0, 0, 0, 0, 0, 0, 0, 0, 0, 0, 0, 0, 0, 0, 0, 0, 0, 0, 0, 0, 0, 0, 0, 0, 0, 0, 0, 0, 0, 0, 0, 0, 0, 0, 0, 0, 0, 0, 0, 0, 0, 0, 0, 0, 0, 0, 0, 0, 0, 0, 0, 0, 0, 0, 0, 0, 0, 0, 0, 0, 0, 0, 0, 0, 0, 0, 0, 0, 0, 0, 0, 0, 0, 0, 0, 0, 0, 0, 0, 0, 0, 0, 0, 0, 0, 0, 0, 0, 0, 0, 0, 0, 0, 0, 0, 0, 0, 0, 0, 0, 0, 0, 0, 0, 0, 0, 0, 0, 0, 0, 0, 0, 0, 0, 0, 0, 0, 0, 0, 0, 0, 0, 0, 0, 0, 0, 0, 0, 0, 0, 0, 0, 0, 0, 0, 0, 0, 0, 0, 0, 0, 0, 0, 0, 0, 0, 0, 0, 0, 0, 0, 0, 0, 0, 0, 0, 0, 0, 0, 0, 0, 0, 0, 0, 0, 0, 0, 0, 0, 0, 0, 0, 0, 0, 0, 0, 0, 0, 0, 0, 0, 0, 0, 0, 0, 0, 0, 0, 0, 0, 0, 0, 0, 0, 0, 0, 0, 0, 0, 0, 0, 0, 0, 0, 0, 0, 0, 0, 0, 0, 0, 0, 0, 0, 0, 0, 0, 0, 0, 0, 0, 0, 0, 0, 0, 0, 0, 0, 0, 0, 0, 0, 0, 0, 0, 0, 0, 0, 0, 0, 0, 0, 0, 0, 0, 0, 0, 0, 0, 0, 0, 0, 0, 0, 0, 0, 0, 0, 0, 0, 0, 0, 0, 0, 0, 0, 0, 0, 0, 0, 0, 0, 0, 0, 0, 0, 0, 0, 0, 0, 0, 0, 0, 0, 0, 0, 0, 0, 0, 0, 0, 0, 0, 0, 0, 0, 0, 0, 0, 0, 0, 0, 0, 0, 0, 0, 0, 0, 0, 0, 0, 0, 0, 0, 0, 0, 0, 0, 0, 0, 0, 0, 0, 0, 0, 0, 0, 0, 0, 0, 0, 0, 0, 0, 0, 0, 0, 0, 0, 0, 0, 0, 0, 0, 0, 0, 0, 0, 0, 0, 0, 0, 0, 0, 0, 0, 0, 0, 0, 0, 0, 0, 0, 0, 0, 0, 0, 0, 0, 0, 0, 0, 0, 0, 0, 0, 0, 0, 0, 0, 0, 0, 0, 0, 0, 0, 0, 0, 0, 0, 0, 0, 0, 0, 0, 0, 0, 0, 0, 0, 0, 0, 0, 0, 0, 0, 0, 0, 0, 0, 0, 0, 0, 0, 0, 0, 0, 0, 0, 0, 0, 0, 0, 0, 0, 0, 0, 0, 0, 0, 0, 0, 0, 0, 0, 0, 0, 0, 0, 0, 0, 0, 0, 0, 0, 0, 0, 0, 0, 0, 0, 0, 0, 0, 0, 0, 0, 0, 0, 0, 0, 0, 1, 0, 0, 0, 0, 0, 0, 0, 0, 0, 0, 0, 0, 0, 0, 0, 0, 0, 0, 0, 0, 0, 0, 0, 0, 0, 0, 0, 0, 0, 0, 0, 0, 0, 0, 0, 2, 0, 0, 0, 0, 0, 0, 0, 0, 0, 0, 0, 0, 0, 0, 0, 0, 0, 0, 0, 0, 0, 0, 0, 0, 0, 0, 0, 0, 0, 0, 0, 0, 0, 0, 0, 0, 0, 0, 0, 0, 1, 0, 0, 0, 0, 0, 0, 0, 0, 0, 0, 0, 0, 0, 0, 0, 0, 0, 0, 0, 0, 0, 0, 0, 0, 0, 0, 0, 0, 0, 0, 0, 0, 0, 0, 0, 0, 0, 0, 0, 0, 0, 0, 0, 0, 0, 0, 0, 0, 0, 0, 0, 0, 0, 0, 0, 0, 0, 0, 0, 0, 0, 0, 0, 0, 0, 0, 0, 0, 0, 0, 0, 0, 0, 0, 0, 0, 0, 0, 0, 0, 0, 0, 0, 0, 0, 0, 0, 0, 0, 0, 0, 0, 0, 0, 0, 0, 0, 0, 0, 0, 0, 0, 0, 0, 0, 0, 0, 0, 0, 0, 0, 0, 0, 0, 0, 0, 0, 0, 0, 0, 0, 0, 0, 0, 0, 0, 0, 0, 0, 0, 0, 0, 0, 0, 0, 0, 0, 0, 0, 0, 0, 0, 0, 0, 0, 0, 0, 0, 0, 0, 0, 0, 0, 0, 0, 0, 0, 0, 0, 0, 0, 0, 0, 0, 0, 0, 0, 0, 0, 0, 0, 0, 0, 0, 0, 0, 0, 0, 0, 0, 0, 0, 0, 0, 0, 0, 0, 0, 0, 0, 0, 0, 0, 0, 0, 0, 0, 0, 0, 0, 0, 0, 0, 0, 0, 0, 0, 0, 0, 0, 0, 0, 0, 0, 0, 0, 0, 0, 0, 0, 0, 0, 0, 0, 0, 0, 0, 0, 0, 0, 0, 0, 0, 0, 0, 0, 0, 0, 0, 0, 0, 0, 0, 0, 0, 0, 0, 0, 0, 0, 0, 0, 0, 0, 0, 0, 0, 0, 0, 0, 0, 0, 0, 0, 0, 0, 0, 0, 0, 0, 0, 0, 0, 0, 0, 0, 0, 0, 0, 0, 0, 0, 0, 0, 0, 0, 0, 0, 0, 0, 0, 0, 0, 0, 0, 0, 0, 0, 0, 0, 0, 0, 0, 0, 0, 0, 0, 0, 0, 0, 0, 0, 0, 0, 0, 0, 0, 0, 0, 0, 0, 0, 0, 0, 0, 0, 0, 0, 0, 0, 0, 0, 0, 0, 0, 0, 0, 0, 0, 0, 0, 0, 0, 0, 0, 0, 0, 0, 0, 0, 0, 0, 0, 0, 0, 0, 0, 0, 0, 0, 0, 0, 0, 0, 0, 0, 0, 0, 0, 0, 0, 0, 0, 0, 0, 0, 0, 0, 0, 0, 0, 0, 0, 0, 0, 0, 0, 0, 0, 0, 0, 0, 0, 0, 0, 0, 0, 0, 0, 0, 0, 0, 0, 0, 0, 0, 0, 0, 0, 0, 0, 0, 0, 0, 0, 0, 0, 0, 0, 0, 0, 0, 0, 0, 0, 0, 0, 0, 0, 0, 0, 0, 0, 0, 0, 0, 0, 0, 0, 0, 0, 0, 0, 0, 0, 0, 0, 0, 0, 0, 0, 0, 0, 0, 0, 0, 0, 0, 0, 0, 0, 0, 0, 0, 0, 0, 0, 0, 0, 0, 0, 0, 0, 0, 0, 0, 0, 0, 0, 0, 0, 0, 0, 0, 0, 0, 0, 0, 0, 0, 0, 0, 0, 0, 0, 0, 0, 1, 0, 0, 0, 0, 0, 0, 0, 0, 0, 0, 0, 0, 0, 0, 0, 0, 0, 0, 0, 0, 0, 0, 0, 0, 0, 0, 0, 0, 0, 0, 0, 0, 0, 0, 0, 0, 0, 0, 0, 0, 0, 0, 0, 0, 0, 0, 0, 0, 0, 0, 0, 0, 0, 0, 0, 0, 0, 0, 0, 0, 0, 0, 0, 0, 0, 0, 0, 0, 0, 0, 0, 0, 0, 0, 0, 0, 0, 0, 0, 0, 0, 0, 0, 0, 0, 0, 0, 0, 0, 0, 0, 0, 0, 0, 0, 0, 0, 0, 0, 0, 0, 0, 0, 0, 0, 0, 0, 0, 0, 0, 2, 0, 0, 0, 0, 0, 0, 0, 0, 0, 0, 0, 0, 0, 0, 0, 0, 0, 0, 0, 0, 0, 0, 0, 0, 0, 0, 0, 0, 0, 0, 0, 0, 0, 0, 0, 0, 0, 0, 0, 0, 0, 0, 0, 0, 0, 0, 0, 0, 0, 0, 0, 0, 0, 0, 0, 0, 0, 0, 0, 0, 0, 0, 0, 0, 0, 0, 0, 0, 0, 0, 0, 0, 0, 0, 0, 0, 0, 0, 0, 0, 0, 0, 0, 0, 0, 0, 0, 0, 0, 0, 0, 0, 0, 0, 0, 0, 0, 0, 0, 0, 0, 0, 0, 0, 0, 0, 0, 0, 0, 0, 0, 0, 0, 0, 0, 0, 0, 0, 0, 0, 0, 0, 0, 0, 0, 0, 0, 0, 0, 0, 0, 0, 0, 0, 0, 0, 0, 0, 0, 0, 0, 0, 0, 0, 0, 0, 0, 0, 0, 0, 0, 0, 0, 0, 0, 0, 0, 0, 0, 0, 0, 0, 0, 0, 0, 0, 0, 0, 0, 0, 0, 0, 0, 0, 0, 0, 0, 0, 0, 0, 0, 0, 0, 0, 0, 0, 0, 0, 0, 0, 0, 0, 0, 0, 0, 0, 0, 0, 0, 0, 0, 0, 0, 0, 0, 0, 0, 0, 0, 0, 0, 0, 0, 0, 0, 0, 0, 0, 0, 0, 0, 0, 0, 0, 0, 0, 0, 0, 0, 0, 0, 0, 0, 0, 0, 0, 0, 0, 0, 0, 0, 0, 0, 0, 0, 0, 0, 0, 0, 0, 0, 0, 0, 0, 0, 0, 0, 0, 0, 0, 0, 0, 0, 0, 0, 0, 0, 0, 0, 0, 0, 0, 0, 0, 0, 0, 0, 0, 0, 0, 0, 0, 0, 0, 0, 0, 0, 0, 0, 0, 0, 0, 0, 0, 0, 0, 0, 0, 0, 0, 0, 0, 0, 0, 0, 0, 0, 0, 0, 0, 0, 0, 0, 0, 0, 0, 0, 0, 0, 0, 0, 0, 0, 0, 0, 0, 0, 0, 0, 0, 0, 0, 0, 0, 0, 0, 0, 0, 0, 0, 0, 0, 0, 0, 0, 0, 0, 0, 0, 0, 0, 0, 0, 0, 0, 0, 0, 0, 0, 0, 0, 0, 0, 0, 0, 0, 0, 0, 0, 0, 0, 0, 0, 0, 0, 0, 0, 0, 0, 0, 0, 0, 0, 0, 0, 0, 0, 0, 0, 0, 0, 0, 0, 0, 0, 0, 0, 0, 0, 0, 0, 0, 0, 0, 0, 0, 0, 0, 0, 0, 0, 0, 0, 0, 0, 0, 0, 0, 0, 0, 0, 0, 0, 0, 0, 0, 0, 0, 0, 0, 0, 0, 0, 0, 0, 0, 0, 0, 0, 0, 0, 0, 0, 0, 0, 0, 0, 0, 0, 0, 0, 0, 0, 0, 0, 0, 0, 0, 0, 0, 0, 0, 0, 0, 0, 0, 0, 0, 0, 0, 0, 0, 0, 0, 0, 0, 0, 0, 0, 0, 0, 0, 0, 0, 0, 0, 0, 0, 0, 0, 0, 0, 0, 0, 0, 0, 0, 0, 0, 0, 0, 0, 0, 0, 0, 0, 0, 0, 0, 0, 0, 0, 0, 0, 0, 0, 0, 0, 0, 0, 0, 0, 0, 0, 0, 0, 0, 0, 0, 0, 0, 0, 0, 0, 0, 0, 0, 0, 0, 0, 0, 0, 0, 0, 0, 0, 0, 0, 0, 0, 0, 0, 0, 0, 0, 0, 0, 0, 0, 0, 0, 0, 0, 0, 0, 0, 0, 0, 0, 0, 0, 0, 0, 0, 0, 0, 0, 0, 0, 0, 0, 0, 0, 0, 0, 0, 0, 0, 0, 0, 0, 0, 0, 0, 0, 0, 0, 0, 0, 0, 0, 0, 0, 0, 0, 0, 0, 0, 0, 0, 0, 0, 0, 0, 0, 0, 0, 0, 0, 0, 0, 0, 0, 0, 0, 0, 0, 0, 0, 0, 0, 0, 0, 0, 0, 0, 0, 0, 0, 0, 0, 0, 0, 0, 0, 0, 0, 0, 0, 0, 0, 0, 0, 0, 0, 0, 0, 0, 0, 0, 0, 0, 0, 0, 0, 0, 0, 0, 0, 0, 0, 0, 0, 0, 0, 0, 0, 0, 0, 0, 0, 0, 0, 0, 0, 0, 0, 0, 0, 0, 1, 0, 0, 0, 0, 0, 0, 0, 0, 0, 0, 0, 0, 0, 0, 0, 0, 0, 0, 0, 0, 0, 0, 0, 0, 0, 0, 0, 0, 0, 0, 0, 0, 0, 0, 0, 0, 0, 0, 0, 0, 0, 0, 0, 0, 0, 0, 0, 0, 0, 0, 0, 0, 0, 0, 0, 0, 0, 0, 0, 0, 0, 0, 0, 0, 0, 0, 0, 0, 0, 0, 0, 0, 0, 0, 0, 0, 0, 0, 0, 0, 0, 0, 0, 0, 0, 0, 0, 0, 0, 0, 0, 0, 0, 0, 0, 0, 0, 0, 0, 0, 0, 0, 0, 0, 0, 0, 0, 1, 0, 0, 0, 0, 0, 0, 0, 0, 0, 0, 0, 0, 0, 0, 0, 0, 0, 0, 0, 0, 0, 0, 0, 0, 0, 0, 0, 0, 0, 0, 0, 0, 0, 0, 0, 0, 0, 0, 0, 0, 0, 0, 0, 0, 0, 0, 0, 0, 0, 0, 0, 0, 0, 0, 0, 0, 0, 0, 0, 0, 0, 0, 0, 0, 0, 0, 0, 0, 0, 0, 0, 0, 0, 0, 0, 0, 0, 0, 0, 0, 0, 0, 0, 0, 0, 0, 0, 0, 0, 0, 0, 0, 0, 0, 0, 0, 0, 0, 0, 0, 0, 0, 0, 0, 0, 0, 0, 0, 0, 0, 0, 0, 0, 0, 0, 0, 0, 0, 0, 0, 0, 0, 0, 0, 0, 0, 0, 0, 0, 0, 0, 0, 0, 0, 0, 0, 0, 0, 0, 0, 0, 0, 0, 0, 0, 0, 0, 0, 0, 0, 0, 0, 0, 0, 0, 0, 0, 0, 0, 0, 0, 0, 0, 0, 0, 0, 0, 0, 0, 0, 0, 0, 0, 0, 0, 0, 0, 0, 0, 0, 0, 0, 0, 0, 0, 0, 0, 0, 0, 0, 0, 0, 0, 0, 0, 0, 0, 0, 0, 0, 0, 0, 0, 0, 0, 0, 0, 0, 0, 0, 0, 0, 0, 0, 0, 0, 0, 0, 0, 0, 0, 0, 0, 0, 0, 0, 0, 0, 0, 0, 0, 0, 0, 0, 0, 0, 0, 0, 0, 0, 0, 0, 0, 0, 0, 0, 0, 0, 0, 0, 0, 0, 0, 0, 0, 0, 0, 0, 0, 0, 0, 0, 0, 0, 0, 0, 0, 0, 0, 0, 0, 0, 0, 0, 0, 0, 0, 0, 0, 0, 0, 0, 0, 0, 0, 0, 0, 0, 0, 0, 0, 0, 0, 0, 0, 0, 0, 0, 0, 0, 0, 0, 0, 0, 0, 0, 0, 0, 0, 0, 0, 0, 0, 0, 0, 0, 0, 0, 0, 0, 0, 0, 0, 0, 0, 0, 0, 0, 0, 0, 0, 0, 0, 0, 0, 0, 0, 0, 0, 0, 0, 0, 0, 0, 0, 0, 0, 0, 0, 0, 0, 0, 0, 0, 0, 0, 0, 0, 0, 0, 0, 0, 0, 0, 0, 0, 0, 0, 0, 0, 0, 0, 0, 0, 0, 0, 0, 0, 0, 0, 0, 0, 0, 0, 0, 0, 0, 0, 0, 0, 0, 0, 0, 0, 0, 0, 0, 0, 0, 0, 0, 0, 0, 0, 0, 0, 0, 0, 0, 0, 0, 0, 0, 0, 0, 0, 0, 0, 0, 0, 0, 0, 0, 0, 0, 0, 0, 0, 0, 0, 0, 0, 0, 0, 0, 0, 0, 0, 0, 0, 0, 0, 0, 0, 0, 0, 0, 0, 0, 0, 0, 0, 0, 0, 0, 0, 0, 0, 0, 0, 0, 0, 0, 2, 0, 1, 0], type: <class 'list'>, valid types: <class 'bytes'>, <class 'bytearray'>, file-like object"
     ]
    }
   ],
   "source": [
    "response = runtime.invoke_endpoint(EndpointName = xgb_predictor.endpoint, # The name of the endpoint we created\n",
    "                                       ContentType = 'text/csv',                     # The data format that is expected\n",
    "                                       Body = test_bow)"
   ]
  },
  {
   "cell_type": "markdown",
   "metadata": {},
   "source": [
    "So why did we get an error?\n",
    "\n",
    "Because we tried to send the endpoint a list of integers but it expected us to send data of type `text/csv`. So, we need to convert it."
   ]
  },
  {
   "cell_type": "code",
   "execution_count": 51,
   "metadata": {},
   "outputs": [],
   "source": [
    "response = runtime.invoke_endpoint(EndpointName = xgb_predictor.endpoint, # The name of the endpoint we created\n",
    "                                       ContentType = 'text/csv',                     # The data format that is expected\n",
    "                                       Body = ','.join([str(val) for val in test_bow]).encode('utf-8'))"
   ]
  },
  {
   "cell_type": "code",
   "execution_count": 52,
   "metadata": {},
   "outputs": [
    {
     "name": "stdout",
     "output_type": "stream",
     "text": [
      "{'ResponseMetadata': {'RequestId': 'b95d3c21-8234-4ee4-b1fd-90f3f5a8138f', 'HTTPStatusCode': 200, 'HTTPHeaders': {'x-amzn-requestid': 'b95d3c21-8234-4ee4-b1fd-90f3f5a8138f', 'x-amzn-invoked-production-variant': 'AllTraffic', 'date': 'Mon, 18 May 2020 16:27:37 GMT', 'content-type': 'text/csv; charset=utf-8', 'content-length': '18'}, 'RetryAttempts': 0}, 'ContentType': 'text/csv; charset=utf-8', 'InvokedProductionVariant': 'AllTraffic', 'Body': <botocore.response.StreamingBody object at 0x7fcd58f5ad30>}\n"
     ]
    }
   ],
   "source": [
    "print(response)"
   ]
  },
  {
   "cell_type": "markdown",
   "metadata": {},
   "source": [
    "As we can see, the response from our model is a somewhat complicated looking dict that contains a bunch of information. The bit that we are most interested in is `'Body'` object which is a streaming object that we need to `read` in order to make use of."
   ]
  },
  {
   "cell_type": "code",
   "execution_count": 53,
   "metadata": {},
   "outputs": [
    {
     "name": "stdout",
     "output_type": "stream",
     "text": [
      "0.5630332827568054\n"
     ]
    }
   ],
   "source": [
    "response = response['Body'].read().decode('utf-8')\n",
    "print(response)"
   ]
  },
  {
   "cell_type": "markdown",
   "metadata": {},
   "source": [
    "Now that we know how to process the incoming user data we can start setting up the infrastructure to make our simple web app work. To do this we will make use of two different services. Amazon's Lambda and API Gateway services.\n",
    "\n",
    "Lambda is a service which allows someone to write some relatively simple code and have it executed whenever a chosen trigger occurs. For example, you may want to update a database whenever new data is uploaded to a folder stored on S3.\n",
    "\n",
    "API Gateway is a service that allows you to create HTTP endpoints (url addresses) which are connected to other AWS services. One of the benefits to this is that you get to decide what credentials, if any, are required to access these endpoints.\n",
    "\n",
    "In our case we are going to set up an HTTP endpoint through API Gateway which is open to the public. Then, whenever anyone sends data to our public endpoint we will trigger a Lambda function which will send the input (in our case a review) to our model's endpoint and then return the result."
   ]
  },
  {
   "cell_type": "markdown",
   "metadata": {},
   "source": [
    "### Setting up a Lambda function\n",
    "\n",
    "The first thing we are going to do is set up a Lambda function. This Lambda function will be executed whenever our public API has data sent to it. When it is executed it will receive the data, perform any sort of processing that is required, send the data (the review) to the SageMaker endpoint we've created and then return the result.\n",
    "\n",
    "#### Part A: Create an IAM Role for the Lambda function\n",
    "\n",
    "Since we want the Lambda function to call a SageMaker endpoint, we need to make sure that it has permission to do so. To do this, we will construct a role that we can later give the Lambda function.\n",
    "\n",
    "Using the AWS Console, navigate to the **IAM** page and click on **Roles**. Then, click on **Create role**. Make sure that the **AWS service** is the type of trusted entity selected and choose **Lambda** as the service that will use this role, then click **Next: Permissions**.\n",
    "\n",
    "In the search box type `sagemaker` and select the check box next to the **AmazonSageMakerFullAccess** policy. Then, click on **Next: Review**.\n",
    "\n",
    "Lastly, give this role a name. Make sure you use a name that you will remember later on, for example `LambdaSageMakerRole`. Then, click on **Create role**."
   ]
  },
  {
   "cell_type": "markdown",
   "metadata": {},
   "source": [
    "#### Part B: Create a Lambda function\n",
    "\n",
    "Now it is time to actually create the Lambda function. Remember from earlier that in order to process the user provided input and send it to our endpoint we need to gather two pieces of information:\n",
    "\n",
    " - The name of the endpoint, and\n",
    " - the vocabulary object.\n",
    "\n",
    "We will copy these pieces of information to our Lambda function after we create it.\n",
    "\n",
    "To start, using the AWS Console, navigate to the AWS Lambda page and click on **Create a function**. When you get to the next page, make sure that **Author from scratch** is selected. Now, name your Lambda function, using a name that you will remember later on, for example `sentiment_analysis_xgboost_func`. Make sure that the **Python 3.6** runtime is selected and then choose the role that you created in the previous part. Then, click on **Create Function**.\n",
    "\n",
    "On the next page you will see some information about the Lambda function you've just created. If you scroll down you should see an editor in which you can write the code that will be executed when your Lambda function is triggered. Collecting the code we wrote above to process a single review and adding it to the provided example `lambda_handler` we arrive at the following.\n",
    "\n",
    "```python\n",
    "# We need to use the low-level library to interact with SageMaker since the SageMaker API\n",
    "# is not available natively through Lambda.\n",
    "import boto3\n",
    "\n",
    "# And we need the regular expression library to do some of the data processing\n",
    "import re\n",
    "\n",
    "REPLACE_NO_SPACE = re.compile(\"(\\.)|(\\;)|(\\:)|(\\!)|(\\')|(\\?)|(\\,)|(\\\")|(\\()|(\\))|(\\[)|(\\])\")\n",
    "REPLACE_WITH_SPACE = re.compile(\"(<br\\s*/><br\\s*/>)|(\\-)|(\\/)\")\n",
    "\n",
    "def review_to_words(review):\n",
    "    words = REPLACE_NO_SPACE.sub(\"\", review.lower())\n",
    "    words = REPLACE_WITH_SPACE.sub(\" \", words)\n",
    "    return words\n",
    "    \n",
    "def bow_encoding(words, vocabulary):\n",
    "    bow = [0] * len(vocabulary) # Start by setting the count for each word in the vocabulary to zero.\n",
    "    for word in words.split():  # For each word in the string\n",
    "        if word in vocabulary:  # If the word is one that occurs in the vocabulary, increase its count.\n",
    "            bow[vocabulary[word]] += 1\n",
    "    return bow\n",
    "\n",
    "\n",
    "def lambda_handler(event, context):\n",
    "    \n",
    "    vocab = \"*** ACTUAL VOCABULARY GOES HERE ***\"\n",
    "    \n",
    "    words = review_to_words(event['body'])\n",
    "    bow = bow_encoding(words, vocab)\n",
    "\n",
    "    # The SageMaker runtime is what allows us to invoke the endpoint that we've created.\n",
    "    runtime = boto3.Session().client('sagemaker-runtime')\n",
    "\n",
    "    # Now we use the SageMaker runtime to invoke our endpoint, sending the review we were given\n",
    "    response = runtime.invoke_endpoint(EndpointName = '***ENDPOINT NAME HERE***',# The name of the endpoint we created\n",
    "                                       ContentType = 'text/csv',                 # The data format that is expected\n",
    "                                       Body = ','.join([str(val) for val in bow]).encode('utf-8')) # The actual review\n",
    "\n",
    "    # The response is an HTTP response whose body contains the result of our inference\n",
    "    result = response['Body'].read().decode('utf-8')\n",
    "    \n",
    "    # Round the result so that our web app only gets '1' or '0' as a response.\n",
    "    result = round(float(result))\n",
    "\n",
    "    return {\n",
    "        'statusCode' : 200,\n",
    "        'headers' : { 'Content-Type' : 'text/plain', 'Access-Control-Allow-Origin' : '*' },\n",
    "        'body' : str(result)\n",
    "    }\n",
    "```"
   ]
  },
  {
   "cell_type": "markdown",
   "metadata": {},
   "source": [
    "Once you have copy and pasted the code above into the Lambda code editor, replace the `**ENDPOINT NAME HERE**` portion with the name of the endpoint that we deployed earlier. You can determine the name of the endpoint using the code cell below."
   ]
  },
  {
   "cell_type": "code",
   "execution_count": 54,
   "metadata": {},
   "outputs": [
    {
     "data": {
      "text/plain": [
       "'sagemaker-xgboost-2020-05-18-15-41-15-955'"
      ]
     },
     "execution_count": 54,
     "metadata": {},
     "output_type": "execute_result"
    }
   ],
   "source": [
    "xgb_predictor.endpoint"
   ]
  },
  {
   "cell_type": "markdown",
   "metadata": {},
   "source": [
    "In addition, you will need to copy the vocabulary dict to the appropriate place in the code at the beginning of the `lambda_handler` method. The cell below prints out the vocabulary dict in a way that is easy to copy and paste."
   ]
  },
  {
   "cell_type": "code",
   "execution_count": 55,
   "metadata": {},
   "outputs": [
    {
     "name": "stdout",
     "output_type": "stream",
     "text": [
      "{'was': 4805, 'enough': 1491, 'to': 4507, 'meet': 2793, 'george': 1893, 'pal': 3177, 'and': 226, 'still': 4188, 'have': 2052, 'my': 2951, 'poster': 3353, 'by': 642, 'him': 2110, 'at': 331, 'shortly': 3947, 'after': 143, 'the': 4426, 'release': 3602, 'asked': 317, 'why': 4878, 'he': 2056, 'chose': 804, 'do': 1302, 'film': 1716, 'camp': 662, 'before': 440, 'could': 1007, 'answer': 251, 'two': 4620, 'studio': 4240, 'me': 2778, 'on': 3105, 'how': 2181, 'knew': 2486, 'best': 469, 'no': 3020, 'one': 3107, 'will': 4886, 'take': 4349, 'such': 4268, 'seriously': 3892, 'had': 2003, 'been': 438, 'reading': 3544, 'for': 1784, 'couple': 1016, 'of': 3083, 'years': 4979, 'thanks': 4423, 'friend': 1835, '1970s': 17, 'recall': 3562, 'his': 2118, 'band': 391, 'in': 2257, 'that': 4424, 'with': 4911, 'higher': 2101, 'hopes': 2159, 'than': 4420, 'what': 4858, 'we': 4823, 'got': 1944, 'high': 2100, 'adventure': 130, 'would': 4957, 'ever': 1538, 'be': 418, 'done': 1322, 'so': 4046, 'doing': 1312, 'only': 3110, 'way': 4820, 'several': 3905, 'other': 3135, 'fans': 1650, 'jumped': 2430, 'side': 3965, 'listening': 2620, 'as': 311, 'end': 1468, 'little': 2624, 'event': 1535, 'came': 656, 'up': 4683, 'us': 4690, 'wishing': 4907, 'more': 2904, 'better': 472, 'star': 4150, 'wars': 4804, 'put': 3480, 'lie': 2590, 'year': 4978, 'death': 1141, 'spielberg': 4110, 'lucas': 2680, 'proved': 3446, 'doc': 1303, 'savage': 3793, 'easily': 1406, 'next': 3007, 'major': 2711, 'movie': 2926, 'it': 2366, 'hadnt': 2004, 'tear': 4379, 'out': 3141, 'memory': 2804, 'or': 3124, 'history': 2121, 'worth': 4953, '10': 0, 'rating': 3529, 'nothing': 3047, 'mindless': 2851, 'popcorn': 3331, 'but': 636, 'destroying': 1215, 'like': 2599, 'less': 2575, 'an': 223, 'killing': 2472, 'baby': 376, 'can': 665, 'come': 886, 'screen': 3829, 'survive': 4321, 'inevitable': 2282, 'ill': 2228, 'jones': 2418, 'all': 187, 'glory': 1922, 'should': 3951, 'expect': 1575, 'from': 1840, 'first': 1736, 'american': 213, 'superhero': 4299, 'yes': 4982, 'there': 4438, 'second': 3846, 'script': 3834, 'evil': 1548, 'its': 2370, 'lot': 2661, 'serious': 3891, 'footage': 1782, 'shot': 3949, 'mostly': 2910, 'shots': 3950, 'very': 4723, 'actors': 104, 'ron': 3734, 'over': 3148, 'wall': 4781, 'something': 4066, 'built': 618, 'wearing': 4831, 'button': 639, 'down': 1335, 'white': 4870, 'shirt': 3937, 'tie': 4488, 'words': 4938, 'summer': 4291, 'if': 2222, 'anyone': 259, 'knows': 2493, 'who': 4871, 'were': 4848, 'accompanied': 86, 'san': 3780, 'idiots': 2220, 'head': 2057, 'call': 651, 'them': 4432, 'they': 4442, 'are': 285, 'time': 4495, 'fu': 1844, 'pants': 3182, 'carrying': 701, 'interested': 2324, 'see': 3855, 'this': 4457, 'when': 4862, 'theaters': 4428, 'however': 2183, 'wasnt': 4807, 'able': 66, 'get': 1899, 'around': 297, 'finally': 1724, 'hit': 2122, 'picked': 3266, 'not': 3040, 'knowing': 2490, 'exactly': 1551, 'dvd': 1391, 'player': 3298, 'evening': 1534, 'murder': 2939, 'play': 3296, 'followed': 1773, 'engaging': 1481, 'flicks': 1755, 'ive': 2372, 'seen': 3865, 'last': 2521, 'some': 4061, 'spoilers': 4124, 'is': 2360, 'story': 4207, 'murders': 2943, 'which': 4867, 'led': 2558, 'parts': 3199, 'la': 2500, 'straight': 4210, 'biggest': 480, 'porn': 3336, 'start': 4156, '70s': 56, 'john': 2409, 'holmes': 2139, 'hooked': 2153, 'beginning': 443, 'feel': 1684, 'held': 2074, 'until': 4680, 'bloody': 513, 'surprised': 4313, 'find': 1726, 'focused': 1767, 'actual': 108, 'events': 1536, 'investigation': 2343, 'aside': 315, 'few': 1700, 'blood': 512, 'walls': 4783, 'showing': 3958, 'towards': 4540, 'show': 3953, 'great': 1964, 'acting': 99, 'even': 1533, 'beautiful': 428, 'thats': 4425, 'joy': 2422, 'watch': 4811, 'just': 2437, 'her': 2085, 'looks': 2649, 'mind': 2849, 'you': 4986, 'personally': 3243, 'felt': 1692, 'aspect': 321, 'mentioned': 2811, 'lack': 2502, 'shown': 3959, 'dark': 1115, 'atmosphere': 333, 'couldnt': 1008, 'completely': 922, 'brutal': 603, 'sleeping': 4025, 'furthermore': 1854, 'sound': 4081, 'effects': 1431, 'said': 3774, 'being': 448, 'beating': 425, 'lead': 2545, 'theres': 4440, 'much': 2934, 'needs': 2990, 'real': 3547, 'problem': 3408, 'carrie': 697, 'brief': 579, 'portrayal': 3341, 'overly': 3155, 'religious': 3608, 'figure': 1711, 'think': 4452, 'bit': 488, 'too': 4522, 'cliche': 843, 'maybe': 2776, 'person': 3238, 'actually': 109, 'part': 3193, 'sold': 4052, 'reason': 3557, 'fisher': 1739, 'seemed': 3862, 'overall': 3150, 'excellent': 1555, 'once': 3106, 'weird': 4841, 'witty': 4917, 'wonderful': 4928, 'depiction': 1185, 'family': 1645, 'life': 2592, 'writer': 4968, 'andrew': 228, 'has': 2043, 'written': 4972, 'funny': 1852, 'occasionally': 3075, 'frightening': 1839, 'dont': 1324, 'fooled': 1780, 'childrens': 793, 'tune': 4602, 'characters': 760, 'times': 4497, 'quite': 3495, 'chilling': 794, 'whats': 4860, 'good': 1937, 'about': 67, 'simplistic': 3985, 'sitcom': 4004, 'where': 4864, 'every': 1539, 'character': 758, 'comic': 893, 'device': 1227, 'case': 707, 'instead': 2307, 'fully': 1847, 'individuals': 2278, 'full': 1846, 'human': 2188, 'emotions': 1461, 'moments': 2887, 'bill': 481, 'supposedly': 4307, 'haunted': 2050, 'curse': 1086, 'ben': 463, 'bizarre': 492, 'village': 4743, 'examples': 1554, 'taking': 4352, 'surreal': 4317, 'turn': 4605, 'help': 2079, 'add': 115, 'depth': 1190, 'course': 1019, 'also': 199, 'incredibly': 2270, 'make': 2713, 'smile': 4036, 'shame': 3918, 'video': 4733, 'stopped': 4202, 'comical': 894, 'gold': 1932, 'your': 4991, 'hope': 2155, 'hold': 2129, 'episodes': 1508, 'typical': 4623, 'trash': 4565, '80s': 59, 'flick': 1754, 'considered': 951, 'highlights': 2104, 'lloyd': 2630, 'notorious': 3051, 'production': 3419, 'alongside': 196, 'released': 3603, 'earlier': 1399, 'far': 1653, 'superior': 4300, 'ask': 316, 'demented': 1176, 'splatter': 4118, 'nevertheless': 3002, 'well': 4843, 'sure': 4308, 'leave': 2555, 'brain': 562, 'door': 1328, 'place': 3282, 'town': 4541, 'claims': 830, 'capital': 673, 'world': 4946, 'certainly': 738, 'arent': 288, 'lying': 2690, 'safety': 3772, 'local': 2634, 'nuclear': 3057, 'power': 3359, 'plant': 3293, 'say': 3799, 'least': 2554, 'homer': 2144, 'simpson': 3987, 'never': 3001, 'waste': 4808, 'through': 4477, 'nearby': 2980, 'school': 3813, 'victim': 4729, 'stereotypical': 4180, 'starts': 4159, 'green': 1971, 'stuff': 4243, 'body': 527, 'believed': 455, 'accident': 84, 'because': 432, 'house': 2178, 'oh': 3096, 'humanity': 2189, 'affect': 136, 'schools': 3814, 'thing': 4450, 'really': 3556, 'smoking': 4040, 'party': 3200, 'produce': 3413, 'monster': 2892, 'basement': 405, 'teenage': 4389, 'class': 833, 'em': 1452, 'bottom': 551, 'horror': 2168, 'making': 2718, 'dialogs': 1233, 'dumb': 1385, 'hurt': 2202, 'ears': 1402, 'give': 1912, 'whole': 4873, 'new': 3003, 'meaning': 2780, 'word': 4937, 'enjoy': 1484, 'watching': 4815, 'faces': 1618, 'melting': 2799, 'away': 369, 'getting': 1901, 'half': 2007, 'definitely': 1162, 'must': 2950, 'unlike': 4670, 'aforementioned': 139, 'suffers': 4278, 'dull': 1384, 'significant': 3972, 'happens': 2029, 'example': 1553, 'warren': 4801, 'try': 4600, 'wrong': 4973, 'their': 4431, 'crude': 1069, 'humor': 2192, 'isnt': 2362, 'effective': 1429, 'performances': 3229, 'amateurish': 207, 'youre': 4992, 'know': 2489, 'political': 3324, 'war': 4792, 'noticed': 3049, 'garbage': 1870, 'horrible': 2163, 'sense': 3877, 'terribly': 4408, 'many': 2732, 'ways': 4822, 'easier': 1405, 'believing': 457, 'president': 3378, 'united': 4664, 'states': 4163, 'flying': 1764, 'jet': 2400, 'fighter': 1708, 'shooting': 3943, 'aliens': 184, 'note': 3044, 'things': 4451, 'right': 3696, 'jaw': 2384, 'dropped': 1370, 'saw': 3798, '25': 40, 'seemingly': 3863, 'pointless': 3318, 'plot': 3309, 'questionable': 3488, 'cinematography': 820, 'box': 555, 'did': 1241, 'check': 777, 'these': 4441, 'exist': 1569, '2004': 34, 'research': 3644, 'five': 1743, 'am': 204, 'iraq': 2351, 'veteran': 4724, 'spent': 4108, 'day': 1129, 'realize': 3552, 'compare': 911, 'saving': 3797, 'private': 3404, 'ryan': 3765, 'ludicrous': 2685, 'throw': 4479, 'red': 3576, 'dawn': 1127, 'those': 4460, 'might': 2835, 'accurate': 90, 'past': 3207, 'unbelievable': 4634, 'historical': 2119, 'then': 4436, 'ok': 3098, 'keep': 2449, 'hearing': 2063, 'oscar': 3133, 'own': 3158, 'review': 3676, 'go': 1924, 'ahead': 159, 'writing': 4971, 'director': 1264, 'minutes': 2859, 'back': 378, 'love': 2669, 'korean': 2495, 'films': 1721, 'ability': 65, 'quiet': 3492, 'capture': 676, 'tend': 4400, 'movies': 2927, 'alone': 194, 'directors': 1266, 'comes': 891, 'closest': 857, 'feelings': 1686, 'another': 250, 'awesome': 371, 'called': 652, 'charming': 768, 'girl': 1909, 'title': 4504, 'summary': 4290, 'supposed': 4306, 'perspective': 3245, 'praise': 3364, 'non': 3027, 'christian': 808, 'lee': 2559, 'captured': 677, 'almost': 193, 'modern': 2882, 'church': 813, 'regardless': 3590, 'always': 203, 'waiting': 4772, 'truly': 4597, 'portrays': 3344, 'darker': 1116, 'speak': 4094, 'language': 2516, 'different': 1248, 'want': 4788, 'share': 3920, 'faith': 1633, 'though': 4461, 'having': 2054, 'motives': 2916, 'disney': 1289, 'special': 4097, 'need': 2987, 'people': 3221, 'lust': 2689, 'fall': 1637, 'christians': 809, 'believe': 454, 'available': 361, 'seek': 3858, 'everyday': 1541, 'horrors': 2169, 'totally': 4532, 'honest': 2146, 'woman': 4921, 'found': 1811, 'god': 1926, 'bitter': 491, 'loses': 2657, 'she': 3923, 'doesnt': 1309, 'exists': 1573, 'refuses': 3587, 'accept': 80, 'live': 2625, 'idea': 2213, 'loving': 2675, 'decent': 1147, 'morality': 2903, 'madness': 2698, 'asks': 319, 'questions': 3489, 'does': 1308, 'allow': 189, 'terrible': 4407, 'happen': 2026, 'open': 3112, 'interpretation': 2328, 'leaves': 2556, 'future': 1856, 'our': 3139, 'main': 2707, 'brings': 587, 'secret': 3849, 'sunshine': 4294, 'circle': 821, 'tried': 4584, 'any': 256, 'set': 3898, 'lies': 2591, 'worked': 4941, 'excited': 1561, 'animated': 241, 'source': 4086, 'ruined': 3751, 'reel': 3581, 'animation': 242, 'awful': 372, 'hoping': 2160, 'understand': 4643, 'going': 1931, 'emotion': 1458, 'pity': 3281, 'creators': 1044, 'wasting': 4810, 'short': 3946, 'twice': 4613, 'taken': 4350, 'hire': 2116, 'im': 2232, 'everyone': 1542, 'showcase': 3954, 'sorry': 4076, 'guys': 2001, 'telling': 4396, 'makes': 2716, 'eric': 1514, 'paint': 3173, 'dry': 1377, 'seems': 3864, 'may': 2775, 'gave': 1875, 'vague': 4705, 'cinema': 816, 'already': 197, 'named': 2961, '2007': 37, 'reality': 3551, 'century': 736, 'france': 1816, 'extreme': 1609, 'valley': 4707, 'whilst': 4869, 'wooden': 4934, 'involves': 2348, 'often': 3095, 'cast': 710, 'happened': 2027, 'passing': 3204, 'effect': 1428, 'cant': 671, 'utter': 4701, 'laughed': 2532, 'hard': 2033, 'during': 1387, 'face': 1616, 'hilarious': 2106, 'reminded': 3619, 'pretty': 3384, 'boy': 557, 'jack': 2373, 'black': 493, 'role': 3726, 'gives': 1914, 'performance': 3228, 'entire': 1502, 'went': 4847, 'into': 2332, 'expecting': 1578, 'perhaps': 3235, 'thoroughly': 4459, 'pleased': 3305, 'recommend': 3571, 'enjoys': 1489, 'comedy': 890, 'identify': 2216, 'putting': 3482, 'relatives': 3601, 'anyway': 261, 'subtle': 4260, 'bits': 490, 'caught': 722, 'off': 3084, 'guard': 1988, 'laughing': 2533, 'long': 2644, 'rest': 3657, 'audience': 352, 'namely': 2962, 'scene': 3809, 'involving': 2349, 'lighting': 2596, 'christmas': 810, 'tree': 4576, 'laugh': 2529, 'generally': 1881, 'young': 4989, 'concerned': 932, 'frank': 1821, 'romance': 3732, 'shes': 3930, 'playing': 3300, 'low': 2676, 'self': 3869, 'puts': 3481, 'entirely': 1503, 'tracy': 4546, 'direct': 1258, 'odd': 3080, 'played': 3297, 'room': 3735, 'front': 1841, 'depression': 1189, 'yet': 4984, 'romantic': 3733, 'regular': 3592, 'guy': 2000, 'todays': 4509, 'standards': 4145, 'edge': 1418, 'appealing': 272, 'supporting': 4304, 'work': 4940, 'screenplay': 3831, 'heroes': 2089, 'liked': 2600, 'true': 4596, 'close': 853, 'sort': 4077, 'slap': 4018, 'tell': 4395, 'wise': 4903, 'satisfying': 3791, 'conclusion': 936, 'embarrassed': 1453, 'missed': 2867, 'mother': 2911, 'vote': 4766, 'given': 1913, 'here': 2086, 'english': 1483, 'independent': 2272, 'filmed': 1717, 'care': 684, 'quality': 3484, 'drew': 1360, 'purely': 3472, 'brutally': 604, 'utterly': 4702, 'anne': 246, 'daniel': 1111, 'craig': 1030, 'stunning': 4244, 'score': 3822, 'storyline': 4208, 'epic': 1506, 'brilliantly': 584, 'mundane': 2938, 'lives': 2628, 'big': 478, 'issues': 2365, 'subtlety': 4261, 'painting': 3175, 'highly': 2105, 'controversial': 978, 'probably': 3407, 'explains': 1589, 'awards': 367, 'won': 4925, 'despite': 1211, 'simply': 3986, 'favorite': 1671, 'involved': 2346, 'project': 3427, 'ashamed': 312, 'result': 3660, 'efforts': 1433, 'list': 2617, 'premise': 3370, 'look': 2646, 'student': 4238, 'yeah': 4977, 'interesting': 2325, 'albeit': 173, 'juvenile': 2441, 'didnt': 1242, 'seem': 3861, 'saying': 3800, 'thumbs': 4485, 'most': 2909, 'field': 1704, 'patients': 3212, 'successful': 4266, 'witnesses': 4916, 'wife': 4884, 'pool': 3327, 'man': 2721, 'days': 1130, 'attack': 337, 'dogs': 1311, 'ends': 1474, 'plans': 3292, 'plenty': 3307, 'mouth': 2920, 'tongue': 4518, 'cutting': 1092, 'beauty': 430, 'queen': 3485, 'ties': 4490, 'teeth': 4393, 'dentist': 1180, 'absolutely': 72, 'kind': 2476, 'deep': 1154, 'detail': 1217, 'entertaining': 1499, 'fast': 1661, 'paced': 3162, 'laughably': 2531, 'gory': 1943, 'above': 68, 'average': 362, 'partly': 3197, 'spoiled': 4122, 'predictable': 3367, 'line': 2610, 'music': 2946, 'chosen': 805, 'fit': 1740, 'action': 100, 'period': 3236, 'piece': 3272, 'tragedy': 4551, 'company': 910, 'moving': 2928, 'chris': 806, 'cooper': 990, 'turns': 4609, 'daddy': 1096, 'original': 3129, 'both': 547, 'chaplin': 756, 'miss': 2866, 'nice': 3008, 'job': 2405, 'russian': 3762, 'accent': 78, 'shy': 3962, 'men': 2805, 'women': 4923, 'fantastic': 1651, 'sympathetic': 4342, 'forgot': 1796, 'gorgeous': 1942, 'imagine': 2238, 'falls': 1640, 'unexpected': 4650, 'suspense': 4330, 'although': 201, 'hoped': 2156, 'happy': 2032, 'ending': 1471, 'surprise': 4312, 'pays': 3218, 'points': 3319, 'concept': 930, 'now': 3054, 'drags': 1345, 'editing': 1421, 'hear': 2061, 'credits': 1050, 'rushed': 3760, 'market': 2740, 'places': 3284, 'worst': 4952, 'technical': 4381, 'audio': 354, 'level': 2584, 'dialog': 1232, 'distracting': 1297, 'either': 1438, 'careful': 688, 'recording': 3575, 'background': 380, 'noise': 3024, 'gotten': 1947, 'someone': 4064, 'martial': 2747, 'arts': 310, 'scenes': 3811, 'hitting': 2126, 'together': 4511, 'battle': 414, 'especially': 1520, 'combat': 882, 'needed': 2988, 'flat': 1748, 'same': 3778, 'writes': 4970, 'stars': 4155, 'experience': 1580, 'effort': 1432, 'please': 3304, 'stop': 4201, 'stiller': 4189, 'write': 4967, 'studios': 4241, 'hell': 2077, 'laughs': 2534, 'funeral': 1849, 'tries': 4585, 'dog': 1310, 'crap': 1031, 'christopher': 811, 'walken': 4777, 'greatest': 1966, 'generation': 1883, 'unfunny': 4655, 'proves': 3447, 'overrated': 3156, 'wonder': 4926, 'badly': 383, 'dollar': 1314, 'handful': 2017, 'weeks': 4839, 'warn': 4797, 'friends': 1837, 'id': 2212, 'thought': 4462, 'plan': 3287, 'golden': 1934, 'child': 789, 'hollywood': 2137, 'quit': 3494, 'allowing': 191, 'hes': 2093, 'actor': 103, 'bringing': 586, 'others': 3136, 'following': 1774, 'negative': 2991, 'scores': 3823, 'allowed': 190, 'while': 4868, 'board': 522, 'says': 3801, 'zero': 4996, 'wish': 4904, 'stayed': 4167, 'bar': 396, 'frankly': 1823, 'boring': 543, 'guess': 1989, 'itself': 2371, 'pretentious': 3383, 'camera': 659, 'techniques': 4384, 'intent': 2318, 'causing': 726, 'suddenly': 4273, 'died': 1244, 'cared': 685, 'emotional': 1459, 'walking': 4779, 'children': 792, 'made': 2697, '100': 1, 'nowadays': 3055, 'cultural': 1078, 'anymore': 258, 'cheap': 774, 'eighties': 1437, 'sell': 3871, 'medium': 2792, 'fascinating': 1658, 'upper': 4685, 'picture': 3269, 'cameos': 658, 'gene': 1879, 'simmons': 3981, 'success': 4265, 'small': 4033, 'roles': 3727, 'singer': 3993, 'singing': 3995, 'monsters': 2893, 'nightmares': 3015, 'night': 3013, 'recommended': 3572, 'intellectual': 2312, 'lovers': 2673, 'begins': 444, 'crew': 1053, 'documentary': 1307, 'spoiler': 4123, 'message': 2819, 'contrary': 974, 'looking': 2648, 'existence': 1571, 'middle': 2833, 'web': 4833, 'false': 1641, 'interest': 2323, 'elsewhere': 1449, 'bergman': 466, 'filmmaker': 1719, 'order': 3126, 'spiritual': 4116, 'poverty': 3357, 'subject': 4253, 'viewer': 4738, 'incident': 2260, 'pathetic': 3210, 'value': 4709, 'spend': 4105, 'hours': 2177, 'aka': 168, 'leads': 2548, 'dance': 1103, 'lots': 2662, 'naked': 2959, 'thrown': 4481, 'ireland': 2352, 'gothic': 1945, 'island': 2361, 'castle': 712, 'weekend': 4838, 'missing': 2869, 'heads': 2059, 'due': 1382, 'running': 3756, 'scary': 3807, 'rooms': 3736, 'lit': 2621, 'dubbing': 1380, 'worse': 4951, 'usual': 4699, 'serves': 3895, 'excuse': 1564, 'nudity': 3059, 'directed': 1259, 'rented': 3628, 'curious': 1083, 'yellow': 4981, 'store': 4204, 'surrounded': 4318, 'heard': 2062, 'enter': 1494, 'country': 1014, 'therefore': 4439, 'fan': 1648, 'myself': 2953, 'centered': 733, 'swedish': 4335, 'drama': 1346, 'lena': 2568, 'wants': 4791, 'learn': 2550, 'everything': 1544, 'particular': 3194, 'focus': 1766, 'certain': 737, 'vietnam': 4735, 'race': 3499, 'between': 475, 'asking': 318, 'ordinary': 3128, 'opinions': 3119, 'politics': 3326, 'sex': 3907, 'teacher': 4375, 'married': 2744, 'kills': 2474, '40': 48, 'ago': 154, 'porno': 3337, 'shocking': 3940, 'arguably': 289, 'old': 3100, 'ford': 1789, 'filmmakers': 1720, 'fact': 1621, 'artistic': 308, 'purposes': 3475, 'rather': 3528, 'shock': 3938, 'money': 2888, 'america': 212, 'wanting': 4790, 'study': 4242, 'meat': 2787, 'intended': 2315, 'centers': 734, 'coming': 896, 'guilt': 1994, 'style': 4249, 'model': 2880, 'plane': 3288, 'car': 680, 'crash': 1033, 'impressive': 2253, 'storytelling': 4209, 'flashback': 1746, 'sequences': 3888, 'plays': 3301, 'truth': 4599, 'dialogue': 1234, 'game': 1864, 'narrative': 2966, 'structure': 4233, 'become': 433, 'rough': 3741, 'left': 2561, 'individual': 2277, 'dad': 1095, 'louis': 2665, 'mom': 2885, 'rachel': 3500, 'move': 2921, 'unaware': 4632, '90': 60, 'seconds': 3848, 'neighbor': 2992, 'across': 96, 'fred': 1825, 'shows': 3960, 'pet': 3246, 'further': 1853, 'ground': 1979, 'bring': 585, 'dead': 1132, 'nasty': 2968, 'mood': 2898, 'definite': 1161, 'novel': 3052, 'stephen': 4176, 'king': 2479, 'developed': 1223, 'situations': 4009, 'development': 1225, 'gore': 1941, 'violence': 4747, 'animals': 240, 'killed': 2469, 'semi': 3874, 'pops': 3332, 'sick': 3963, 'brought': 600, 'attacks': 339, 'including': 2264, 'hang': 2022, 'works': 4945, 'gruesome': 1986, 'goes': 1930, 'dreadful': 1353, 'father': 1666, 'handsome': 2021, 'buff': 611, 'blank': 501, 'kids': 2467, 'annoying': 249, 'single': 3996, 'saves': 3796, 'total': 4531, 'large': 2517, 'logic': 2638, 'stupid': 4247, 'huge': 2185, 'office': 3091, 'sequel': 3885, 'theatre': 4429, 'disturbed': 1299, 'kept': 2456, 'ramones': 3512, 'sing': 3992, 'song': 4071, 'wanna': 4786, 'buried': 624, 'beyond': 476, 'belief': 451, 'california': 650, 'workers': 4943, 'mill': 2845, 'closing': 859, 'bad': 382, 'behavior': 446, 'streets': 4217, 'fed': 1682, 'arnold': 296, 'michael': 2829, 'vincent': 4746, 'brother': 598, 'acts': 107, 'balance': 387, 'bunch': 623, 'clean': 838, 'houses': 2180, 'etc': 1527, 'takes': 4351, 'catch': 714, 'showdown': 3955, 'older': 3101, 'blue': 518, 'fighting': 1709, 'thinks': 4454, 'cannot': 670, 'accused': 91, 'girlfriend': 1910, 'victoria': 4732, 'principal': 3398, 'himself': 2111, 'beaten': 424, 'home': 2142, 'talks': 4361, 'daughter': 1121, 'uncle': 4636, 'threatening': 4468, 'fathers': 1667, 'smiling': 4037, 'chemistry': 782, 'each': 1395, 'peters': 3248, 'appearance': 274, 'attention': 345, 'remember': 3616, 'jay': 2386, 'turned': 4606, 'budget': 610, 'adam': 111, 'sandler': 3781, 'obviously': 3072, 'mission': 2870, 'prove': 3445, 'couldve': 1009, 'point': 3316, 'shake': 3914, 'trademark': 4548, 'movements': 2924, 'nicholson': 3011, 'convincing': 985, 'tension': 4404, 'captivating': 675, 'likely': 2601, 'somewhat': 4068, 'constantly': 958, 'read': 3543, 'writers': 4969, 'flawed': 1750, 'mild': 2839, 'criticism': 1063, 'resolution': 3649, 'positive': 3346, 'comment': 898, 'atrocious': 335, 'believable': 453, 'cable': 644, 'access': 83, 'ridiculous': 3693, 'stolen': 4195, 'shark': 3921, 'anything': 260, 'gets': 1900, 'near': 2979, 'cheesy': 781, 'fun': 1848, 'sounds': 4084, 'delivered': 1170, 'top': 4525, 'soundtrack': 4085, 'bothered': 549, 'record': 3573, 'italian': 2367, 'industry': 2280, 'final': 1722, 'nail': 2957, 'shop': 3945, 'corner': 996, 'addition': 118, 'talents': 4356, 'james': 2378, 'stewart': 4184, 'margaret': 2735, 'filled': 1715, 'terrific': 4409, 'morgan': 2905, 'felix': 1689, 'theyre': 4445, 'type': 4621, 'sadly': 3769, 'longer': 2645, 'makers': 2715, 'youve': 4995, 'mail': 2706, 'claim': 828, 'remake': 3612, 'comedies': 889, '1940s': 13, 'youll': 4988, 'repeat': 3630, 'viewings': 4741, 'delivers': 1172, 'awkward': 374, 'anywhere': 263, 'attempts': 343, 'later': 2525, 'arm': 292, 'reaching': 3539, 'pulling': 3463, 'beer': 439, 'lines': 2612, 'nowhere': 3056, 'former': 1800, 'actress': 105, 'cell': 730, 'phone': 3255, 'perfect': 3224, 'saturday': 3792, 'invisible': 2344, 'carefully': 689, 'handled': 2019, 'age': 148, '20': 29, 'fresh': 1833, 'mad': 2696, 'scientist': 3818, 'early': 1400, '50s': 52, 'amazing': 209, 'alas': 172, 'soon': 4074, 'underground': 4640, 'lab': 2501, 'means': 2783, 'tv': 4610, 'becoming': 435, 'classics': 837, 'under': 4639, 'eager': 1396, 'obvious': 3071, 'key': 2458, 'issue': 2364, 'energy': 1478, 'hollow': 2135, 'clichés': 846, 'sappy': 3784, 'whatsoever': 4861, 'impressed': 2251, 'producers': 3416, 'sometimes': 4067, 'blows': 517, 'natural': 2973, 'response': 3654, 'gone': 1935, 'swear': 4334, 'thank': 4421, 'convinced': 984, 'worthy': 4956, 'struck': 4232, 'awe': 370, 'realized': 3553, 'stunts': 4246, 'watched': 4813, 'spy': 4135, 'version': 4720, 'bought': 552, 'disappointed': 1273, 'nick': 3012, 'marry': 2745, 'jim': 2402, 'fairly': 1631, 'contained': 963, 'entertainment': 1500, 'again': 146, 'similar': 3978, 'sean': 3840, 'imdb': 2240, 'possibility': 3349, 'series': 3890, 'based': 404, 'cash': 709, 'since': 3990, 'reminds': 3620, 'name': 2960, 'matthew': 2772, 'soap': 4047, 'opera': 3116, 'approach': 282, 'raw': 3532, 'mean': 2779, 'site': 4005, 'whether': 4866, 'philosophy': 3254, 'talking': 4360, 'aged': 149, 'cool': 989, 'otherwise': 3137, 'viewing': 4740, 'strange': 4211, 'comparison': 914, 'thinking': 4453, 'sunday': 4293, 'afternoon': 144, 'streisand': 4218, 'vehicle': 4718, 'lady': 2507, 'wouldnt': 4958, 'appear': 273, 'meanwhile': 2785, 'else': 1448, 'moment': 2886, 'multiple': 2936, 'angles': 237, 'lame': 2510, 'insight': 2298, 'guest': 1992, 'paul': 3214, 'sleazy': 4023, 'hed': 2072, 'pokemon': 3320, 'massive': 2756, 'sorts': 4078, 'reviews': 3679, 'track': 4544, 'aspects': 322, 'kevin': 2457, 'william': 4887, 'wasted': 4809, 'expected': 1577, 'stilted': 4190, 'minute': 2858, 'sequence': 3887, 'paris': 3189, 'choreographed': 801, 'kelly': 2452, 'combination': 883, 'color': 877, 'eye': 1611, 'broken': 594, 'inspired': 2301, 'master': 2757, 'artists': 309, 'opening': 3114, 'de': 1131, 'street': 4216, 'fair': 1630, 'van': 4713, 'spectacular': 4101, 'wears': 4832, 'famous': 1647, 'finale': 1723, 'exciting': 1563, 'winning': 4898, 'musical': 2947, 'screenwriter': 3833, 'alan': 171, 'fashioned': 1660, 'surprisingly': 4316, 'sophisticated': 4075, 'slight': 4027, 'jerry': 2396, 'wwii': 4975, 'trying': 4601, 'living': 2629, 'manner': 2729, 'dancing': 1107, 'irritating': 2359, 'personality': 3242, 'involvement': 2347, 'roberts': 3714, 'art': 304, 'sexual': 3908, 'date': 1118, 'professional': 3421, 'concert': 935, 'classic': 835, 'songs': 4072, 'performed': 3230, 'stay': 4166, 'along': 195, 'river': 3707, 'lights': 2597, 'leslie': 2574, 'beautifully': 429, 'leading': 2547, 'falling': 1639, 'tap': 4364, 'montage': 2894, 'map': 2733, 'description': 1197, 'designed': 1203, 'ellen': 1446, 'showed': 3956, 'considerable': 950, 'skills': 4014, 'described': 1195, 'multi': 2935, 'vision': 4754, 'dances': 1106, 'superbly': 4297, 'throughout': 4478, 'charm': 767, 'talent': 4354, 'manipulative': 2727, 'manages': 2725, 'likable': 2598, 'fate': 1665, 'performing': 3233, 'elegant': 1441, 'build': 614, 'lose': 2654, 'mgm': 2828, 'magic': 2703, 'worthwhile': 4955, '2000': 30, 'contains': 964, 'print': 3399, 'terms': 4406, 'extras': 1608, 'poor': 3328, 'substance': 4258, 'ideas': 2215, 'provide': 3448, 'lacked': 2503, 'drive': 1363, 'science': 3816, 'scientists': 3819, 'appeared': 276, 'matter': 2769, 'helped': 2080, 'explained': 1587, 'humble': 2191, 'hasnt': 2044, 'covered': 1023, 'culture': 1079, 'barely': 399, 'touched': 4534, '14': 6, 'underrated': 4642, 'humour': 2194, 'un': 4630, 'matched': 2763, 'brilliant': 583, 'mix': 2876, 'criminals': 1058, 'general': 1880, 'public': 3460, 'let': 2579, 'spoil': 4121, 'gem': 1877, 'stand': 4143, 'eddie': 1416, 'fail': 1625, 'wide': 4880, 'range': 3516, 'realise': 3548, 'anybody': 257, 'likes': 2602, 'trailers': 4555, 'sky': 4017, 'david': 1124, 'realistic': 3550, 'intimate': 2331, 'third': 4455, 'chance': 747, 'guessing': 1991, 'tied': 4489, 'leaving': 2557, 'mixture': 2878, 'sadness': 3770, 'empathy': 1462, 'pay': 3216, 'chances': 748, 'drawn': 1351, 'wont': 4932, 'eyes': 1613, 'usually': 4700, 'cinemas': 817, 'change': 749, 'simple': 3983, 'shallow': 3917, 'tale': 4353, 'claimed': 829, 'rock': 3720, 'express': 1600, 'personal': 3240, 'attitude': 346, 'desire': 1205, 'frustration': 1843, 'crucial': 1068, 'convey': 982, 'profound': 3423, 'inappropriate': 2259, 'intense': 2316, 'focuses': 1768, 'ultimate': 4627, 'mere': 2814, 'son': 4070, 'fine': 1729, 'attempt': 340, 'working': 4944, 'information': 2288, 'perfectly': 3226, 'killers': 2471, 'goofy': 1939, 'ninja': 3018, 'mistake': 2871, 'enjoyable': 1485, 'largely': 2518, 'presence': 3373, 'chuck': 812, 'starring': 4154, 'shines': 3932, 'suppose': 4305, 'tough': 4537, 'copy': 994, 'wisdom': 4902, 'laughable': 2530, 'without': 4913, 'sign': 3970, 'mental': 2808, 'dennis': 1179, 'brooklyn': 595, 'colonel': 876, 'tends': 4402, 'shine': 3931, 'regarding': 3589, 'die': 1243, 'folks': 1771, 'trick': 4582, 'except': 1556, 'blowing': 515, 'theme': 4433, 'dirty': 1268, 'harry': 2039, 'revenge': 3675, 'served': 3894, 'cold': 872, 'sandra': 3782, 'normally': 3034, 'deadly': 1133, 'scale': 3802, 'gang': 1867, 'raped': 3522, 'younger': 4990, 'sister': 4001, 'jennifer': 2392, 'block': 508, 'sees': 3866, 'follows': 1775, 'lets': 2580, 'pick': 3265, 'shoots': 3944, 'ya': 4976, 'gotta': 1946, 'plus': 3311, 'artist': 307, 'anger': 235, 'watches': 4814, 'process': 3412, 'crime': 1055, 'creepy': 1052, 'bucks': 606, 'visits': 4756, 'rape': 3521, 'took': 4523, 'bullets': 621, 'heroine': 2091, 'inside': 2297, 'vivid': 4760, 'closer': 856, 'subsequent': 4257, 'violent': 4748, 'criminal': 1057, 'suffering': 4277, 'pull': 3461, 'coffee': 870, 'step': 4175, 'punk': 3468, 'kid': 2464, 'female': 1693, 'staring': 4152, 'clint': 850, '30': 42, 'murderous': 2942, 'mafia': 2700, 'boss': 546, 'fatal': 1664, 'wedding': 4836, 'mark': 2739, 'hotel': 2175, 'godfather': 1927, 'ii': 2226, 'don': 1320, 'dying': 1393, 'troubles': 4594, 'horribly': 2164, 'gun': 1996, 'uninspired': 4657, 'tired': 4501, 'burn': 625, 'bay': 416, 'heart': 2064, 'send': 3875, 'caliber': 649, 'known': 2492, 'headed': 2058, 'hero': 2088, 'cops': 993, 'lazy': 2543, 'equally': 1510, 'meets': 2795, 'agree': 155, 'subjects': 4254, 'law': 2538, 'guilty': 1995, 'hot': 2174, 'bull': 619, 'whos': 4876, 'boyfriend': 558, 'shell': 3927, 'eventually': 1537, 'police': 3322, 'chief': 788, 'eastwood': 1409, 'co': 867, 'pat': 3208, 'hanging': 2023, 'judge': 2424, 'strangely': 4212, 'odds': 3082, 'detective': 1220, 'related': 3594, 'adult': 125, 'driven': 1365, 'jerk': 2395, 'drives': 1367, 'vegas': 4717, 'prevent': 3385, 'timing': 4498, 'arrested': 298, 'sent': 3880, 'psycho': 3457, 'desperate': 1208, 'chase': 769, 'ensues': 1493, 'blues': 519, 'consistently': 954, 'ranks': 3519, 'lacks': 2505, 'direction': 1261, 'buddy': 609, 'mystery': 2956, 'ride': 3692, 'talented': 4355, 'dedicated': 1153, 'performers': 3232, 'mess': 2818, 'prior': 3400, 'themselves': 4435, 'mr': 2929, 'mid': 2832, '1960s': 15, 'cult': 1077, 'hearts': 2066, 'powerful': 3360, 'host': 2173, 'dating': 1120, 'performer': 3231, 'countless': 1012, 'spots': 4132, 'agreed': 156, 'nonsense': 3030, 'proper': 3436, 'thin': 4449, 'unconvincing': 4638, 'airplane': 166, 'ones': 3108, 're': 3535, 'steven': 4182, 'seagal': 3839, 'core': 995, 'settings': 3901, 'faithful': 1634, 'era': 1513, 'exposure': 1599, 'stops': 4203, 'empty': 1465, 'tom': 4514, 'hanks': 2025, 'bruce': 602, 'willis': 4890, 'content': 966, 'wrapped': 4964, 'bomb': 531, 'german': 1896, 'dutch': 1389, 'naturally': 2974, 'somewhere': 4069, 'provoking': 3452, 'themes': 4434, 'deals': 1137, 'cynical': 1093, 'nature': 2975, 'television': 4394, 'productions': 3420, 'hey': 2095, 'learning': 2552, 'four': 1812, 'seasons': 3844, 'pseudo': 3454, 'included': 2262, 'quickly': 3491, 'bother': 548, 'explanation': 1590, 'purchased': 3470, 'presented': 3376, 'johnny': 2410, 'sings': 3997, 'blonde': 511, 'jesus': 2399, 'jewish': 2401, 'hair': 2005, 'presentation': 3375, 'important': 2247, 'loved': 2670, 'clichéd': 845, 'types': 4622, 'tons': 4520, 'figured': 1712, 'willing': 4889, 'chick': 786, 'kinda': 2477, 'liking': 2604, 'sitting': 4007, 'forward': 1808, 'topless': 4527, 'mirror': 2861, 'decide': 1148, 'climax': 849, 'dude': 1381, 'importantly': 2248, 'annie': 247, 'flashbacks': 1747, 'happening': 2028, 'latter': 2528, 'according': 88, '15': 7, 'wait': 4770, 'nancy': 2964, 'names': 2963, 'connection': 946, 'doctor': 1304, 'notice': 3048, 'wow': 4962, 'extra': 1606, 'features': 1680, 'edition': 1422, 'return': 3665, 'hopefully': 2157, 'havent': 2053, 'seeing': 3857, 'thus': 4486, 'rid': 3690, 'angry': 238, 'somehow': 4063, 'save': 3794, 'fell': 1690, 'use': 4692, 'clear': 839, 'absolute': 71, 'merit': 2816, 'whoever': 4872, 'kiss': 2483, 'spider': 4109, 'julia': 2427, 'prisoner': 3402, 'latin': 2527, 'fictional': 1703, 'specifically': 4100, 'drops': 1372, 'broadway': 592, 'richard': 3686, 'appropriate': 283, 'tense': 4403, 'situation': 4008, 'moon': 2900, 'lost': 2660, 'starred': 4153, 'jonathan': 2417, 'winters': 4901, 'davis': 1126, 'jr': 2423, 'itll': 2369, 'ladies': 2506, 'kill': 2468, 'three': 4469, 'ten': 4399, 'create': 1036, 'against': 147, 'impossible': 2249, 'feeling': 1685, 'sinister': 3998, 'feminist': 1695, 'term': 4405, 'existed': 1570, 'locked': 2637, 'society': 4050, 'sit': 4003, 'results': 3662, 'pre': 3365, 'credit': 1049, 'muslim': 2949, 'soldier': 4053, 'alive': 186, 'hate': 2046, 'waves': 4819, 'huh': 2187, 'forces': 1788, 'join': 2412, 'involve': 2345, 'consider': 949, 'indeed': 2271, 'ingredients': 2289, 'trashy': 4566, 'exploitation': 1592, 'basic': 406, 'winds': 4895, 'spends': 4107, 'forgotten': 1797, 'becomes': 434, 'strong': 4229, 'spirited': 4114, 'slightly': 4029, 'outside': 3146, 'group': 1980, 'fear': 1676, 'dear': 1140, 'sends': 3876, 'treats': 4575, 'lover': 2672, 'prepared': 3371, 'shocked': 3939, 'reputation': 3640, 'earth': 1403, 'featuring': 1681, 'familiar': 1643, 'rated': 3527, 'male': 2719, 'holy': 2140, 'spirit': 4113, 'afraid': 140, 'arrive': 300, 'ha': 2002, 'lord': 2652, 'sight': 3969, 'occurred': 3077, 'italy': 2368, 'today': 4508, 'remembered': 3617, 'wives': 4918, 'walker': 4778, 'thrilling': 4474, 'pacing': 3163, 'painfully': 3172, 'slow': 4031, 'hour': 2176, 'thrills': 4475, 'boredom': 542, 'argument': 291, 'plain': 3286, 'devoid': 1230, 'stiff': 4187, 'social': 4049, 'sad': 3767, 'blame': 499, 'guns': 1998, 'liners': 2611, 'donald': 1321, 'sutherland': 4333, 'comedic': 888, 'act': 97, 'thomas': 4458, 'ian': 2209, 'max': 2774, 'agent': 150, 'diane': 1238, 'fbi': 1675, 'fight': 1707, 'argue': 290, 'photography': 3260, 'toilet': 4512, 'unusual': 4681, 'okay': 3099, 'nightmare': 3014, 'sticks': 4186, 'freddy': 1826, 'instantly': 2306, 'lisa': 2616, 'hand': 2015, 'dream': 1354, 'demons': 1178, 'dean': 1139, 'holding': 2130, 'knife': 2487, 'baseball': 403, 'bat': 410, 'suitable': 4285, 'belongs': 460, '1980s': 21, 'walked': 4776, 'speaking': 4095, 'award': 366, 'strongly': 4231, 'regret': 3591, 'forgettable': 1794, 'air': 164, 'properly': 3437, 'wanted': 4789, 'satire': 3788, 'weak': 4824, 'told': 4513, 'hat': 2045, 'guide': 1993, 'fellow': 1691, 'ultimately': 4628, 'hands': 2020, 'zombies': 4998, 'whatever': 4859, 'struggle': 4234, 'deal': 1135, 'risk': 3704, 'losing': 2658, 'offer': 3087, 'pie': 3271, 'cute': 1090, 'billy': 482, 'steal': 4170, 'possibly': 3351, 'dickens': 1240, 'surely': 4309, 'scott': 3824, 'incredible': 2269, 'scrooge': 3837, 'delivery': 1173, 'edward': 1426, 'ghost': 1902, 'present': 3374, 'current': 1084, 'patrick': 3213, 'morning': 2906, 'realizes': 3554, 'convince': 983, 'versus': 4722, 'nearly': 2981, 'tiny': 4500, 'tim': 4494, 'carol': 693, 'sweet': 4336, 'scenery': 3810, 'holiday': 2134, 'listed': 2618, 'reads': 3545, 'cuba': 1075, 'shoot': 3942, 'blow': 514, 'relationship': 3597, 'motivations': 2915, 'andy': 230, 'foul': 1810, 'basically': 407, 'meant': 2784, 'hip': 2114, 'hop': 2154, 'fails': 1628, 'miserably': 2864, 'feels': 1687, 'acted': 98, 'aimed': 162, 'pan': 3180, 'overacting': 3149, 'butt': 638, 'territory': 4411, 'southern': 4088, 'desert': 1198, 'element': 1442, 'companion': 909, 'aunt': 355, 'speaks': 4096, 'french': 1830, 'university': 4667, 'mountain': 2917, 'education': 1424, 'context': 968, 'segment': 3867, 'pure': 3471, 'honestly': 2147, 'number': 3060, 'twenty': 4612, 'bored': 541, '16': 8, 'buying': 641, 'avoid': 363, 'dire': 1257, 'australian': 357, 'streep': 4215, 'suspicious': 4332, 'media': 2789, 'lynch': 2691, 'mob': 2879, 'womans': 4922, 'evidence': 1546, 'question': 3487, 'justice': 2438, 'system': 4345, 'ought': 3138, '12': 3, 'liberal': 2588, 'beings': 449, 'cry': 1073, 'likewise': 2603, 'melodramatic': 2798, 'religion': 3607, 'doubt': 1332, 'depressing': 1188, 'freedom': 1828, 'initial': 2290, 'reaction': 3541, 'started': 4157, 'state': 4160, 'superb': 4296, '1950s': 14, 'catholic': 720, 'attend': 344, 'jumps': 2432, 'daughters': 1122, 'decided': 1149, 'theyll': 4444, 'priest': 3392, 'cards': 683, 'table': 4346, 'irish': 2353, 'scottish': 3825, 'weapon': 4828, 'used': 4693, 'moral': 2902, 'upon': 4684, 'masterpiece': 2759, 'shouldnt': 3952, 'reviewers': 3678, 'propaganda': 3435, 'exact': 1550, 'details': 1219, 'portrayed': 3342, 'herself': 2092, 'rural': 3758, 'changes': 751, 'believes': 456, 'consequences': 947, 'warning': 4800, 'keeping': 2450, 'pieces': 3273, 'member': 2800, 'devils': 1229, 'cinematic': 818, 'essential': 1522, 'masses': 2755, 'looked': 2647, 'slasher': 4020, 'genre': 1888, 'free': 1827, 'demand': 1174, 'dr': 1340, 'dracula': 1341, 'ad': 110, '1972': 18, 'captain': 674, 'vampire': 4711, 'hunter': 2199, 'behind': 447, 'heres': 2087, 'thoughts': 4464, 'opens': 3115, 'april': 284, 'elaborate': 1439, 'promising': 3433, 'shower': 3957, 'giving': 1915, 'coach': 868, 'parties': 3196, 'burning': 627, 'cut': 1089, 'reunion': 3669, 'burned': 626, 'midnight': 2834, 'break': 569, 'food': 1778, 'drink': 1361, 'trouble': 4592, 'sir': 4000, 'page': 3167, 'book': 535, 'shirley': 3936, 'decides': 1150, 'bath': 411, 'acid': 95, 'drugs': 1374, 'marty': 2749, 'mask': 2752, 'awake': 365, 'till': 4493, 'apparently': 270, 'bodies': 526, 'rent': 3626, 'buy': 640, 'mention': 2810, 'joe': 2407, 'susan': 4326, 'spin': 4112, 'career': 686, 'brad': 560, 'pitt': 3280, 'finish': 1732, 'talk': 4358, 'screams': 3828, 'killer': 2470, 'fights': 1710, 'awfully': 373, 'breaking': 570, 'walk': 4775, 'memories': 2803, 'buck': 605, 'unless': 4669, 'drunk': 1375, 'appeal': 271, 'relatively': 3600, 'defined': 1160, 'preview': 3386, 'disappointing': 1274, 'downright': 1337, 'twisted': 4618, 'cup': 1080, 'tea': 4373, 'saga': 3773, 'viewers': 4739, 'pictures': 3270, 'condition': 937, 'light': 2595, 'meaningful': 2781, 'roger': 3724, 'moore': 2901, 'british': 589, 'opposite': 3123, 'cousin': 1021, 'sexy': 3911, 'unseen': 4678, 'locations': 2636, 'uk': 4626, 'european': 1530, 'silly': 3976, 'surprising': 4315, 'counter': 1011, 'repetitive': 3633, 'confusing': 942, 'guessed': 1990, 'flop': 1760, 'recognize': 3569, 'yourself': 4993, 'favor': 1670, 'directing': 1260, 'clever': 841, 'dynamic': 1394, 'quirky': 3493, 'warrior': 4802, 'pushed': 3478, 'bus': 631, 'americans': 214, 'beat': 423, 'japanese': 2382, 'championship': 745, 'match': 2762, 'ted': 4386, 'offered': 3088, 'slave': 4022, 'loss': 2659, 'tag': 4348, 'team': 4378, 'settle': 3902, 'differences': 1247, 'matches': 2764, 'vs': 4767, 'brothers': 599, 'titles': 4506, 'manager': 2724, 'throat': 4476, 'win': 4892, 'cost': 1003, 'foot': 1781, 'difference': 1246, 'maker': 2714, 'ring': 3698, 'throwing': 4480, 'steel': 4173, 'steps': 4177, 'count': 1010, 'partner': 3198, 'hart': 2041, 'clown': 862, 'receive': 3563, 'lifetime': 2594, 'destroyed': 1214, 'decision': 1151, 'finished': 1733, 'harvey': 2042, 'continued': 970, 'latest': 2526, 'giant': 1905, 'six': 4010, 'control': 977, 'drop': 1369, 'attacked': 338, 'continues': 971, 'emotionally': 1460, 'whereas': 4865, 'grand': 1953, 'pace': 3161, 'complexity': 924, 'rising': 3703, 'tone': 4517, 'demands': 1175, 'fortunately': 1805, 'mass': 2753, 'greater': 1965, 'constructed': 959, 'flow': 1762, 'witness': 4914, 'adventures': 131, 'excitement': 1562, 'presents': 3377, 'keeps': 2451, 'theatrical': 4430, 'holds': 2131, 'building': 615, 'wild': 4885, 'sides': 3967, 'respect': 3652, 'common': 906, 'climactic': 848, 'slaughter': 4021, 'hitler': 2124, 'eyed': 1612, 'racial': 3501, 'nazis': 2978, 'view': 4736, 'nazi': 2977, 'silent': 3975, 'sword': 4340, 'poetic': 3313, 'kicks': 2463, 'dies': 1245, 'somebody': 4062, 'rush': 3759, 'absurd': 73, 'rings': 3699, 'blatant': 502, 'references': 3583, 'neo': 2998, 'movement': 2923, 'harsh': 2040, 'remains': 3611, 'heavy': 2070, 'protagonists': 3442, 'limits': 2607, 'stealing': 4171, 'pair': 3176, 'shoes': 3941, 'virtually': 4751, 'useless': 4695, 'marriage': 2743, 'husband': 2204, 'kitchen': 2485, 'limited': 2606, 'restaurant': 3658, 'gas': 1874, 'station': 4164, 'owner': 3159, 'tells': 4397, 'touches': 4535, 'helping': 2081, 'fix': 1744, 'wins': 4899, 'water': 4816, 'immediately': 2242, 'passionate': 3206, 'affair': 135, 'train': 4556, 'afford': 138, 'paid': 3169, 'represents': 3639, 'traveling': 4568, 'finding': 1727, 'month': 2896, 'passed': 3202, 'resist': 3648, 'agrees': 157, 'eat': 1411, 'briefly': 580, 'adding': 117, 'turner': 4607, 'psychological': 3458, 'outcome': 3142, 'statement': 4162, 'minor': 2857, 'amount': 219, 'hardly': 2036, 'quick': 3490, 'dancer': 1104, 'met': 2822, 'unrealistic': 4677, 'frame': 1815, 'robot': 3717, '1990': 24, 'gordon': 1940, 'gary': 1873, 'marie': 2737, 'johnson': 2411, 'extremely': 1610, 'freak': 1824, 'sci': 3815, 'fi': 1701, 'stress': 4220, 'duke': 1383, 'blown': 516, 'battles': 415, 'robots': 3718, 'alexander': 180, 'motion': 2913, 'nations': 2971, 'unfortunately': 4654, 'embarrassment': 1455, 'enjoyment': 1488, 'franco': 1820, 'corny': 997, 'torture': 4529, 'cause': 723, 'nostalgia': 3038, 'attached': 336, 'kicking': 2462, 'achieve': 92, 'credible': 1048, 'fashion': 1659, 'youd': 4987, 'damn': 1100, 'expensive': 1579, 'suspend': 4329, 'disbelief': 1277, 'empire': 1464, 'heck': 2071, 'sets': 3899, 'granted': 1957, 'crappy': 1032, 'hide': 2097, 'boom': 537, 'realizing': 3555, 'hello': 2078, 'naive': 2958, 'nostalgic': 3039, 'suggest': 4280, 'grown': 1984, 'conspiracy': 956, 'offering': 3089, 'possible': 3350, 'nor': 3032, 'goodness': 1938, 'racist': 3503, 'lesson': 2577, 'compelling': 916, 'whose': 4877, 'lifestyle': 2593, 'fame': 1642, 'daily': 1097, 'center': 732, 'peoples': 3222, 'seeking': 3859, 'casting': 711, 'among': 217, 'lovely': 2671, 'reporter': 3636, 'brave': 567, 'particularly': 3195, 'horrendous': 2162, 'abuse': 74, 'prefer': 3368, 'ignore': 2224, 'crimes': 1056, 'disappointment': 1275, 'easy': 1410, 'relate': 3593, 'solid': 4057, 'editor': 1423, 'lovable': 2668, 'pearl': 3220, 'admit': 122, 'provides': 3450, 'relief': 3605, 'proceedings': 3410, 'exaggerated': 1552, 'rich': 3685, 'clue': 864, 'reasons': 3560, 'explain': 1586, 'jail': 2376, 'breaks': 571, 'rival': 3706, 'escape': 1517, 'visit': 4755, 'kidnapped': 2466, 'execution': 1566, 'idiotic': 2219, 'opinion': 3118, 'unnecessary': 4672, 'universal': 4665, 'joke': 2414, 'everybody': 1540, 'nobody': 3022, 'goldberg': 1933, 'poorly': 3329, 'stinks': 4192, 'prime': 3395, 'firstly': 1737, 'lacking': 2504, 'besides': 468, 'remarkably': 3614, 'using': 4698, 'stock': 4193, 'flaw': 1749, 'confused': 941, 'signs': 3973, 'impression': 2252, 'universe': 4666, 'farm': 1656, 'land': 2511, 'wholly': 4874, 'books': 536, 'late': 2523, 'cop': 991, 'appears': 278, 'sun': 4292, 'round': 3742, 'fields': 1705, 'window': 4894, 'months': 2897, 'amusing': 221, 'japan': 2381, 'complicated': 925, 'form': 1798, 'humans': 2190, 'classical': 836, 'creature': 1045, 'creatures': 1046, 'gods': 1928, 'ugly': 4625, 'eating': 1413, 'demon': 1177, 'trained': 4557, 'warriors': 4803, 'spot': 4131, 'defeat': 1157, 'festival': 1697, 'dressed': 1358, 'run': 3755, 'majority': 2712, 'essence': 1521, 'fortune': 1806, 'revealing': 3672, 'arrival': 299, 'requires': 3642, 'revealed': 3671, 'split': 4120, 'ego': 1435, 'wishes': 4906, 'fancy': 1649, 'needless': 2989, 'became': 431, 'mistaken': 2872, 'adaptation': 113, 'essentially': 1523, 'compelled': 915, 'painted': 3174, 'practically': 3362, 'breath': 573, 'samurai': 3779, 'balls': 390, 'conventional': 979, 'marvelous': 2750, 'excessive': 1560, 'unique': 4662, 'recorded': 3574, 'follow': 1772, 'sexually': 3910, 'abusive': 75, 'amanda': 205, 'ward': 4793, 'secretly': 3851, 'renting': 3629, 'within': 4912, 'innocent': 2294, 'finds': 1728, 'attempted': 341, 'richards': 3687, 'whom': 4875, 'loves': 2674, 'cares': 690, 'martin': 2748, 'opportunity': 3121, 'journey': 2421, 'primarily': 3393, 'hollywoods': 2138, 'primary': 3394, 'conflict': 939, 'commercial': 902, 'clip': 851, 'explore': 1594, 'genres': 1889, 'code': 869, 'grace': 1950, 'trap': 4563, 'nonetheless': 3029, 'necessarily': 2983, 'favourite': 1673, 'orson': 3132, 'welles': 4844, 'alfred': 181, 'hitchcock': 2123, 'serve': 3893, 'western': 4853, 'powell': 3358, 'definition': 1163, 'include': 2261, 'douglas': 1334, 'born': 544, 'produced': 3414, 'stanley': 4148, 'kubrick': 2496, 'various': 4715, 'section': 3853, 'colour': 880, 'inevitably': 2283, 'computer': 927, 'generated': 1882, 'handed': 2016, 'clips': 852, 'francis': 1818, 'chapter': 757, 'cat': 713, 'elements': 1443, 'documentaries': 1306, 'outstanding': 3147, 'discovered': 1280, 'buffs': 612, 'broad': 590, 'scope': 3821, 'restored': 3659, 'barry': 401, 'display': 1291, 'allows': 192, 'interviews': 2330, 'necessary': 2984, '40s': 49, 'grew': 1972, 'achieved': 93, 'contain': 962, 'mature': 2773, 'spanish': 4092, 'improved': 2255, 'stones': 4198, 'friendship': 1838, 'shall': 3916, 'space': 4090, 'smaller': 4034, 'larger': 2519, 'feature': 1678, 'parallel': 3185, 'angela': 232, 'path': 3209, 'search': 3841, 'prince': 3396, 'tragic': 4552, 'leo': 2571, 'aids': 161, 'virus': 4752, 'parents': 3188, 'account': 89, 'news': 3005, 'spite': 4117, 'portraying': 3343, 'loosely': 2651, 'pretending': 3382, 'students': 4239, 'growing': 1983, 'factor': 1622, 'city': 825, 'inner': 2292, 'wealthy': 4827, 'mansion': 2731, 'property': 3438, 'raise': 3507, 'college': 875, 'forget': 1793, 'cinematographer': 819, 'canadian': 667, 'ex': 1549, 'army': 295, 'none': 3028, 'stories': 4205, 'complete': 921, 'assumed': 329, 'skip': 4016, 'episode': 1507, 'danger': 1109, 'traditional': 4550, 'repeated': 3631, 'solo': 4058, 'transformation': 4560, 'occurs': 3078, 'cheek': 779, 'voice': 4761, 'splendid': 4119, 'gerard': 1895, 'notably': 3042, 'moves': 2925, 'weakest': 4825, 'narration': 2965, 'memorable': 2802, 'pleasure': 3306, 'judy': 2426, 'previous': 3387, 'funniest': 1851, 'rendition': 3625, 'lol': 2640, 'hole': 2132, 'lily': 2605, 'frequently': 1832, 'justify': 2439, 'nonsensical': 3031, 'established': 1524, 'equal': 1509, 'quote': 3496, 'philip': 3252, 'dick': 1239, 'trade': 4547, 'september': 3884, 'fire': 1734, 'rescue': 3643, 'deeply': 1156, 'disturbing': 1300, 'kung': 2498, 'moved': 2922, 'slowly': 4032, 'mediocre': 2791, 'infamous': 2284, 'nights': 3016, 'inferior': 2285, 'wannabe': 4787, 'mike': 2838, 'myers': 2952, 'task': 4368, 'club': 863, 'steve': 4181, 'lemmon': 2567, 'failure': 1629, 'teen': 4388, 'remotely': 3623, 'bugs': 613, 'cartoon': 704, 'sidekick': 3966, 'destroy': 1213, 'mars': 2746, 'picks': 3268, 'rabbit': 3498, 'ray': 3533, 'planning': 3291, 'amazingly': 210, 'product': 3418, 'forced': 1787, 'fly': 1763, 'enjoyed': 1486, 'compared': 912, 'changed': 750, 'visible': 4753, 'teenagers': 4391, 'lousy': 2667, 'politically': 3325, 'correct': 1000, 'influenced': 2287, 'boys': 559, 'taste': 4369, 'appreciate': 279, 'disneys': 1290, 'jungle': 2434, 'indian': 2274, 'grasp': 1960, 'threw': 4470, 'cases': 708, 'rob': 3710, 'humorous': 2193, 'jokes': 2415, 'females': 1694, 'solely': 4056, 'slightest': 4028, 'redemption': 3578, 'below': 462, 'glad': 1916, 'purchase': 3469, 'rental': 3627, 'road': 3709, 'haunting': 2051, 'aware': 368, 'meeting': 2794, 'unfolds': 4651, 'psychotic': 3459, 'gangsters': 1869, 'gangster': 1868, 'sam': 3777, 'flaws': 1752, 'caused': 724, 'sullivan': 4288, 'sentimental': 3882, 'revolves': 3682, 'twelve': 4611, 'flawless': 1751, 'legend': 2564, 'torn': 4528, 'wonders': 4931, 'bond': 532, 'sports': 4130, 'rules': 3754, 'girls': 1911, 'ice': 2210, 'disgusting': 1286, 'gross': 1978, 'players': 3299, 'faster': 1662, 'difficult': 1249, 'transition': 4561, 'benefit': 465, 'begin': 442, 'passes': 3203, 'runs': 3757, 'south': 4087, 'hunt': 2198, 'starting': 4158, 'dinosaurs': 1256, 'wrestling': 4966, 'contest': 967, 'groups': 1981, 'scooby': 3820, 'doo': 1325, 'failed': 1626, 'robin': 3715, 'williams': 4888, 'football': 1783, 'kurt': 2499, 'russell': 3761, 'satisfied': 3789, 'ages': 152, 'added': 116, 'youth': 4994, 'clark': 832, 'con': 928, 'jean': 2389, 'accidentally': 85, 'loyal': 2679, 'womens': 4924, 'prison': 3401, 'discovers': 1281, 'pregnant': 3369, 'howard': 2182, 'rogers': 3725, 'stereotype': 4178, 'wood': 4933, 'tracks': 4545, 'titled': 4505, '3000': 43, 'post': 3352, 'wacky': 4769, 'occasional': 3074, 'comments': 901, 'hated': 2047, 'expectations': 1576, 'creative': 1041, 'provided': 3449, 'crazy': 1035, 'leader': 2546, 'oddly': 3081, 'pg': 3250, 'disappoint': 1272, 'draw': 1349, 'length': 2569, 'forty': 1807, 'chases': 771, '17': 9, 'lessons': 2578, 'scared': 3805, 'amazed': 208, 'assigned': 325, 'secretary': 3850, 'deaf': 1134, 'develop': 1222, 'fitting': 1742, 'stereotypes': 4179, 'environment': 1505, 'refreshing': 3586, 'touching': 4536, 'screaming': 3827, 'peter': 3247, 'fonda': 1777, 'attraction': 350, 'cardboard': 682, 'scientific': 3817, 'props': 3439, 'assistant': 326, 'rate': 3526, 'virginia': 4750, 'obsessed': 3069, 'medical': 2790, 'creating': 1039, 'soul': 4079, 'bright': 581, 'represented': 3638, '1980': 20, 'dramatic': 1348, 'suspenseful': 4331, 'tales': 4357, 'anthony': 253, 'mainly': 2708, 'wondering': 4930, 'basis': 408, 'london': 2641, 'gratuitous': 1961, 'influence': 2286, 'lived': 2626, 'yelling': 4980, 'support': 4303, 'relies': 3606, 'hospital': 2172, 'committed': 905, 'commit': 904, 'familys': 1646, 'fault': 1668, 'le': 2544, 'lonely': 2643, 'bird': 484, 'cage': 645, 'cars': 702, 'jobs': 2406, 'seeks': 3860, 'dignity': 1252, 'celluloid': 731, 'copies': 992, 'finest': 1730, 'worthless': 4954, 'bone': 533, 'intentionally': 2320, 'horrifying': 2167, 'failing': 1627, 'painful': 3171, 'sadistic': 3768, 'trust': 4598, 'gay': 1876, 'nyc': 3065, 'broadcast': 591, 'anti': 254, 'represent': 3637, 'sheer': 3925, 'appalling': 268, 'unsettling': 4679, 'actions': 101, 'desperation': 1210, 'werent': 4849, 'cgi': 740, 'technology': 4385, '1983': 22, 'wit': 4908, 'imagination': 2236, 'executed': 1565, 'innovative': 2295, 'combine': 884, 'levels': 2585, 'spoken': 4126, 'maggie': 2702, 'smith': 4038, 'turkey': 4604, 'sixties': 4011, 'waitress': 4773, 'england': 1482, 'tricks': 4583, 'germans': 1897, 'unforgettable': 4652, 'understandable': 4644, 'health': 2060, 'improve': 2254, 'messed': 2821, 'entry': 1504, 'merely': 2815, '13': 4, 'li': 2587, 'listen': 2619, 'feed': 1683, 'reviewer': 3677, 'matters': 2770, 'assume': 328, 'scream': 3826, 'admittedly': 123, 'zombie': 4997, 'cannibal': 669, 'typically': 4624, 'graphic': 1958, 'tedious': 4387, 'mistress': 2874, 'iron': 2354, 'murderer': 2941, 'interaction': 2322, 'neither': 2996, 'luckily': 2682, 'rule': 3753, 'exception': 1557, 'understated': 4646, 'material': 2766, 'coherent': 871, 'parent': 3187, 'status': 4165, 'christ': 807, 'implausible': 2245, 'frustrated': 1842, 'ideal': 2214, 'unable': 4631, 'mentally': 2809, 'newly': 3004, 'thriller': 4472, 'clearly': 840, 'beliefs': 452, 'values': 4710, 'attempting': 342, 'portray': 3340, 'cameo': 657, 'appearances': 275, 'apart': 264, 'soldiers': 4054, 'insane': 2296, 'misses': 2868, 'bullet': 620, 'understanding': 4645, 'germany': 1898, 'millions': 2848, 'members': 2801, 'ignored': 2225, 'pile': 3275, 'ie': 2221, 'cringe': 1059, 'mary': 2751, 'grim': 1974, 'alien': 183, 'villains': 4745, 'recently': 3567, 'remarks': 3615, '45': 50, 'upset': 4687, 'deserves': 1201, 'convoluted': 987, 'hundred': 2195, 'unbelievably': 4635, 'tour': 4538, 'possessed': 3347, 'dreams': 1355, 'shape': 3919, 'worker': 4942, 'steals': 4172, 'serial': 3889, 'murdered': 2940, 'managed': 2723, 'husbands': 2205, 'security': 3854, 'australia': 356, 'knock': 2488, 'shorts': 3948, 'incoherent': 2265, 'comedian': 887, 'stage': 4139, 'riding': 3695, 'truck': 4595, 'chooses': 800, 'selfish': 3870, 'population': 3335, 'advice': 133, 'miscast': 2862, 'westerns': 4854, 'brains': 563, 'speed': 4103, 'strength': 4219, 'bob': 524, 'suffered': 4276, 'heavily': 2069, 'suicide': 4283, 'racism': 3502, 'jackson': 2375, 'created': 1037, 'flynn': 1765, 'jane': 2380, 'spike': 4111, 'calls': 654, 'cats': 721, 'draws': 1352, 'peace': 3219, 'million': 2847, 'cartoons': 705, 'beats': 426, 'vampires': 4712, 'conceived': 929, 'touch': 4533, 'twist': 4617, 'cary': 706, 'interview': 2329, 'imaginative': 2237, 'paulie': 3215, 'delight': 1167, 'bridge': 578, 'cruel': 1070, 'animal': 239, 'training': 4558, 'affected': 137, 'flies': 1756, 'received': 3564, 'highlight': 2103, 'accents': 79, 'cross': 1066, 'whenever': 4863, 'corporate': 998, 'bank': 394, 'random': 3514, 'connected': 945, 'receives': 3565, 'annoyed': 248, 'lower': 2677, 'drag': 1342, 'persons': 3244, 'jason': 2383, 'grant': 1956, 'carpenter': 694, 'tarzan': 4367, 'ignorant': 2223, 'pulled': 3462, 'dated': 1119, 'treasure': 4571, 'nose': 3037, 'nurse': 3063, 'eaten': 1412, 'trail': 4553, 'sheriff': 3929, 'hideous': 2098, 'happily': 2030, 'tradition': 4549, 'invasion': 2340, 'usa': 4691, 'texas': 4418, 'force': 1786, 'strike': 4224, 'imagined': 2239, 'kick': 2460, 'responsible': 3656, 'super': 4295, 'covers': 1024, 'loud': 2664, 'returns': 3668, 'intelligence': 2313, 'batman': 413, 'forever': 1792, 'wayne': 4821, 'sub': 4252, 'featured': 1679, 'catchy': 717, 'considering': 952, 'warner': 4799, 'literally': 2622, 'dozens': 1339, 'teens': 4392, 'concerns': 934, 'captures': 678, 'dinner': 1254, 'melodrama': 2797, 'fabulous': 1615, 'treatment': 4574, 'york': 4985, 'picking': 3267, 'sexuality': 3909, 'drug': 1373, 'directly': 1263, 'helps': 2082, 'stupidity': 4248, 'campbell': 663, 'cover': 1022, 'extended': 1604, 'fascinated': 1657, 'popular': 3333, 'seventies': 3904, 'engaged': 1480, 'magical': 2704, 'aired': 165, 'channel': 753, 'warm': 4794, 'childhood': 790, 'ratings': 3530, 'week': 4837, 'fox': 1814, 'abc': 63, 'choose': 799, 'saved': 3795, 'potential': 3355, 'debut': 1143, 'describe': 1194, 'promised': 3431, 'deliver': 1169, 'online': 3109, 'descent': 1193, 'sucks': 4271, 'synopsis': 4344, 'woods': 4935, 'warned': 4798, 'hysterical': 2208, 'worry': 4950, 'blond': 510, 'gag': 1861, 'choice': 797, 'tears': 4380, 'remarkable': 3613, 'reveals': 3673, 'trip': 4588, 'mysterious': 2955, 'europe': 1529, 'miles': 2843, 'winner': 4897, 'adds': 119, 'offers': 3090, 'generous': 1886, 'gentle': 1890, 'turning': 4608, 'struggles': 4235, 'honor': 2150, 'method': 2824, 'dimensional': 1253, 'charles': 764, 'fourth': 1813, 'sudden': 4272, 'impact': 2244, 'francisco': 1819, 'thugs': 4484, 'dig': 1250, 'par': 3184, 'angle': 236, 'noir': 3023, 'images': 2235, 'striking': 4226, 'builds': 617, 'dialogues': 1235, 'wonderfully': 4929, 'dinosaur': 1255, 'punch': 3466, 'quest': 3486, 'hidden': 2096, 'intensity': 2317, 'menacing': 2807, 'albert': 174, 'lucky': 2683, 'stomach': 4196, 'erotic': 1515, 'physically': 3263, 'costume': 1005, 'fake': 1635, 'facial': 1619, 'pointed': 3317, 'caine': 647, 'perfection': 3225, 'hopeless': 2158, 'china': 795, 'sellers': 3872, 'cook': 988, 'ship': 3934, 'witnessed': 4915, 'ghosts': 1903, 'replaced': 3634, 'chair': 742, 'doomed': 1327, 'frankenstein': 1822, 'makeup': 2717, 'filming': 1718, 'vhs': 4725, 'program': 3424, 'sounded': 4082, 'freeman': 1829, 'justin': 2440, 'journalist': 2420, 'corrupt': 1001, 'assault': 324, 'trial': 4580, 'suspect': 4327, 'investigate': 2342, 'wallace': 4782, 'sea': 3838, 'feet': 1688, 'robert': 3713, 'escaped': 1518, 'santa': 3783, 'larry': 2520, 'hiding': 2099, 'corpse': 999, 'closet': 858, 'cheating': 776, 'routine': 3743, 'safe': 3771, 'distance': 1294, 'setting': 3900, 'souls': 4080, 'jazz': 2387, 'visual': 4757, 'sucked': 4270, 'colorful': 878, 'hills': 2109, 'vaguely': 4706, 'degree': 1164, 'carried': 698, 'landscape': 2513, 'design': 1202, 'franchise': 1817, 'cliché': 844, 'military': 2844, 'bore': 540, 'successfully': 4267, 'genuinely': 1892, 'cameron': 661, 'generic': 1885, 'illogical': 2231, 'decisions': 1152, 'deaths': 1142, 'chased': 770, 'scenario': 3808, 'genuine': 1891, 'originality': 3130, 'producing': 3417, 'tame': 4363, 'bargain': 400, 'bin': 483, 'stays': 4169, 'stole': 4194, 'undoubtedly': 4648, 'powers': 3361, 'explosions': 1597, 'everywhere': 1545, 'performs': 3234, 'twilight': 4614, 'zone': 4999, 'initially': 2291, 'reasonable': 3558, 'standard': 4144, 'widow': 4883, 'civil': 826, 'blew': 505, 'wave': 4818, 'strictly': 4223, 'charismatic': 763, 'soft': 4051, 'sympathy': 4343, 'rose': 3739, 'britain': 588, 'staff': 4138, 'hamilton': 2012, 'selling': 3873, 'double': 1331, 'urge': 4689, 'internet': 2327, 'matt': 2768, 'overwhelming': 3157, 'uneven': 4649, 'encounter': 1466, 'dangerous': 1110, 'doll': 1313, 'arthur': 305, 'glenn': 1918, 'vulnerable': 4768, 'wet': 4855, 'photographed': 3258, 'marketing': 2741, 'suits': 4287, 'hearted': 2065, 'useful': 4694, 'divorce': 1301, 'curiosity': 1082, 'providing': 3451, 'babe': 375, 'intelligent': 2314, 'pulls': 3464, 'threat': 4467, 'service': 3896, 'theory': 4437, 'toward': 4539, 'knowledge': 2491, 'secrets': 3852, 'hall': 2009, 'faults': 1669, 'visually': 4758, 'imagery': 2234, 'delightful': 1168, 'musicals': 2948, 'problems': 3409, 'causes': 725, 'villain': 4744, 'roy': 3745, 'mountains': 2918, 'werewolf': 4850, 'associated': 327, 'fury': 1855, 'wolf': 4920, 'characterization': 759, 'string': 4227, 'troubled': 4593, 'driver': 1366, 'connect': 944, 'travel': 4567, 'gonna': 1936, 'lawyer': 2541, 'travels': 4569, 'business': 633, 'sounding': 4083, 'reference': 3582, 'birth': 486, 'reveal': 3670, 'corruption': 1002, 'machine': 2693, 'gritty': 1977, 'attractive': 351, 'resulting': 3661, 'cowboy': 1025, 'required': 3641, 'reflection': 3585, 'fish': 1738, 'flesh': 1753, 'india': 2273, 'pain': 3170, 'rarely': 3524, 'bollywood': 530, 'depicted': 1183, 'indians': 2275, 'stranger': 4213, 'fiction': 1702, 'central': 735, 'dealt': 1138, 'presumably': 3380, 'emma': 1457, 'mildly': 2840, 'nomination': 3026, 'baker': 385, 'ended': 1470, 'graphics': 1959, 'surface': 4310, 'hunting': 2201, '1930s': 11, 'obsession': 3070, 'citizen': 824, 'jimmy': 2403, 'devoted': 1231, 'achievement': 94, 'pleasant': 3302, 'recent': 3566, 'network': 3000, 'rolled': 3729, 'theater': 4427, 'overdone': 3152, 'instance': 2304, '2001': 31, 'dancers': 1105, 'breasts': 572, 'wicked': 4879, 'appreciated': 280, 'heroic': 2090, 'nervous': 2999, 'holes': 2133, 'dislike': 1288, 'uwe': 4703, 'boll': 529, 'lately': 2524, 'absence': 70, 'suit': 4284, 'seed': 3856, 'bigger': 479, 'armed': 293, 'advantage': 129, 'nuts': 3064, 'solve': 4060, 'hits': 2125, 'victims': 4730, 'row': 3744, 'fay': 1674, '30s': 44, 'formulaic': 1803, 'von': 4765, 'focusing': 1769, 'museum': 2945, 'kissing': 2484, 'dragged': 1343, '1933': 12, 'international': 2326, 'introduction': 2339, 'riveting': 3708, 'comparing': 913, 'factory': 1623, 'object': 3066, 'beach': 419, 'dalton': 1098, 'twists': 4619, 'academy': 77, 'terrorists': 4414, 'weapons': 4829, 'murphy': 2944, 'neck': 2985, 'collection': 874, 'taylor': 4372, 'rare': 3523, 'hatred': 2049, 'expert': 1585, 'species': 4098, 'reduced': 3579, 'alcoholic': 177, 'reminiscent': 3621, 'bleak': 503, 'brooks': 596, 'throws': 4482, 'sport': 4129, 'effectively': 1430, 'protagonist': 3441, 'jealous': 2388, 'precious': 3366, 'theyve': 4446, 'endless': 1473, 'winter': 4900, 'cave': 727, 'position': 3345, 'vast': 4716, 'practice': 3363, 'whale': 4857, 'hunters': 2200, 'legendary': 2565, 'lincoln': 2608, 'mentions': 2813, 'concern': 931, 'west': 4852, 'uses': 4697, 'calling': 653, 'bride': 577, 'crush': 1072, 'prostitute': 3440, 'eastern': 1408, 'area': 286, 'troops': 4591, 'activities': 102, 'alert': 178, 'numerous': 3062, 'dealing': 1136, 'notch': 3043, 'alright': 198, 'physical': 3262, 'gags': 1862, 'placed': 3283, 'fat': 1663, 'ourselves': 3140, 'sum': 4289, 'thirty': 4456, 'redeeming': 3577, 'mrs': 2930, 'target': 4366, '18': 10, 'relative': 3599, 'views': 4742, 'spring': 4134, 'gift': 1906, 'homage': 2141, '2003': 33, 'visuals': 4759, 'weight': 4840, '20th': 38, 'taught': 4370, 'lengthy': 2570, 'silence': 3974, 'consistent': 953, 'minimal': 2855, 'plight': 3308, 'scheme': 3812, 'pop': 3330, 'ease': 1404, 'includes': 2263, 'ups': 4686, 'edited': 1420, 'trailer': 4554, 'frequent': 1831, 'succeeds': 4264, 'americas': 215, 'versions': 4721, 'genius': 1887, 'craft': 1028, 'stands': 4147, 'legs': 2566, 'confusion': 943, 'satan': 3787, 'eva': 1531, 'lake': 2509, 'incompetent': 2266, 'artificial': 306, 'critics': 1064, 'victor': 4731, 'fill': 1714, '60': 53, 'dawson': 1128, 'actresses': 106, 'cake': 648, 'sacrifice': 3766, 'conversations': 981, 'models': 2881, 'danny': 1112, 'seat': 3845, 'community': 908, 'dress': 1357, 'bush': 632, 'unpleasant': 4674, 'elizabeth': 1445, 'unwatchable': 4682, 'separate': 3883, 'watchable': 4812, 'uninteresting': 4660, 'diamond': 1236, 'psychic': 3456, 'continue': 969, 'blade': 495, 'welcome': 4842, 'rotten': 3740, 'brian': 576, 'giallo': 1904, 'complex': 923, 'overcome': 3151, 'logical': 2639, 'allen': 188, 'enjoying': 1487, 'wrote': 4974, 'pig': 3274, 'angels': 234, 'tooth': 4524, 'fairy': 1632, 'skill': 4013, 'darkness': 1117, 'manage': 2722, 'technically': 4382, 'hammer': 2014, 'fantasy': 1652, '75': 57, 'convincingly': 986, 'remind': 3618, 'catherine': 719, 'hardy': 2037, 'defend': 1158, 'mickey': 2831, 'highest': 2102, 'dozen': 1338, 'ticket': 4487, 'planet': 3289, 'stretched': 4222, 'linda': 2609, 'favorites': 1672, 'gray': 1963, 'newspaper': 3006, 'killings': 2473, 'estate': 1525, 'foster': 1809, 'surrounding': 4319, 'phony': 3256, 'doctors': 1305, 'deserved': 1200, 'lugosi': 2686, 'qualities': 3483, 'contrived': 976, 'audiences': 353, 'experiences': 1582, 'sincere': 3991, 'entertain': 1497, '1968': 16, 'massacre': 2754, 'dollars': 1315, 'personalities': 3241, 'distinct': 1296, 'arrives': 302, 'symbolism': 4341, 'intriguing': 2335, 'explicit': 1591, 'ironic': 2355, 'carradine': 695, 'da': 1094, 'revolutionary': 3681, 'games': 1865, 'mouse': 2919, 'scripts': 3836, 'confidence': 938, 'bedroom': 437, 'borrowed': 545, 'dust': 1388, 'notable': 3041, 'link': 2613, 'spain': 4091, 'metal': 2823, 'costumes': 1006, 'contrast': 975, 'determined': 1221, 'officer': 3092, 'chicago': 785, 'classes': 834, 'importance': 2246, 'strangers': 4214, 'bed': 436, 'worried': 4949, 'ancient': 225, 'kings': 2481, 'errors': 1516, 'began': 441, '90s': 61, 'breathtaking': 574, 'landscapes': 2514, 'conflicts': 940, 'recognized': 3570, 'expression': 1602, 'ralph': 3510, 'agents': 151, 'transfer': 4559, 'recognition': 3568, 'snow': 4045, 'carries': 699, 'miracle': 2860, 'unit': 4663, 'matrix': 2767, 'abilities': 64, 'clothes': 860, 'escapes': 1519, 'rocky': 3723, 'noted': 3045, 'teenager': 4390, 'bite': 489, 'helicopter': 2076, 'credibility': 1047, 'sake': 3775, 'gripping': 1976, 'leg': 2562, 'lesser': 2576, 'packed': 3166, 'technique': 4383, 'bakshi': 386, 'worlds': 4947, 'edgar': 1417, '2005': 35, 'shelf': 3926, 'fears': 1677, 'pleasantly': 3303, 'princess': 3397, 'continuity': 972, 'ah': 158, 'superman': 4301, 'inept': 2281, 'oil': 3097, 'jeff': 2390, 'paranoia': 3186, 'intentions': 2321, 'challenge': 743, 'ready': 3546, 'carrey': 696, 'yesterday': 4983, 'hates': 2048, 'unhappy': 4656, 'via': 4726, 'toys': 4543, '2nd': 41, 'blah': 496, 'overlook': 3153, 'choices': 798, 'aint': 163, 'bang': 393, 'crisis': 1060, 'basketball': 409, 'angel': 231, 'elderly': 1440, 'seven': 3903, 'photographer': 3259, 'photos': 3261, 'catching': 716, 'directs': 1267, 'responsibility': 3655, 'oscars': 3134, 'tall': 4362, 'roll': 3728, 'hill': 2108, 'bottle': 550, 'bet': 470, 'caring': 691, 'library': 2589, 'discovery': 1282, 'ran': 3513, 'mexican': 2826, 'vacation': 4704, 'forms': 1801, 'understood': 4647, 'harder': 2035, 'rat': 3525, 'projects': 3428, 'cities': 823, 'countryside': 1015, 'antics': 255, 'grow': 1982, 'despair': 1207, 'elvis': 1451, 'native': 2972, 'raised': 3508, 'joan': 2404, 'lyrics': 2692, 'embarrassing': 1454, 'succeed': 4262, 'greatly': 1967, 'complaint': 920, 'sat': 3786, 'serving': 3897, 'fool': 1779, 'ass': 323, 'worn': 4948, 'cruise': 1071, 'ships': 3935, 'miserable': 2863, 'arrogant': 303, 'mixed': 2877, 'chaos': 755, 'unbearable': 4633, 'costs': 1004, 'remaining': 3610, 'tad': 4347, 'blockbuster': 509, 'bo': 521, 'elephant': 1444, 'standing': 4146, 'african': 142, 'smart': 4035, 'wouldve': 4959, 'rubber': 3747, 'rip': 3700, 'monkeys': 2891, 'jumping': 2431, 'blind': 506, 'purpose': 3474, 'bathroom': 412, 'staying': 4168, 'friday': 1834, 'season': 3843, 'mini': 2854, 'rise': 3702, 'unreal': 4676, 'orders': 3127, 'viewed': 4737, 'fired': 1735, 'numbers': 3061, 'ps': 3453, 'grade': 1951, 'neil': 2995, 'simon': 3982, 'sentence': 3881, 'resemblance': 3645, 'plots': 3310, 'vengeance': 4719, 'wear': 4830, '3rd': 47, 'disjointed': 1287, 'stretch': 4221, 'conservative': 948, 'bible': 477, 'measure': 2786, 'scare': 3803, 'novels': 3053, 'pro': 3406, 'regard': 3588, 'push': 3477, 'carry': 700, 'weve': 4856, 'damage': 1099, 'thousands': 4466, 'claire': 831, 'randomly': 3515, 'airport': 167, 'screening': 3830, 'learned': 2551, 'mtv': 2933, 'load': 2631, 'choreography': 802, '35': 45, 'cg': 739, 'producer': 3415, 'enemy': 1477, 'grows': 1985, 'spoke': 4125, 'stick': 4185, 'reynolds': 3684, 'magazine': 2701, 'ann': 244, 'unlikely': 4671, 'raising': 3509, 'nominated': 3025, 'marks': 2742, 'letting': 2583, 'blend': 504, 'nicely': 3009, 'tonight': 4519, 'danes': 1108, 'teach': 4374, 'challenging': 744, 'suggested': 4281, 'inspiring': 2302, 'bland': 500, 'per': 3223, 'lane': 2515, 'backdrop': 379, 'dubbed': 1379, '2002': 32, 'amateur': 206, 'clumsy': 866, 'conversation': 980, 'nation': 2969, 'kidding': 2465, 'offensive': 3086, 'skin': 4015, 'tight': 4492, 'horrid': 2165, 'broke': 593, 'text': 4419, '1973': 19, 'folk': 1770, 'jaws': 2385, 'holly': 2136, 'carter': 703, 'previously': 3388, 'succeeded': 4263, 'guts': 1999, 'letter': 2581, 'kudos': 2497, 'witch': 4909, 'mans': 2730, 'cia': 814, 'laid': 2508, 'irony': 2357, 'virgin': 4749, 'opposed': 3122, 'bear': 420, 'similarly': 3980, 'competition': 918, 'menace': 2806, 'detailed': 1218, 'hippie': 2115, 'chicks': 787, 'commercials': 903, 'kate': 2446, 'sneak': 4043, 'innocence': 2293, 'discussion': 1284, 'apartment': 265, 'construction': 960, 'perform': 3227, 'shelley': 3928, 'polanski': 3321, 'switch': 4339, 'vice': 4727, 'magnificent': 2705, 'trilogy': 4586, 'nine': 3017, 'thankfully': 4422, 'hence': 2083, 'extent': 1605, 'bobby': 525, 'department': 1182, 'league': 2549, 'category': 718, 'intrigue': 2333, 'families': 1644, '70': 55, 'bettie': 473, 'sarah': 3785, 'celebrity': 729, 'displayed': 1292, 'pages': 3168, 'icon': 2211, 'luck': 2681, '1999': 27, 'bare': 398, 'forgive': 1795, 'rain': 3506, 'concerning': 933, 'smoke': 4039, 'dorothy': 1330, 'fetched': 1698, 'exceptionally': 1559, 'wind': 4893, 'authentic': 358, 'wondered': 4927, 'trees': 4577, 'enters': 1496, 'sharp': 3922, 'terror': 4412, 'crafted': 1029, 'spooky': 4128, 'barbara': 397, 'georges': 1894, 'sits': 4006, 'halloween': 2010, 'mario': 2738, '60s': 54, 'bud': 607, 'floor': 1759, 'smooth': 4041, 'piano': 3264, 'quotes': 3497, 'ed': 1415, 'walter': 4784, 'ms': 2931, 'formula': 1802, 'sons': 4073, 'relationships': 3598, 'survivors': 4325, 'noble': 3021, 'spread': 4133, 'popularity': 3334, 'heaven': 2068, 'dan': 1102, 'thick': 4447, 'channels': 754, 'chinese': 796, 'pass': 3201, '80': 58, 'tribute': 4581, 'government': 1948, 'translation': 4562, 'contemporary': 965, 'lips': 2615, 'foreign': 1790, 'gain': 1863, 'fest': 1696, 'introduce': 2336, 'countries': 1013, 'waited': 4771, 'washington': 4806, 'historically': 2120, 'removed': 3624, 'asleep': 320, 'border': 539, 'executive': 1567, 'cd': 728, 'greedy': 1969, 'tony': 4521, 'shut': 3961, 'lawrence': 2539, 'busy': 635, 'spending': 4106, 'desperately': 1209, 'ken': 2453, 'sisters': 4002, 'deserve': 1199, 'oliver': 3102, 'reed': 3580, 'campy': 664, 'unintentionally': 4659, 'originally': 3131, 'searching': 3842, 'dvds': 1392, 'flash': 1745, 'capable': 672, 'parker': 3191, 'stone': 4197, 'eg': 1434, 'incomprehensible': 2267, 'commentary': 899, 'trite': 4589, 'rubbish': 3748, 'fulci': 1845, 'intention': 2319, 'staged': 4140, 'disagree': 1269, 'poignant': 3315, 'pushing': 3479, 'polished': 3323, 'grandfather': 1954, 'bears': 421, 'normal': 3033, 'revelation': 3674, 'creator': 1043, 'blake': 498, 'perry': 3237, 'circumstances': 822, 'attorney': 348, 'calm': 655, 'storm': 4206, 'isolated': 2363, 'tremendous': 4579, 'wilson': 4891, 'depicts': 1186, 'wound': 4960, 'introduces': 2338, 'entertained': 1498, 'destiny': 1212, 'mate': 2765, 'unknown': 4668, 'remain': 3609, 'mainstream': 2709, 'pitch': 3279, 'combined': 885, 'birthday': 487, 'driving': 1368, 'base': 402, 'thousand': 4465, 'comfortable': 892, 'advise': 134, 'facing': 1620, 'charlie': 765, 'cleverly': 842, 'anderson': 227, 'rocks': 3722, 'overlooked': 3154, 'rap': 3520, '1996': 26, 'julie': 2428, 'discover': 1279, 'bonus': 534, 'changing': 752, 'attitudes': 347, 'contact': 961, 'fx': 1858, 'kenneth': 2455, 'waters': 4817, 'obnoxious': 3067, 'elvira': 1450, 'nelson': 2997, 'atmospheric': 334, 'price': 3389, 'cheese': 780, 'critic': 1061, 'grey': 1973, 'image': 2233, 'alice': 182, 'suggests': 4282, 'hong': 2149, 'kong': 2494, 'instant': 2305, 'respected': 3653, 'hank': 2024, 'anime': 243, 'alternate': 200, 'endings': 1472, 'tomatoes': 4515, 'enthusiasm': 1501, 'joey': 2408, 'happiness': 2031, 'warmth': 4796, 'derek': 1192, 'harris': 2038, 'mistakes': 2873, 'hood': 2151, 'heat': 2067, 'mine': 2853, 'fever': 1699, 'trio': 4587, 'jump': 2429, 'psychiatrist': 3455, 'segments': 3868, 'loose': 2650, 'portion': 3338, 'scares': 3806, 'widmark': 4882, 'brady': 561, 'variety': 4714, 'alex': 179, 'opened': 3113, 'kingdom': 2480, 'adults': 126, 'warming': 4795, 'glover': 1923, 'joseph': 2419, 'al': 170, 'canada': 666, 'pilot': 3276, 'insult': 2309, 'backgrounds': 381, 'apparent': 269, 'minds': 2852, 'crowd': 1067, 'existent': 1572, 'everyones': 1543, 'fare': 1655, 'generations': 1884, 'report': 3635, 'website': 4834, '50': 51, 'disc': 1278, 'radio': 3504, 'fifteen': 1706, 'encounters': 1467, 'survival': 4320, 'stuck': 4237, 'subplot': 4255, 'heston': 2094, 'wore': 4939, 'burton': 630, 'apes': 267, 'hints': 2113, 'ape': 266, 'dave': 1123, 'surprises': 4314, 'doors': 1329, 'couples': 1017, 'plastic': 3294, 'ruin': 3750, 'identity': 2217, 'experienced': 1581, 'hardcore': 2034, 'wrap': 4963, 'shed': 3924, 'stan': 4142, 'laurel': 2537, 'contract': 973, 'parody': 3192, 'specific': 4099, 'introduced': 2337, 'horse': 2170, 'keaton': 2448, 'north': 3036, 'funnier': 1850, 'legal': 2563, 'onto': 3111, 'minded': 2850, 'planned': 3290, 'crying': 1074, 'grave': 1962, 'hbo': 2055, 'react': 3540, 'priceless': 3390, 'laughter': 2535, 'tape': 4365, 'michelle': 2830, 'twins': 4616, 'rolling': 3730, 'punishment': 3467, 'lasted': 2522, 'eccentric': 1414, 'jessica': 2398, 'burt': 629, 'slapstick': 4019, 'kay': 2447, 'drinking': 1362, 'superficial': 4298, 'curtis': 1087, 'manhattan': 2726, 'cole': 873, 'bold': 528, 'modesty': 2883, 'nude': 3058, 'disaster': 1276, 'commented': 900, 'horses': 2171, 'spoof': 4127, 'ultra': 4629, 'instinct': 2308, 'figures': 1713, 'boxing': 556, 'test': 4416, 'stale': 4141, 'author': 359, 'prize': 3405, 'literature': 2623, 'east': 1407, 'reach': 3536, 'theyd': 4443, 'sleep': 4024, 'retarded': 3663, 'wandering': 4785, 'tunes': 4603, 'rocket': 3721, 'alike': 185, 'treated': 4573, 'videos': 4734, 'decade': 1144, 'thrill': 4471, 'exercise': 1568, 'hint': 2112, 'underlying': 4641, 'global': 1920, 'plague': 3285, 'valuable': 4708, 'panic': 3181, 'location': 2635, 'stinker': 4191, 'beneath': 464, 'park': 3190, 'chain': 741, 'brand': 565, 'reasonably': 3559, 'senseless': 3878, 'advance': 127, 'enterprise': 1495, 'finger': 1731, 'surfing': 4311, 'rights': 3697, 'reached': 3537, 'miller': 2846, 'adorable': 124, 'judging': 2425, 'loads': 2633, 'desired': 1206, 'sidney': 3968, 'motivation': 2914, 'reflect': 3584, 'reaches': 3538, 'crack': 1027, 'proud': 3444, 'illegal': 2229, 'leonard': 2572, '1990s': 25, 'secondly': 3847, 'stylish': 4251, 'tommy': 4516, 'cabin': 643, 'spirits': 4115, 'remote': 3622, 'abandoned': 62, 'distant': 1295, 'neighbors': 2994, 'supernatural': 4302, 'constant': 957, 'grab': 1949, 'dropping': 1371, 'junk': 2436, 'duo': 1386, 'catches': 715, 'careers': 687, 'et': 1526, 'treat': 4572, 'revolution': 3680, 'forth': 1804, 'lay': 2542, 'relations': 3596, '11': 2, 'retired': 3664, 'wealth': 4826, 'describes': 1196, 'childish': 791, 'buddies': 608, 'mothers': 2912, 'woody': 4936, 'strikes': 4225, '1st': 28, 'resources': 3651, 'financial': 1725, 'spell': 4104, 'paper': 3183, 'notes': 3046, 'resident': 3647, 'henry': 2084, 'pack': 3165, 'forest': 1791, 'bag': 384, 'defense': 1159, 'walks': 4780, 'karen': 2444, 'swim': 4337, 'kirk': 2482, 'inventive': 2341, 'exceptional': 1558, 'singers': 3994, 'hyde': 2206, 'subtitles': 4259, 'adams': 112, 'devil': 1228, 'deeper': 1155, 'creation': 1040, 'destruction': 1216, 'cried': 1054, 'wounded': 4961, 'amongst': 218, 'accepted': 82, 'shadow': 3912, 'damon': 1101, 'glass': 1917, 'businessman': 634, 'talked': 4359, 'mitchell': 2875, 'stated': 4161, 'helen': 2075, 'olivier': 3103, 'endearing': 1469, 'khan': 2459, 'gandhi': 1866, 'adapted': 114, 'messages': 2820, 'minimum': 2856, 'wing': 4896, 'depressed': 1187, 'mummy': 2937, 'candy': 668, 'sinatra': 3989, 'petty': 3249, 'thief': 4448, 'hal': 2006, 'merits': 2817, 'cusack': 1088, 'simplicity': 3984, 'jeremy': 2394, 'integrity': 2311, 'directorial': 1265, 'maria': 2736, 'disappeared': 1271, 'forbidden': 1785, 'installment': 2303, 'elm': 1447, 'eerie': 1427, 'tiger': 4491, 'irrelevant': 2358, 'command': 897, 'dreary': 1356, 'repeatedly': 3632, '13th': 5, 'urban': 4688, 'communist': 907, 'educational': 1425, 'voices': 4763, 'gender': 1878, 'displays': 1293, 'eve': 1532, 'voiced': 4762, 'kane': 2442, 'slick': 4026, 'timothy': 4499, 'stronger': 4230, 'ripped': 3701, 'speech': 4102, 'cuts': 1091, 'ruins': 3752, 'explaining': 1588, 'mentioning': 2812, 'critical': 1062, 'inspector': 2299, 'doom': 1326, 'increasingly': 2268, 'suspects': 4328, 'thru': 4483, 'deliberately': 1166, 'ritter': 3705, 'outrageous': 3145, 'wed': 4835, 'donna': 1323, 'anyways': 262, 'mysteries': 2954, 'struggling': 4236, 'bbc': 417, 'screens': 3832, 'fits': 1741, 'stooges': 4200, 'styles': 4250, 'unfortunate': 4653, 'machines': 2694, 'lively': 2627, 'creep': 1051, 'kennedy': 2454, 'inane': 2258, 'swimming': 4338, 'trapped': 4564, 'acceptable': 81, 'occasion': 3073, 'floating': 1758, 'checking': 778, 'march': 2734, 'eight': 1436, 'earned': 1401, 'arms': 294, 'hoffman': 2128, 'halfway': 2008, 'national': 2970, 'complain': 919, 'stunt': 4245, 'laura': 2536, 'andrews': 229, 'answers': 252, 'root': 3737, 'outer': 3143, 'landing': 2512, 'endure': 1475, 'jesse': 2397, 'brenda': 575, 'learns': 2553, 'sequels': 3886, 'iii': 2227, 'bumbling': 622, 'resort': 3650, 'rank': 3518, 'hype': 2207, 'der': 1191, 'sloppy': 4030, 'friendly': 1836, 'press': 3379, 'arrived': 301, 'ambitious': 211, 'dramas': 1347, 'gradually': 1952, 'drivel': 1364, 'extraordinary': 1607, 'inspiration': 2300, 'navy': 2976, 'ball': 388, 'goal': 1925, 'kicked': 2461, 'wished': 4905, 'consists': 955, 'satisfy': 3790, 'downhill': 1336, 'progresses': 3426, 'size': 4012, 'paying': 3217, 'household': 2179, 'rochester': 3719, 'duty': 1390, 'potentially': 3356, 'severe': 3906, 'accomplished': 87, 'passion': 3205, 'eyre': 1614, 'gifted': 1907, 'abysmal': 76, 'ginger': 1908, 'pot': 3354, 'emphasis': 1463, 'unpredictable': 4675, 'pit': 3278, 'faced': 1617, 'glorious': 1921, 'moody': 2899, 'handle': 2018, 'teaching': 4377, 'paltrow': 3178, 'masterful': 2758, 'horrific': 2166, 'terrifying': 4410, 'afterwards': 145, 'florida': 1761, 'stood': 4199, 'jamie': 2379, 'experiment': 1583, 'dressing': 1359, 'cox': 1026, 'jackie': 2374, 'chan': 746, 'lewis': 2586, 'burns': 628, 'chorus': 803, 'surviving': 4323, 'promises': 3432, 'attracted': 349, 'timeless': 4496, 'triumph': 4590, 'trek': 4578, 'shining': 3933, 'adequate': 120, 'pink': 3277, 'currently': 1085, 'hook': 2152, 'returning': 3667, 'sin': 3988, 'homeless': 2143, 'inducing': 2279, 'todd': 4510, 'laws': 2540, 'beast': 422, 'proof': 3434, 'lumet': 2688, 'garbo': 1871, 'silver': 3977, '24': 39, '1984': 23, 'authority': 360, 'closely': 855, 'composed': 926, 'drawing': 1350, 'blair': 497, 'creates': 1038, 'brown': 601, 'avoided': 364, 'narrator': 2967, 'loser': 2655, 'imitation': 2241, 'court': 1020, 'dragon': 1344, 'meaningless': 2782, 'nicholas': 3010, 'ham': 2011, 'jeffrey': 2391, 'charisma': 762, 'tender': 4401, 'futuristic': 1857, 'digital': 1251, 'snl': 4044, 'outfit': 3144, 'relevant': 3604, 'user': 4696, 'twin': 4615, 'atlantis': 332, 'buildings': 616, 'impress': 2250, 'shakespeare': 3915, 'roman': 3731, 'clues': 865, 'explored': 1595, 'poetry': 3314, 'progress': 3425, 'protect': 3443, 'areas': 287, 'pulp': 3465, 'doubts': 1333, 'los': 2653, 'jon': 2416, 'topic': 4526, 'ironically': 2356, 'che': 773, 'del': 1165, 'hired': 2117, 'competent': 917, 'beatty': 427, 'lion': 2614, 'proceeds': 3411, 'disappear': 1270, 'alcohol': 176, 'orange': 3125, 'chasing': 772, 'uncomfortable': 4637, 'fond': 1776, 'mst3k': 2932, 'reactions': 3542, 'mexico': 2827, 'mel': 2796, 'pretend': 3381, 'terrorist': 4413, 'heights': 2073, 'unoriginal': 4673, 'omen': 3104, 'st': 4137, 'hilariously': 2107, 'moronic': 2907, 'unintentional': 4658, 'suited': 4286, 'idiot': 2218, 'robbins': 3712, 'obscure': 3068, 'widely': 4881, 'royal': 3746, 'facts': 1624, 'brosnan': 597, 'molly': 2884, 'philosophical': 3253, 'pride': 3391, 'clothing': 861, 'spare': 4093, 'luke': 2687, 'realism': 3549, 'masters': 2761, 'bands': 392, 'signed': 3971, 'album': 175, 'bound': 553, 'akshay': 169, 'belong': 459, 'kapoor': 2443, 'stanwyck': 4149, 'robinson': 3716, 'rex': 3683, 'purple': 3473, 'intrigued': 2334, 'lesbian': 2573, 'boot': 538, 'robbery': 3711, 'cheated': 775, 'cinderella': 815, 'ocean': 3079, 'indie': 2276, 'emily': 1456, 'blunt': 520, 'amy': 222, 'deceased': 1146, 'opportunities': 3120, 'solution': 4059, 'vicious': 4728, 'lone': 2642, '2006': 36, 'drunken': 1376, 'rick': 3689, 'closed': 854, 'persona': 3239, 'comics': 895, 'similarities': 3979, 'ethan': 1528, 'junior': 2435, 'charge': 761, 'amounts': 220, 'lowest': 2678, 'depicting': 1184, 'evident': 1547, 'decades': 1145, 'kim': 2475, 'hundreds': 2196, 'chest': 784, 'matthau': 2771, 'soviet': 4089, 'union': 4661, 'advertising': 132, 'boat': 523, 'fallen': 1638, 'hudson': 2184, 'card': 681, 'phantom': 3251, 'taxi': 4371, 'wizard': 4919, 'rangers': 3517, 'toy': 4542, 'greed': 1968, 'brazil': 568, 'bell': 458, 'titanic': 4503, 'promise': 3430, 'lees': 2560, 'sensitive': 3879, 'someones': 4065, 'directions': 1262, 'suffer': 4275, 'cube': 1076, 'ned': 2986, 'pamela': 3179, 'sue': 4274, 'kinds': 2478, 'brando': 566, 'mighty': 2836, 'explosion': 1596, 'monkey': 2890, 'insulting': 2310, 'methods': 2825, 'terry': 4415, 'disease': 1285, 'ridden': 3691, 'creativity': 1042, 'shadows': 3913, 'beloved': 461, 'wreck': 4965, 'delivering': 1171, 'plausible': 3295, 'strip': 4228, 'equivalent': 1512, 'behave': 445, 'soccer': 4048, 'louise': 2666, 'mayor': 2777, 'wendy': 4846, 'designs': 1204, 'cliff': 847, 'expressed': 1601, 'square': 4136, 'stevens': 4183, 'wake': 4774, 'sid': 3964, 'stellar': 4174, 'suck': 4269, 'exposed': 1598, 'dare': 1113, 'appreciation': 281, 'richardson': 3688, 'joined': 2413, 'resembles': 3646, 'rats': 3531, 'notion': 3050, 'discuss': 1283, 'davies': 1125, 'snake': 4042, 'denzel': 1181, '3d': 46, 'appearing': 277, 'banned': 395, 'voight': 4764, 'honesty': 2148, 'hung': 2197, 'monk': 2889, 'grandmother': 1955, 'teachers': 4376, 'aging': 153, 'ridiculously': 3694, 'ruthless': 3764, 'loaded': 2632, 'garden': 1872, 'admire': 121, 'portrait': 3339, 'travesty': 4570, 'mile': 2842, 'patient': 3211, 'branagh': 564, 'subplots': 4256, 'offended': 3085, 'lou': 2663, 'immensely': 2243, 'cure': 1081, 'neat': 2982, 'godzilla': 1929, 'altogether': 202, 'bourne': 554, 'aid': 160, 'amitabh': 216, 'gabriel': 1859, 'june': 2433, 'colors': 879, 'chess': 783, 'brilliance': 582, 'mann': 2728, 'photo': 3257, 'improvement': 2256, 'ashley': 313, 'betty': 474, 'angeles': 233, 'develops': 1226, 'tiresome': 4502, 'exotic': 1574, 'maintain': 2710, 'analysis': 224, 'homosexual': 2145, 'blacks': 494, 'hamlet': 2013, 'misery': 2865, 'guarantee': 1987, 'wes': 4851, 'edie': 1419, 'ear': 1397, 'temple': 4398, 'norman': 3035, 'prisoners': 3403, 'farce': 1654, 'birds': 485, 'engage': 1479, 'courage': 1018, 'hugh': 2186, 'poem': 3312, 'letters': 2582, 'domestic': 1318, 'ensemble': 1492, 'bacall': 377, 'craven': 1034, 'enormous': 1490, 'dolph': 1317, 'neighborhood': 2993, 'professor': 3422, 'carl': 692, 'exploration': 1593, 'pursuit': 3476, 'daring': 1114, 'format': 1799, 'operation': 3117, 'berlin': 467, 'asian': 314, 'rage': 3505, 'suffice': 4279, 'possibilities': 3348, 'dub': 1378, 'bette': 471, 'distribution': 1298, 'sole': 4055, 'survivor': 4324, 'raymond': 3534, 'advanced': 128, 'gadget': 1860, 'glimpse': 1919, 'sink': 3999, 'ruth': 3763, 'prequel': 3372, 'grinch': 1975, 'diana': 1237, 'hopper': 2161, 'flight': 1757, 'capturing': 679, 'equipment': 1511, 'official': 3094, 'niro': 3019, 'montana': 2895, 'mechanical': 2788, 'columbo': 881, 'occur': 3076, 'butler': 637, 'ballet': 389, 'anna': 245, 'expressions': 1603, 'illness': 2230, 'prom': 3429, 'developing': 1224, 'civilization': 827, 'charlotte': 766, 'relation': 3595, 'sally': 3776, 'bela': 450, 'testament': 4417, 'oz': 3160, 'wells': 4845, 'ho': 2127, 'masterpieces': 2760, 'gundam': 1997, 'astaire': 330, 'crocodile': 1065, 'enemies': 1476, 'tortured': 4530, 'ruby': 3749, 'africa': 141, 'officers': 3093, 'cameras': 660, 'dolls': 1316, 'hurts': 2203, 'falk': 1636, 'thrillers': 4473, 'lucy': 2684, 'earl': 1398, 'scarecrow': 3804, 'rebel': 3561, 'madonna': 2699, 'macy': 2695, 'blob': 507, 'returned': 3666, 'greek': 1970, 'roots': 3738, 'mall': 2720, 'witches': 4910, 'jenny': 2393, 'losers': 2656, 'survived': 4322, 'pacino': 3164, 'iran': 2350, 'abraham': 69, 'jake': 2377, 'scripted': 3835, 'thoughtful': 4463, 'experiments': 1584, 'morris': 2908, 'cagney': 646, 'karloff': 2445, 'stargate': 4151, 'miike': 2837, 'rambo': 3511, 'domino': 1319, 'mildred': 2841}\n"
     ]
    }
   ],
   "source": [
    "print(str(vocabulary))"
   ]
  },
  {
   "cell_type": "markdown",
   "metadata": {},
   "source": [
    "Once you have added the endpoint name to the Lambda function, click on **Save**. Your Lambda function is now up and running. Next we need to create a way for our web app to execute the Lambda function."
   ]
  },
  {
   "cell_type": "markdown",
   "metadata": {},
   "source": [
    "### Setting up API Gateway\n",
    "\n",
    "Now that our Lambda function is set up, it is time to create a new API using API Gateway that will trigger the Lambda function we have just created.\n",
    "\n",
    "Using AWS Console, navigate to **Amazon API Gateway** and then click on **Get started**.\n",
    "\n",
    "On the next page, make sure that **New API** is selected and give the new api a name, for example, `sentiment_analysis_web_app`. Then, click on **Create API**.\n",
    "\n",
    "Now we have created an API, however it doesn't currently do anything. What we want it to do is to trigger the Lambda function that we created earlier.\n",
    "\n",
    "Select the **Actions** dropdown menu and click **Create Method**. A new blank method will be created, select its dropdown menu and select **POST**, then click on the check mark beside it.\n",
    "\n",
    "For the integration point, make sure that **Lambda Function** is selected and click on the **Use Lambda Proxy integration**. This option makes sure that the data that is sent to the API is then sent directly to the Lambda function with no processing. It also means that the return value must be a proper response object as it will also not be processed by API Gateway.\n",
    "\n",
    "Type the name of the Lambda function you created earlier into the **Lambda Function** text entry box and then click on **Save**. Click on **OK** in the pop-up box that then appears, giving permission to API Gateway to invoke the Lambda function you created.\n",
    "\n",
    "The last step in creating the API Gateway is to select the **Actions** dropdown and click on **Deploy API**. You will need to create a new Deployment stage and name it anything you like, for example `prod`.\n",
    "\n",
    "You have now successfully set up a public API to access your SageMaker model. Make sure to copy or write down the URL provided to invoke your newly created public API as this will be needed in the next step. This URL can be found at the top of the page, highlighted in blue next to the text **Invoke URL**."
   ]
  },
  {
   "cell_type": "markdown",
   "metadata": {},
   "source": [
    "## Step 7: Deploying our web app\n",
    "\n",
    "Now that we have a publicly available API, we can start using it in a web app. For our purposes, we have provided a simple static html file which can make use of the public api you created earlier.\n",
    "\n",
    "In the `website` folder there should be a file called `index.html`. Download the file to your computer and open that file up in a text editor of your choice. There should be a line which contains **\\*\\*REPLACE WITH PUBLIC API URL\\*\\***. Replace this string with the url that you wrote down in the last step and then save the file.\n",
    "\n",
    "Now, if you open `index.html` on your local computer, your browser will behave as a local web server and you can use the provided site to interact with your SageMaker model.\n",
    "\n",
    "If you'd like to go further, you can host this html file anywhere you'd like, for example using github or hosting a static site on Amazon's S3. Once you have done this you can share the link with anyone you'd like and have them play with it too!\n",
    "\n",
    "> **Important Note** In order for the web app to communicate with the SageMaker endpoint, the endpoint has to actually be deployed and running. This means that you are paying for it. Make sure that the endpoint is running when you want to use the web app but that you shut it down when you don't need it, otherwise you will end up with a surprisingly large AWS bill."
   ]
  },
  {
   "cell_type": "markdown",
   "metadata": {},
   "source": [
    "### Delete the endpoint\n",
    "\n",
    "Remember to always shut down your endpoint if you are no longer using it. You are charged for the length of time that the endpoint is running so if you forget and leave it on you could end up with an unexpectedly large bill."
   ]
  },
  {
   "cell_type": "code",
   "execution_count": null,
   "metadata": {},
   "outputs": [],
   "source": [
    "xgb_predictor.delete_endpoint()"
   ]
  },
  {
   "cell_type": "markdown",
   "metadata": {},
   "source": [
    "## Optional: Clean up\n",
    "\n",
    "The default notebook instance on SageMaker doesn't have a lot of excess disk space available. As you continue to complete and execute notebooks you will eventually fill up this disk space, leading to errors which can be difficult to diagnose. Once you are completely finished using a notebook it is a good idea to remove the files that you created along the way. Of course, you can do this from the terminal or from the notebook hub if you would like. The cell below contains some commands to clean up the created files from within the notebook."
   ]
  },
  {
   "cell_type": "code",
   "execution_count": null,
   "metadata": {},
   "outputs": [],
   "source": [
    "# First we will remove all of the files contained in the data_dir directory\n",
    "!rm $data_dir/*\n",
    "\n",
    "# And then we delete the directory itself\n",
    "!rmdir $data_dir\n",
    "\n",
    "# Similarly we remove the files in the cache_dir directory and the directory itself\n",
    "!rm $cache_dir/*\n",
    "!rmdir $cache_dir"
   ]
  },
  {
   "cell_type": "code",
   "execution_count": null,
   "metadata": {},
   "outputs": [],
   "source": []
  }
 ],
 "metadata": {
  "kernelspec": {
   "display_name": "conda_python3",
   "language": "python",
   "name": "conda_python3"
  },
  "language_info": {
   "codemirror_mode": {
    "name": "ipython",
    "version": 3
   },
   "file_extension": ".py",
   "mimetype": "text/x-python",
   "name": "python",
   "nbconvert_exporter": "python",
   "pygments_lexer": "ipython3",
   "version": "3.6.5"
  }
 },
 "nbformat": 4,
 "nbformat_minor": 2
}
