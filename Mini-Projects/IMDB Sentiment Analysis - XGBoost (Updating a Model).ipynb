{
 "cells": [
  {
   "cell_type": "markdown",
   "metadata": {},
   "source": [
    "# Sentiment Analysis\n",
    "\n",
    "## Updating a Model in SageMaker\n",
    "\n",
    "_Deep Learning Nanodegree Program | Deployment_\n",
    "\n",
    "---\n",
    "\n",
    "In this notebook we will consider a situation in which a model that we constructed is no longer working as we intended. In particular, we will look at the XGBoost sentiment analysis model that we constructed earlier. In this case, however, we have some new data that our model doesn't seem to perform very well on. As a result, we will re-train our model and update an existing endpoint so that it uses our new model.\n",
    "\n",
    "This notebook starts by re-creating the XGBoost sentiment analysis model that was created in earlier notebooks. This means that you will have already seen the cells up to the end of Step 4. The new content in this notebook begins at Step 5.\n",
    "\n",
    "## Instructions\n",
    "\n",
    "Some template code has already been provided for you, and you will need to implement additional functionality to successfully complete this notebook. You will not need to modify the included code beyond what is requested. Sections that begin with '**TODO**' in the header indicate that you need to complete or implement some portion within them. Instructions will be provided for each section and the specifics of the implementation are marked in the code block with a `# TODO: ...` comment. Please be sure to read the instructions carefully!\n",
    "\n",
    "In addition to implementing code, there will be questions for you to answer which relate to the task and your implementation. Each section where you will answer a question is preceded by a '**Question:**' header. Carefully read each question and provide your answer below the '**Answer:**' header by editing the Markdown cell.\n",
    "\n",
    "> **Note**: Code and Markdown cells can be executed using the **Shift+Enter** keyboard shortcut. In addition, a cell can be edited by typically clicking it (double-click for Markdown cells) or by pressing **Enter** while it is highlighted."
   ]
  },
  {
   "cell_type": "markdown",
   "metadata": {},
   "source": [
    "## Step 1: Downloading the data\n",
    "\n",
    "The dataset we are going to use is very popular among researchers in Natural Language Processing, usually referred to as the [IMDb dataset](http://ai.stanford.edu/~amaas/data/sentiment/). It consists of movie reviews from the website [imdb.com](http://www.imdb.com/), each labeled as either '**pos**itive', if the reviewer enjoyed the film, or '**neg**ative' otherwise.\n",
    "\n",
    "> Maas, Andrew L., et al. [Learning Word Vectors for Sentiment Analysis](http://ai.stanford.edu/~amaas/data/sentiment/). In _Proceedings of the 49th Annual Meeting of the Association for Computational Linguistics: Human Language Technologies_. Association for Computational Linguistics, 2011.\n",
    "\n",
    "We begin by using some Jupyter Notebook magic to download and extract the dataset."
   ]
  },
  {
   "cell_type": "code",
   "execution_count": 1,
   "metadata": {},
   "outputs": [
    {
     "name": "stdout",
     "output_type": "stream",
     "text": [
      "mkdir: cannot create directory ‘../data’: File exists\n",
      "--2020-05-20 16:37:38--  http://ai.stanford.edu/~amaas/data/sentiment/aclImdb_v1.tar.gz\n",
      "Resolving ai.stanford.edu (ai.stanford.edu)... 171.64.68.10\n",
      "Connecting to ai.stanford.edu (ai.stanford.edu)|171.64.68.10|:80... connected.\n",
      "HTTP request sent, awaiting response... 200 OK\n",
      "Length: 84125825 (80M) [application/x-gzip]\n",
      "Saving to: ‘../data/aclImdb_v1.tar.gz’\n",
      "\n",
      "../data/aclImdb_v1. 100%[===================>]  80.23M  10.4MB/s    in 10s     \n",
      "\n",
      "2020-05-20 16:37:49 (7.68 MB/s) - ‘../data/aclImdb_v1.tar.gz’ saved [84125825/84125825]\n",
      "\n"
     ]
    }
   ],
   "source": [
    "%mkdir ../data\n",
    "!wget -O ../data/aclImdb_v1.tar.gz http://ai.stanford.edu/~amaas/data/sentiment/aclImdb_v1.tar.gz\n",
    "!tar -zxf ../data/aclImdb_v1.tar.gz -C ../data"
   ]
  },
  {
   "cell_type": "markdown",
   "metadata": {},
   "source": [
    "## Step 2: Preparing the data\n",
    "\n",
    "The data we have downloaded is split into various files, each of which contains a single review. It will be much easier going forward if we combine these individual files into two large files, one for training and one for testing."
   ]
  },
  {
   "cell_type": "code",
   "execution_count": 1,
   "metadata": {},
   "outputs": [],
   "source": [
    "import os\n",
    "import glob\n",
    "\n",
    "def read_imdb_data(data_dir='../data/aclImdb'):\n",
    "    data = {}\n",
    "    labels = {}\n",
    "    \n",
    "    for data_type in ['train', 'test']:\n",
    "        data[data_type] = {}\n",
    "        labels[data_type] = {}\n",
    "        \n",
    "        for sentiment in ['pos', 'neg']:\n",
    "            data[data_type][sentiment] = []\n",
    "            labels[data_type][sentiment] = []\n",
    "            \n",
    "            path = os.path.join(data_dir, data_type, sentiment, '*.txt')\n",
    "            files = glob.glob(path)\n",
    "            \n",
    "            for f in files:\n",
    "                with open(f) as review:\n",
    "                    data[data_type][sentiment].append(review.read())\n",
    "                    # Here we represent a positive review by '1' and a negative review by '0'\n",
    "                    labels[data_type][sentiment].append(1 if sentiment == 'pos' else 0)\n",
    "                    \n",
    "            assert len(data[data_type][sentiment]) == len(labels[data_type][sentiment]), \\\n",
    "                    \"{}/{} data size does not match labels size\".format(data_type, sentiment)\n",
    "                \n",
    "    return data, labels"
   ]
  },
  {
   "cell_type": "code",
   "execution_count": 2,
   "metadata": {},
   "outputs": [
    {
     "name": "stdout",
     "output_type": "stream",
     "text": [
      "IMDB reviews: train = 12500 pos / 12500 neg, test = 12500 pos / 12500 neg\n"
     ]
    }
   ],
   "source": [
    "data, labels = read_imdb_data()\n",
    "print(\"IMDB reviews: train = {} pos / {} neg, test = {} pos / {} neg\".format(\n",
    "            len(data['train']['pos']), len(data['train']['neg']),\n",
    "            len(data['test']['pos']), len(data['test']['neg'])))"
   ]
  },
  {
   "cell_type": "code",
   "execution_count": 3,
   "metadata": {},
   "outputs": [],
   "source": [
    "from sklearn.utils import shuffle\n",
    "\n",
    "def prepare_imdb_data(data, labels):\n",
    "    \"\"\"Prepare training and test sets from IMDb movie reviews.\"\"\"\n",
    "    \n",
    "    #Combine positive and negative reviews and labels\n",
    "    data_train = data['train']['pos'] + data['train']['neg']\n",
    "    data_test = data['test']['pos'] + data['test']['neg']\n",
    "    labels_train = labels['train']['pos'] + labels['train']['neg']\n",
    "    labels_test = labels['test']['pos'] + labels['test']['neg']\n",
    "    \n",
    "    #Shuffle reviews and corresponding labels within training and test sets\n",
    "    data_train, labels_train = shuffle(data_train, labels_train)\n",
    "    data_test, labels_test = shuffle(data_test, labels_test)\n",
    "    \n",
    "    # Return a unified training data, test data, training labels, test labets\n",
    "    return data_train, data_test, labels_train, labels_test"
   ]
  },
  {
   "cell_type": "code",
   "execution_count": 4,
   "metadata": {},
   "outputs": [
    {
     "name": "stdout",
     "output_type": "stream",
     "text": [
      "IMDb reviews (combined): train = 25000, test = 25000\n"
     ]
    }
   ],
   "source": [
    "train_X, test_X, train_y, test_y = prepare_imdb_data(data, labels)\n",
    "print(\"IMDb reviews (combined): train = {}, test = {}\".format(len(train_X), len(test_X)))"
   ]
  },
  {
   "cell_type": "code",
   "execution_count": 5,
   "metadata": {},
   "outputs": [
    {
     "data": {
      "text/plain": [
       "\"Except for the Brady Variety Hour, this was some of the hokiest television I've seen in a while. The video production qualities weren't too bad, but the overall look and feel were unmistakeably early 80's. And Marie Osmond looks like she did battle with the Avon Lady.. and lost big time. WAY too much eyeliner.<br /><br />It was kind of embarrassing to watch veterans Danny Kaye and Eric Severeid take part in this. Even more interesting was watching Alex Haley talk about the African Pavillion in World Showcase that would be opening 'in about a year.'<br /><br />As of this writing it is 17 years later and it hasn't opened yet (Unless you count Disney's Animal Kingdom.) All in all though, for all the shortcomings, this still an interesting visual piece of Disney history.\""
      ]
     },
     "execution_count": 5,
     "metadata": {},
     "output_type": "execute_result"
    }
   ],
   "source": [
    "train_X[100]"
   ]
  },
  {
   "cell_type": "markdown",
   "metadata": {},
   "source": [
    "## Step 3: Processing the data\n",
    "\n",
    "Now that we have our training and testing datasets merged and ready to use, we need to start processing the raw data into something that will be useable by our machine learning algorithm. To begin with, we remove any html formatting that may appear in the reviews and perform some standard natural language processing in order to homogenize the data."
   ]
  },
  {
   "cell_type": "code",
   "execution_count": 6,
   "metadata": {},
   "outputs": [
    {
     "name": "stdout",
     "output_type": "stream",
     "text": [
      "[nltk_data] Downloading package stopwords to\n",
      "[nltk_data]     /home/ec2-user/nltk_data...\n",
      "[nltk_data]   Unzipping corpora/stopwords.zip.\n"
     ]
    }
   ],
   "source": [
    "import nltk\n",
    "nltk.download(\"stopwords\")\n",
    "from nltk.corpus import stopwords\n",
    "from nltk.stem.porter import *\n",
    "stemmer = PorterStemmer()"
   ]
  },
  {
   "cell_type": "code",
   "execution_count": 7,
   "metadata": {},
   "outputs": [],
   "source": [
    "import re\n",
    "from bs4 import BeautifulSoup\n",
    "\n",
    "def review_to_words(review):\n",
    "    text = BeautifulSoup(review, \"html.parser\").get_text() # Remove HTML tags\n",
    "    text = re.sub(r\"[^a-zA-Z0-9]\", \" \", text.lower()) # Convert to lower case\n",
    "    words = text.split() # Split string into words\n",
    "    words = [w for w in words if w not in stopwords.words(\"english\")] # Remove stopwords\n",
    "    words = [PorterStemmer().stem(w) for w in words] # stem\n",
    "    \n",
    "    return words"
   ]
  },
  {
   "cell_type": "code",
   "execution_count": 8,
   "metadata": {},
   "outputs": [
    {
     "data": {
      "text/plain": [
       "['except',\n",
       " 'bradi',\n",
       " 'varieti',\n",
       " 'hour',\n",
       " 'hokiest',\n",
       " 'televis',\n",
       " 'seen',\n",
       " 'video',\n",
       " 'product',\n",
       " 'qualiti',\n",
       " 'bad',\n",
       " 'overal',\n",
       " 'look',\n",
       " 'feel',\n",
       " 'unmistak',\n",
       " 'earli',\n",
       " '80',\n",
       " 'mari',\n",
       " 'osmond',\n",
       " 'look',\n",
       " 'like',\n",
       " 'battl',\n",
       " 'avon',\n",
       " 'ladi',\n",
       " 'lost',\n",
       " 'big',\n",
       " 'time',\n",
       " 'way',\n",
       " 'much',\n",
       " 'eyelin',\n",
       " 'kind',\n",
       " 'embarrass',\n",
       " 'watch',\n",
       " 'veteran',\n",
       " 'danni',\n",
       " 'kay',\n",
       " 'eric',\n",
       " 'severeid',\n",
       " 'take',\n",
       " 'part',\n",
       " 'even',\n",
       " 'interest',\n",
       " 'watch',\n",
       " 'alex',\n",
       " 'haley',\n",
       " 'talk',\n",
       " 'african',\n",
       " 'pavillion',\n",
       " 'world',\n",
       " 'showcas',\n",
       " 'would',\n",
       " 'open',\n",
       " 'year',\n",
       " 'write',\n",
       " '17',\n",
       " 'year',\n",
       " 'later',\n",
       " 'open',\n",
       " 'yet',\n",
       " 'unless',\n",
       " 'count',\n",
       " 'disney',\n",
       " 'anim',\n",
       " 'kingdom',\n",
       " 'though',\n",
       " 'shortcom',\n",
       " 'still',\n",
       " 'interest',\n",
       " 'visual',\n",
       " 'piec',\n",
       " 'disney',\n",
       " 'histori']"
      ]
     },
     "execution_count": 8,
     "metadata": {},
     "output_type": "execute_result"
    }
   ],
   "source": [
    "review_to_words(train_X[100])"
   ]
  },
  {
   "cell_type": "code",
   "execution_count": 9,
   "metadata": {},
   "outputs": [],
   "source": [
    "import pickle\n",
    "\n",
    "cache_dir = os.path.join(\"../cache\", \"sentiment_analysis\")  # where to store cache files\n",
    "os.makedirs(cache_dir, exist_ok=True)  # ensure cache directory exists\n",
    "\n",
    "def preprocess_data(data_train, data_test, labels_train, labels_test,\n",
    "                    cache_dir=cache_dir, cache_file=\"preprocessed_data.pkl\"):\n",
    "    \"\"\"Convert each review to words; read from cache if available.\"\"\"\n",
    "\n",
    "    # If cache_file is not None, try to read from it first\n",
    "    cache_data = None\n",
    "    if cache_file is not None:\n",
    "        try:\n",
    "            with open(os.path.join(cache_dir, cache_file), \"rb\") as f:\n",
    "                cache_data = pickle.load(f)\n",
    "            print(\"Read preprocessed data from cache file:\", cache_file)\n",
    "        except:\n",
    "            pass  # unable to read from cache, but that's okay\n",
    "    \n",
    "    # If cache is missing, then do the heavy lifting\n",
    "    if cache_data is None:\n",
    "        # Preprocess training and test data to obtain words for each review\n",
    "        #words_train = list(map(review_to_words, data_train))\n",
    "        #words_test = list(map(review_to_words, data_test))\n",
    "        words_train = [review_to_words(review) for review in data_train]\n",
    "        words_test = [review_to_words(review) for review in data_test]\n",
    "        \n",
    "        # Write to cache file for future runs\n",
    "        if cache_file is not None:\n",
    "            cache_data = dict(words_train=words_train, words_test=words_test,\n",
    "                              labels_train=labels_train, labels_test=labels_test)\n",
    "            with open(os.path.join(cache_dir, cache_file), \"wb\") as f:\n",
    "                pickle.dump(cache_data, f)\n",
    "            print(\"Wrote preprocessed data to cache file:\", cache_file)\n",
    "    else:\n",
    "        # Unpack data loaded from cache file\n",
    "        words_train, words_test, labels_train, labels_test = (cache_data['words_train'],\n",
    "                cache_data['words_test'], cache_data['labels_train'], cache_data['labels_test'])\n",
    "    \n",
    "    return words_train, words_test, labels_train, labels_test"
   ]
  },
  {
   "cell_type": "code",
   "execution_count": 10,
   "metadata": {},
   "outputs": [
    {
     "name": "stdout",
     "output_type": "stream",
     "text": [
      "Read preprocessed data from cache file: preprocessed_data.pkl\n"
     ]
    }
   ],
   "source": [
    "# Preprocess data\n",
    "train_X, test_X, train_y, test_y = preprocess_data(train_X, test_X, train_y, test_y)"
   ]
  },
  {
   "cell_type": "markdown",
   "metadata": {},
   "source": [
    "### Extract Bag-of-Words features\n",
    "\n",
    "For the model we will be implementing, rather than using the reviews directly, we are going to transform each review into a Bag-of-Words feature representation. Keep in mind that 'in the wild' we will only have access to the training set so our transformer can only use the training set to construct a representation."
   ]
  },
  {
   "cell_type": "code",
   "execution_count": 11,
   "metadata": {},
   "outputs": [],
   "source": [
    "import numpy as np\n",
    "from sklearn.feature_extraction.text import CountVectorizer\n",
    "from sklearn.externals import joblib\n",
    "# joblib is an enhanced version of pickle that is more efficient for storing NumPy arrays\n",
    "\n",
    "def extract_BoW_features(words_train, words_test, vocabulary_size=5000,\n",
    "                         cache_dir=cache_dir, cache_file=\"bow_features.pkl\"):\n",
    "    \"\"\"Extract Bag-of-Words for a given set of documents, already preprocessed into words.\"\"\"\n",
    "    \n",
    "    # If cache_file is not None, try to read from it first\n",
    "    cache_data = None\n",
    "    if cache_file is not None:\n",
    "        try:\n",
    "            with open(os.path.join(cache_dir, cache_file), \"rb\") as f:\n",
    "                cache_data = joblib.load(f)\n",
    "            print(\"Read features from cache file:\", cache_file)\n",
    "        except:\n",
    "            pass  # unable to read from cache, but that's okay\n",
    "    \n",
    "    # If cache is missing, then do the heavy lifting\n",
    "    if cache_data is None:\n",
    "        # Fit a vectorizer to training documents and use it to transform them\n",
    "        # NOTE: Training documents have already been preprocessed and tokenized into words;\n",
    "        #       pass in dummy functions to skip those steps, e.g. preprocessor=lambda x: x\n",
    "        vectorizer = CountVectorizer(max_features=vocabulary_size,\n",
    "                preprocessor=lambda x: x, tokenizer=lambda x: x)  # already preprocessed\n",
    "        features_train = vectorizer.fit_transform(words_train).toarray()\n",
    "\n",
    "        # Apply the same vectorizer to transform the test documents (ignore unknown words)\n",
    "        features_test = vectorizer.transform(words_test).toarray()\n",
    "        \n",
    "        # NOTE: Remember to convert the features using .toarray() for a compact representation\n",
    "        \n",
    "        # Write to cache file for future runs (store vocabulary as well)\n",
    "        if cache_file is not None:\n",
    "            vocabulary = vectorizer.vocabulary_\n",
    "            cache_data = dict(features_train=features_train, features_test=features_test,\n",
    "                             vocabulary=vocabulary)\n",
    "            with open(os.path.join(cache_dir, cache_file), \"wb\") as f:\n",
    "                joblib.dump(cache_data, f)\n",
    "            print(\"Wrote features to cache file:\", cache_file)\n",
    "    else:\n",
    "        # Unpack data loaded from cache file\n",
    "        features_train, features_test, vocabulary = (cache_data['features_train'],\n",
    "                cache_data['features_test'], cache_data['vocabulary'])\n",
    "    \n",
    "    # Return both the extracted features as well as the vocabulary\n",
    "    return features_train, features_test, vocabulary"
   ]
  },
  {
   "cell_type": "code",
   "execution_count": 12,
   "metadata": {},
   "outputs": [
    {
     "name": "stdout",
     "output_type": "stream",
     "text": [
      "Read features from cache file: bow_features.pkl\n"
     ]
    }
   ],
   "source": [
    "# Extract Bag of Words features for both training and test datasets\n",
    "train_X, test_X, vocabulary = extract_BoW_features(train_X, test_X)"
   ]
  },
  {
   "cell_type": "code",
   "execution_count": 13,
   "metadata": {},
   "outputs": [
    {
     "data": {
      "text/plain": [
       "5000"
      ]
     },
     "execution_count": 13,
     "metadata": {},
     "output_type": "execute_result"
    }
   ],
   "source": [
    "len(train_X[100])"
   ]
  },
  {
   "cell_type": "markdown",
   "metadata": {},
   "source": [
    "## Step 4: Classification using XGBoost\n",
    "\n",
    "Now that we have created the feature representation of our training (and testing) data, it is time to start setting up and using the XGBoost classifier provided by SageMaker.\n",
    "\n",
    "### Writing the dataset\n",
    "\n",
    "The XGBoost classifier that we will be using requires the dataset to be written to a file and stored using Amazon S3. To do this, we will start by splitting the training dataset into two parts, the data we will train the model with and a validation set. Then, we will write those datasets to a file and upload the files to S3. In addition, we will write the test set input to a file and upload the file to S3. This is so that we can use SageMakers Batch Transform functionality to test our model once we've fit it."
   ]
  },
  {
   "cell_type": "code",
   "execution_count": 14,
   "metadata": {},
   "outputs": [],
   "source": [
    "import pandas as pd\n",
    "\n",
    "# Earlier we shuffled the training dataset so to make things simple we can just assign\n",
    "# the first 10 000 reviews to the validation set and use the remaining reviews for training.\n",
    "val_X = pd.DataFrame(train_X[:10000])\n",
    "train_X = pd.DataFrame(train_X[10000:])\n",
    "\n",
    "val_y = pd.DataFrame(train_y[:10000])\n",
    "train_y = pd.DataFrame(train_y[10000:])"
   ]
  },
  {
   "cell_type": "markdown",
   "metadata": {},
   "source": [
    "The documentation for the XGBoost algorithm in SageMaker requires that the saved datasets should contain no headers or index and that for the training and validation data, the label should occur first for each sample.\n",
    "\n",
    "For more information about this and other algorithms, the SageMaker developer documentation can be found on __[Amazon's website.](https://docs.aws.amazon.com/sagemaker/latest/dg/)__"
   ]
  },
  {
   "cell_type": "code",
   "execution_count": 15,
   "metadata": {},
   "outputs": [],
   "source": [
    "# First we make sure that the local directory in which we'd like to store the training and validation csv files exists.\n",
    "data_dir = '../data/sentiment_update'\n",
    "if not os.path.exists(data_dir):\n",
    "    os.makedirs(data_dir)"
   ]
  },
  {
   "cell_type": "code",
   "execution_count": 16,
   "metadata": {},
   "outputs": [],
   "source": [
    "pd.DataFrame(test_X).to_csv(os.path.join(data_dir, 'test.csv'), header=False, index=False)\n",
    "\n",
    "pd.concat([val_y, val_X], axis=1).to_csv(os.path.join(data_dir, 'validation.csv'), header=False, index=False)\n",
    "pd.concat([train_y, train_X], axis=1).to_csv(os.path.join(data_dir, 'train.csv'), header=False, index=False)"
   ]
  },
  {
   "cell_type": "code",
   "execution_count": 17,
   "metadata": {},
   "outputs": [],
   "source": [
    "# To save a bit of memory we can set text_X, train_X, val_X, train_y and val_y to None.\n",
    "\n",
    "test_X = train_X = val_X = train_y = val_y = None"
   ]
  },
  {
   "cell_type": "markdown",
   "metadata": {},
   "source": [
    "### Uploading Training / Validation files to S3\n",
    "\n",
    "Amazon's S3 service allows us to store files that can be access by both the built-in training models such as the XGBoost model we will be using as well as custom models such as the one we will see a little later.\n",
    "\n",
    "For this, and most other tasks we will be doing using SageMaker, there are two methods we could use. The first is to use the low level functionality of SageMaker which requires knowing each of the objects involved in the SageMaker environment. The second is to use the high level functionality in which certain choices have been made on the user's behalf. The low level approach benefits from allowing the user a great deal of flexibility while the high level approach makes development much quicker. For our purposes we will opt to use the high level approach although using the low-level approach is certainly an option.\n",
    "\n",
    "Recall the method `upload_data()` which is a member of object representing our current SageMaker session. What this method does is upload the data to the default bucket (which is created if it does not exist) into the path described by the key_prefix variable. To see this for yourself, once you have uploaded the data files, go to the S3 console and look to see where the files have been uploaded.\n",
    "\n",
    "For additional resources, see the __[SageMaker API documentation](http://sagemaker.readthedocs.io/en/latest/)__ and in addition the __[SageMaker Developer Guide.](https://docs.aws.amazon.com/sagemaker/latest/dg/)__"
   ]
  },
  {
   "cell_type": "code",
   "execution_count": 18,
   "metadata": {},
   "outputs": [],
   "source": [
    "import sagemaker\n",
    "\n",
    "session = sagemaker.Session() # Store the current SageMaker session\n",
    "\n",
    "# S3 prefix (which folder will we use)\n",
    "prefix = 'sentiment-update'\n",
    "\n",
    "test_location = session.upload_data(os.path.join(data_dir, 'test.csv'), key_prefix=prefix)\n",
    "val_location = session.upload_data(os.path.join(data_dir, 'validation.csv'), key_prefix=prefix)\n",
    "train_location = session.upload_data(os.path.join(data_dir, 'train.csv'), key_prefix=prefix)"
   ]
  },
  {
   "cell_type": "markdown",
   "metadata": {},
   "source": [
    "### Creating the XGBoost model\n",
    "\n",
    "Now that the data has been uploaded it is time to create the XGBoost model. To begin with, we need to do some setup. At this point it is worth discussing what a model is in SageMaker. It is easiest to think of a model of comprising three different objects in the SageMaker ecosystem, which interact with one another.\n",
    "\n",
    "- Model Artifacts\n",
    "- Training Code (Container)\n",
    "- Inference Code (Container)\n",
    "\n",
    "The Model Artifacts are what you might think of as the actual model itself. For example, if you were building a neural network, the model artifacts would be the weights of the various layers. In our case, for an XGBoost model, the artifacts are the actual trees that are created during training.\n",
    "\n",
    "The other two objects, the training code and the inference code are then used the manipulate the training artifacts. More precisely, the training code uses the training data that is provided and creates the model artifacts, while the inference code uses the model artifacts to make predictions on new data.\n",
    "\n",
    "The way that SageMaker runs the training and inference code is by making use of Docker containers. For now, think of a container as being a way of packaging code up so that dependencies aren't an issue."
   ]
  },
  {
   "cell_type": "code",
   "execution_count": 19,
   "metadata": {},
   "outputs": [],
   "source": [
    "from sagemaker import get_execution_role\n",
    "\n",
    "# Our current execution role is require when creating the model as the training\n",
    "# and inference code will need to access the model artifacts.\n",
    "role = get_execution_role()"
   ]
  },
  {
   "cell_type": "code",
   "execution_count": 20,
   "metadata": {},
   "outputs": [],
   "source": [
    "# We need to retrieve the location of the container which is provided by Amazon for using XGBoost.\n",
    "# As a matter of convenience, the training and inference code both use the same container.\n",
    "from sagemaker.amazon.amazon_estimator import get_image_uri\n",
    "\n",
    "container = get_image_uri(session.boto_region_name, 'xgboost', '0.90-1')"
   ]
  },
  {
   "cell_type": "code",
   "execution_count": 21,
   "metadata": {},
   "outputs": [],
   "source": [
    "# First we create a SageMaker estimator object for our model.\n",
    "xgb = sagemaker.estimator.Estimator(container, # The location of the container we wish to use\n",
    "                                    role,                                    # What is our current IAM Role\n",
    "                                    train_instance_count=1,                  # How many compute instances\n",
    "                                    train_instance_type='ml.m4.xlarge',      # What kind of compute instances\n",
    "                                    output_path='s3://{}/{}/output'.format(session.default_bucket(), prefix),\n",
    "                                    sagemaker_session=session)\n",
    "\n",
    "# And then set the algorithm specific parameters.\n",
    "xgb.set_hyperparameters(max_depth=5,\n",
    "                        eta=0.2,\n",
    "                        gamma=4,\n",
    "                        min_child_weight=6,\n",
    "                        subsample=0.8,\n",
    "                        silent=0,\n",
    "                        objective='binary:logistic',\n",
    "                        early_stopping_rounds=10,\n",
    "                        num_round=500)"
   ]
  },
  {
   "cell_type": "markdown",
   "metadata": {},
   "source": [
    "### Fit the XGBoost model\n",
    "\n",
    "Now that our model has been set up we simply need to attach the training and validation datasets and then ask SageMaker to set up the computation."
   ]
  },
  {
   "cell_type": "code",
   "execution_count": 22,
   "metadata": {},
   "outputs": [],
   "source": [
    "s3_input_train = sagemaker.s3_input(s3_data=train_location, content_type='csv')\n",
    "s3_input_validation = sagemaker.s3_input(s3_data=val_location, content_type='csv')"
   ]
  },
  {
   "cell_type": "code",
   "execution_count": 23,
   "metadata": {},
   "outputs": [
    {
     "name": "stdout",
     "output_type": "stream",
     "text": [
      "2020-05-21 09:26:43 Starting - Starting the training job...\n",
      "2020-05-21 09:26:45 Starting - Launching requested ML instances.........\n",
      "2020-05-21 09:28:17 Starting - Preparing the instances for training......\n",
      "2020-05-21 09:29:31 Downloading - Downloading input data...\n",
      "2020-05-21 09:29:57 Training - Downloading the training image...\n",
      "2020-05-21 09:30:28 Training - Training image download completed. Training in progress.\u001b[34mINFO:sagemaker-containers:Imported framework sagemaker_xgboost_container.training\u001b[0m\n",
      "\u001b[34mINFO:sagemaker-containers:Failed to parse hyperparameter objective value binary:logistic to Json.\u001b[0m\n",
      "\u001b[34mReturning the value itself\u001b[0m\n",
      "\u001b[34mINFO:sagemaker-containers:No GPUs detected (normal if no gpus installed)\u001b[0m\n",
      "\u001b[34mINFO:sagemaker_xgboost_container.training:Running XGBoost Sagemaker in algorithm mode\u001b[0m\n",
      "\u001b[34mINFO:root:Determined delimiter of CSV input is ','\u001b[0m\n",
      "\u001b[34mINFO:root:Determined delimiter of CSV input is ','\u001b[0m\n",
      "\u001b[34mINFO:root:Determined delimiter of CSV input is ','\u001b[0m\n",
      "\u001b[34m[09:30:32] 15000x5000 matrix with 75000000 entries loaded from /opt/ml/input/data/train?format=csv&label_column=0&delimiter=,\u001b[0m\n",
      "\u001b[34mINFO:root:Determined delimiter of CSV input is ','\u001b[0m\n",
      "\u001b[34m[09:30:33] 10000x5000 matrix with 50000000 entries loaded from /opt/ml/input/data/validation?format=csv&label_column=0&delimiter=,\u001b[0m\n",
      "\u001b[34mINFO:root:Single node training.\u001b[0m\n",
      "\u001b[34mINFO:root:Train matrix has 15000 rows\u001b[0m\n",
      "\u001b[34mINFO:root:Validation matrix has 10000 rows\u001b[0m\n",
      "\u001b[34m[0]#011train-error:0.295533#011validation-error:0.2995\u001b[0m\n",
      "\u001b[34m[1]#011train-error:0.280733#011validation-error:0.2847\u001b[0m\n",
      "\u001b[34m[2]#011train-error:0.276733#011validation-error:0.2832\u001b[0m\n",
      "\u001b[34m[3]#011train-error:0.266667#011validation-error:0.2754\u001b[0m\n",
      "\u001b[34m[4]#011train-error:0.260533#011validation-error:0.2695\u001b[0m\n",
      "\u001b[34m[5]#011train-error:0.2584#011validation-error:0.2687\u001b[0m\n",
      "\u001b[34m[6]#011train-error:0.253#011validation-error:0.2629\u001b[0m\n",
      "\u001b[34m[7]#011train-error:0.235467#011validation-error:0.2494\u001b[0m\n",
      "\u001b[34m[8]#011train-error:0.2338#011validation-error:0.2476\u001b[0m\n",
      "\u001b[34m[9]#011train-error:0.225#011validation-error:0.2398\u001b[0m\n",
      "\u001b[34m[10]#011train-error:0.217333#011validation-error:0.235\u001b[0m\n",
      "\u001b[34m[11]#011train-error:0.213933#011validation-error:0.2307\u001b[0m\n",
      "\u001b[34m[12]#011train-error:0.210133#011validation-error:0.2272\u001b[0m\n",
      "\u001b[34m[13]#011train-error:0.204267#011validation-error:0.2257\u001b[0m\n",
      "\u001b[34m[14]#011train-error:0.199533#011validation-error:0.2223\u001b[0m\n",
      "\u001b[34m[15]#011train-error:0.194667#011validation-error:0.2193\u001b[0m\n",
      "\u001b[34m[16]#011train-error:0.194#011validation-error:0.2189\u001b[0m\n",
      "\u001b[34m[17]#011train-error:0.1888#011validation-error:0.2163\u001b[0m\n",
      "\u001b[34m[18]#011train-error:0.186933#011validation-error:0.2142\u001b[0m\n",
      "\u001b[34m[19]#011train-error:0.1832#011validation-error:0.2116\u001b[0m\n",
      "\u001b[34m[20]#011train-error:0.1824#011validation-error:0.2122\u001b[0m\n",
      "\u001b[34m[21]#011train-error:0.1786#011validation-error:0.2103\u001b[0m\n",
      "\u001b[34m[22]#011train-error:0.1784#011validation-error:0.2065\u001b[0m\n",
      "\u001b[34m[23]#011train-error:0.174467#011validation-error:0.2042\u001b[0m\n",
      "\u001b[34m[24]#011train-error:0.171933#011validation-error:0.2037\u001b[0m\n",
      "\u001b[34m[25]#011train-error:0.1708#011validation-error:0.2019\u001b[0m\n",
      "\u001b[34m[26]#011train-error:0.170667#011validation-error:0.2007\u001b[0m\n",
      "\u001b[34m[27]#011train-error:0.1674#011validation-error:0.1986\u001b[0m\n",
      "\u001b[34m[28]#011train-error:0.165467#011validation-error:0.1966\u001b[0m\n",
      "\u001b[34m[29]#011train-error:0.163733#011validation-error:0.1954\u001b[0m\n",
      "\u001b[34m[30]#011train-error:0.163133#011validation-error:0.1955\u001b[0m\n",
      "\u001b[34m[31]#011train-error:0.162067#011validation-error:0.1935\u001b[0m\n",
      "\u001b[34m[32]#011train-error:0.158667#011validation-error:0.1903\u001b[0m\n",
      "\u001b[34m[33]#011train-error:0.157867#011validation-error:0.1896\u001b[0m\n",
      "\u001b[34m[34]#011train-error:0.156933#011validation-error:0.1891\u001b[0m\n",
      "\u001b[34m[35]#011train-error:0.1556#011validation-error:0.1878\u001b[0m\n",
      "\u001b[34m[36]#011train-error:0.1554#011validation-error:0.1876\u001b[0m\n",
      "\u001b[34m[37]#011train-error:0.154533#011validation-error:0.1868\u001b[0m\n",
      "\u001b[34m[38]#011train-error:0.1544#011validation-error:0.1856\u001b[0m\n",
      "\u001b[34m[39]#011train-error:0.1528#011validation-error:0.1861\u001b[0m\n",
      "\u001b[34m[40]#011train-error:0.1514#011validation-error:0.1849\u001b[0m\n",
      "\u001b[34m[41]#011train-error:0.150467#011validation-error:0.1839\u001b[0m\n",
      "\u001b[34m[42]#011train-error:0.148467#011validation-error:0.181\u001b[0m\n",
      "\u001b[34m[43]#011train-error:0.146867#011validation-error:0.1809\u001b[0m\n",
      "\u001b[34m[44]#011train-error:0.146467#011validation-error:0.1797\u001b[0m\n",
      "\u001b[34m[45]#011train-error:0.1462#011validation-error:0.1788\u001b[0m\n",
      "\u001b[34m[46]#011train-error:0.145667#011validation-error:0.1779\u001b[0m\n",
      "\u001b[34m[47]#011train-error:0.1448#011validation-error:0.1767\u001b[0m\n",
      "\u001b[34m[48]#011train-error:0.1436#011validation-error:0.1761\u001b[0m\n",
      "\u001b[34m[49]#011train-error:0.143333#011validation-error:0.1761\u001b[0m\n",
      "\u001b[34m[50]#011train-error:0.142#011validation-error:0.175\u001b[0m\n",
      "\u001b[34m[51]#011train-error:0.1402#011validation-error:0.1741\u001b[0m\n",
      "\u001b[34m[52]#011train-error:0.139267#011validation-error:0.1745\u001b[0m\n",
      "\u001b[34m[53]#011train-error:0.137333#011validation-error:0.1738\u001b[0m\n",
      "\u001b[34m[54]#011train-error:0.137133#011validation-error:0.1741\u001b[0m\n",
      "\u001b[34m[55]#011train-error:0.1362#011validation-error:0.1725\u001b[0m\n",
      "\u001b[34m[56]#011train-error:0.135133#011validation-error:0.1724\u001b[0m\n",
      "\u001b[34m[57]#011train-error:0.134133#011validation-error:0.1713\u001b[0m\n",
      "\u001b[34m[58]#011train-error:0.133067#011validation-error:0.1701\u001b[0m\n",
      "\u001b[34m[59]#011train-error:0.133#011validation-error:0.1685\u001b[0m\n",
      "\u001b[34m[60]#011train-error:0.132667#011validation-error:0.1676\u001b[0m\n",
      "\u001b[34m[61]#011train-error:0.131733#011validation-error:0.1673\u001b[0m\n",
      "\u001b[34m[62]#011train-error:0.131333#011validation-error:0.167\u001b[0m\n",
      "\u001b[34m[63]#011train-error:0.130867#011validation-error:0.1668\u001b[0m\n",
      "\u001b[34m[64]#011train-error:0.1292#011validation-error:0.1666\u001b[0m\n",
      "\u001b[34m[65]#011train-error:0.128867#011validation-error:0.1662\u001b[0m\n",
      "\u001b[34m[66]#011train-error:0.1278#011validation-error:0.1655\u001b[0m\n",
      "\u001b[34m[67]#011train-error:0.127467#011validation-error:0.1639\u001b[0m\n",
      "\u001b[34m[68]#011train-error:0.126267#011validation-error:0.1646\u001b[0m\n",
      "\u001b[34m[69]#011train-error:0.126067#011validation-error:0.1649\u001b[0m\n",
      "\u001b[34m[70]#011train-error:0.1248#011validation-error:0.1646\u001b[0m\n",
      "\u001b[34m[71]#011train-error:0.124#011validation-error:0.1635\u001b[0m\n",
      "\u001b[34m[72]#011train-error:0.123667#011validation-error:0.1638\u001b[0m\n",
      "\u001b[34m[73]#011train-error:0.123333#011validation-error:0.1641\u001b[0m\n",
      "\u001b[34m[74]#011train-error:0.122533#011validation-error:0.1632\u001b[0m\n",
      "\u001b[34m[75]#011train-error:0.121667#011validation-error:0.164\u001b[0m\n",
      "\u001b[34m[76]#011train-error:0.1206#011validation-error:0.1629\u001b[0m\n",
      "\u001b[34m[77]#011train-error:0.1198#011validation-error:0.1629\u001b[0m\n",
      "\u001b[34m[78]#011train-error:0.119333#011validation-error:0.1632\u001b[0m\n",
      "\u001b[34m[79]#011train-error:0.1192#011validation-error:0.1623\u001b[0m\n",
      "\u001b[34m[80]#011train-error:0.118267#011validation-error:0.1614\u001b[0m\n",
      "\u001b[34m[81]#011train-error:0.118#011validation-error:0.1604\u001b[0m\n",
      "\u001b[34m[82]#011train-error:0.117067#011validation-error:0.1587\u001b[0m\n",
      "\u001b[34m[83]#011train-error:0.116667#011validation-error:0.1583\u001b[0m\n",
      "\u001b[34m[84]#011train-error:0.115533#011validation-error:0.1588\u001b[0m\n",
      "\u001b[34m[85]#011train-error:0.115067#011validation-error:0.1592\u001b[0m\n",
      "\u001b[34m[86]#011train-error:0.1146#011validation-error:0.1591\u001b[0m\n",
      "\u001b[34m[87]#011train-error:0.113667#011validation-error:0.1596\u001b[0m\n",
      "\u001b[34m[88]#011train-error:0.113#011validation-error:0.1584\u001b[0m\n",
      "\u001b[34m[89]#011train-error:0.112267#011validation-error:0.1562\u001b[0m\n",
      "\u001b[34m[90]#011train-error:0.111667#011validation-error:0.1562\u001b[0m\n",
      "\u001b[34m[91]#011train-error:0.110733#011validation-error:0.156\u001b[0m\n",
      "\u001b[34m[92]#011train-error:0.110133#011validation-error:0.1549\u001b[0m\n",
      "\u001b[34m[93]#011train-error:0.109867#011validation-error:0.1546\u001b[0m\n",
      "\u001b[34m[94]#011train-error:0.109667#011validation-error:0.1548\u001b[0m\n",
      "\u001b[34m[95]#011train-error:0.109067#011validation-error:0.1545\u001b[0m\n",
      "\u001b[34m[96]#011train-error:0.1088#011validation-error:0.1528\u001b[0m\n",
      "\u001b[34m[97]#011train-error:0.109#011validation-error:0.1524\u001b[0m\n",
      "\u001b[34m[98]#011train-error:0.108667#011validation-error:0.1524\u001b[0m\n",
      "\u001b[34m[99]#011train-error:0.1084#011validation-error:0.1526\u001b[0m\n",
      "\u001b[34m[100]#011train-error:0.108667#011validation-error:0.1516\u001b[0m\n",
      "\u001b[34m[101]#011train-error:0.107867#011validation-error:0.1516\u001b[0m\n",
      "\u001b[34m[102]#011train-error:0.107867#011validation-error:0.151\u001b[0m\n",
      "\u001b[34m[103]#011train-error:0.107067#011validation-error:0.1509\u001b[0m\n",
      "\u001b[34m[104]#011train-error:0.107067#011validation-error:0.1506\u001b[0m\n",
      "\u001b[34m[105]#011train-error:0.106467#011validation-error:0.1501\u001b[0m\n",
      "\u001b[34m[106]#011train-error:0.106467#011validation-error:0.1499\u001b[0m\n",
      "\u001b[34m[107]#011train-error:0.105867#011validation-error:0.1497\u001b[0m\n",
      "\u001b[34m[108]#011train-error:0.105133#011validation-error:0.1496\u001b[0m\n",
      "\u001b[34m[109]#011train-error:0.104533#011validation-error:0.149\u001b[0m\n",
      "\u001b[34m[110]#011train-error:0.1044#011validation-error:0.1485\u001b[0m\n",
      "\u001b[34m[111]#011train-error:0.104067#011validation-error:0.1471\u001b[0m\n",
      "\u001b[34m[112]#011train-error:0.1032#011validation-error:0.1469\u001b[0m\n"
     ]
    },
    {
     "name": "stdout",
     "output_type": "stream",
     "text": [
      "\u001b[34m[113]#011train-error:0.103867#011validation-error:0.1472\u001b[0m\n",
      "\u001b[34m[114]#011train-error:0.102533#011validation-error:0.147\u001b[0m\n",
      "\u001b[34m[115]#011train-error:0.1026#011validation-error:0.1465\u001b[0m\n",
      "\u001b[34m[116]#011train-error:0.1018#011validation-error:0.1458\u001b[0m\n",
      "\u001b[34m[117]#011train-error:0.101667#011validation-error:0.1455\u001b[0m\n",
      "\u001b[34m[118]#011train-error:0.1012#011validation-error:0.146\u001b[0m\n",
      "\u001b[34m[119]#011train-error:0.100333#011validation-error:0.1466\u001b[0m\n",
      "\u001b[34m[120]#011train-error:0.1002#011validation-error:0.1473\u001b[0m\n",
      "\u001b[34m[121]#011train-error:0.1#011validation-error:0.1465\u001b[0m\n",
      "\u001b[34m[122]#011train-error:0.099467#011validation-error:0.1455\u001b[0m\n",
      "\u001b[34m[123]#011train-error:0.099267#011validation-error:0.1461\u001b[0m\n",
      "\u001b[34m[124]#011train-error:0.099467#011validation-error:0.1464\u001b[0m\n",
      "\u001b[34m[125]#011train-error:0.099133#011validation-error:0.1461\u001b[0m\n",
      "\u001b[34m[126]#011train-error:0.098067#011validation-error:0.1453\u001b[0m\n",
      "\u001b[34m[127]#011train-error:0.096867#011validation-error:0.1458\u001b[0m\n",
      "\u001b[34m[128]#011train-error:0.097067#011validation-error:0.1455\u001b[0m\n",
      "\u001b[34m[129]#011train-error:0.096333#011validation-error:0.1452\u001b[0m\n",
      "\u001b[34m[130]#011train-error:0.096267#011validation-error:0.1452\u001b[0m\n",
      "\u001b[34m[131]#011train-error:0.095667#011validation-error:0.1441\u001b[0m\n",
      "\u001b[34m[132]#011train-error:0.0954#011validation-error:0.1436\u001b[0m\n",
      "\u001b[34m[133]#011train-error:0.0948#011validation-error:0.1438\u001b[0m\n",
      "\u001b[34m[134]#011train-error:0.0952#011validation-error:0.1439\u001b[0m\n",
      "\u001b[34m[135]#011train-error:0.094733#011validation-error:0.1433\u001b[0m\n",
      "\u001b[34m[136]#011train-error:0.0942#011validation-error:0.142\u001b[0m\n",
      "\u001b[34m[137]#011train-error:0.094333#011validation-error:0.1424\u001b[0m\n",
      "\u001b[34m[138]#011train-error:0.0936#011validation-error:0.1426\u001b[0m\n",
      "\u001b[34m[139]#011train-error:0.0938#011validation-error:0.1421\u001b[0m\n",
      "\u001b[34m[140]#011train-error:0.093933#011validation-error:0.1418\u001b[0m\n",
      "\u001b[34m[141]#011train-error:0.093667#011validation-error:0.1415\u001b[0m\n",
      "\u001b[34m[142]#011train-error:0.0928#011validation-error:0.1408\u001b[0m\n",
      "\u001b[34m[143]#011train-error:0.092267#011validation-error:0.1419\u001b[0m\n",
      "\u001b[34m[144]#011train-error:0.0916#011validation-error:0.1421\u001b[0m\n",
      "\u001b[34m[145]#011train-error:0.0912#011validation-error:0.1435\u001b[0m\n",
      "\u001b[34m[146]#011train-error:0.0912#011validation-error:0.1429\u001b[0m\n",
      "\u001b[34m[147]#011train-error:0.090867#011validation-error:0.1426\u001b[0m\n",
      "\u001b[34m[148]#011train-error:0.0904#011validation-error:0.1422\u001b[0m\n",
      "\u001b[34m[149]#011train-error:0.0906#011validation-error:0.1419\u001b[0m\n",
      "\u001b[34m[150]#011train-error:0.0906#011validation-error:0.1417\u001b[0m\n",
      "\u001b[34m[151]#011train-error:0.088933#011validation-error:0.142\u001b[0m\n",
      "\u001b[34m[152]#011train-error:0.088667#011validation-error:0.142\u001b[0m\n",
      "\n",
      "2020-05-21 09:33:29 Uploading - Uploading generated training model\n",
      "2020-05-21 09:33:29 Completed - Training job completed\n",
      "Training seconds: 238\n",
      "Billable seconds: 238\n"
     ]
    }
   ],
   "source": [
    "xgb.fit({'train': s3_input_train, 'validation': s3_input_validation})"
   ]
  },
  {
   "cell_type": "markdown",
   "metadata": {},
   "source": [
    "### Testing the model\n",
    "\n",
    "Now that we've fit our XGBoost model, it's time to see how well it performs. To do this we will use SageMakers Batch Transform functionality. Batch Transform is a convenient way to perform inference on a large dataset in a way that is not realtime. That is, we don't necessarily need to use our model's results immediately and instead we can peform inference on a large number of samples. An example of this in industry might be peforming an end of month report. This method of inference can also be useful to us as it means to can perform inference on our entire test set. \n",
    "\n",
    "To perform a Batch Transformation we need to first create a transformer objects from our trained estimator object."
   ]
  },
  {
   "cell_type": "code",
   "execution_count": 24,
   "metadata": {},
   "outputs": [],
   "source": [
    "xgb_transformer = xgb.transformer(instance_count = 1, instance_type = 'ml.m4.xlarge')"
   ]
  },
  {
   "cell_type": "markdown",
   "metadata": {},
   "source": [
    "Next we actually perform the transform job. When doing so we need to make sure to specify the type of data we are sending so that it is serialized correctly in the background. In our case we are providing our model with csv data so we specify `text/csv`. Also, if the test data that we have provided is too large to process all at once then we need to specify how the data file should be split up. Since each line is a single entry in our data set we tell SageMaker that it can split the input on each line."
   ]
  },
  {
   "cell_type": "code",
   "execution_count": 25,
   "metadata": {},
   "outputs": [],
   "source": [
    "xgb_transformer.transform(test_location, content_type='text/csv', split_type='Line')"
   ]
  },
  {
   "cell_type": "markdown",
   "metadata": {},
   "source": [
    "Currently the transform job is running but it is doing so in the background. Since we wish to wait until the transform job is done and we would like a bit of feedback we can run the `wait()` method."
   ]
  },
  {
   "cell_type": "code",
   "execution_count": 26,
   "metadata": {},
   "outputs": [
    {
     "name": "stdout",
     "output_type": "stream",
     "text": [
      "......................\u001b[34m[2020-05-21 09:37:22 +0000] [14] [INFO] Starting gunicorn 19.10.0\u001b[0m\n",
      "\u001b[34m[2020-05-21 09:37:22 +0000] [14] [INFO] Listening at: unix:/tmp/gunicorn.sock (14)\u001b[0m\n",
      "\u001b[34m[2020-05-21 09:37:22 +0000] [14] [INFO] Using worker: gevent\u001b[0m\n",
      "\u001b[34m[2020-05-21 09:37:22 +0000] [21] [INFO] Booting worker with pid: 21\u001b[0m\n",
      "\u001b[34m[2020-05-21 09:37:22 +0000] [22] [INFO] Booting worker with pid: 22\u001b[0m\n",
      "\u001b[34m[2020-05-21 09:37:22 +0000] [26] [INFO] Booting worker with pid: 26\u001b[0m\n",
      "\u001b[34m[2020-05-21 09:37:22 +0000] [27] [INFO] Booting worker with pid: 27\u001b[0m\n",
      "\u001b[34m[2020-05-21:09:37:36:INFO] No GPUs detected (normal if no gpus installed)\u001b[0m\n",
      "\u001b[34m169.254.255.130 - - [21/May/2020:09:37:36 +0000] \"GET /ping HTTP/1.1\" 200 0 \"-\" \"Go-http-client/1.1\"\u001b[0m\n",
      "\u001b[34m[2020-05-21:09:37:36:INFO] No GPUs detected (normal if no gpus installed)\u001b[0m\n",
      "\u001b[34m169.254.255.130 - - [21/May/2020:09:37:36 +0000] \"GET /execution-parameters HTTP/1.1\" 200 84 \"-\" \"Go-http-client/1.1\"\u001b[0m\n",
      "\u001b[35m[2020-05-21:09:37:36:INFO] No GPUs detected (normal if no gpus installed)\u001b[0m\n",
      "\u001b[35m169.254.255.130 - - [21/May/2020:09:37:36 +0000] \"GET /ping HTTP/1.1\" 200 0 \"-\" \"Go-http-client/1.1\"\u001b[0m\n",
      "\u001b[35m[2020-05-21:09:37:36:INFO] No GPUs detected (normal if no gpus installed)\u001b[0m\n",
      "\u001b[35m169.254.255.130 - - [21/May/2020:09:37:36 +0000] \"GET /execution-parameters HTTP/1.1\" 200 84 \"-\" \"Go-http-client/1.1\"\u001b[0m\n",
      "\u001b[34m[2020-05-21:09:37:39:INFO] Determined delimiter of CSV input is ','\u001b[0m\n",
      "\u001b[34m[2020-05-21:09:37:39:INFO] Determined delimiter of CSV input is ','\u001b[0m\n",
      "\u001b[34m[2020-05-21:09:37:39:INFO] No GPUs detected (normal if no gpus installed)\u001b[0m\n",
      "\u001b[34m[2020-05-21:09:37:39:INFO] No GPUs detected (normal if no gpus installed)\u001b[0m\n",
      "\u001b[34m[2020-05-21:09:37:39:INFO] Determined delimiter of CSV input is ','\u001b[0m\n",
      "\u001b[35m[2020-05-21:09:37:39:INFO] Determined delimiter of CSV input is ','\u001b[0m\n",
      "\u001b[35m[2020-05-21:09:37:39:INFO] Determined delimiter of CSV input is ','\u001b[0m\n",
      "\u001b[35m[2020-05-21:09:37:39:INFO] No GPUs detected (normal if no gpus installed)\u001b[0m\n",
      "\u001b[35m[2020-05-21:09:37:39:INFO] No GPUs detected (normal if no gpus installed)\u001b[0m\n",
      "\u001b[35m[2020-05-21:09:37:39:INFO] Determined delimiter of CSV input is ','\u001b[0m\n",
      "\u001b[34m[2020-05-21:09:37:39:INFO] Determined delimiter of CSV input is ','\u001b[0m\n",
      "\u001b[35m[2020-05-21:09:37:39:INFO] Determined delimiter of CSV input is ','\u001b[0m\n",
      "\u001b[32m2020-05-21T09:37:36.345:[sagemaker logs]: MaxConcurrentTransforms=4, MaxPayloadInMB=6, BatchStrategy=MULTI_RECORD\u001b[0m\n",
      "\u001b[34m169.254.255.130 - - [21/May/2020:09:37:42 +0000] \"POST /invocations HTTP/1.1\" 200 12216 \"-\" \"Go-http-client/1.1\"\u001b[0m\n",
      "\u001b[35m169.254.255.130 - - [21/May/2020:09:37:42 +0000] \"POST /invocations HTTP/1.1\" 200 12216 \"-\" \"Go-http-client/1.1\"\u001b[0m\n",
      "\u001b[34m169.254.255.130 - - [21/May/2020:09:37:43 +0000] \"POST /invocations HTTP/1.1\" 200 12222 \"-\" \"Go-http-client/1.1\"\u001b[0m\n",
      "\u001b[34m169.254.255.130 - - [21/May/2020:09:37:43 +0000] \"POST /invocations HTTP/1.1\" 200 12148 \"-\" \"Go-http-client/1.1\"\u001b[0m\n",
      "\u001b[34m[2020-05-21:09:37:43:INFO] Determined delimiter of CSV input is ','\u001b[0m\n",
      "\u001b[34m169.254.255.130 - - [21/May/2020:09:37:43 +0000] \"POST /invocations HTTP/1.1\" 200 12165 \"-\" \"Go-http-client/1.1\"\u001b[0m\n",
      "\u001b[34m[2020-05-21:09:37:43:INFO] Determined delimiter of CSV input is ','\u001b[0m\n",
      "\u001b[34m[2020-05-21:09:37:43:INFO] Determined delimiter of CSV input is ','\u001b[0m\n",
      "\u001b[34m[2020-05-21:09:37:43:INFO] Determined delimiter of CSV input is ','\u001b[0m\n",
      "\u001b[35m169.254.255.130 - - [21/May/2020:09:37:43 +0000] \"POST /invocations HTTP/1.1\" 200 12222 \"-\" \"Go-http-client/1.1\"\u001b[0m\n",
      "\u001b[35m169.254.255.130 - - [21/May/2020:09:37:43 +0000] \"POST /invocations HTTP/1.1\" 200 12148 \"-\" \"Go-http-client/1.1\"\u001b[0m\n",
      "\u001b[35m[2020-05-21:09:37:43:INFO] Determined delimiter of CSV input is ','\u001b[0m\n",
      "\u001b[35m169.254.255.130 - - [21/May/2020:09:37:43 +0000] \"POST /invocations HTTP/1.1\" 200 12165 \"-\" \"Go-http-client/1.1\"\u001b[0m\n",
      "\u001b[35m[2020-05-21:09:37:43:INFO] Determined delimiter of CSV input is ','\u001b[0m\n",
      "\u001b[35m[2020-05-21:09:37:43:INFO] Determined delimiter of CSV input is ','\u001b[0m\n",
      "\u001b[35m[2020-05-21:09:37:43:INFO] Determined delimiter of CSV input is ','\u001b[0m\n",
      "\u001b[34m169.254.255.130 - - [21/May/2020:09:37:46 +0000] \"POST /invocations HTTP/1.1\" 200 12224 \"-\" \"Go-http-client/1.1\"\u001b[0m\n",
      "\u001b[34m169.254.255.130 - - [21/May/2020:09:37:46 +0000] \"POST /invocations HTTP/1.1\" 200 12194 \"-\" \"Go-http-client/1.1\"\u001b[0m\n",
      "\u001b[35m169.254.255.130 - - [21/May/2020:09:37:46 +0000] \"POST /invocations HTTP/1.1\" 200 12224 \"-\" \"Go-http-client/1.1\"\u001b[0m\n",
      "\u001b[35m169.254.255.130 - - [21/May/2020:09:37:46 +0000] \"POST /invocations HTTP/1.1\" 200 12194 \"-\" \"Go-http-client/1.1\"\u001b[0m\n",
      "\u001b[34m169.254.255.130 - - [21/May/2020:09:37:46 +0000] \"POST /invocations HTTP/1.1\" 200 12208 \"-\" \"Go-http-client/1.1\"\u001b[0m\n",
      "\u001b[34m169.254.255.130 - - [21/May/2020:09:37:46 +0000] \"POST /invocations HTTP/1.1\" 200 12195 \"-\" \"Go-http-client/1.1\"\u001b[0m\n",
      "\u001b[34m[2020-05-21:09:37:46:INFO] Determined delimiter of CSV input is ','\u001b[0m\n",
      "\u001b[34m[2020-05-21:09:37:46:INFO] Determined delimiter of CSV input is ','\u001b[0m\n",
      "\u001b[34m[2020-05-21:09:37:46:INFO] Determined delimiter of CSV input is ','\u001b[0m\n",
      "\u001b[34m[2020-05-21:09:37:47:INFO] Determined delimiter of CSV input is ','\u001b[0m\n",
      "\u001b[35m169.254.255.130 - - [21/May/2020:09:37:46 +0000] \"POST /invocations HTTP/1.1\" 200 12208 \"-\" \"Go-http-client/1.1\"\u001b[0m\n",
      "\u001b[35m169.254.255.130 - - [21/May/2020:09:37:46 +0000] \"POST /invocations HTTP/1.1\" 200 12195 \"-\" \"Go-http-client/1.1\"\u001b[0m\n",
      "\u001b[35m[2020-05-21:09:37:46:INFO] Determined delimiter of CSV input is ','\u001b[0m\n",
      "\u001b[35m[2020-05-21:09:37:46:INFO] Determined delimiter of CSV input is ','\u001b[0m\n",
      "\u001b[35m[2020-05-21:09:37:46:INFO] Determined delimiter of CSV input is ','\u001b[0m\n",
      "\u001b[35m[2020-05-21:09:37:47:INFO] Determined delimiter of CSV input is ','\u001b[0m\n",
      "\u001b[34m[2020-05-21:09:37:50:INFO] Determined delimiter of CSV input is ','\u001b[0m\n",
      "\u001b[34m[2020-05-21:09:37:50:INFO] Determined delimiter of CSV input is ','\u001b[0m\n",
      "\u001b[35m[2020-05-21:09:37:50:INFO] Determined delimiter of CSV input is ','\u001b[0m\n",
      "\u001b[35m[2020-05-21:09:37:50:INFO] Determined delimiter of CSV input is ','\u001b[0m\n",
      "\u001b[34m169.254.255.130 - - [21/May/2020:09:37:53 +0000] \"POST /invocations HTTP/1.1\" 200 12204 \"-\" \"Go-http-client/1.1\"\u001b[0m\n",
      "\u001b[35m169.254.255.130 - - [21/May/2020:09:37:53 +0000] \"POST /invocations HTTP/1.1\" 200 12204 \"-\" \"Go-http-client/1.1\"\u001b[0m\n",
      "\u001b[34m169.254.255.130 - - [21/May/2020:09:37:53 +0000] \"POST /invocations HTTP/1.1\" 200 12167 \"-\" \"Go-http-client/1.1\"\u001b[0m\n",
      "\u001b[34m[2020-05-21:09:37:53:INFO] Determined delimiter of CSV input is ','\u001b[0m\n",
      "\u001b[34m169.254.255.130 - - [21/May/2020:09:37:53 +0000] \"POST /invocations HTTP/1.1\" 200 12191 \"-\" \"Go-http-client/1.1\"\u001b[0m\n",
      "\u001b[34m169.254.255.130 - - [21/May/2020:09:37:53 +0000] \"POST /invocations HTTP/1.1\" 200 12196 \"-\" \"Go-http-client/1.1\"\u001b[0m\n",
      "\u001b[35m169.254.255.130 - - [21/May/2020:09:37:53 +0000] \"POST /invocations HTTP/1.1\" 200 12167 \"-\" \"Go-http-client/1.1\"\u001b[0m\n",
      "\u001b[35m[2020-05-21:09:37:53:INFO] Determined delimiter of CSV input is ','\u001b[0m\n",
      "\u001b[35m169.254.255.130 - - [21/May/2020:09:37:53 +0000] \"POST /invocations HTTP/1.1\" 200 12191 \"-\" \"Go-http-client/1.1\"\u001b[0m\n",
      "\u001b[35m169.254.255.130 - - [21/May/2020:09:37:53 +0000] \"POST /invocations HTTP/1.1\" 200 12196 \"-\" \"Go-http-client/1.1\"\u001b[0m\n",
      "\u001b[34m[2020-05-21:09:37:54:INFO] Determined delimiter of CSV input is ','\u001b[0m\n",
      "\u001b[34m[2020-05-21:09:37:54:INFO] Determined delimiter of CSV input is ','\u001b[0m\n",
      "\u001b[34m[2020-05-21:09:37:54:INFO] Determined delimiter of CSV input is ','\u001b[0m\n",
      "\u001b[35m[2020-05-21:09:37:54:INFO] Determined delimiter of CSV input is ','\u001b[0m\n",
      "\u001b[35m[2020-05-21:09:37:54:INFO] Determined delimiter of CSV input is ','\u001b[0m\n",
      "\u001b[35m[2020-05-21:09:37:54:INFO] Determined delimiter of CSV input is ','\u001b[0m\n",
      "\u001b[34m[2020-05-21:09:37:57:INFO] Determined delimiter of CSV input is ','\u001b[0m\n",
      "\u001b[34m169.254.255.130 - - [21/May/2020:09:37:57 +0000] \"POST /invocations HTTP/1.1\" 200 12204 \"-\" \"Go-http-client/1.1\"\u001b[0m\n",
      "\u001b[34m[2020-05-21:09:37:57:INFO] Determined delimiter of CSV input is ','\u001b[0m\n",
      "\u001b[34m[2020-05-21:09:37:57:INFO] Determined delimiter of CSV input is ','\u001b[0m\n",
      "\u001b[35m[2020-05-21:09:37:57:INFO] Determined delimiter of CSV input is ','\u001b[0m\n",
      "\u001b[35m169.254.255.130 - - [21/May/2020:09:37:57 +0000] \"POST /invocations HTTP/1.1\" 200 12204 \"-\" \"Go-http-client/1.1\"\u001b[0m\n",
      "\u001b[35m[2020-05-21:09:37:57:INFO] Determined delimiter of CSV input is ','\u001b[0m\n",
      "\u001b[35m[2020-05-21:09:37:57:INFO] Determined delimiter of CSV input is ','\u001b[0m\n",
      "\u001b[34m[2020-05-21:09:37:57:INFO] Determined delimiter of CSV input is ','\u001b[0m\n",
      "\u001b[35m[2020-05-21:09:37:57:INFO] Determined delimiter of CSV input is ','\u001b[0m\n",
      "\u001b[34m169.254.255.130 - - [21/May/2020:09:38:00 +0000] \"POST /invocations HTTP/1.1\" 200 12208 \"-\" \"Go-http-client/1.1\"\u001b[0m\n",
      "\u001b[35m169.254.255.130 - - [21/May/2020:09:38:00 +0000] \"POST /invocations HTTP/1.1\" 200 12208 \"-\" \"Go-http-client/1.1\"\u001b[0m\n",
      "\u001b[34m[2020-05-21:09:38:00:INFO] Determined delimiter of CSV input is ','\u001b[0m\n",
      "\u001b[34m169.254.255.130 - - [21/May/2020:09:38:00 +0000] \"POST /invocations HTTP/1.1\" 200 12192 \"-\" \"Go-http-client/1.1\"\u001b[0m\n",
      "\u001b[34m169.254.255.130 - - [21/May/2020:09:38:00 +0000] \"POST /invocations HTTP/1.1\" 200 12187 \"-\" \"Go-http-client/1.1\"\u001b[0m\n",
      "\u001b[34m169.254.255.130 - - [21/May/2020:09:38:01 +0000] \"POST /invocations HTTP/1.1\" 200 12225 \"-\" \"Go-http-client/1.1\"\u001b[0m\n",
      "\u001b[34m[2020-05-21:09:38:01:INFO] Determined delimiter of CSV input is ','\u001b[0m\n",
      "\u001b[34m[2020-05-21:09:38:01:INFO] Determined delimiter of CSV input is ','\u001b[0m\n",
      "\u001b[34m[2020-05-21:09:38:01:INFO] Determined delimiter of CSV input is ','\u001b[0m\n",
      "\u001b[35m[2020-05-21:09:38:00:INFO] Determined delimiter of CSV input is ','\u001b[0m\n",
      "\u001b[35m169.254.255.130 - - [21/May/2020:09:38:00 +0000] \"POST /invocations HTTP/1.1\" 200 12192 \"-\" \"Go-http-client/1.1\"\u001b[0m\n",
      "\u001b[35m169.254.255.130 - - [21/May/2020:09:38:00 +0000] \"POST /invocations HTTP/1.1\" 200 12187 \"-\" \"Go-http-client/1.1\"\u001b[0m\n",
      "\u001b[35m169.254.255.130 - - [21/May/2020:09:38:01 +0000] \"POST /invocations HTTP/1.1\" 200 12225 \"-\" \"Go-http-client/1.1\"\u001b[0m\n",
      "\u001b[35m[2020-05-21:09:38:01:INFO] Determined delimiter of CSV input is ','\u001b[0m\n",
      "\u001b[35m[2020-05-21:09:38:01:INFO] Determined delimiter of CSV input is ','\u001b[0m\n",
      "\u001b[35m[2020-05-21:09:38:01:INFO] Determined delimiter of CSV input is ','\u001b[0m\n",
      "\u001b[34m169.254.255.130 - - [21/May/2020:09:38:04 +0000] \"POST /invocations HTTP/1.1\" 200 12210 \"-\" \"Go-http-client/1.1\"\u001b[0m\n",
      "\u001b[34m[2020-05-21:09:38:04:INFO] Determined delimiter of CSV input is ','\u001b[0m\n",
      "\u001b[34m169.254.255.130 - - [21/May/2020:09:38:04 +0000] \"POST /invocations HTTP/1.1\" 200 12208 \"-\" \"Go-http-client/1.1\"\u001b[0m\n",
      "\u001b[34m169.254.255.130 - - [21/May/2020:09:38:04 +0000] \"POST /invocations HTTP/1.1\" 200 12209 \"-\" \"Go-http-client/1.1\"\u001b[0m\n",
      "\u001b[34m[2020-05-21:09:38:04:INFO] Determined delimiter of CSV input is ','\u001b[0m\n",
      "\u001b[34m169.254.255.130 - - [21/May/2020:09:38:04 +0000] \"POST /invocations HTTP/1.1\" 200 12213 \"-\" \"Go-http-client/1.1\"\u001b[0m\n",
      "\u001b[35m169.254.255.130 - - [21/May/2020:09:38:04 +0000] \"POST /invocations HTTP/1.1\" 200 12210 \"-\" \"Go-http-client/1.1\"\u001b[0m\n",
      "\u001b[35m[2020-05-21:09:38:04:INFO] Determined delimiter of CSV input is ','\u001b[0m\n",
      "\u001b[35m169.254.255.130 - - [21/May/2020:09:38:04 +0000] \"POST /invocations HTTP/1.1\" 200 12208 \"-\" \"Go-http-client/1.1\"\u001b[0m\n",
      "\u001b[35m169.254.255.130 - - [21/May/2020:09:38:04 +0000] \"POST /invocations HTTP/1.1\" 200 12209 \"-\" \"Go-http-client/1.1\"\u001b[0m\n",
      "\u001b[35m[2020-05-21:09:38:04:INFO] Determined delimiter of CSV input is ','\u001b[0m\n",
      "\u001b[35m169.254.255.130 - - [21/May/2020:09:38:04 +0000] \"POST /invocations HTTP/1.1\" 200 12213 \"-\" \"Go-http-client/1.1\"\u001b[0m\n",
      "\u001b[34m[2020-05-21:09:38:04:INFO] Determined delimiter of CSV input is ','\u001b[0m\n",
      "\u001b[34m[2020-05-21:09:38:04:INFO] Determined delimiter of CSV input is ','\u001b[0m\n",
      "\u001b[35m[2020-05-21:09:38:04:INFO] Determined delimiter of CSV input is ','\u001b[0m\n",
      "\u001b[35m[2020-05-21:09:38:04:INFO] Determined delimiter of CSV input is ','\u001b[0m\n",
      "\u001b[34m169.254.255.130 - - [21/May/2020:09:38:07 +0000] \"POST /invocations HTTP/1.1\" 200 12242 \"-\" \"Go-http-client/1.1\"\u001b[0m\n",
      "\u001b[34m169.254.255.130 - - [21/May/2020:09:38:07 +0000] \"POST /invocations HTTP/1.1\" 200 12195 \"-\" \"Go-http-client/1.1\"\u001b[0m\n",
      "\u001b[34m169.254.255.130 - - [21/May/2020:09:38:08 +0000] \"POST /invocations HTTP/1.1\" 200 12188 \"-\" \"Go-http-client/1.1\"\u001b[0m\n",
      "\u001b[34m[2020-05-21:09:38:08:INFO] Determined delimiter of CSV input is ','\u001b[0m\n",
      "\u001b[34m[2020-05-21:09:38:08:INFO] Determined delimiter of CSV input is ','\u001b[0m\n",
      "\u001b[34m169.254.255.130 - - [21/May/2020:09:38:08 +0000] \"POST /invocations HTTP/1.1\" 200 12226 \"-\" \"Go-http-client/1.1\"\u001b[0m\n",
      "\u001b[34m[2020-05-21:09:38:08:INFO] Determined delimiter of CSV input is ','\u001b[0m\n",
      "\u001b[34m[2020-05-21:09:38:08:INFO] Determined delimiter of CSV input is ','\u001b[0m\n",
      "\u001b[35m169.254.255.130 - - [21/May/2020:09:38:07 +0000] \"POST /invocations HTTP/1.1\" 200 12242 \"-\" \"Go-http-client/1.1\"\u001b[0m\n",
      "\u001b[35m169.254.255.130 - - [21/May/2020:09:38:07 +0000] \"POST /invocations HTTP/1.1\" 200 12195 \"-\" \"Go-http-client/1.1\"\u001b[0m\n",
      "\u001b[35m169.254.255.130 - - [21/May/2020:09:38:08 +0000] \"POST /invocations HTTP/1.1\" 200 12188 \"-\" \"Go-http-client/1.1\"\u001b[0m\n",
      "\u001b[35m[2020-05-21:09:38:08:INFO] Determined delimiter of CSV input is ','\u001b[0m\n",
      "\u001b[35m[2020-05-21:09:38:08:INFO] Determined delimiter of CSV input is ','\u001b[0m\n",
      "\u001b[35m169.254.255.130 - - [21/May/2020:09:38:08 +0000] \"POST /invocations HTTP/1.1\" 200 12226 \"-\" \"Go-http-client/1.1\"\u001b[0m\n",
      "\u001b[35m[2020-05-21:09:38:08:INFO] Determined delimiter of CSV input is ','\u001b[0m\n",
      "\u001b[35m[2020-05-21:09:38:08:INFO] Determined delimiter of CSV input is ','\u001b[0m\n"
     ]
    },
    {
     "name": "stdout",
     "output_type": "stream",
     "text": [
      "\u001b[34m169.254.255.130 - - [21/May/2020:09:38:14 +0000] \"POST /invocations HTTP/1.1\" 200 9082 \"-\" \"Go-http-client/1.1\"\u001b[0m\n",
      "\u001b[35m169.254.255.130 - - [21/May/2020:09:38:14 +0000] \"POST /invocations HTTP/1.1\" 200 9082 \"-\" \"Go-http-client/1.1\"\u001b[0m\n",
      "\u001b[34m169.254.255.130 - - [21/May/2020:09:38:14 +0000] \"POST /invocations HTTP/1.1\" 200 12206 \"-\" \"Go-http-client/1.1\"\u001b[0m\n",
      "\u001b[34m169.254.255.130 - - [21/May/2020:09:38:14 +0000] \"POST /invocations HTTP/1.1\" 200 12205 \"-\" \"Go-http-client/1.1\"\u001b[0m\n",
      "\u001b[34m169.254.255.130 - - [21/May/2020:09:38:14 +0000] \"POST /invocations HTTP/1.1\" 200 12170 \"-\" \"Go-http-client/1.1\"\u001b[0m\n",
      "\u001b[35m169.254.255.130 - - [21/May/2020:09:38:14 +0000] \"POST /invocations HTTP/1.1\" 200 12206 \"-\" \"Go-http-client/1.1\"\u001b[0m\n",
      "\u001b[35m169.254.255.130 - - [21/May/2020:09:38:14 +0000] \"POST /invocations HTTP/1.1\" 200 12205 \"-\" \"Go-http-client/1.1\"\u001b[0m\n",
      "\u001b[35m169.254.255.130 - - [21/May/2020:09:38:14 +0000] \"POST /invocations HTTP/1.1\" 200 12170 \"-\" \"Go-http-client/1.1\"\u001b[0m\n",
      "\n"
     ]
    }
   ],
   "source": [
    "xgb_transformer.wait()"
   ]
  },
  {
   "cell_type": "markdown",
   "metadata": {},
   "source": [
    "Now the transform job has executed and the result, the estimated sentiment of each review, has been saved on S3. Since we would rather work on this file locally we can perform a bit of notebook magic to copy the file to the `data_dir`."
   ]
  },
  {
   "cell_type": "code",
   "execution_count": 27,
   "metadata": {},
   "outputs": [
    {
     "name": "stdout",
     "output_type": "stream",
     "text": [
      "Completed 256.0 KiB/473.5 KiB (4.2 MiB/s) with 1 file(s) remaining\r",
      "Completed 473.5 KiB/473.5 KiB (7.5 MiB/s) with 1 file(s) remaining\r",
      "download: s3://sagemaker-eu-west-1-019518462631/sagemaker-xgboost-2020-05-21-09-33-58-328/test.csv.out to ../data/sentiment_update/test.csv.out\r\n"
     ]
    }
   ],
   "source": [
    "!aws s3 cp --recursive $xgb_transformer.output_path $data_dir"
   ]
  },
  {
   "cell_type": "markdown",
   "metadata": {},
   "source": [
    "The last step is now to read in the output from our model, convert the output to something a little more usable, in this case we want the sentiment to be either `1` (positive) or `0` (negative), and then compare to the ground truth labels."
   ]
  },
  {
   "cell_type": "code",
   "execution_count": 28,
   "metadata": {},
   "outputs": [],
   "source": [
    "predictions = pd.read_csv(os.path.join(data_dir, 'test.csv.out'), header=None)\n",
    "predictions = [round(num) for num in predictions.squeeze().values]"
   ]
  },
  {
   "cell_type": "code",
   "execution_count": 29,
   "metadata": {},
   "outputs": [
    {
     "data": {
      "text/plain": [
       "0.85976"
      ]
     },
     "execution_count": 29,
     "metadata": {},
     "output_type": "execute_result"
    }
   ],
   "source": [
    "from sklearn.metrics import accuracy_score\n",
    "accuracy_score(test_y, predictions)"
   ]
  },
  {
   "cell_type": "markdown",
   "metadata": {},
   "source": [
    "## Step 5: Looking at New Data\n",
    "\n",
    "So now we have an XGBoost sentiment analysis model that we believe is working pretty well. As a result, we deployed it and we are using it in some sort of app.\n",
    "\n",
    "However, as we allow users to use our app we periodically record submitted movie reviews so that we can perform some quality control on our deployed model. Once we've accumulated enough reviews we go through them by hand and evaluate whether they are positive or negative (there are many ways you might do this in practice aside from by hand). The reason for doing this is so that we can check to see how well our model is doing."
   ]
  },
  {
   "cell_type": "code",
   "execution_count": 30,
   "metadata": {},
   "outputs": [],
   "source": [
    "import new_data\n",
    "\n",
    "new_X, new_Y = new_data.get_new_data()"
   ]
  },
  {
   "cell_type": "markdown",
   "metadata": {},
   "source": [
    "**NOTE:** Part of the fun in this notebook is trying to figure out what exactly is happening with the new data, so try not to cheat by looking in the `new_data` module. Also, the `new_data` module assumes that the cache created earlier in Step 3 is still stored in `../cache/sentiment_analysis`."
   ]
  },
  {
   "cell_type": "markdown",
   "metadata": {},
   "source": [
    "### (TODO) Testing the current model\n",
    "\n",
    "Now that we've loaded the new data, let's check to see how our current XGBoost model performs on it.\n",
    "\n",
    "First, note that the data that has been loaded has already been pre-processed so that each entry in `new_X` is a list of words that have been processed using `nltk`. However, we have not yet constructed the bag of words encoding, which we will do now.\n",
    "\n",
    "First, we use the vocabulary that we constructed earlier using the original training data to construct a `CountVectorizer` which we will use to transform our new data into its bag of words encoding.\n",
    "\n",
    "**TODO:** Create the CountVectorizer object using the vocabulary created earlier and use it to transform the new data."
   ]
  },
  {
   "cell_type": "code",
   "execution_count": 31,
   "metadata": {},
   "outputs": [],
   "source": [
    "# TODO: Create the CountVectorizer using the previously constructed vocabulary\n",
    "vectorizer = CountVectorizer(vocabulary=vocabulary,\n",
    "                preprocessor=lambda x: x, tokenizer=lambda x: x)\n",
    "\n",
    "# TODO: Transform our new data set and store the transformed data in the variable new_XV\n",
    "new_XV = vectorizer.transform(new_X).toarray()"
   ]
  },
  {
   "cell_type": "markdown",
   "metadata": {},
   "source": [
    "As a quick sanity check, we make sure that the length of each of our bag of words encoded reviews is correct. In particular, it must be the same size as the vocabulary which in our case is `5000`."
   ]
  },
  {
   "cell_type": "code",
   "execution_count": 32,
   "metadata": {},
   "outputs": [
    {
     "data": {
      "text/plain": [
       "5000"
      ]
     },
     "execution_count": 32,
     "metadata": {},
     "output_type": "execute_result"
    }
   ],
   "source": [
    "len(new_XV[100])"
   ]
  },
  {
   "cell_type": "code",
   "execution_count": 35,
   "metadata": {},
   "outputs": [
    {
     "data": {
      "text/plain": [
       "array([0, 0, 0, ..., 0, 0, 0])"
      ]
     },
     "execution_count": 35,
     "metadata": {},
     "output_type": "execute_result"
    }
   ],
   "source": [
    "new_XV[0]"
   ]
  },
  {
   "cell_type": "markdown",
   "metadata": {},
   "source": [
    "Now that we've performed the data processing that is required by our model we can save it locally and then upload it to S3 so that we can construct a batch transform job in order to see how well our model is working.\n",
    "\n",
    "First, we save the data locally.\n",
    "\n",
    "**TODO:** Save the new data (after it has been transformed using the original vocabulary) to the local notebook instance."
   ]
  },
  {
   "cell_type": "code",
   "execution_count": 36,
   "metadata": {},
   "outputs": [],
   "source": [
    "# TODO: Save the data contained in new_XV locally in the data_dir with the file name new_data.csv\n",
    "pd.DataFrame(new_XV).to_csv(os.path.join(data_dir, 'new_data.csv'), header=False, index=False)"
   ]
  },
  {
   "cell_type": "markdown",
   "metadata": {},
   "source": [
    "Next, we upload the data to S3.\n",
    "\n",
    "**TODO:** Upload the csv file created above to S3."
   ]
  },
  {
   "cell_type": "code",
   "execution_count": 37,
   "metadata": {},
   "outputs": [],
   "source": [
    "# TODO: Upload the new_data.csv file contained in the data_dir folder to S3 and save the resulting\n",
    "#       URI as new_data_location\n",
    "new_data_location = session.upload_data(os.path.join(data_dir, 'new_data.csv'), key_prefix=prefix)"
   ]
  },
  {
   "cell_type": "markdown",
   "metadata": {},
   "source": [
    "Then, once the new data has been uploaded to S3, we create and run the batch transform job to get our model's predictions about the sentiment of the new movie reviews.\n",
    "\n",
    "**TODO:** Using the `xgb_transformer` object that was created earlier (at the end of Step 4 to test the XGBoost model), transform the data located at `new_data_location`."
   ]
  },
  {
   "cell_type": "code",
   "execution_count": 38,
   "metadata": {},
   "outputs": [
    {
     "name": "stdout",
     "output_type": "stream",
     "text": [
      "......................\u001b[34m[2020-05-21 09:49:55 +0000] [14] [INFO] Starting gunicorn 19.10.0\u001b[0m\n",
      "\u001b[34m[2020-05-21 09:49:55 +0000] [14] [INFO] Listening at: unix:/tmp/gunicorn.sock (14)\u001b[0m\n",
      "\u001b[34m[2020-05-21 09:49:55 +0000] [14] [INFO] Using worker: gevent\u001b[0m\n",
      "\u001b[34m[2020-05-21 09:49:55 +0000] [21] [INFO] Booting worker with pid: 21\u001b[0m\n",
      "\u001b[34m[2020-05-21 09:49:55 +0000] [22] [INFO] Booting worker with pid: 22\u001b[0m\n",
      "\u001b[34m[2020-05-21 09:49:55 +0000] [29] [INFO] Booting worker with pid: 29\u001b[0m\n",
      "\u001b[34m[2020-05-21 09:49:55 +0000] [30] [INFO] Booting worker with pid: 30\u001b[0m\n",
      "\u001b[34m[2020-05-21:09:50:17:INFO] No GPUs detected (normal if no gpus installed)\u001b[0m\n",
      "\u001b[34m169.254.255.130 - - [21/May/2020:09:50:17 +0000] \"GET /ping HTTP/1.1\" 200 0 \"-\" \"Go-http-client/1.1\"\u001b[0m\n",
      "\u001b[34m[2020-05-21:09:50:17:INFO] No GPUs detected (normal if no gpus installed)\u001b[0m\n",
      "\u001b[34m169.254.255.130 - - [21/May/2020:09:50:17 +0000] \"GET /execution-parameters HTTP/1.1\" 200 84 \"-\" \"Go-http-client/1.1\"\u001b[0m\n",
      "\u001b[35m[2020-05-21:09:50:17:INFO] No GPUs detected (normal if no gpus installed)\u001b[0m\n",
      "\u001b[35m169.254.255.130 - - [21/May/2020:09:50:17 +0000] \"GET /ping HTTP/1.1\" 200 0 \"-\" \"Go-http-client/1.1\"\u001b[0m\n",
      "\u001b[35m[2020-05-21:09:50:17:INFO] No GPUs detected (normal if no gpus installed)\u001b[0m\n",
      "\u001b[35m169.254.255.130 - - [21/May/2020:09:50:17 +0000] \"GET /execution-parameters HTTP/1.1\" 200 84 \"-\" \"Go-http-client/1.1\"\u001b[0m\n",
      "\u001b[32m2020-05-21T09:50:17.162:[sagemaker logs]: MaxConcurrentTransforms=4, MaxPayloadInMB=6, BatchStrategy=MULTI_RECORD\u001b[0m\n",
      "\u001b[34m[2020-05-21:09:50:19:INFO] No GPUs detected (normal if no gpus installed)\u001b[0m\n",
      "\u001b[34m[2020-05-21:09:50:19:INFO] Determined delimiter of CSV input is ','\u001b[0m\n",
      "\u001b[35m[2020-05-21:09:50:19:INFO] No GPUs detected (normal if no gpus installed)\u001b[0m\n",
      "\u001b[35m[2020-05-21:09:50:19:INFO] Determined delimiter of CSV input is ','\u001b[0m\n",
      "\u001b[34m[2020-05-21:09:50:19:INFO] No GPUs detected (normal if no gpus installed)\u001b[0m\n",
      "\u001b[34m[2020-05-21:09:50:19:INFO] Determined delimiter of CSV input is ','\u001b[0m\n",
      "\u001b[34m[2020-05-21:09:50:20:INFO] Determined delimiter of CSV input is ','\u001b[0m\n",
      "\u001b[34m[2020-05-21:09:50:20:INFO] Determined delimiter of CSV input is ','\u001b[0m\n",
      "\u001b[35m[2020-05-21:09:50:19:INFO] No GPUs detected (normal if no gpus installed)\u001b[0m\n",
      "\u001b[35m[2020-05-21:09:50:19:INFO] Determined delimiter of CSV input is ','\u001b[0m\n",
      "\u001b[35m[2020-05-21:09:50:20:INFO] Determined delimiter of CSV input is ','\u001b[0m\n",
      "\u001b[35m[2020-05-21:09:50:20:INFO] Determined delimiter of CSV input is ','\u001b[0m\n",
      "\u001b[34m169.254.255.130 - - [21/May/2020:09:50:23 +0000] \"POST /invocations HTTP/1.1\" 200 12231 \"-\" \"Go-http-client/1.1\"\u001b[0m\n",
      "\u001b[34m169.254.255.130 - - [21/May/2020:09:50:23 +0000] \"POST /invocations HTTP/1.1\" 200 12225 \"-\" \"Go-http-client/1.1\"\u001b[0m\n",
      "\u001b[34m[2020-05-21:09:50:23:INFO] Determined delimiter of CSV input is ','\u001b[0m\n",
      "\u001b[35m169.254.255.130 - - [21/May/2020:09:50:23 +0000] \"POST /invocations HTTP/1.1\" 200 12231 \"-\" \"Go-http-client/1.1\"\u001b[0m\n",
      "\u001b[35m169.254.255.130 - - [21/May/2020:09:50:23 +0000] \"POST /invocations HTTP/1.1\" 200 12225 \"-\" \"Go-http-client/1.1\"\u001b[0m\n",
      "\u001b[35m[2020-05-21:09:50:23:INFO] Determined delimiter of CSV input is ','\u001b[0m\n",
      "\u001b[34m169.254.255.130 - - [21/May/2020:09:50:23 +0000] \"POST /invocations HTTP/1.1\" 200 12171 \"-\" \"Go-http-client/1.1\"\u001b[0m\n",
      "\u001b[34m[2020-05-21:09:50:23:INFO] Determined delimiter of CSV input is ','\u001b[0m\n",
      "\u001b[34m[2020-05-21:09:50:23:INFO] Determined delimiter of CSV input is ','\u001b[0m\n",
      "\u001b[34m169.254.255.130 - - [21/May/2020:09:50:23 +0000] \"POST /invocations HTTP/1.1\" 200 12178 \"-\" \"Go-http-client/1.1\"\u001b[0m\n",
      "\u001b[35m169.254.255.130 - - [21/May/2020:09:50:23 +0000] \"POST /invocations HTTP/1.1\" 200 12171 \"-\" \"Go-http-client/1.1\"\u001b[0m\n",
      "\u001b[35m[2020-05-21:09:50:23:INFO] Determined delimiter of CSV input is ','\u001b[0m\n",
      "\u001b[35m[2020-05-21:09:50:23:INFO] Determined delimiter of CSV input is ','\u001b[0m\n",
      "\u001b[35m169.254.255.130 - - [21/May/2020:09:50:23 +0000] \"POST /invocations HTTP/1.1\" 200 12178 \"-\" \"Go-http-client/1.1\"\u001b[0m\n",
      "\u001b[34m[2020-05-21:09:50:24:INFO] Determined delimiter of CSV input is ','\u001b[0m\n",
      "\u001b[35m[2020-05-21:09:50:24:INFO] Determined delimiter of CSV input is ','\u001b[0m\n",
      "\u001b[34m169.254.255.130 - - [21/May/2020:09:50:26 +0000] \"POST /invocations HTTP/1.1\" 200 12202 \"-\" \"Go-http-client/1.1\"\u001b[0m\n",
      "\u001b[34m169.254.255.130 - - [21/May/2020:09:50:26 +0000] \"POST /invocations HTTP/1.1\" 200 12191 \"-\" \"Go-http-client/1.1\"\u001b[0m\n",
      "\u001b[34m[2020-05-21:09:50:27:INFO] Determined delimiter of CSV input is ','\u001b[0m\n",
      "\u001b[34m169.254.255.130 - - [21/May/2020:09:50:27 +0000] \"POST /invocations HTTP/1.1\" 200 12226 \"-\" \"Go-http-client/1.1\"\u001b[0m\n",
      "\u001b[34m[2020-05-21:09:50:27:INFO] Determined delimiter of CSV input is ','\u001b[0m\n",
      "\u001b[34m169.254.255.130 - - [21/May/2020:09:50:27 +0000] \"POST /invocations HTTP/1.1\" 200 12201 \"-\" \"Go-http-client/1.1\"\u001b[0m\n",
      "\u001b[34m[2020-05-21:09:50:27:INFO] Determined delimiter of CSV input is ','\u001b[0m\n",
      "\u001b[34m[2020-05-21:09:50:27:INFO] Determined delimiter of CSV input is ','\u001b[0m\n",
      "\u001b[35m169.254.255.130 - - [21/May/2020:09:50:26 +0000] \"POST /invocations HTTP/1.1\" 200 12202 \"-\" \"Go-http-client/1.1\"\u001b[0m\n",
      "\u001b[35m169.254.255.130 - - [21/May/2020:09:50:26 +0000] \"POST /invocations HTTP/1.1\" 200 12191 \"-\" \"Go-http-client/1.1\"\u001b[0m\n",
      "\u001b[35m[2020-05-21:09:50:27:INFO] Determined delimiter of CSV input is ','\u001b[0m\n",
      "\u001b[35m169.254.255.130 - - [21/May/2020:09:50:27 +0000] \"POST /invocations HTTP/1.1\" 200 12226 \"-\" \"Go-http-client/1.1\"\u001b[0m\n",
      "\u001b[35m[2020-05-21:09:50:27:INFO] Determined delimiter of CSV input is ','\u001b[0m\n",
      "\u001b[35m169.254.255.130 - - [21/May/2020:09:50:27 +0000] \"POST /invocations HTTP/1.1\" 200 12201 \"-\" \"Go-http-client/1.1\"\u001b[0m\n",
      "\u001b[35m[2020-05-21:09:50:27:INFO] Determined delimiter of CSV input is ','\u001b[0m\n",
      "\u001b[35m[2020-05-21:09:50:27:INFO] Determined delimiter of CSV input is ','\u001b[0m\n",
      "\u001b[34m169.254.255.130 - - [21/May/2020:09:50:34 +0000] \"POST /invocations HTTP/1.1\" 200 12186 \"-\" \"Go-http-client/1.1\"\u001b[0m\n",
      "\u001b[34m169.254.255.130 - - [21/May/2020:09:50:34 +0000] \"POST /invocations HTTP/1.1\" 200 12193 \"-\" \"Go-http-client/1.1\"\u001b[0m\n",
      "\u001b[34m[2020-05-21:09:50:34:INFO] Determined delimiter of CSV input is ','\u001b[0m\n",
      "\u001b[34m169.254.255.130 - - [21/May/2020:09:50:34 +0000] \"POST /invocations HTTP/1.1\" 200 12187 \"-\" \"Go-http-client/1.1\"\u001b[0m\n",
      "\u001b[34m169.254.255.130 - - [21/May/2020:09:50:34 +0000] \"POST /invocations HTTP/1.1\" 200 12197 \"-\" \"Go-http-client/1.1\"\u001b[0m\n",
      "\u001b[34m[2020-05-21:09:50:34:INFO] Determined delimiter of CSV input is ','\u001b[0m\n",
      "\u001b[34m[2020-05-21:09:50:34:INFO] Determined delimiter of CSV input is ','\u001b[0m\n",
      "\u001b[34m[2020-05-21:09:50:34:INFO] Determined delimiter of CSV input is ','\u001b[0m\n",
      "\u001b[35m169.254.255.130 - - [21/May/2020:09:50:34 +0000] \"POST /invocations HTTP/1.1\" 200 12186 \"-\" \"Go-http-client/1.1\"\u001b[0m\n",
      "\u001b[35m169.254.255.130 - - [21/May/2020:09:50:34 +0000] \"POST /invocations HTTP/1.1\" 200 12193 \"-\" \"Go-http-client/1.1\"\u001b[0m\n",
      "\u001b[35m[2020-05-21:09:50:34:INFO] Determined delimiter of CSV input is ','\u001b[0m\n",
      "\u001b[35m169.254.255.130 - - [21/May/2020:09:50:34 +0000] \"POST /invocations HTTP/1.1\" 200 12187 \"-\" \"Go-http-client/1.1\"\u001b[0m\n",
      "\u001b[35m169.254.255.130 - - [21/May/2020:09:50:34 +0000] \"POST /invocations HTTP/1.1\" 200 12197 \"-\" \"Go-http-client/1.1\"\u001b[0m\n",
      "\u001b[35m[2020-05-21:09:50:34:INFO] Determined delimiter of CSV input is ','\u001b[0m\n",
      "\u001b[35m[2020-05-21:09:50:34:INFO] Determined delimiter of CSV input is ','\u001b[0m\n",
      "\u001b[35m[2020-05-21:09:50:34:INFO] Determined delimiter of CSV input is ','\u001b[0m\n",
      "\u001b[34m169.254.255.130 - - [21/May/2020:09:50:41 +0000] \"POST /invocations HTTP/1.1\" 200 12232 \"-\" \"Go-http-client/1.1\"\u001b[0m\n",
      "\u001b[34m169.254.255.130 - - [21/May/2020:09:50:41 +0000] \"POST /invocations HTTP/1.1\" 200 12184 \"-\" \"Go-http-client/1.1\"\u001b[0m\n",
      "\u001b[34m[2020-05-21:09:50:41:INFO] Determined delimiter of CSV input is ','\u001b[0m\n",
      "\u001b[34m169.254.255.130 - - [21/May/2020:09:50:41 +0000] \"POST /invocations HTTP/1.1\" 200 12227 \"-\" \"Go-http-client/1.1\"\u001b[0m\n",
      "\u001b[34m[2020-05-21:09:50:41:INFO] Determined delimiter of CSV input is ','\u001b[0m\n",
      "\u001b[34m169.254.255.130 - - [21/May/2020:09:50:41 +0000] \"POST /invocations HTTP/1.1\" 200 12190 \"-\" \"Go-http-client/1.1\"\u001b[0m\n",
      "\u001b[34m[2020-05-21:09:50:41:INFO] Determined delimiter of CSV input is ','\u001b[0m\n",
      "\u001b[34m[2020-05-21:09:50:41:INFO] Determined delimiter of CSV input is ','\u001b[0m\n",
      "\u001b[35m169.254.255.130 - - [21/May/2020:09:50:41 +0000] \"POST /invocations HTTP/1.1\" 200 12232 \"-\" \"Go-http-client/1.1\"\u001b[0m\n",
      "\u001b[35m169.254.255.130 - - [21/May/2020:09:50:41 +0000] \"POST /invocations HTTP/1.1\" 200 12184 \"-\" \"Go-http-client/1.1\"\u001b[0m\n",
      "\u001b[35m[2020-05-21:09:50:41:INFO] Determined delimiter of CSV input is ','\u001b[0m\n",
      "\u001b[35m169.254.255.130 - - [21/May/2020:09:50:41 +0000] \"POST /invocations HTTP/1.1\" 200 12227 \"-\" \"Go-http-client/1.1\"\u001b[0m\n",
      "\u001b[35m[2020-05-21:09:50:41:INFO] Determined delimiter of CSV input is ','\u001b[0m\n",
      "\u001b[35m169.254.255.130 - - [21/May/2020:09:50:41 +0000] \"POST /invocations HTTP/1.1\" 200 12190 \"-\" \"Go-http-client/1.1\"\u001b[0m\n",
      "\u001b[35m[2020-05-21:09:50:41:INFO] Determined delimiter of CSV input is ','\u001b[0m\n",
      "\u001b[35m[2020-05-21:09:50:41:INFO] Determined delimiter of CSV input is ','\u001b[0m\n",
      "\u001b[34m169.254.255.130 - - [21/May/2020:09:50:44 +0000] \"POST /invocations HTTP/1.1\" 200 12193 \"-\" \"Go-http-client/1.1\"\u001b[0m\n",
      "\u001b[34m[2020-05-21:09:50:44:INFO] Determined delimiter of CSV input is ','\u001b[0m\n",
      "\u001b[35m169.254.255.130 - - [21/May/2020:09:50:44 +0000] \"POST /invocations HTTP/1.1\" 200 12193 \"-\" \"Go-http-client/1.1\"\u001b[0m\n",
      "\u001b[35m[2020-05-21:09:50:44:INFO] Determined delimiter of CSV input is ','\u001b[0m\n",
      "\u001b[34m169.254.255.130 - - [21/May/2020:09:50:44 +0000] \"POST /invocations HTTP/1.1\" 200 12216 \"-\" \"Go-http-client/1.1\"\u001b[0m\n",
      "\u001b[34m169.254.255.130 - - [21/May/2020:09:50:45 +0000] \"POST /invocations HTTP/1.1\" 200 12192 \"-\" \"Go-http-client/1.1\"\u001b[0m\n",
      "\u001b[34m169.254.255.130 - - [21/May/2020:09:50:45 +0000] \"POST /invocations HTTP/1.1\" 200 12210 \"-\" \"Go-http-client/1.1\"\u001b[0m\n",
      "\u001b[34m[2020-05-21:09:50:45:INFO] Determined delimiter of CSV input is ','\u001b[0m\n",
      "\u001b[34m[2020-05-21:09:50:45:INFO] Determined delimiter of CSV input is ','\u001b[0m\n",
      "\u001b[34m[2020-05-21:09:50:45:INFO] Determined delimiter of CSV input is ','\u001b[0m\n",
      "\u001b[35m169.254.255.130 - - [21/May/2020:09:50:44 +0000] \"POST /invocations HTTP/1.1\" 200 12216 \"-\" \"Go-http-client/1.1\"\u001b[0m\n",
      "\u001b[35m169.254.255.130 - - [21/May/2020:09:50:45 +0000] \"POST /invocations HTTP/1.1\" 200 12192 \"-\" \"Go-http-client/1.1\"\u001b[0m\n",
      "\u001b[35m169.254.255.130 - - [21/May/2020:09:50:45 +0000] \"POST /invocations HTTP/1.1\" 200 12210 \"-\" \"Go-http-client/1.1\"\u001b[0m\n",
      "\u001b[35m[2020-05-21:09:50:45:INFO] Determined delimiter of CSV input is ','\u001b[0m\n",
      "\u001b[35m[2020-05-21:09:50:45:INFO] Determined delimiter of CSV input is ','\u001b[0m\n",
      "\u001b[35m[2020-05-21:09:50:45:INFO] Determined delimiter of CSV input is ','\u001b[0m\n",
      "\u001b[34m169.254.255.130 - - [21/May/2020:09:50:48 +0000] \"POST /invocations HTTP/1.1\" 200 12195 \"-\" \"Go-http-client/1.1\"\u001b[0m\n",
      "\u001b[34m[2020-05-21:09:50:48:INFO] Determined delimiter of CSV input is ','\u001b[0m\n",
      "\u001b[34m169.254.255.130 - - [21/May/2020:09:50:48 +0000] \"POST /invocations HTTP/1.1\" 200 12187 \"-\" \"Go-http-client/1.1\"\u001b[0m\n",
      "\u001b[34m169.254.255.130 - - [21/May/2020:09:50:48 +0000] \"POST /invocations HTTP/1.1\" 200 12244 \"-\" \"Go-http-client/1.1\"\u001b[0m\n",
      "\u001b[34m169.254.255.130 - - [21/May/2020:09:50:48 +0000] \"POST /invocations HTTP/1.1\" 200 12226 \"-\" \"Go-http-client/1.1\"\u001b[0m\n",
      "\u001b[34m[2020-05-21:09:50:48:INFO] Determined delimiter of CSV input is ','\u001b[0m\n",
      "\u001b[34m[2020-05-21:09:50:48:INFO] Determined delimiter of CSV input is ','\u001b[0m\n",
      "\u001b[35m169.254.255.130 - - [21/May/2020:09:50:48 +0000] \"POST /invocations HTTP/1.1\" 200 12195 \"-\" \"Go-http-client/1.1\"\u001b[0m\n",
      "\u001b[35m[2020-05-21:09:50:48:INFO] Determined delimiter of CSV input is ','\u001b[0m\n",
      "\u001b[35m169.254.255.130 - - [21/May/2020:09:50:48 +0000] \"POST /invocations HTTP/1.1\" 200 12187 \"-\" \"Go-http-client/1.1\"\u001b[0m\n",
      "\u001b[35m169.254.255.130 - - [21/May/2020:09:50:48 +0000] \"POST /invocations HTTP/1.1\" 200 12244 \"-\" \"Go-http-client/1.1\"\u001b[0m\n",
      "\u001b[35m169.254.255.130 - - [21/May/2020:09:50:48 +0000] \"POST /invocations HTTP/1.1\" 200 12226 \"-\" \"Go-http-client/1.1\"\u001b[0m\n",
      "\u001b[35m[2020-05-21:09:50:48:INFO] Determined delimiter of CSV input is ','\u001b[0m\n",
      "\u001b[35m[2020-05-21:09:50:48:INFO] Determined delimiter of CSV input is ','\u001b[0m\n"
     ]
    },
    {
     "name": "stdout",
     "output_type": "stream",
     "text": [
      "\u001b[34m[2020-05-21:09:50:52:INFO] Determined delimiter of CSV input is ','\u001b[0m\n",
      "\u001b[34m[2020-05-21:09:50:52:INFO] Determined delimiter of CSV input is ','\u001b[0m\n",
      "\u001b[35m[2020-05-21:09:50:52:INFO] Determined delimiter of CSV input is ','\u001b[0m\n",
      "\u001b[35m[2020-05-21:09:50:52:INFO] Determined delimiter of CSV input is ','\u001b[0m\n",
      "\n",
      "\u001b[34m169.254.255.130 - - [21/May/2020:09:50:52 +0000] \"POST /invocations HTTP/1.1\" 200 12210 \"-\" \"Go-http-client/1.1\"\u001b[0m\n",
      "\u001b[34m[2020-05-21:09:50:52:INFO] Determined delimiter of CSV input is ','\u001b[0m\n",
      "\u001b[34m[2020-05-21:09:50:52:INFO] Determined delimiter of CSV input is ','\u001b[0m\n",
      "\u001b[35m169.254.255.130 - - [21/May/2020:09:50:52 +0000] \"POST /invocations HTTP/1.1\" 200 12210 \"-\" \"Go-http-client/1.1\"\u001b[0m\n",
      "\u001b[35m[2020-05-21:09:50:52:INFO] Determined delimiter of CSV input is ','\u001b[0m\n",
      "\u001b[35m[2020-05-21:09:50:52:INFO] Determined delimiter of CSV input is ','\u001b[0m\n",
      "\u001b[34m169.254.255.130 - - [21/May/2020:09:50:54 +0000] \"POST /invocations HTTP/1.1\" 200 9096 \"-\" \"Go-http-client/1.1\"\u001b[0m\n",
      "\u001b[34m169.254.255.130 - - [21/May/2020:09:50:55 +0000] \"POST /invocations HTTP/1.1\" 200 12205 \"-\" \"Go-http-client/1.1\"\u001b[0m\n",
      "\u001b[34m169.254.255.130 - - [21/May/2020:09:50:55 +0000] \"POST /invocations HTTP/1.1\" 200 12196 \"-\" \"Go-http-client/1.1\"\u001b[0m\n",
      "\u001b[34m169.254.255.130 - - [21/May/2020:09:50:55 +0000] \"POST /invocations HTTP/1.1\" 200 12197 \"-\" \"Go-http-client/1.1\"\u001b[0m\n",
      "\u001b[35m169.254.255.130 - - [21/May/2020:09:50:54 +0000] \"POST /invocations HTTP/1.1\" 200 9096 \"-\" \"Go-http-client/1.1\"\u001b[0m\n",
      "\u001b[35m169.254.255.130 - - [21/May/2020:09:50:55 +0000] \"POST /invocations HTTP/1.1\" 200 12205 \"-\" \"Go-http-client/1.1\"\u001b[0m\n",
      "\u001b[35m169.254.255.130 - - [21/May/2020:09:50:55 +0000] \"POST /invocations HTTP/1.1\" 200 12196 \"-\" \"Go-http-client/1.1\"\u001b[0m\n",
      "\u001b[35m169.254.255.130 - - [21/May/2020:09:50:55 +0000] \"POST /invocations HTTP/1.1\" 200 12197 \"-\" \"Go-http-client/1.1\"\u001b[0m\n"
     ]
    }
   ],
   "source": [
    "# TODO: Using xgb_transformer, transform the new_data_location data. You may wish to **wait** until\n",
    "#       the batch transform job has finished.\n",
    "xgb_transformer.transform(new_data_location, content_type='text/csv', split_type='Line')\n",
    "xgb_transformer.wait()"
   ]
  },
  {
   "cell_type": "markdown",
   "metadata": {},
   "source": [
    "As usual, we copy the results of the batch transform job to our local instance."
   ]
  },
  {
   "cell_type": "code",
   "execution_count": 39,
   "metadata": {},
   "outputs": [
    {
     "name": "stdout",
     "output_type": "stream",
     "text": [
      "Completed 256.0 KiB/473.7 KiB (4.0 MiB/s) with 1 file(s) remaining\r",
      "Completed 473.7 KiB/473.7 KiB (7.1 MiB/s) with 1 file(s) remaining\r",
      "download: s3://sagemaker-eu-west-1-019518462631/sagemaker-xgboost-2020-05-21-09-46-39-394/new_data.csv.out to ../data/sentiment_update/new_data.csv.out\r\n"
     ]
    }
   ],
   "source": [
    "!aws s3 cp --recursive $xgb_transformer.output_path $data_dir"
   ]
  },
  {
   "cell_type": "markdown",
   "metadata": {},
   "source": [
    "Read in the results of the batch transform job."
   ]
  },
  {
   "cell_type": "code",
   "execution_count": 40,
   "metadata": {},
   "outputs": [],
   "source": [
    "predictions = pd.read_csv(os.path.join(data_dir, 'new_data.csv.out'), header=None)\n",
    "predictions = [round(num) for num in predictions.squeeze().values]"
   ]
  },
  {
   "cell_type": "markdown",
   "metadata": {},
   "source": [
    "And check the accuracy of our current model."
   ]
  },
  {
   "cell_type": "code",
   "execution_count": 41,
   "metadata": {},
   "outputs": [
    {
     "data": {
      "text/plain": [
       "0.73156"
      ]
     },
     "execution_count": 41,
     "metadata": {},
     "output_type": "execute_result"
    }
   ],
   "source": [
    "accuracy_score(new_Y, predictions)"
   ]
  },
  {
   "cell_type": "markdown",
   "metadata": {},
   "source": [
    "So it would appear that *something* has changed since our model is no longer (as) effective at determining the sentiment of a user provided review.\n",
    "\n",
    "In a real life scenario you would check a number of different things to see what exactly is going on. In our case, we are only going to check one and that is whether some aspect of the underlying distribution has changed. In other words, we want to see if the words that appear in our new collection of reviews matches the words that appear in the original training set. Of course, we want to narrow our scope a little bit so we will only look at the `5000` most frequently appearing words in each data set, or in other words, the vocabulary generated by each data set.\n",
    "\n",
    "Before doing that, however, let's take a look at some of the incorrectly classified reviews in the new data set.\n",
    "\n",
    "To start, we will deploy the original XGBoost model. We will then use the deployed model to infer the sentiment of some of the new reviews. This will also serve as a nice excuse to deploy our model so that we can mimic a real life scenario where we have a model that has been deployed and is being used in production.\n",
    "\n",
    "**TODO:** Deploy the XGBoost model."
   ]
  },
  {
   "cell_type": "code",
   "execution_count": 42,
   "metadata": {},
   "outputs": [
    {
     "name": "stderr",
     "output_type": "stream",
     "text": [
      "Using already existing model: sagemaker-xgboost-2020-05-21-09-26-43-277\n"
     ]
    },
    {
     "name": "stdout",
     "output_type": "stream",
     "text": [
      "-------------!"
     ]
    }
   ],
   "source": [
    "# TODO: Deploy the model that was created earlier. Recall that the object name is 'xgb'.\n",
    "xgb_predictor = xgb.deploy(initial_instance_count = 1, instance_type = 'ml.m4.xlarge')"
   ]
  },
  {
   "cell_type": "markdown",
   "metadata": {},
   "source": [
    "### Diagnose the problem\n",
    "\n",
    "Now that we have our deployed \"production\" model, we can send some of our new data to it and filter out some of the incorrectly classified reviews."
   ]
  },
  {
   "cell_type": "code",
   "execution_count": 43,
   "metadata": {},
   "outputs": [],
   "source": [
    "from sagemaker.predictor import csv_serializer\n",
    "\n",
    "# We need to tell the endpoint what format the data we are sending is in so that SageMaker can perform the serialization.\n",
    "xgb_predictor.content_type = 'text/csv'\n",
    "xgb_predictor.serializer = csv_serializer"
   ]
  },
  {
   "cell_type": "markdown",
   "metadata": {},
   "source": [
    "It will be useful to look at a few different examples of incorrectly classified reviews so we will start by creating a *generator* which we will use to iterate through some of the new reviews and find ones that are incorrect.\n",
    "\n",
    "**NOTE:** Understanding what Python generators are isn't really required for this module. The reason we use them here is so that we don't have to iterate through all of the new reviews, searching for incorrectly classified samples."
   ]
  },
  {
   "cell_type": "code",
   "execution_count": 44,
   "metadata": {},
   "outputs": [],
   "source": [
    "def get_sample(in_X, in_XV, in_Y):\n",
    "    for idx, smp in enumerate(in_X):\n",
    "        res = round(float(xgb_predictor.predict(in_XV[idx])))\n",
    "        if res != in_Y[idx]:\n",
    "            yield smp, in_Y[idx]"
   ]
  },
  {
   "cell_type": "code",
   "execution_count": 45,
   "metadata": {},
   "outputs": [],
   "source": [
    "gn = get_sample(new_X, new_XV, new_Y)"
   ]
  },
  {
   "cell_type": "markdown",
   "metadata": {},
   "source": [
    "At this point, `gn` is the *generator* which generates samples from the new data set which are not classified correctly. To get the *next* sample we simply call the `next` method on our generator."
   ]
  },
  {
   "cell_type": "code",
   "execution_count": 49,
   "metadata": {},
   "outputs": [
    {
     "name": "stdout",
     "output_type": "stream",
     "text": [
      "(['oh', 'god', 'must', 'seen', '11', 'twelv', 'ask', 'may', 'young', 'stupid', 'anyon', 'could', 'see', 'bad', 'movi', 'nasti', 'gross', 'unscari', 'silli', 'seen', 'impress', 'effect', 'disneyland', 'seen', 'better', 'perform', 'school', 'play', 'seen', 'convinc', 'crocodil', 'zoo', 'noth', 'sit', 'water', 'ignor', 'children', 'tap', 'glass', 'stori', 'set', 'northern', 'australia', 'hand', 'ambiti', 'young', 'peopl', 'tri', 'new', 'water', 'sport', 'surf', 'shark', 'fill', 'water', 'soon', 'becom', 'evid', 'someth', 'danger', 'water', 'learn', 'get', 'help', 'grizzli', 'middl', 'age', 'fisherman', 'want', 'kill', 'anim', 'aveng', 'eat', 'famili', 'think', 'seen', 'everi', 'crocodil', 'film', 'made', 'last', 'fifteen', 'year', 'best', 'lake', 'placid', 'wors', 'sequel', 'blood', 'surf', 'would', 'second', 'worst', 'croc', 'flick', 'think', 'primev', 'crocodil', 'tail', 'close', 'behind', 'australian', 'saltwat', 'crododil', 'one', 'danger', 'creatur', 'result', 'hundr', 'injuri', 'death', 'everi', 'year', 'movi', 'like', 'blood', 'surf', 'howev', 'ruin', 'feroci', 'imag', 'creatur', 'good', 'hour', 'half', 'viewer', 'life', 'unless', 'realli', 'want', 'see', 'avoid', 'blood', 'surf', 'banana'], 1)\n"
     ]
    }
   ],
   "source": [
    "print(next(gn))"
   ]
  },
  {
   "cell_type": "markdown",
   "metadata": {},
   "source": [
    "After looking at a few examples, maybe we decide to look at the most frequently appearing `5000` words in each data set, the original training data set and the new data set. The reason for looking at this might be that we expect the frequency of use of different words to have changed, maybe there is some new slang that has been introduced or some other artifact of popular culture that has changed the way that people write movie reviews.\n",
    "\n",
    "To do this, we start by fitting a `CountVectorizer` to the new data."
   ]
  },
  {
   "cell_type": "code",
   "execution_count": 50,
   "metadata": {},
   "outputs": [
    {
     "data": {
      "text/plain": [
       "CountVectorizer(analyzer='word', binary=False, decode_error='strict',\n",
       "        dtype=<class 'numpy.int64'>, encoding='utf-8', input='content',\n",
       "        lowercase=True, max_df=1.0, max_features=5000, min_df=1,\n",
       "        ngram_range=(1, 1),\n",
       "        preprocessor=<function <lambda> at 0x7fcff75dc488>,\n",
       "        stop_words=None, strip_accents=None,\n",
       "        token_pattern='(?u)\\\\b\\\\w\\\\w+\\\\b',\n",
       "        tokenizer=<function <lambda> at 0x7fd035dc4d08>, vocabulary=None)"
      ]
     },
     "execution_count": 50,
     "metadata": {},
     "output_type": "execute_result"
    }
   ],
   "source": [
    "new_vectorizer = CountVectorizer(max_features=5000,\n",
    "                preprocessor=lambda x: x, tokenizer=lambda x: x)\n",
    "new_vectorizer.fit(new_X)"
   ]
  },
  {
   "cell_type": "markdown",
   "metadata": {},
   "source": [
    "Now that we have this new `CountVectorizor` object, we can check to see if the corresponding vocabulary has changed between the two data sets."
   ]
  },
  {
   "cell_type": "code",
   "execution_count": 51,
   "metadata": {},
   "outputs": [],
   "source": [
    "original_vocabulary = set(vocabulary.keys())\n",
    "new_vocabulary = set(new_vectorizer.vocabulary_.keys())"
   ]
  },
  {
   "cell_type": "markdown",
   "metadata": {},
   "source": [
    "We can look at the words that were in the original vocabulary but not in the new vocabulary."
   ]
  },
  {
   "cell_type": "code",
   "execution_count": 52,
   "metadata": {},
   "outputs": [
    {
     "name": "stdout",
     "output_type": "stream",
     "text": [
      "{'reincarn', 'playboy', '21st', 'ghetto', 'spill', 'victorian', 'weari'}\n"
     ]
    }
   ],
   "source": [
    "print(original_vocabulary - new_vocabulary)"
   ]
  },
  {
   "cell_type": "markdown",
   "metadata": {},
   "source": [
    "And similarly, we can look at the words that are in the new vocabulary but which were not in the original vocabulary."
   ]
  },
  {
   "cell_type": "code",
   "execution_count": 53,
   "metadata": {},
   "outputs": [
    {
     "name": "stdout",
     "output_type": "stream",
     "text": [
      "{'omin', 'dubiou', 'optimist', 'banana', 'sophi', 'masterson', 'orchestr'}\n"
     ]
    }
   ],
   "source": [
    "print(new_vocabulary - original_vocabulary)"
   ]
  },
  {
   "cell_type": "markdown",
   "metadata": {},
   "source": [
    "These words themselves don't tell us much, however if one of these words occured with a large frequency, that might tell us something. In particular, we wouldn't really expect any of the words above to appear with too much frequency.\n",
    "\n",
    "**Question** What exactly is going on here. Not only what (if any) words appear with a larger than expected frequency but also, what does this mean? What has changed about the world that our original model no longer takes into account?\n",
    "\n",
    "**NOTE:** This is meant to be a very open ended question. To investigate you may need more cells than the one provided below. Also, there isn't really a *correct* answer, this is meant to be an opportunity to explore the data."
   ]
  },
  {
   "cell_type": "code",
   "execution_count": 58,
   "metadata": {},
   "outputs": [
    {
     "name": "stdout",
     "output_type": "stream",
     "text": [
      "Word reincarn: 3654 vs -\n",
      "Word playboy: 3353 vs -\n",
      "Word 21st: 67 vs -\n",
      "Word ghetto: 1945 vs -\n",
      "Word spill: 4183 vs -\n",
      "Word victorian: 4776 vs -\n",
      "Word weari: 4861 vs -\n"
     ]
    }
   ],
   "source": [
    "for word in (original_vocabulary - new_vocabulary):\n",
    "    print(f\"Word {word}: {vocabulary.get(word, '-')} vs {new_vectorizer.vocabulary_.get(word, '-')}\")"
   ]
  },
  {
   "cell_type": "code",
   "execution_count": 59,
   "metadata": {},
   "outputs": [
    {
     "name": "stdout",
     "output_type": "stream",
     "text": [
      "Word omin: - vs 3156\n",
      "Word dubiou: - vs 1426\n",
      "Word optimist: - vs 3169\n",
      "Word banana: - vs 424\n",
      "Word sophi: - vs 4144\n",
      "Word masterson: - vs 2803\n",
      "Word orchestr: - vs 3172\n"
     ]
    }
   ],
   "source": [
    "for word in (new_vocabulary - original_vocabulary):\n",
    "    print(f\"Word {word}: {vocabulary.get(word, '-')} vs {new_vectorizer.vocabulary_.get(word, '-')}\")"
   ]
  },
  {
   "cell_type": "code",
   "execution_count": 61,
   "metadata": {},
   "outputs": [
    {
     "data": {
      "text/plain": [
       "2499.5"
      ]
     },
     "execution_count": 61,
     "metadata": {},
     "output_type": "execute_result"
    }
   ],
   "source": [
    "sum(vocabulary.values()) / len(vocabulary.values())"
   ]
  },
  {
   "cell_type": "code",
   "execution_count": 62,
   "metadata": {},
   "outputs": [
    {
     "data": {
      "text/plain": [
       "2499.5"
      ]
     },
     "execution_count": 62,
     "metadata": {},
     "output_type": "execute_result"
    }
   ],
   "source": [
    "sum(new_vectorizer.vocabulary_.values()) / len(new_vectorizer.vocabulary_.values())"
   ]
  },
  {
   "cell_type": "markdown",
   "metadata": {},
   "source": [
    "On average each word appears about 2500 times in the training data set.\n",
    "\n",
    "5 of the 7 words that no longer appear in the new vocabulary occur more often than the average, meaning they held significance in the old training set. The same is true for the new words appearing in the new vocabulary."
   ]
  },
  {
   "cell_type": "markdown",
   "metadata": {},
   "source": [
    "### (TODO) Build a new model\n",
    "\n",
    "Supposing that we believe something has changed about the underlying distribution of the words that our reviews are made up of, we need to create a new model. This way our new model will take into account whatever it is that has changed.\n",
    "\n",
    "To begin with, we will use the new vocabulary to create a bag of words encoding of the new data. We will then use this data to train a new XGBoost model.\n",
    "\n",
    "**NOTE:** Because we believe that the underlying distribution of words has changed it should follow that the original vocabulary that we used to construct a bag of words encoding of the reviews is no longer valid. This means that we need to be careful with our data. If we send an bag of words encoded review using the *original* vocabulary we should not expect any sort of meaningful results.\n",
    "\n",
    "In particular, this means that if we had deployed our XGBoost model like we did in the Web App notebook then we would need to implement this vocabulary change in the Lambda function as well."
   ]
  },
  {
   "cell_type": "code",
   "execution_count": 63,
   "metadata": {},
   "outputs": [],
   "source": [
    "new_XV = new_vectorizer.transform(new_X).toarray()"
   ]
  },
  {
   "cell_type": "markdown",
   "metadata": {},
   "source": [
    "And a quick check to make sure that the newly encoded reviews have the correct length, which should be the size of the new vocabulary which we created."
   ]
  },
  {
   "cell_type": "code",
   "execution_count": 64,
   "metadata": {},
   "outputs": [
    {
     "data": {
      "text/plain": [
       "5000"
      ]
     },
     "execution_count": 64,
     "metadata": {},
     "output_type": "execute_result"
    }
   ],
   "source": [
    "len(new_XV[0])"
   ]
  },
  {
   "cell_type": "markdown",
   "metadata": {},
   "source": [
    "Now that we have our newly encoded, newly collected data, we can split it up into a training and validation set so that we can train a new XGBoost model. As usual, we first split up the data, then save it locally and then upload it to S3."
   ]
  },
  {
   "cell_type": "code",
   "execution_count": 65,
   "metadata": {},
   "outputs": [],
   "source": [
    "import pandas as pd\n",
    "\n",
    "# Earlier we shuffled the training dataset so to make things simple we can just assign\n",
    "# the first 10 000 reviews to the validation set and use the remaining reviews for training.\n",
    "new_val_X = pd.DataFrame(new_XV[:10000])\n",
    "new_train_X = pd.DataFrame(new_XV[10000:])\n",
    "\n",
    "new_val_y = pd.DataFrame(new_Y[:10000])\n",
    "new_train_y = pd.DataFrame(new_Y[10000:])"
   ]
  },
  {
   "cell_type": "markdown",
   "metadata": {},
   "source": [
    "In order to save some memory we will effectively delete the `new_X` variable. Remember that this contained a list of reviews and each review was a list of words. Note that once this cell has been executed you will need to read the new data in again if you want to work with it."
   ]
  },
  {
   "cell_type": "code",
   "execution_count": 66,
   "metadata": {},
   "outputs": [],
   "source": [
    "new_X = None"
   ]
  },
  {
   "cell_type": "markdown",
   "metadata": {},
   "source": [
    "Next we save the new training and validation sets locally. Note that we overwrite the training and validation sets used earlier. This is mostly because the amount of space that we have available on our notebook instance is limited. Of course, you can increase this if you'd like but to do so may increase the cost of running the notebook instance."
   ]
  },
  {
   "cell_type": "code",
   "execution_count": 67,
   "metadata": {},
   "outputs": [],
   "source": [
    "pd.DataFrame(new_XV).to_csv(os.path.join(data_dir, 'new_data.csv'), header=False, index=False)\n",
    "\n",
    "pd.concat([new_val_y, new_val_X], axis=1).to_csv(os.path.join(data_dir, 'new_validation.csv'), header=False, index=False)\n",
    "pd.concat([new_train_y, new_train_X], axis=1).to_csv(os.path.join(data_dir, 'new_train.csv'), header=False, index=False)"
   ]
  },
  {
   "cell_type": "markdown",
   "metadata": {},
   "source": [
    "Now that we've saved our data to the local instance, we can safely delete the variables to save on memory."
   ]
  },
  {
   "cell_type": "code",
   "execution_count": 68,
   "metadata": {},
   "outputs": [],
   "source": [
    "new_val_y = new_val_X = new_train_y = new_train_X = new_XV = None"
   ]
  },
  {
   "cell_type": "markdown",
   "metadata": {},
   "source": [
    "Lastly, we make sure to upload the new training and validation sets to S3.\n",
    "\n",
    "**TODO:** Upload the new data as well as the new training and validation data sets to S3."
   ]
  },
  {
   "cell_type": "code",
   "execution_count": 69,
   "metadata": {},
   "outputs": [],
   "source": [
    "# TODO: Upload the new data and the new validation.csv and train.csv files in the data_dir directory to S3.\n",
    "new_data_location = session.upload_data(os.path.join(data_dir, 'new_data.csv'), key_prefix=prefix)\n",
    "new_val_location = session.upload_data(os.path.join(data_dir, 'new_validation.csv'), key_prefix=prefix)\n",
    "new_train_location = session.upload_data(os.path.join(data_dir, 'new_train.csv'), key_prefix=prefix)"
   ]
  },
  {
   "cell_type": "markdown",
   "metadata": {},
   "source": [
    "Once our new training data has been uploaded to S3, we can create a new XGBoost model that will take into account the changes that have occured in our data set.\n",
    "\n",
    "**TODO:** Create a new XGBoost estimator object."
   ]
  },
  {
   "cell_type": "code",
   "execution_count": 72,
   "metadata": {},
   "outputs": [],
   "source": [
    "# TODO: First, create a SageMaker estimator object for our model.\n",
    "new_xgb = sagemaker.estimator.Estimator(container, # The location of the container we wish to use\n",
    "                                        role,                                    # What is our current IAM Role\n",
    "                                        train_instance_count=1,                  # How many compute instances\n",
    "                                        train_instance_type='ml.m4.xlarge',      # What kind of compute instances\n",
    "                                        output_path='s3://{}/{}/output'.format(session.default_bucket(), prefix),\n",
    "                                        sagemaker_session=session)\n",
    "\n",
    "# TODO: Then set the algorithm specific parameters. You may wish to use the same parameters that were\n",
    "#       used when training the original model.\n",
    "new_xgb.set_hyperparameters(max_depth=5,\n",
    "                            eta=0.2,\n",
    "                            gamma=4,\n",
    "                            min_child_weight=6,\n",
    "                            subsample=0.8,\n",
    "                            silent=0,\n",
    "                            objective='binary:logistic',\n",
    "                            early_stopping_rounds=10,\n",
    "                            num_round=500)"
   ]
  },
  {
   "cell_type": "markdown",
   "metadata": {},
   "source": [
    "Once the model has been created, we can train it with our new data.\n",
    "\n",
    "**TODO:** Train the new XGBoost model."
   ]
  },
  {
   "cell_type": "code",
   "execution_count": 73,
   "metadata": {},
   "outputs": [],
   "source": [
    "# TODO: First, make sure that you create s3 input objects so that SageMaker knows where to\n",
    "#       find the training and validation data.\n",
    "s3_new_input_train = sagemaker.s3_input(s3_data=new_train_location, content_type='csv')\n",
    "s3_new_input_validation = sagemaker.s3_input(s3_data=new_val_location, content_type='csv')"
   ]
  },
  {
   "cell_type": "code",
   "execution_count": 74,
   "metadata": {},
   "outputs": [
    {
     "name": "stdout",
     "output_type": "stream",
     "text": [
      "2020-05-21 10:22:27 Starting - Starting the training job...\n",
      "2020-05-21 10:22:29 Starting - Launching requested ML instances.........\n",
      "2020-05-21 10:24:02 Starting - Preparing the instances for training...\n",
      "2020-05-21 10:24:51 Downloading - Downloading input data...\n",
      "2020-05-21 10:25:24 Training - Downloading the training image...\n",
      "2020-05-21 10:25:45 Training - Training image download completed. Training in progress..\u001b[34mINFO:sagemaker-containers:Imported framework sagemaker_xgboost_container.training\u001b[0m\n",
      "\u001b[34mINFO:sagemaker-containers:Failed to parse hyperparameter objective value binary:logistic to Json.\u001b[0m\n",
      "\u001b[34mReturning the value itself\u001b[0m\n",
      "\u001b[34mINFO:sagemaker-containers:No GPUs detected (normal if no gpus installed)\u001b[0m\n",
      "\u001b[34mINFO:sagemaker_xgboost_container.training:Running XGBoost Sagemaker in algorithm mode\u001b[0m\n",
      "\u001b[34mINFO:root:Determined delimiter of CSV input is ','\u001b[0m\n",
      "\u001b[34mINFO:root:Determined delimiter of CSV input is ','\u001b[0m\n",
      "\u001b[34mINFO:root:Determined delimiter of CSV input is ','\u001b[0m\n",
      "\u001b[34m[10:25:49] 15000x5000 matrix with 75000000 entries loaded from /opt/ml/input/data/train?format=csv&label_column=0&delimiter=,\u001b[0m\n",
      "\u001b[34mINFO:root:Determined delimiter of CSV input is ','\u001b[0m\n",
      "\u001b[34m[10:25:50] 10000x5000 matrix with 50000000 entries loaded from /opt/ml/input/data/validation?format=csv&label_column=0&delimiter=,\u001b[0m\n",
      "\u001b[34mINFO:root:Single node training.\u001b[0m\n",
      "\u001b[34mINFO:root:Train matrix has 15000 rows\u001b[0m\n",
      "\u001b[34mINFO:root:Validation matrix has 10000 rows\u001b[0m\n",
      "\u001b[34m[0]#011train-error:0.301667#011validation-error:0.3049\u001b[0m\n",
      "\u001b[34m[1]#011train-error:0.2854#011validation-error:0.2891\u001b[0m\n",
      "\u001b[34m[2]#011train-error:0.284533#011validation-error:0.2909\u001b[0m\n",
      "\u001b[34m[3]#011train-error:0.2804#011validation-error:0.2881\u001b[0m\n",
      "\u001b[34m[4]#011train-error:0.268933#011validation-error:0.2785\u001b[0m\n",
      "\u001b[34m[5]#011train-error:0.260867#011validation-error:0.2736\u001b[0m\n",
      "\u001b[34m[6]#011train-error:0.254267#011validation-error:0.2702\u001b[0m\n",
      "\u001b[34m[7]#011train-error:0.248467#011validation-error:0.2639\u001b[0m\n",
      "\u001b[34m[8]#011train-error:0.2414#011validation-error:0.2571\u001b[0m\n",
      "\u001b[34m[9]#011train-error:0.234933#011validation-error:0.2538\u001b[0m\n",
      "\u001b[34m[10]#011train-error:0.226067#011validation-error:0.2477\u001b[0m\n",
      "\u001b[34m[11]#011train-error:0.2218#011validation-error:0.2436\u001b[0m\n",
      "\u001b[34m[12]#011train-error:0.219067#011validation-error:0.2402\u001b[0m\n",
      "\u001b[34m[13]#011train-error:0.2138#011validation-error:0.2411\u001b[0m\n",
      "\u001b[34m[14]#011train-error:0.2116#011validation-error:0.2367\u001b[0m\n",
      "\u001b[34m[15]#011train-error:0.207333#011validation-error:0.2358\u001b[0m\n",
      "\u001b[34m[16]#011train-error:0.201067#011validation-error:0.2323\u001b[0m\n",
      "\u001b[34m[17]#011train-error:0.199#011validation-error:0.2304\u001b[0m\n",
      "\u001b[34m[18]#011train-error:0.1962#011validation-error:0.2259\u001b[0m\n",
      "\u001b[34m[19]#011train-error:0.193867#011validation-error:0.2244\u001b[0m\n",
      "\u001b[34m[20]#011train-error:0.191867#011validation-error:0.2242\u001b[0m\n",
      "\u001b[34m[21]#011train-error:0.1896#011validation-error:0.2234\u001b[0m\n",
      "\u001b[34m[22]#011train-error:0.1866#011validation-error:0.2219\u001b[0m\n",
      "\u001b[34m[23]#011train-error:0.185267#011validation-error:0.2208\u001b[0m\n",
      "\u001b[34m[24]#011train-error:0.182#011validation-error:0.218\u001b[0m\n",
      "\u001b[34m[25]#011train-error:0.180867#011validation-error:0.2154\u001b[0m\n",
      "\u001b[34m[26]#011train-error:0.178533#011validation-error:0.2139\u001b[0m\n",
      "\u001b[34m[27]#011train-error:0.176533#011validation-error:0.2144\u001b[0m\n",
      "\u001b[34m[28]#011train-error:0.175867#011validation-error:0.2124\u001b[0m\n",
      "\u001b[34m[29]#011train-error:0.175#011validation-error:0.2113\u001b[0m\n",
      "\u001b[34m[30]#011train-error:0.172867#011validation-error:0.2112\u001b[0m\n",
      "\u001b[34m[31]#011train-error:0.1706#011validation-error:0.2096\u001b[0m\n",
      "\u001b[34m[32]#011train-error:0.17#011validation-error:0.208\u001b[0m\n",
      "\u001b[34m[33]#011train-error:0.168133#011validation-error:0.2058\u001b[0m\n",
      "\u001b[34m[34]#011train-error:0.166867#011validation-error:0.2048\u001b[0m\n",
      "\u001b[34m[35]#011train-error:0.165667#011validation-error:0.2049\u001b[0m\n",
      "\u001b[34m[36]#011train-error:0.1638#011validation-error:0.2042\u001b[0m\n",
      "\u001b[34m[37]#011train-error:0.1636#011validation-error:0.2036\u001b[0m\n",
      "\u001b[34m[38]#011train-error:0.162667#011validation-error:0.2028\u001b[0m\n",
      "\u001b[34m[39]#011train-error:0.1614#011validation-error:0.2025\u001b[0m\n",
      "\u001b[34m[40]#011train-error:0.161067#011validation-error:0.2014\u001b[0m\n",
      "\u001b[34m[41]#011train-error:0.1592#011validation-error:0.2003\u001b[0m\n",
      "\u001b[34m[42]#011train-error:0.157733#011validation-error:0.1985\u001b[0m\n",
      "\u001b[34m[43]#011train-error:0.157467#011validation-error:0.1981\u001b[0m\n",
      "\u001b[34m[44]#011train-error:0.156533#011validation-error:0.1955\u001b[0m\n",
      "\u001b[34m[45]#011train-error:0.155733#011validation-error:0.1951\u001b[0m\n",
      "\u001b[34m[46]#011train-error:0.1534#011validation-error:0.196\u001b[0m\n",
      "\u001b[34m[47]#011train-error:0.153067#011validation-error:0.1949\u001b[0m\n",
      "\u001b[34m[48]#011train-error:0.152733#011validation-error:0.194\u001b[0m\n",
      "\u001b[34m[49]#011train-error:0.150933#011validation-error:0.1934\u001b[0m\n",
      "\u001b[34m[50]#011train-error:0.1502#011validation-error:0.1924\u001b[0m\n",
      "\u001b[34m[51]#011train-error:0.149#011validation-error:0.1929\u001b[0m\n",
      "\u001b[34m[52]#011train-error:0.1492#011validation-error:0.1919\u001b[0m\n",
      "\u001b[34m[53]#011train-error:0.148667#011validation-error:0.1913\u001b[0m\n",
      "\u001b[34m[54]#011train-error:0.147267#011validation-error:0.1908\u001b[0m\n",
      "\u001b[34m[55]#011train-error:0.145333#011validation-error:0.1892\u001b[0m\n",
      "\u001b[34m[56]#011train-error:0.143867#011validation-error:0.1878\u001b[0m\n",
      "\u001b[34m[57]#011train-error:0.142133#011validation-error:0.1873\u001b[0m\n",
      "\u001b[34m[58]#011train-error:0.1414#011validation-error:0.1878\u001b[0m\n",
      "\u001b[34m[59]#011train-error:0.1412#011validation-error:0.1867\u001b[0m\n",
      "\u001b[34m[60]#011train-error:0.1402#011validation-error:0.1876\u001b[0m\n",
      "\u001b[34m[61]#011train-error:0.139467#011validation-error:0.1892\u001b[0m\n",
      "\u001b[34m[62]#011train-error:0.139333#011validation-error:0.1889\u001b[0m\n",
      "\u001b[34m[63]#011train-error:0.139467#011validation-error:0.189\u001b[0m\n",
      "\u001b[34m[64]#011train-error:0.139133#011validation-error:0.1876\u001b[0m\n",
      "\u001b[34m[65]#011train-error:0.138333#011validation-error:0.187\u001b[0m\n",
      "\u001b[34m[66]#011train-error:0.138133#011validation-error:0.1861\u001b[0m\n",
      "\u001b[34m[67]#011train-error:0.137267#011validation-error:0.1849\u001b[0m\n",
      "\u001b[34m[68]#011train-error:0.1366#011validation-error:0.1842\u001b[0m\n",
      "\u001b[34m[69]#011train-error:0.1358#011validation-error:0.1841\u001b[0m\n",
      "\u001b[34m[70]#011train-error:0.134133#011validation-error:0.1845\u001b[0m\n",
      "\u001b[34m[71]#011train-error:0.133667#011validation-error:0.1833\u001b[0m\n",
      "\u001b[34m[72]#011train-error:0.1336#011validation-error:0.1822\u001b[0m\n",
      "\u001b[34m[73]#011train-error:0.132333#011validation-error:0.182\u001b[0m\n",
      "\u001b[34m[74]#011train-error:0.132067#011validation-error:0.1824\u001b[0m\n",
      "\u001b[34m[75]#011train-error:0.131333#011validation-error:0.1821\u001b[0m\n",
      "\u001b[34m[76]#011train-error:0.1308#011validation-error:0.1824\u001b[0m\n",
      "\u001b[34m[77]#011train-error:0.130533#011validation-error:0.1824\u001b[0m\n",
      "\u001b[34m[78]#011train-error:0.129667#011validation-error:0.1812\u001b[0m\n",
      "\u001b[34m[79]#011train-error:0.130067#011validation-error:0.1812\u001b[0m\n",
      "\u001b[34m[80]#011train-error:0.1298#011validation-error:0.1815\u001b[0m\n",
      "\u001b[34m[81]#011train-error:0.129#011validation-error:0.1818\u001b[0m\n",
      "\u001b[34m[82]#011train-error:0.129#011validation-error:0.1806\u001b[0m\n",
      "\u001b[34m[83]#011train-error:0.128333#011validation-error:0.1811\u001b[0m\n",
      "\u001b[34m[84]#011train-error:0.127867#011validation-error:0.1792\u001b[0m\n",
      "\u001b[34m[85]#011train-error:0.127467#011validation-error:0.179\u001b[0m\n",
      "\u001b[34m[86]#011train-error:0.127333#011validation-error:0.1794\u001b[0m\n",
      "\u001b[34m[87]#011train-error:0.126933#011validation-error:0.1788\u001b[0m\n",
      "\u001b[34m[88]#011train-error:0.126533#011validation-error:0.1794\u001b[0m\n",
      "\u001b[34m[89]#011train-error:0.126333#011validation-error:0.1802\u001b[0m\n",
      "\u001b[34m[90]#011train-error:0.124933#011validation-error:0.18\u001b[0m\n",
      "\u001b[34m[91]#011train-error:0.1252#011validation-error:0.1804\u001b[0m\n",
      "\u001b[34m[92]#011train-error:0.123467#011validation-error:0.1773\u001b[0m\n",
      "\u001b[34m[93]#011train-error:0.123067#011validation-error:0.1769\u001b[0m\n",
      "\u001b[34m[94]#011train-error:0.1228#011validation-error:0.1773\u001b[0m\n",
      "\u001b[34m[95]#011train-error:0.122533#011validation-error:0.177\u001b[0m\n",
      "\n",
      "2020-05-21 10:27:55 Uploading - Uploading generated training model\u001b[34m[96]#011train-error:0.122533#011validation-error:0.1776\u001b[0m\n",
      "\u001b[34m[97]#011train-error:0.121133#011validation-error:0.1778\u001b[0m\n",
      "\u001b[34m[98]#011train-error:0.1212#011validation-error:0.178\u001b[0m\n",
      "\u001b[34m[99]#011train-error:0.120333#011validation-error:0.1777\u001b[0m\n",
      "\u001b[34m[100]#011train-error:0.121067#011validation-error:0.1763\u001b[0m\n",
      "\u001b[34m[101]#011train-error:0.120133#011validation-error:0.1765\u001b[0m\n",
      "\u001b[34m[102]#011train-error:0.119333#011validation-error:0.1766\u001b[0m\n",
      "\u001b[34m[103]#011train-error:0.118667#011validation-error:0.1764\u001b[0m\n",
      "\u001b[34m[104]#011train-error:0.118#011validation-error:0.1769\u001b[0m\n",
      "\u001b[34m[105]#011train-error:0.1178#011validation-error:0.1773\u001b[0m\n",
      "\u001b[34m[106]#011train-error:0.118133#011validation-error:0.1768\u001b[0m\n",
      "\u001b[34m[107]#011train-error:0.117933#011validation-error:0.1772\u001b[0m\n",
      "\u001b[34m[108]#011train-error:0.117267#011validation-error:0.1777\u001b[0m\n",
      "\u001b[34m[109]#011train-error:0.117467#011validation-error:0.1775\u001b[0m\n",
      "\u001b[34m[110]#011train-error:0.1172#011validation-error:0.1771\u001b[0m\n"
     ]
    },
    {
     "name": "stdout",
     "output_type": "stream",
     "text": [
      "\n",
      "2020-05-21 10:28:02 Completed - Training job completed\n",
      "Training seconds: 191\n",
      "Billable seconds: 191\n"
     ]
    }
   ],
   "source": [
    "# TODO: Using the new validation and training data, 'fit' your new model.\n",
    "new_xgb.fit({'train': s3_new_input_train, 'validation': s3_new_input_validation})"
   ]
  },
  {
   "cell_type": "markdown",
   "metadata": {},
   "source": [
    "### (TODO) Check the new model\n",
    "\n",
    "So now we have a new XGBoost model that we believe more accurately represents the state of the world at this time, at least in how it relates to the sentiment analysis problem that we are working on. The next step is to double check that our model is performing reasonably.\n",
    "\n",
    "To do this, we will first test our model on the new data.\n",
    "\n",
    "**Note:** In practice this is a pretty bad idea. We already trained our model on the new data, so testing it shouldn't really tell us much. In fact, this is sort of a textbook example of leakage. We are only doing it here so that we have a numerical baseline.\n",
    "\n",
    "**Question:** How might you address the leakage problem?"
   ]
  },
  {
   "cell_type": "markdown",
   "metadata": {},
   "source": [
    "First, we create a new transformer based on our new XGBoost model.\n",
    "\n",
    "**TODO:** Create a transformer object from the newly created XGBoost model."
   ]
  },
  {
   "cell_type": "code",
   "execution_count": 75,
   "metadata": {},
   "outputs": [],
   "source": [
    "# TODO: Create a transformer object from the new_xgb model\n",
    "new_xgb_transformer = new_xgb.transformer(instance_count = 1, instance_type = 'ml.m4.xlarge')"
   ]
  },
  {
   "cell_type": "markdown",
   "metadata": {},
   "source": [
    "Next we test our model on the new data.\n",
    "\n",
    "**TODO:** Use the transformer object to transform the new data (stored in the `new_data_location` variable)"
   ]
  },
  {
   "cell_type": "code",
   "execution_count": 76,
   "metadata": {},
   "outputs": [
    {
     "name": "stdout",
     "output_type": "stream",
     "text": [
      ".........................\u001b[34m[2020-05-21 10:32:35 +0000] [14] [INFO] Starting gunicorn 19.10.0\u001b[0m\n",
      "\u001b[34m[2020-05-21 10:32:35 +0000] [14] [INFO] Listening at: unix:/tmp/gunicorn.sock (14)\u001b[0m\n",
      "\u001b[34m[2020-05-21 10:32:35 +0000] [14] [INFO] Using worker: gevent\u001b[0m\n",
      "\u001b[34m[2020-05-21 10:32:35 +0000] [21] [INFO] Booting worker with pid: 21\u001b[0m\n",
      "\u001b[34m[2020-05-21 10:32:35 +0000] [22] [INFO] Booting worker with pid: 22\u001b[0m\n",
      "\u001b[34m[2020-05-21 10:32:35 +0000] [26] [INFO] Booting worker with pid: 26\u001b[0m\n",
      "\u001b[34m[2020-05-21 10:32:35 +0000] [27] [INFO] Booting worker with pid: 27\u001b[0m\n",
      "\u001b[35m[2020-05-21 10:32:35 +0000] [14] [INFO] Starting gunicorn 19.10.0\u001b[0m\n",
      "\u001b[35m[2020-05-21 10:32:35 +0000] [14] [INFO] Listening at: unix:/tmp/gunicorn.sock (14)\u001b[0m\n",
      "\u001b[35m[2020-05-21 10:32:35 +0000] [14] [INFO] Using worker: gevent\u001b[0m\n",
      "\u001b[35m[2020-05-21 10:32:35 +0000] [21] [INFO] Booting worker with pid: 21\u001b[0m\n",
      "\u001b[35m[2020-05-21 10:32:35 +0000] [22] [INFO] Booting worker with pid: 22\u001b[0m\n",
      "\u001b[35m[2020-05-21 10:32:35 +0000] [26] [INFO] Booting worker with pid: 26\u001b[0m\n",
      "\u001b[35m[2020-05-21 10:32:35 +0000] [27] [INFO] Booting worker with pid: 27\u001b[0m\n",
      "\u001b[34m[2020-05-21:10:32:40:INFO] No GPUs detected (normal if no gpus installed)\u001b[0m\n",
      "\u001b[34m169.254.255.130 - - [21/May/2020:10:32:40 +0000] \"GET /ping HTTP/1.1\" 200 0 \"-\" \"Go-http-client/1.1\"\u001b[0m\n",
      "\u001b[34m169.254.255.130 - - [21/May/2020:10:32:40 +0000] \"GET /execution-parameters HTTP/1.1\" 200 84 \"-\" \"Go-http-client/1.1\"\u001b[0m\n",
      "\u001b[35m[2020-05-21:10:32:40:INFO] No GPUs detected (normal if no gpus installed)\u001b[0m\n",
      "\u001b[35m169.254.255.130 - - [21/May/2020:10:32:40 +0000] \"GET /ping HTTP/1.1\" 200 0 \"-\" \"Go-http-client/1.1\"\u001b[0m\n",
      "\u001b[35m169.254.255.130 - - [21/May/2020:10:32:40 +0000] \"GET /execution-parameters HTTP/1.1\" 200 84 \"-\" \"Go-http-client/1.1\"\u001b[0m\n",
      "\u001b[34m[2020-05-21:10:32:42:INFO] No GPUs detected (normal if no gpus installed)\u001b[0m\n",
      "\u001b[34m[2020-05-21:10:32:42:INFO] No GPUs detected (normal if no gpus installed)\u001b[0m\n",
      "\u001b[35m[2020-05-21:10:32:42:INFO] No GPUs detected (normal if no gpus installed)\u001b[0m\n",
      "\u001b[35m[2020-05-21:10:32:42:INFO] No GPUs detected (normal if no gpus installed)\u001b[0m\n",
      "\u001b[34m[2020-05-21:10:32:42:INFO] Determined delimiter of CSV input is ','\u001b[0m\n",
      "\u001b[34m[2020-05-21:10:32:42:INFO] Determined delimiter of CSV input is ','\u001b[0m\n",
      "\u001b[34m[2020-05-21:10:32:43:INFO] No GPUs detected (normal if no gpus installed)\u001b[0m\n",
      "\u001b[34m[2020-05-21:10:32:43:INFO] Determined delimiter of CSV input is ','\u001b[0m\n",
      "\u001b[34m[2020-05-21:10:32:43:INFO] Determined delimiter of CSV input is ','\u001b[0m\n",
      "\u001b[35m[2020-05-21:10:32:42:INFO] Determined delimiter of CSV input is ','\u001b[0m\n",
      "\u001b[35m[2020-05-21:10:32:42:INFO] Determined delimiter of CSV input is ','\u001b[0m\n",
      "\u001b[35m[2020-05-21:10:32:43:INFO] No GPUs detected (normal if no gpus installed)\u001b[0m\n",
      "\u001b[35m[2020-05-21:10:32:43:INFO] Determined delimiter of CSV input is ','\u001b[0m\n",
      "\u001b[35m[2020-05-21:10:32:43:INFO] Determined delimiter of CSV input is ','\u001b[0m\n",
      "\u001b[32m2020-05-21T10:32:40.602:[sagemaker logs]: MaxConcurrentTransforms=4, MaxPayloadInMB=6, BatchStrategy=MULTI_RECORD\u001b[0m\n",
      "\u001b[34m169.254.255.130 - - [21/May/2020:10:32:47 +0000] \"POST /invocations HTTP/1.1\" 200 12101 \"-\" \"Go-http-client/1.1\"\u001b[0m\n",
      "\u001b[34m[2020-05-21:10:32:47:INFO] Determined delimiter of CSV input is ','\u001b[0m\n",
      "\u001b[34m[2020-05-21:10:32:47:INFO] Determined delimiter of CSV input is ','\u001b[0m\n",
      "\u001b[35m169.254.255.130 - - [21/May/2020:10:32:47 +0000] \"POST /invocations HTTP/1.1\" 200 12101 \"-\" \"Go-http-client/1.1\"\u001b[0m\n",
      "\u001b[35m[2020-05-21:10:32:47:INFO] Determined delimiter of CSV input is ','\u001b[0m\n",
      "\u001b[35m[2020-05-21:10:32:47:INFO] Determined delimiter of CSV input is ','\u001b[0m\n",
      "\u001b[34m169.254.255.130 - - [21/May/2020:10:32:49 +0000] \"POST /invocations HTTP/1.1\" 200 12107 \"-\" \"Go-http-client/1.1\"\u001b[0m\n",
      "\u001b[35m169.254.255.130 - - [21/May/2020:10:32:49 +0000] \"POST /invocations HTTP/1.1\" 200 12107 \"-\" \"Go-http-client/1.1\"\u001b[0m\n",
      "\u001b[34m169.254.255.130 - - [21/May/2020:10:32:50 +0000] \"POST /invocations HTTP/1.1\" 200 12104 \"-\" \"Go-http-client/1.1\"\u001b[0m\n",
      "\u001b[34m[2020-05-21:10:32:50:INFO] Determined delimiter of CSV input is ','\u001b[0m\n",
      "\u001b[34m[2020-05-21:10:32:50:INFO] Determined delimiter of CSV input is ','\u001b[0m\n",
      "\u001b[34m169.254.255.130 - - [21/May/2020:10:32:50 +0000] \"POST /invocations HTTP/1.1\" 200 12106 \"-\" \"Go-http-client/1.1\"\u001b[0m\n",
      "\u001b[35m169.254.255.130 - - [21/May/2020:10:32:50 +0000] \"POST /invocations HTTP/1.1\" 200 12104 \"-\" \"Go-http-client/1.1\"\u001b[0m\n",
      "\u001b[35m[2020-05-21:10:32:50:INFO] Determined delimiter of CSV input is ','\u001b[0m\n",
      "\u001b[35m[2020-05-21:10:32:50:INFO] Determined delimiter of CSV input is ','\u001b[0m\n",
      "\u001b[35m169.254.255.130 - - [21/May/2020:10:32:50 +0000] \"POST /invocations HTTP/1.1\" 200 12106 \"-\" \"Go-http-client/1.1\"\u001b[0m\n",
      "\u001b[34m169.254.255.130 - - [21/May/2020:10:32:50 +0000] \"POST /invocations HTTP/1.1\" 200 12106 \"-\" \"Go-http-client/1.1\"\u001b[0m\n",
      "\u001b[34m[2020-05-21:10:32:50:INFO] Determined delimiter of CSV input is ','\u001b[0m\n",
      "\u001b[34m[2020-05-21:10:32:51:INFO] Determined delimiter of CSV input is ','\u001b[0m\n",
      "\u001b[35m169.254.255.130 - - [21/May/2020:10:32:50 +0000] \"POST /invocations HTTP/1.1\" 200 12106 \"-\" \"Go-http-client/1.1\"\u001b[0m\n",
      "\u001b[35m[2020-05-21:10:32:50:INFO] Determined delimiter of CSV input is ','\u001b[0m\n",
      "\u001b[35m[2020-05-21:10:32:51:INFO] Determined delimiter of CSV input is ','\u001b[0m\n",
      "\u001b[34m169.254.255.130 - - [21/May/2020:10:32:53 +0000] \"POST /invocations HTTP/1.1\" 200 12108 \"-\" \"Go-http-client/1.1\"\u001b[0m\n",
      "\u001b[34m169.254.255.130 - - [21/May/2020:10:32:53 +0000] \"POST /invocations HTTP/1.1\" 200 12129 \"-\" \"Go-http-client/1.1\"\u001b[0m\n",
      "\u001b[34m[2020-05-21:10:32:53:INFO] Determined delimiter of CSV input is ','\u001b[0m\n",
      "\u001b[34m[2020-05-21:10:32:53:INFO] Determined delimiter of CSV input is ','\u001b[0m\n",
      "\u001b[35m169.254.255.130 - - [21/May/2020:10:32:53 +0000] \"POST /invocations HTTP/1.1\" 200 12108 \"-\" \"Go-http-client/1.1\"\u001b[0m\n",
      "\u001b[35m169.254.255.130 - - [21/May/2020:10:32:53 +0000] \"POST /invocations HTTP/1.1\" 200 12129 \"-\" \"Go-http-client/1.1\"\u001b[0m\n",
      "\u001b[35m[2020-05-21:10:32:53:INFO] Determined delimiter of CSV input is ','\u001b[0m\n",
      "\u001b[35m[2020-05-21:10:32:53:INFO] Determined delimiter of CSV input is ','\u001b[0m\n",
      "\u001b[34m169.254.255.130 - - [21/May/2020:10:32:54 +0000] \"POST /invocations HTTP/1.1\" 200 12134 \"-\" \"Go-http-client/1.1\"\u001b[0m\n",
      "\u001b[34m169.254.255.130 - - [21/May/2020:10:32:54 +0000] \"POST /invocations HTTP/1.1\" 200 12112 \"-\" \"Go-http-client/1.1\"\u001b[0m\n",
      "\u001b[35m169.254.255.130 - - [21/May/2020:10:32:54 +0000] \"POST /invocations HTTP/1.1\" 200 12134 \"-\" \"Go-http-client/1.1\"\u001b[0m\n",
      "\u001b[35m169.254.255.130 - - [21/May/2020:10:32:54 +0000] \"POST /invocations HTTP/1.1\" 200 12112 \"-\" \"Go-http-client/1.1\"\u001b[0m\n",
      "\u001b[34m[2020-05-21:10:32:54:INFO] Determined delimiter of CSV input is ','\u001b[0m\n",
      "\u001b[34m[2020-05-21:10:32:54:INFO] Determined delimiter of CSV input is ','\u001b[0m\n",
      "\u001b[35m[2020-05-21:10:32:54:INFO] Determined delimiter of CSV input is ','\u001b[0m\n",
      "\u001b[35m[2020-05-21:10:32:54:INFO] Determined delimiter of CSV input is ','\u001b[0m\n",
      "\u001b[34m[2020-05-21:10:32:57:INFO] Determined delimiter of CSV input is ','\u001b[0m\n",
      "\u001b[34m[2020-05-21:10:32:57:INFO] Determined delimiter of CSV input is ','\u001b[0m\n",
      "\u001b[35m[2020-05-21:10:32:57:INFO] Determined delimiter of CSV input is ','\u001b[0m\n",
      "\u001b[35m[2020-05-21:10:32:57:INFO] Determined delimiter of CSV input is ','\u001b[0m\n",
      "\u001b[34m169.254.255.130 - - [21/May/2020:10:32:57 +0000] \"POST /invocations HTTP/1.1\" 200 12111 \"-\" \"Go-http-client/1.1\"\u001b[0m\n",
      "\u001b[34m169.254.255.130 - - [21/May/2020:10:32:58 +0000] \"POST /invocations HTTP/1.1\" 200 12115 \"-\" \"Go-http-client/1.1\"\u001b[0m\n",
      "\u001b[34m[2020-05-21:10:32:58:INFO] Determined delimiter of CSV input is ','\u001b[0m\n",
      "\u001b[34m[2020-05-21:10:32:58:INFO] Determined delimiter of CSV input is ','\u001b[0m\n",
      "\u001b[35m169.254.255.130 - - [21/May/2020:10:32:57 +0000] \"POST /invocations HTTP/1.1\" 200 12111 \"-\" \"Go-http-client/1.1\"\u001b[0m\n",
      "\u001b[35m169.254.255.130 - - [21/May/2020:10:32:58 +0000] \"POST /invocations HTTP/1.1\" 200 12115 \"-\" \"Go-http-client/1.1\"\u001b[0m\n",
      "\u001b[35m[2020-05-21:10:32:58:INFO] Determined delimiter of CSV input is ','\u001b[0m\n",
      "\u001b[35m[2020-05-21:10:32:58:INFO] Determined delimiter of CSV input is ','\u001b[0m\n",
      "\u001b[34m169.254.255.130 - - [21/May/2020:10:33:00 +0000] \"POST /invocations HTTP/1.1\" 200 12145 \"-\" \"Go-http-client/1.1\"\u001b[0m\n",
      "\u001b[34m169.254.255.130 - - [21/May/2020:10:33:00 +0000] \"POST /invocations HTTP/1.1\" 200 12134 \"-\" \"Go-http-client/1.1\"\u001b[0m\n",
      "\u001b[34m[2020-05-21:10:33:00:INFO] Determined delimiter of CSV input is ','\u001b[0m\n",
      "\u001b[35m169.254.255.130 - - [21/May/2020:10:33:00 +0000] \"POST /invocations HTTP/1.1\" 200 12145 \"-\" \"Go-http-client/1.1\"\u001b[0m\n",
      "\u001b[35m169.254.255.130 - - [21/May/2020:10:33:00 +0000] \"POST /invocations HTTP/1.1\" 200 12134 \"-\" \"Go-http-client/1.1\"\u001b[0m\n",
      "\u001b[35m[2020-05-21:10:33:00:INFO] Determined delimiter of CSV input is ','\u001b[0m\n",
      "\u001b[34m[2020-05-21:10:33:00:INFO] Determined delimiter of CSV input is ','\u001b[0m\n",
      "\u001b[34m169.254.255.130 - - [21/May/2020:10:33:01 +0000] \"POST /invocations HTTP/1.1\" 200 12144 \"-\" \"Go-http-client/1.1\"\u001b[0m\n",
      "\u001b[34m[2020-05-21:10:33:01:INFO] Determined delimiter of CSV input is ','\u001b[0m\n",
      "\u001b[34m169.254.255.130 - - [21/May/2020:10:33:01 +0000] \"POST /invocations HTTP/1.1\" 200 12117 \"-\" \"Go-http-client/1.1\"\u001b[0m\n",
      "\u001b[35m[2020-05-21:10:33:00:INFO] Determined delimiter of CSV input is ','\u001b[0m\n",
      "\u001b[35m169.254.255.130 - - [21/May/2020:10:33:01 +0000] \"POST /invocations HTTP/1.1\" 200 12144 \"-\" \"Go-http-client/1.1\"\u001b[0m\n",
      "\u001b[35m[2020-05-21:10:33:01:INFO] Determined delimiter of CSV input is ','\u001b[0m\n",
      "\u001b[35m169.254.255.130 - - [21/May/2020:10:33:01 +0000] \"POST /invocations HTTP/1.1\" 200 12117 \"-\" \"Go-http-client/1.1\"\u001b[0m\n",
      "\u001b[34m[2020-05-21:10:33:01:INFO] Determined delimiter of CSV input is ','\u001b[0m\n",
      "\u001b[35m[2020-05-21:10:33:01:INFO] Determined delimiter of CSV input is ','\u001b[0m\n",
      "\u001b[34m169.254.255.130 - - [21/May/2020:10:33:04 +0000] \"POST /invocations HTTP/1.1\" 200 12131 \"-\" \"Go-http-client/1.1\"\u001b[0m\n",
      "\u001b[34m169.254.255.130 - - [21/May/2020:10:33:04 +0000] \"POST /invocations HTTP/1.1\" 200 12102 \"-\" \"Go-http-client/1.1\"\u001b[0m\n",
      "\u001b[34m[2020-05-21:10:33:04:INFO] Determined delimiter of CSV input is ','\u001b[0m\n",
      "\u001b[34m[2020-05-21:10:33:04:INFO] Determined delimiter of CSV input is ','\u001b[0m\n",
      "\u001b[35m169.254.255.130 - - [21/May/2020:10:33:04 +0000] \"POST /invocations HTTP/1.1\" 200 12131 \"-\" \"Go-http-client/1.1\"\u001b[0m\n",
      "\u001b[35m169.254.255.130 - - [21/May/2020:10:33:04 +0000] \"POST /invocations HTTP/1.1\" 200 12102 \"-\" \"Go-http-client/1.1\"\u001b[0m\n",
      "\u001b[35m[2020-05-21:10:33:04:INFO] Determined delimiter of CSV input is ','\u001b[0m\n",
      "\u001b[35m[2020-05-21:10:33:04:INFO] Determined delimiter of CSV input is ','\u001b[0m\n",
      "\u001b[34m169.254.255.130 - - [21/May/2020:10:33:05 +0000] \"POST /invocations HTTP/1.1\" 200 12128 \"-\" \"Go-http-client/1.1\"\u001b[0m\n",
      "\u001b[34m[2020-05-21:10:33:05:INFO] Determined delimiter of CSV input is ','\u001b[0m\n",
      "\u001b[34m169.254.255.130 - - [21/May/2020:10:33:05 +0000] \"POST /invocations HTTP/1.1\" 200 12108 \"-\" \"Go-http-client/1.1\"\u001b[0m\n",
      "\u001b[34m[2020-05-21:10:33:05:INFO] Determined delimiter of CSV input is ','\u001b[0m\n",
      "\u001b[35m169.254.255.130 - - [21/May/2020:10:33:05 +0000] \"POST /invocations HTTP/1.1\" 200 12128 \"-\" \"Go-http-client/1.1\"\u001b[0m\n",
      "\u001b[35m[2020-05-21:10:33:05:INFO] Determined delimiter of CSV input is ','\u001b[0m\n",
      "\u001b[35m169.254.255.130 - - [21/May/2020:10:33:05 +0000] \"POST /invocations HTTP/1.1\" 200 12108 \"-\" \"Go-http-client/1.1\"\u001b[0m\n",
      "\u001b[35m[2020-05-21:10:33:05:INFO] Determined delimiter of CSV input is ','\u001b[0m\n"
     ]
    },
    {
     "name": "stdout",
     "output_type": "stream",
     "text": [
      "\u001b[34m169.254.255.130 - - [21/May/2020:10:33:08 +0000] \"POST /invocations HTTP/1.1\" 200 12108 \"-\" \"Go-http-client/1.1\"\u001b[0m\n",
      "\u001b[35m169.254.255.130 - - [21/May/2020:10:33:08 +0000] \"POST /invocations HTTP/1.1\" 200 12108 \"-\" \"Go-http-client/1.1\"\u001b[0m\n",
      "\u001b[34m169.254.255.130 - - [21/May/2020:10:33:08 +0000] \"POST /invocations HTTP/1.1\" 200 12114 \"-\" \"Go-http-client/1.1\"\u001b[0m\n",
      "\u001b[34m[2020-05-21:10:33:08:INFO] Determined delimiter of CSV input is ','\u001b[0m\n",
      "\u001b[34m[2020-05-21:10:33:09:INFO] Determined delimiter of CSV input is ','\u001b[0m\n",
      "\u001b[35m169.254.255.130 - - [21/May/2020:10:33:08 +0000] \"POST /invocations HTTP/1.1\" 200 12114 \"-\" \"Go-http-client/1.1\"\u001b[0m\n",
      "\u001b[35m[2020-05-21:10:33:08:INFO] Determined delimiter of CSV input is ','\u001b[0m\n",
      "\u001b[35m[2020-05-21:10:33:09:INFO] Determined delimiter of CSV input is ','\u001b[0m\n",
      "\u001b[34m169.254.255.130 - - [21/May/2020:10:33:11 +0000] \"POST /invocations HTTP/1.1\" 200 12136 \"-\" \"Go-http-client/1.1\"\u001b[0m\n",
      "\u001b[34m169.254.255.130 - - [21/May/2020:10:33:11 +0000] \"POST /invocations HTTP/1.1\" 200 12099 \"-\" \"Go-http-client/1.1\"\u001b[0m\n",
      "\u001b[34m[2020-05-21:10:33:11:INFO] Determined delimiter of CSV input is ','\u001b[0m\n",
      "\u001b[34m[2020-05-21:10:33:11:INFO] Determined delimiter of CSV input is ','\u001b[0m\n",
      "\u001b[35m169.254.255.130 - - [21/May/2020:10:33:11 +0000] \"POST /invocations HTTP/1.1\" 200 12136 \"-\" \"Go-http-client/1.1\"\u001b[0m\n",
      "\u001b[35m169.254.255.130 - - [21/May/2020:10:33:11 +0000] \"POST /invocations HTTP/1.1\" 200 12099 \"-\" \"Go-http-client/1.1\"\u001b[0m\n",
      "\u001b[35m[2020-05-21:10:33:11:INFO] Determined delimiter of CSV input is ','\u001b[0m\n",
      "\u001b[35m[2020-05-21:10:33:11:INFO] Determined delimiter of CSV input is ','\u001b[0m\n",
      "\u001b[34m169.254.255.130 - - [21/May/2020:10:33:12 +0000] \"POST /invocations HTTP/1.1\" 200 12128 \"-\" \"Go-http-client/1.1\"\u001b[0m\n",
      "\u001b[34m169.254.255.130 - - [21/May/2020:10:33:12 +0000] \"POST /invocations HTTP/1.1\" 200 12122 \"-\" \"Go-http-client/1.1\"\u001b[0m\n",
      "\u001b[34m[2020-05-21:10:33:12:INFO] Determined delimiter of CSV input is ','\u001b[0m\n",
      "\u001b[34m[2020-05-21:10:33:12:INFO] Determined delimiter of CSV input is ','\u001b[0m\n",
      "\u001b[35m169.254.255.130 - - [21/May/2020:10:33:12 +0000] \"POST /invocations HTTP/1.1\" 200 12128 \"-\" \"Go-http-client/1.1\"\u001b[0m\n",
      "\u001b[35m169.254.255.130 - - [21/May/2020:10:33:12 +0000] \"POST /invocations HTTP/1.1\" 200 12122 \"-\" \"Go-http-client/1.1\"\u001b[0m\n",
      "\u001b[35m[2020-05-21:10:33:12:INFO] Determined delimiter of CSV input is ','\u001b[0m\n",
      "\u001b[35m[2020-05-21:10:33:12:INFO] Determined delimiter of CSV input is ','\u001b[0m\n",
      "\u001b[34m169.254.255.130 - - [21/May/2020:10:33:14 +0000] \"POST /invocations HTTP/1.1\" 200 12095 \"-\" \"Go-http-client/1.1\"\u001b[0m\n",
      "\u001b[34m169.254.255.130 - - [21/May/2020:10:33:15 +0000] \"POST /invocations HTTP/1.1\" 200 12111 \"-\" \"Go-http-client/1.1\"\u001b[0m\n",
      "\u001b[34m[2020-05-21:10:33:15:INFO] Determined delimiter of CSV input is ','\u001b[0m\n",
      "\u001b[34m[2020-05-21:10:33:15:INFO] Determined delimiter of CSV input is ','\u001b[0m\n",
      "\u001b[35m169.254.255.130 - - [21/May/2020:10:33:14 +0000] \"POST /invocations HTTP/1.1\" 200 12095 \"-\" \"Go-http-client/1.1\"\u001b[0m\n",
      "\u001b[35m169.254.255.130 - - [21/May/2020:10:33:15 +0000] \"POST /invocations HTTP/1.1\" 200 12111 \"-\" \"Go-http-client/1.1\"\u001b[0m\n",
      "\u001b[35m[2020-05-21:10:33:15:INFO] Determined delimiter of CSV input is ','\u001b[0m\n",
      "\u001b[35m[2020-05-21:10:33:15:INFO] Determined delimiter of CSV input is ','\u001b[0m\n",
      "\u001b[34m169.254.255.130 - - [21/May/2020:10:33:15 +0000] \"POST /invocations HTTP/1.1\" 200 12140 \"-\" \"Go-http-client/1.1\"\u001b[0m\n",
      "\u001b[34m169.254.255.130 - - [21/May/2020:10:33:16 +0000] \"POST /invocations HTTP/1.1\" 200 12130 \"-\" \"Go-http-client/1.1\"\u001b[0m\n",
      "\u001b[34m[2020-05-21:10:33:16:INFO] Determined delimiter of CSV input is ','\u001b[0m\n",
      "\u001b[34m[2020-05-21:10:33:16:INFO] Determined delimiter of CSV input is ','\u001b[0m\n",
      "\u001b[35m169.254.255.130 - - [21/May/2020:10:33:15 +0000] \"POST /invocations HTTP/1.1\" 200 12140 \"-\" \"Go-http-client/1.1\"\u001b[0m\n",
      "\u001b[35m169.254.255.130 - - [21/May/2020:10:33:16 +0000] \"POST /invocations HTTP/1.1\" 200 12130 \"-\" \"Go-http-client/1.1\"\u001b[0m\n",
      "\u001b[35m[2020-05-21:10:33:16:INFO] Determined delimiter of CSV input is ','\u001b[0m\n",
      "\u001b[35m[2020-05-21:10:33:16:INFO] Determined delimiter of CSV input is ','\u001b[0m\n",
      "\n"
     ]
    }
   ],
   "source": [
    "# TODO: Using new_xgb_transformer, transform the new_data_location data. You may wish to\n",
    "#       'wait' for the transform job to finish.\n",
    "new_xgb_transformer.transform(new_data_location, content_type='text/csv', split_type='Line')\n",
    "new_xgb_transformer.wait()"
   ]
  },
  {
   "cell_type": "markdown",
   "metadata": {},
   "source": [
    "Copy the results to our local instance."
   ]
  },
  {
   "cell_type": "code",
   "execution_count": 77,
   "metadata": {},
   "outputs": [
    {
     "name": "stdout",
     "output_type": "stream",
     "text": [
      "Completed 256.0 KiB/470.4 KiB (4.4 MiB/s) with 1 file(s) remaining\r",
      "Completed 470.4 KiB/470.4 KiB (7.7 MiB/s) with 1 file(s) remaining\r",
      "download: s3://sagemaker-eu-west-1-019518462631/sagemaker-xgboost-2020-05-21-10-28-40-772/new_data.csv.out to ../data/sentiment_update/new_data.csv.out\r\n"
     ]
    }
   ],
   "source": [
    "!aws s3 cp --recursive $new_xgb_transformer.output_path $data_dir"
   ]
  },
  {
   "cell_type": "markdown",
   "metadata": {},
   "source": [
    "And see how well the model did."
   ]
  },
  {
   "cell_type": "code",
   "execution_count": 78,
   "metadata": {},
   "outputs": [],
   "source": [
    "predictions = pd.read_csv(os.path.join(data_dir, 'new_data.csv.out'), header=None)\n",
    "predictions = [round(num) for num in predictions.squeeze().values]"
   ]
  },
  {
   "cell_type": "code",
   "execution_count": 79,
   "metadata": {},
   "outputs": [
    {
     "data": {
      "text/plain": [
       "0.85684"
      ]
     },
     "execution_count": 79,
     "metadata": {},
     "output_type": "execute_result"
    }
   ],
   "source": [
    "accuracy_score(new_Y, predictions)"
   ]
  },
  {
   "cell_type": "markdown",
   "metadata": {},
   "source": [
    "As expected, since we trained the model on this data, our model performs pretty well. So, we have reason to believe that our new XGBoost model is a \"better\" model.\n",
    "\n",
    "However, before we start changing our deployed model, we should first make sure that our new model isn't too different. In other words, if our new model performed really poorly on the original test data then this might be an indication that something else has gone wrong.\n",
    "\n",
    "To start with, since we got rid of the variable that stored the original test reviews, we will read them in again from the cache that we created in Step 3. Note that we need to make sure that we read in the original test data after it has been pre-processed with `nltk` but before it has been bag of words encoded. This is because we need to use the new vocabulary instead of the original one."
   ]
  },
  {
   "cell_type": "code",
   "execution_count": 80,
   "metadata": {},
   "outputs": [
    {
     "name": "stdout",
     "output_type": "stream",
     "text": [
      "Read preprocessed data from cache file: preprocessed_data.pkl\n"
     ]
    }
   ],
   "source": [
    "cache_data = None\n",
    "with open(os.path.join(cache_dir, \"preprocessed_data.pkl\"), \"rb\") as f:\n",
    "            cache_data = pickle.load(f)\n",
    "            print(\"Read preprocessed data from cache file:\", \"preprocessed_data.pkl\")\n",
    "            \n",
    "test_X = cache_data['words_test']\n",
    "test_Y = cache_data['labels_test']\n",
    "\n",
    "# Here we set cache_data to None so that it doesn't occupy memory\n",
    "cache_data = None"
   ]
  },
  {
   "cell_type": "markdown",
   "metadata": {},
   "source": [
    "Once we've loaded the original test reviews, we need to create a bag of words encoding of them using the new vocabulary that we created, based on the new data.\n",
    "\n",
    "**TODO:** Transform the original test data using the new vocabulary."
   ]
  },
  {
   "cell_type": "code",
   "execution_count": 81,
   "metadata": {},
   "outputs": [],
   "source": [
    "# TODO: Use the new_vectorizer object that you created earlier to transform the test_X data.\n",
    "test_X = new_vectorizer.transform(test_X).toarray()"
   ]
  },
  {
   "cell_type": "markdown",
   "metadata": {},
   "source": [
    "Now that we have correctly encoded the original test data, we can write it to the local instance, upload it to S3 and test it."
   ]
  },
  {
   "cell_type": "code",
   "execution_count": 82,
   "metadata": {},
   "outputs": [],
   "source": [
    "pd.DataFrame(test_X).to_csv(os.path.join(data_dir, 'test.csv'), header=False, index=False)"
   ]
  },
  {
   "cell_type": "code",
   "execution_count": 83,
   "metadata": {},
   "outputs": [],
   "source": [
    "test_location = session.upload_data(os.path.join(data_dir, 'test.csv'), key_prefix=prefix)"
   ]
  },
  {
   "cell_type": "code",
   "execution_count": 84,
   "metadata": {},
   "outputs": [
    {
     "name": "stdout",
     "output_type": "stream",
     "text": [
      ".....................\u001b[34m[2020-05-21 10:52:35 +0000] [14] [INFO] Starting gunicorn 19.10.0\u001b[0m\n",
      "\u001b[34m[2020-05-21 10:52:35 +0000] [14] [INFO] Listening at: unix:/tmp/gunicorn.sock (14)\u001b[0m\n",
      "\u001b[34m[2020-05-21 10:52:35 +0000] [14] [INFO] Using worker: gevent\u001b[0m\n",
      "\u001b[34m[2020-05-21 10:52:35 +0000] [21] [INFO] Booting worker with pid: 21\u001b[0m\n",
      "\u001b[34m[2020-05-21 10:52:35 +0000] [22] [INFO] Booting worker with pid: 22\u001b[0m\n",
      "\u001b[34m[2020-05-21 10:52:35 +0000] [23] [INFO] Booting worker with pid: 23\u001b[0m\n",
      "\u001b[34m[2020-05-21 10:52:35 +0000] [27] [INFO] Booting worker with pid: 27\u001b[0m\n",
      "\u001b[32m2020-05-21T10:52:52.440:[sagemaker logs]: MaxConcurrentTransforms=4, MaxPayloadInMB=6, BatchStrategy=MULTI_RECORD\u001b[0m\n",
      "\u001b[34m[2020-05-21:10:52:52:INFO] No GPUs detected (normal if no gpus installed)\u001b[0m\n",
      "\u001b[34m169.254.255.130 - - [21/May/2020:10:52:52 +0000] \"GET /ping HTTP/1.1\" 200 0 \"-\" \"Go-http-client/1.1\"\u001b[0m\n",
      "\u001b[34m169.254.255.130 - - [21/May/2020:10:52:52 +0000] \"GET /execution-parameters HTTP/1.1\" 200 84 \"-\" \"Go-http-client/1.1\"\u001b[0m\n",
      "\u001b[35m[2020-05-21:10:52:52:INFO] No GPUs detected (normal if no gpus installed)\u001b[0m\n",
      "\u001b[35m169.254.255.130 - - [21/May/2020:10:52:52 +0000] \"GET /ping HTTP/1.1\" 200 0 \"-\" \"Go-http-client/1.1\"\u001b[0m\n",
      "\u001b[35m169.254.255.130 - - [21/May/2020:10:52:52 +0000] \"GET /execution-parameters HTTP/1.1\" 200 84 \"-\" \"Go-http-client/1.1\"\u001b[0m\n",
      "\u001b[34m[2020-05-21:10:52:56:INFO] No GPUs detected (normal if no gpus installed)\u001b[0m\n",
      "\u001b[34m[2020-05-21:10:52:56:INFO] No GPUs detected (normal if no gpus installed)\u001b[0m\n",
      "\u001b[34m[2020-05-21:10:52:56:INFO] Determined delimiter of CSV input is ','\u001b[0m\n",
      "\u001b[34m[2020-05-21:10:52:56:INFO] Determined delimiter of CSV input is ','\u001b[0m\n",
      "\u001b[34m[2020-05-21:10:52:56:INFO] No GPUs detected (normal if no gpus installed)\u001b[0m\n",
      "\u001b[34m[2020-05-21:10:52:56:INFO] Determined delimiter of CSV input is ','\u001b[0m\n",
      "\u001b[34m[2020-05-21:10:52:56:INFO] Determined delimiter of CSV input is ','\u001b[0m\n",
      "\u001b[35m[2020-05-21:10:52:56:INFO] No GPUs detected (normal if no gpus installed)\u001b[0m\n",
      "\u001b[35m[2020-05-21:10:52:56:INFO] No GPUs detected (normal if no gpus installed)\u001b[0m\n",
      "\u001b[35m[2020-05-21:10:52:56:INFO] Determined delimiter of CSV input is ','\u001b[0m\n",
      "\u001b[35m[2020-05-21:10:52:56:INFO] Determined delimiter of CSV input is ','\u001b[0m\n",
      "\u001b[35m[2020-05-21:10:52:56:INFO] No GPUs detected (normal if no gpus installed)\u001b[0m\n",
      "\u001b[35m[2020-05-21:10:52:56:INFO] Determined delimiter of CSV input is ','\u001b[0m\n",
      "\u001b[35m[2020-05-21:10:52:56:INFO] Determined delimiter of CSV input is ','\u001b[0m\n",
      "\u001b[34m169.254.255.130 - - [21/May/2020:10:53:02 +0000] \"POST /invocations HTTP/1.1\" 200 12139 \"-\" \"Go-http-client/1.1\"\u001b[0m\n",
      "\u001b[35m169.254.255.130 - - [21/May/2020:10:53:02 +0000] \"POST /invocations HTTP/1.1\" 200 12139 \"-\" \"Go-http-client/1.1\"\u001b[0m\n",
      "\u001b[34m169.254.255.130 - - [21/May/2020:10:53:02 +0000] \"POST /invocations HTTP/1.1\" 200 12140 \"-\" \"Go-http-client/1.1\"\u001b[0m\n",
      "\u001b[34m[2020-05-21:10:53:02:INFO] Determined delimiter of CSV input is ','\u001b[0m\n",
      "\u001b[34m169.254.255.130 - - [21/May/2020:10:53:03 +0000] \"POST /invocations HTTP/1.1\" 200 12130 \"-\" \"Go-http-client/1.1\"\u001b[0m\n",
      "\u001b[34m[2020-05-21:10:53:03:INFO] Determined delimiter of CSV input is ','\u001b[0m\n",
      "\u001b[35m169.254.255.130 - - [21/May/2020:10:53:02 +0000] \"POST /invocations HTTP/1.1\" 200 12140 \"-\" \"Go-http-client/1.1\"\u001b[0m\n",
      "\u001b[35m[2020-05-21:10:53:02:INFO] Determined delimiter of CSV input is ','\u001b[0m\n",
      "\u001b[35m169.254.255.130 - - [21/May/2020:10:53:03 +0000] \"POST /invocations HTTP/1.1\" 200 12130 \"-\" \"Go-http-client/1.1\"\u001b[0m\n",
      "\u001b[35m[2020-05-21:10:53:03:INFO] Determined delimiter of CSV input is ','\u001b[0m\n",
      "\u001b[34m[2020-05-21:10:53:05:INFO] Determined delimiter of CSV input is ','\u001b[0m\n",
      "\u001b[34m[2020-05-21:10:53:05:INFO] Determined delimiter of CSV input is ','\u001b[0m\n",
      "\u001b[35m[2020-05-21:10:53:05:INFO] Determined delimiter of CSV input is ','\u001b[0m\n",
      "\u001b[35m[2020-05-21:10:53:05:INFO] Determined delimiter of CSV input is ','\u001b[0m\n",
      "\u001b[34m169.254.255.130 - - [21/May/2020:10:53:08 +0000] \"POST /invocations HTTP/1.1\" 200 12140 \"-\" \"Go-http-client/1.1\"\u001b[0m\n",
      "\u001b[34m169.254.255.130 - - [21/May/2020:10:53:08 +0000] \"POST /invocations HTTP/1.1\" 200 12104 \"-\" \"Go-http-client/1.1\"\u001b[0m\n",
      "\u001b[34m169.254.255.130 - - [21/May/2020:10:53:08 +0000] \"POST /invocations HTTP/1.1\" 200 12085 \"-\" \"Go-http-client/1.1\"\u001b[0m\n",
      "\u001b[35m169.254.255.130 - - [21/May/2020:10:53:08 +0000] \"POST /invocations HTTP/1.1\" 200 12140 \"-\" \"Go-http-client/1.1\"\u001b[0m\n",
      "\u001b[35m169.254.255.130 - - [21/May/2020:10:53:08 +0000] \"POST /invocations HTTP/1.1\" 200 12104 \"-\" \"Go-http-client/1.1\"\u001b[0m\n",
      "\u001b[35m169.254.255.130 - - [21/May/2020:10:53:08 +0000] \"POST /invocations HTTP/1.1\" 200 12085 \"-\" \"Go-http-client/1.1\"\u001b[0m\n",
      "\u001b[34m169.254.255.130 - - [21/May/2020:10:53:08 +0000] \"POST /invocations HTTP/1.1\" 200 12144 \"-\" \"Go-http-client/1.1\"\u001b[0m\n",
      "\u001b[35m169.254.255.130 - - [21/May/2020:10:53:08 +0000] \"POST /invocations HTTP/1.1\" 200 12144 \"-\" \"Go-http-client/1.1\"\u001b[0m\n",
      "\u001b[34m[2020-05-21:10:53:08:INFO] Determined delimiter of CSV input is ','\u001b[0m\n",
      "\u001b[34m[2020-05-21:10:53:08:INFO] Determined delimiter of CSV input is ','\u001b[0m\n",
      "\u001b[34m[2020-05-21:10:53:08:INFO] Determined delimiter of CSV input is ','\u001b[0m\n",
      "\u001b[34m[2020-05-21:10:53:08:INFO] Determined delimiter of CSV input is ','\u001b[0m\n",
      "\u001b[35m[2020-05-21:10:53:08:INFO] Determined delimiter of CSV input is ','\u001b[0m\n",
      "\u001b[35m[2020-05-21:10:53:08:INFO] Determined delimiter of CSV input is ','\u001b[0m\n",
      "\u001b[35m[2020-05-21:10:53:08:INFO] Determined delimiter of CSV input is ','\u001b[0m\n",
      "\u001b[35m[2020-05-21:10:53:08:INFO] Determined delimiter of CSV input is ','\u001b[0m\n",
      "\u001b[34m169.254.255.130 - - [21/May/2020:10:53:12 +0000] \"POST /invocations HTTP/1.1\" 200 12101 \"-\" \"Go-http-client/1.1\"\u001b[0m\n",
      "\u001b[34m169.254.255.130 - - [21/May/2020:10:53:12 +0000] \"POST /invocations HTTP/1.1\" 200 12092 \"-\" \"Go-http-client/1.1\"\u001b[0m\n",
      "\u001b[34m[2020-05-21:10:53:12:INFO] Determined delimiter of CSV input is ','\u001b[0m\n",
      "\u001b[34m169.254.255.130 - - [21/May/2020:10:53:12 +0000] \"POST /invocations HTTP/1.1\" 200 12129 \"-\" \"Go-http-client/1.1\"\u001b[0m\n",
      "\u001b[34m169.254.255.130 - - [21/May/2020:10:53:12 +0000] \"POST /invocations HTTP/1.1\" 200 12119 \"-\" \"Go-http-client/1.1\"\u001b[0m\n",
      "\u001b[34m[2020-05-21:10:53:12:INFO] Determined delimiter of CSV input is ','\u001b[0m\n",
      "\u001b[34m[2020-05-21:10:53:12:INFO] Determined delimiter of CSV input is ','\u001b[0m\n",
      "\u001b[35m169.254.255.130 - - [21/May/2020:10:53:12 +0000] \"POST /invocations HTTP/1.1\" 200 12101 \"-\" \"Go-http-client/1.1\"\u001b[0m\n",
      "\u001b[35m169.254.255.130 - - [21/May/2020:10:53:12 +0000] \"POST /invocations HTTP/1.1\" 200 12092 \"-\" \"Go-http-client/1.1\"\u001b[0m\n",
      "\u001b[35m[2020-05-21:10:53:12:INFO] Determined delimiter of CSV input is ','\u001b[0m\n",
      "\u001b[35m169.254.255.130 - - [21/May/2020:10:53:12 +0000] \"POST /invocations HTTP/1.1\" 200 12129 \"-\" \"Go-http-client/1.1\"\u001b[0m\n",
      "\u001b[35m169.254.255.130 - - [21/May/2020:10:53:12 +0000] \"POST /invocations HTTP/1.1\" 200 12119 \"-\" \"Go-http-client/1.1\"\u001b[0m\n",
      "\u001b[35m[2020-05-21:10:53:12:INFO] Determined delimiter of CSV input is ','\u001b[0m\n",
      "\u001b[35m[2020-05-21:10:53:12:INFO] Determined delimiter of CSV input is ','\u001b[0m\n",
      "\u001b[34m[2020-05-21:10:53:12:INFO] Determined delimiter of CSV input is ','\u001b[0m\n",
      "\u001b[35m[2020-05-21:10:53:12:INFO] Determined delimiter of CSV input is ','\u001b[0m\n",
      "\u001b[34m169.254.255.130 - - [21/May/2020:10:53:15 +0000] \"POST /invocations HTTP/1.1\" 200 12126 \"-\" \"Go-http-client/1.1\"\u001b[0m\n",
      "\u001b[35m169.254.255.130 - - [21/May/2020:10:53:15 +0000] \"POST /invocations HTTP/1.1\" 200 12126 \"-\" \"Go-http-client/1.1\"\u001b[0m\n",
      "\u001b[34m169.254.255.130 - - [21/May/2020:10:53:15 +0000] \"POST /invocations HTTP/1.1\" 200 12124 \"-\" \"Go-http-client/1.1\"\u001b[0m\n",
      "\u001b[34m[2020-05-21:10:53:16:INFO] Determined delimiter of CSV input is ','\u001b[0m\n",
      "\u001b[34m169.254.255.130 - - [21/May/2020:10:53:16 +0000] \"POST /invocations HTTP/1.1\" 200 12134 \"-\" \"Go-http-client/1.1\"\u001b[0m\n",
      "\u001b[34m169.254.255.130 - - [21/May/2020:10:53:16 +0000] \"POST /invocations HTTP/1.1\" 200 12119 \"-\" \"Go-http-client/1.1\"\u001b[0m\n",
      "\u001b[34m[2020-05-21:10:53:16:INFO] Determined delimiter of CSV input is ','\u001b[0m\n",
      "\u001b[34m[2020-05-21:10:53:16:INFO] Determined delimiter of CSV input is ','\u001b[0m\n",
      "\u001b[34m[2020-05-21:10:53:16:INFO] Determined delimiter of CSV input is ','\u001b[0m\n",
      "\u001b[35m169.254.255.130 - - [21/May/2020:10:53:15 +0000] \"POST /invocations HTTP/1.1\" 200 12124 \"-\" \"Go-http-client/1.1\"\u001b[0m\n",
      "\u001b[35m[2020-05-21:10:53:16:INFO] Determined delimiter of CSV input is ','\u001b[0m\n",
      "\u001b[35m169.254.255.130 - - [21/May/2020:10:53:16 +0000] \"POST /invocations HTTP/1.1\" 200 12134 \"-\" \"Go-http-client/1.1\"\u001b[0m\n",
      "\u001b[35m169.254.255.130 - - [21/May/2020:10:53:16 +0000] \"POST /invocations HTTP/1.1\" 200 12119 \"-\" \"Go-http-client/1.1\"\u001b[0m\n",
      "\u001b[35m[2020-05-21:10:53:16:INFO] Determined delimiter of CSV input is ','\u001b[0m\n",
      "\u001b[35m[2020-05-21:10:53:16:INFO] Determined delimiter of CSV input is ','\u001b[0m\n",
      "\u001b[35m[2020-05-21:10:53:16:INFO] Determined delimiter of CSV input is ','\u001b[0m\n"
     ]
    },
    {
     "name": "stdout",
     "output_type": "stream",
     "text": [
      "\u001b[34m[2020-05-21:10:53:20:INFO] Determined delimiter of CSV input is ','\u001b[0m\n",
      "\u001b[35m[2020-05-21:10:53:20:INFO] Determined delimiter of CSV input is ','\u001b[0m\n",
      "\u001b[34m169.254.255.130 - - [21/May/2020:10:53:23 +0000] \"POST /invocations HTTP/1.1\" 200 12131 \"-\" \"Go-http-client/1.1\"\u001b[0m\n",
      "\u001b[34m169.254.255.130 - - [21/May/2020:10:53:23 +0000] \"POST /invocations HTTP/1.1\" 200 12155 \"-\" \"Go-http-client/1.1\"\u001b[0m\n",
      "\u001b[34m[2020-05-21:10:53:23:INFO] Determined delimiter of CSV input is ','\u001b[0m\n",
      "\u001b[34m169.254.255.130 - - [21/May/2020:10:53:23 +0000] \"POST /invocations HTTP/1.1\" 200 12152 \"-\" \"Go-http-client/1.1\"\u001b[0m\n",
      "\u001b[34m169.254.255.130 - - [21/May/2020:10:53:23 +0000] \"POST /invocations HTTP/1.1\" 200 12147 \"-\" \"Go-http-client/1.1\"\u001b[0m\n",
      "\u001b[34m[2020-05-21:10:53:23:INFO] Determined delimiter of CSV input is ','\u001b[0m\n",
      "\u001b[35m169.254.255.130 - - [21/May/2020:10:53:23 +0000] \"POST /invocations HTTP/1.1\" 200 12131 \"-\" \"Go-http-client/1.1\"\u001b[0m\n",
      "\u001b[35m169.254.255.130 - - [21/May/2020:10:53:23 +0000] \"POST /invocations HTTP/1.1\" 200 12155 \"-\" \"Go-http-client/1.1\"\u001b[0m\n",
      "\u001b[35m[2020-05-21:10:53:23:INFO] Determined delimiter of CSV input is ','\u001b[0m\n",
      "\u001b[35m169.254.255.130 - - [21/May/2020:10:53:23 +0000] \"POST /invocations HTTP/1.1\" 200 12152 \"-\" \"Go-http-client/1.1\"\u001b[0m\n",
      "\u001b[35m169.254.255.130 - - [21/May/2020:10:53:23 +0000] \"POST /invocations HTTP/1.1\" 200 12147 \"-\" \"Go-http-client/1.1\"\u001b[0m\n",
      "\u001b[35m[2020-05-21:10:53:23:INFO] Determined delimiter of CSV input is ','\u001b[0m\n",
      "\u001b[34m[2020-05-21:10:53:23:INFO] Determined delimiter of CSV input is ','\u001b[0m\n",
      "\u001b[34m[2020-05-21:10:53:23:INFO] Determined delimiter of CSV input is ','\u001b[0m\n",
      "\u001b[35m[2020-05-21:10:53:23:INFO] Determined delimiter of CSV input is ','\u001b[0m\n",
      "\u001b[35m[2020-05-21:10:53:23:INFO] Determined delimiter of CSV input is ','\u001b[0m\n",
      "\u001b[34m169.254.255.130 - - [21/May/2020:10:53:26 +0000] \"POST /invocations HTTP/1.1\" 200 12108 \"-\" \"Go-http-client/1.1\"\u001b[0m\n",
      "\u001b[34m169.254.255.130 - - [21/May/2020:10:53:27 +0000] \"POST /invocations HTTP/1.1\" 200 12135 \"-\" \"Go-http-client/1.1\"\u001b[0m\n",
      "\u001b[34m[2020-05-21:10:53:27:INFO] Determined delimiter of CSV input is ','\u001b[0m\n",
      "\u001b[34m169.254.255.130 - - [21/May/2020:10:53:27 +0000] \"POST /invocations HTTP/1.1\" 200 12131 \"-\" \"Go-http-client/1.1\"\u001b[0m\n",
      "\u001b[34m169.254.255.130 - - [21/May/2020:10:53:27 +0000] \"POST /invocations HTTP/1.1\" 200 12148 \"-\" \"Go-http-client/1.1\"\u001b[0m\n",
      "\u001b[34m[2020-05-21:10:53:27:INFO] Determined delimiter of CSV input is ','\u001b[0m\n",
      "\u001b[34m[2020-05-21:10:53:27:INFO] Determined delimiter of CSV input is ','\u001b[0m\n",
      "\u001b[34m[2020-05-21:10:53:27:INFO] Determined delimiter of CSV input is ','\u001b[0m\n",
      "\u001b[35m169.254.255.130 - - [21/May/2020:10:53:26 +0000] \"POST /invocations HTTP/1.1\" 200 12108 \"-\" \"Go-http-client/1.1\"\u001b[0m\n",
      "\u001b[35m169.254.255.130 - - [21/May/2020:10:53:27 +0000] \"POST /invocations HTTP/1.1\" 200 12135 \"-\" \"Go-http-client/1.1\"\u001b[0m\n",
      "\u001b[35m[2020-05-21:10:53:27:INFO] Determined delimiter of CSV input is ','\u001b[0m\n",
      "\u001b[35m169.254.255.130 - - [21/May/2020:10:53:27 +0000] \"POST /invocations HTTP/1.1\" 200 12131 \"-\" \"Go-http-client/1.1\"\u001b[0m\n",
      "\u001b[35m169.254.255.130 - - [21/May/2020:10:53:27 +0000] \"POST /invocations HTTP/1.1\" 200 12148 \"-\" \"Go-http-client/1.1\"\u001b[0m\n",
      "\u001b[35m[2020-05-21:10:53:27:INFO] Determined delimiter of CSV input is ','\u001b[0m\n",
      "\u001b[35m[2020-05-21:10:53:27:INFO] Determined delimiter of CSV input is ','\u001b[0m\n",
      "\u001b[35m[2020-05-21:10:53:27:INFO] Determined delimiter of CSV input is ','\u001b[0m\n",
      "\u001b[34m169.254.255.130 - - [21/May/2020:10:53:33 +0000] \"POST /invocations HTTP/1.1\" 200 9042 \"-\" \"Go-http-client/1.1\"\u001b[0m\n",
      "\u001b[34m169.254.255.130 - - [21/May/2020:10:53:33 +0000] \"POST /invocations HTTP/1.1\" 200 12135 \"-\" \"Go-http-client/1.1\"\u001b[0m\n",
      "\u001b[35m169.254.255.130 - - [21/May/2020:10:53:33 +0000] \"POST /invocations HTTP/1.1\" 200 9042 \"-\" \"Go-http-client/1.1\"\u001b[0m\n",
      "\u001b[35m169.254.255.130 - - [21/May/2020:10:53:33 +0000] \"POST /invocations HTTP/1.1\" 200 12135 \"-\" \"Go-http-client/1.1\"\u001b[0m\n",
      "\n"
     ]
    }
   ],
   "source": [
    "new_xgb_transformer.transform(test_location, content_type='text/csv', split_type='Line')\n",
    "new_xgb_transformer.wait()"
   ]
  },
  {
   "cell_type": "code",
   "execution_count": 85,
   "metadata": {},
   "outputs": [
    {
     "name": "stdout",
     "output_type": "stream",
     "text": [
      "Completed 256.0 KiB/470.6 KiB (3.8 MiB/s) with 1 file(s) remaining\r",
      "Completed 470.6 KiB/470.6 KiB (6.7 MiB/s) with 1 file(s) remaining\r",
      "download: s3://sagemaker-eu-west-1-019518462631/sagemaker-xgboost-2020-05-21-10-49-19-449/test.csv.out to ../data/sentiment_update/test.csv.out\r\n"
     ]
    }
   ],
   "source": [
    "!aws s3 cp --recursive $new_xgb_transformer.output_path $data_dir"
   ]
  },
  {
   "cell_type": "code",
   "execution_count": 86,
   "metadata": {},
   "outputs": [],
   "source": [
    "predictions = pd.read_csv(os.path.join(data_dir, 'test.csv.out'), header=None)\n",
    "predictions = [round(num) for num in predictions.squeeze().values]"
   ]
  },
  {
   "cell_type": "code",
   "execution_count": 87,
   "metadata": {},
   "outputs": [
    {
     "data": {
      "text/plain": [
       "0.83956"
      ]
     },
     "execution_count": 87,
     "metadata": {},
     "output_type": "execute_result"
    }
   ],
   "source": [
    "accuracy_score(test_Y, predictions)"
   ]
  },
  {
   "cell_type": "markdown",
   "metadata": {},
   "source": [
    "It would appear that our new XGBoost model is performing quite well on the old test data. This gives us some indication that our new model should be put into production and replace our original model."
   ]
  },
  {
   "cell_type": "markdown",
   "metadata": {},
   "source": [
    "## Step 6: (TODO) Updating the Model\n",
    "\n",
    "So we have a new model that we'd like to use instead of one that is already deployed. Furthermore, we are assuming that the model that is already deployed is being used in some sort of application. As a result, what we want to do is update the existing endpoint so that it uses our new model.\n",
    "\n",
    "Of course, to do this we need to create an endpoint configuration for our newly created model.\n",
    "\n",
    "First, note that we can access the name of the model that we created above using the `model_name` property of the transformer. The reason for this is that in order for the transformer to create a batch transform job it needs to first create the model object inside of SageMaker. Since we've sort of already done this we should take advantage of it."
   ]
  },
  {
   "cell_type": "code",
   "execution_count": 88,
   "metadata": {},
   "outputs": [
    {
     "data": {
      "text/plain": [
       "'sagemaker-xgboost-2020-05-21-10-22-26-988'"
      ]
     },
     "execution_count": 88,
     "metadata": {},
     "output_type": "execute_result"
    }
   ],
   "source": [
    "new_xgb_transformer.model_name"
   ]
  },
  {
   "cell_type": "markdown",
   "metadata": {},
   "source": [
    "Next, we create an endpoint configuration using the low level approach of creating the dictionary object which describes the endpoint configuration we want.\n",
    "\n",
    "**TODO:** Using the low level approach, create a new endpoint configuration. Don't forget that it needs a name and that the name needs to be unique. If you get stuck, try looking at the Boston Housing Low Level Deployment tutorial notebook."
   ]
  },
  {
   "cell_type": "code",
   "execution_count": 89,
   "metadata": {},
   "outputs": [],
   "source": [
    "from time import gmtime, strftime\n",
    "\n",
    "\n",
    "# TODO: Give our endpoint configuration a name. Remember, it needs to be unique.\n",
    "new_xgb_endpoint_config_name = \"sentiment-update-xgboost-endpoint-config-\" + strftime(\"%Y-%m-%d-%H-%M-%S\", gmtime())\n",
    "\n",
    "# TODO: Using the SageMaker Client, construct the endpoint configuration.\n",
    "new_xgb_endpoint_config_info = session.sagemaker_client.create_endpoint_config(\n",
    "                            EndpointConfigName = new_xgb_endpoint_config_name,\n",
    "                            ProductionVariants = [{\n",
    "                                \"InstanceType\": \"ml.m4.xlarge\",\n",
    "                                \"InitialVariantWeight\": 1,\n",
    "                                \"InitialInstanceCount\": 1,\n",
    "                                \"ModelName\": new_xgb_transformer.model_name,\n",
    "                                \"VariantName\": \"New-XGB-Model\"\n",
    "                            }])"
   ]
  },
  {
   "cell_type": "markdown",
   "metadata": {},
   "source": [
    "Once the endpoint configuration has been constructed, it is a straightforward matter to ask SageMaker to update the existing endpoint so that it uses the new endpoint configuration.\n",
    "\n",
    "Of note here is that SageMaker does this in such a way that there is no downtime. Essentially, SageMaker deploys the new model and then updates the original endpoint so that it points to the newly deployed model. After that, the original model is shut down. This way, whatever app is using our endpoint won't notice that we've changed the model that is being used.\n",
    "\n",
    "**TODO:** Use the SageMaker Client to update the endpoint that you deployed earlier."
   ]
  },
  {
   "cell_type": "code",
   "execution_count": 91,
   "metadata": {},
   "outputs": [
    {
     "data": {
      "text/plain": [
       "{'EndpointArn': 'arn:aws:sagemaker:eu-west-1:019518462631:endpoint/sagemaker-xgboost-2020-05-21-09-26-43-277',\n",
       " 'ResponseMetadata': {'RequestId': 'd10b0fc5-ba8f-41b5-8ea4-2565b4689d64',\n",
       "  'HTTPStatusCode': 200,\n",
       "  'HTTPHeaders': {'x-amzn-requestid': 'd10b0fc5-ba8f-41b5-8ea4-2565b4689d64',\n",
       "   'content-type': 'application/x-amz-json-1.1',\n",
       "   'content-length': '109',\n",
       "   'date': 'Thu, 21 May 2020 10:59:35 GMT'},\n",
       "  'RetryAttempts': 0}}"
      ]
     },
     "execution_count": 91,
     "metadata": {},
     "output_type": "execute_result"
    }
   ],
   "source": [
    "# TODO: Update the xgb_predictor.endpoint so that it uses new_xgb_endpoint_config_name.\n",
    "session.sagemaker_client.update_endpoint(EndpointName=xgb_predictor.endpoint, EndpointConfigName=new_xgb_endpoint_config_name)\n",
    "\n",
    "\n"
   ]
  },
  {
   "cell_type": "markdown",
   "metadata": {},
   "source": [
    "And, as is generally the case with SageMaker requests, this is being done in the background so if we want to wait for it to complete we need to call the appropriate method."
   ]
  },
  {
   "cell_type": "code",
   "execution_count": 92,
   "metadata": {},
   "outputs": [
    {
     "name": "stdout",
     "output_type": "stream",
     "text": [
      "---------------!"
     ]
    },
    {
     "data": {
      "text/plain": [
       "{'EndpointName': 'sagemaker-xgboost-2020-05-21-09-26-43-277',\n",
       " 'EndpointArn': 'arn:aws:sagemaker:eu-west-1:019518462631:endpoint/sagemaker-xgboost-2020-05-21-09-26-43-277',\n",
       " 'EndpointConfigName': 'sentiment-update-xgboost-endpoint-config-2020-05-21-10-58-18',\n",
       " 'ProductionVariants': [{'VariantName': 'New-XGB-Model',\n",
       "   'DeployedImages': [{'SpecifiedImage': '141502667606.dkr.ecr.eu-west-1.amazonaws.com/sagemaker-xgboost:0.90-1-cpu-py3',\n",
       "     'ResolvedImage': '141502667606.dkr.ecr.eu-west-1.amazonaws.com/sagemaker-xgboost@sha256:97ec7833b3e2773d3924b1a863c5742e348dea61eab21b90693ac3c3bdd08522',\n",
       "     'ResolutionTime': datetime.datetime(2020, 5, 21, 10, 59, 37, 984000, tzinfo=tzlocal())}],\n",
       "   'CurrentWeight': 1.0,\n",
       "   'DesiredWeight': 1.0,\n",
       "   'CurrentInstanceCount': 1,\n",
       "   'DesiredInstanceCount': 1}],\n",
       " 'EndpointStatus': 'InService',\n",
       " 'CreationTime': datetime.datetime(2020, 5, 21, 9, 54, 52, 395000, tzinfo=tzlocal()),\n",
       " 'LastModifiedTime': datetime.datetime(2020, 5, 21, 11, 6, 47, 537000, tzinfo=tzlocal()),\n",
       " 'ResponseMetadata': {'RequestId': 'ae32f002-d272-47f4-bea4-1f903d54e7af',\n",
       "  'HTTPStatusCode': 200,\n",
       "  'HTTPHeaders': {'x-amzn-requestid': 'ae32f002-d272-47f4-bea4-1f903d54e7af',\n",
       "   'content-type': 'application/x-amz-json-1.1',\n",
       "   'content-length': '799',\n",
       "   'date': 'Thu, 21 May 2020 11:07:12 GMT'},\n",
       "  'RetryAttempts': 0}}"
      ]
     },
     "execution_count": 92,
     "metadata": {},
     "output_type": "execute_result"
    }
   ],
   "source": [
    "session.wait_for_endpoint(xgb_predictor.endpoint)"
   ]
  },
  {
   "cell_type": "markdown",
   "metadata": {},
   "source": [
    "## Step 7: Delete the Endpoint\n",
    "\n",
    "Of course, since we are done with the deployed endpoint we need to make sure to shut it down, otherwise we will continue to be charged for it."
   ]
  },
  {
   "cell_type": "code",
   "execution_count": 93,
   "metadata": {},
   "outputs": [],
   "source": [
    "xgb_predictor.delete_endpoint()"
   ]
  },
  {
   "cell_type": "markdown",
   "metadata": {},
   "source": [
    "## Some Additional Questions\n",
    "\n",
    "This notebook is a little different from the other notebooks in this module. In part, this is because it is meant to be a little bit closer to the type of problem you may face in a real world scenario. Of course, this problem is a very easy one with a prescribed solution, but there are many other interesting questions that we did not consider here and that you may wish to consider yourself.\n",
    "\n",
    "For example,\n",
    "- What other ways could the underlying distribution change?\n",
    "- Is it a good idea to re-train the model using only the new data?\n",
    "- What would change if the quantity of new data wasn't large. Say you only received 500 samples?\n"
   ]
  },
  {
   "cell_type": "markdown",
   "metadata": {},
   "source": [
    "## Optional: Clean up\n",
    "\n",
    "The default notebook instance on SageMaker doesn't have a lot of excess disk space available. As you continue to complete and execute notebooks you will eventually fill up this disk space, leading to errors which can be difficult to diagnose. Once you are completely finished using a notebook it is a good idea to remove the files that you created along the way. Of course, you can do this from the terminal or from the notebook hub if you would like. The cell below contains some commands to clean up the created files from within the notebook."
   ]
  },
  {
   "cell_type": "code",
   "execution_count": 94,
   "metadata": {},
   "outputs": [],
   "source": [
    "# First we will remove all of the files contained in the data_dir directory\n",
    "!rm $data_dir/*\n",
    "\n",
    "# And then we delete the directory itself\n",
    "!rmdir $data_dir\n",
    "\n",
    "# Similarly we will remove the files in the cache_dir directory and the directory itself\n",
    "!rm $cache_dir/*\n",
    "!rmdir $cache_dir"
   ]
  },
  {
   "cell_type": "code",
   "execution_count": null,
   "metadata": {},
   "outputs": [],
   "source": []
  }
 ],
 "metadata": {
  "kernelspec": {
   "display_name": "conda_pytorch_p36",
   "language": "python",
   "name": "conda_pytorch_p36"
  },
  "language_info": {
   "codemirror_mode": {
    "name": "ipython",
    "version": 3
   },
   "file_extension": ".py",
   "mimetype": "text/x-python",
   "name": "python",
   "nbconvert_exporter": "python",
   "pygments_lexer": "ipython3",
   "version": "3.6.5"
  }
 },
 "nbformat": 4,
 "nbformat_minor": 2
}
